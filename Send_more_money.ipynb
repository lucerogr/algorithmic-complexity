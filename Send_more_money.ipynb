{
  "nbformat": 4,
  "nbformat_minor": 0,
  "metadata": {
    "colab": {
      "name": "Send-more-money.ipynb",
      "provenance": [],
      "authorship_tag": "ABX9TyN1W0EvIYxlS4nw3mYQgdxr",
      "include_colab_link": true
    },
    "kernelspec": {
      "name": "python3",
      "display_name": "Python 3"
    },
    "language_info": {
      "name": "python"
    }
  },
  "cells": [
    {
      "cell_type": "markdown",
      "metadata": {
        "id": "view-in-github",
        "colab_type": "text"
      },
      "source": [
        "<a href=\"https://colab.research.google.com/github/lucerogr/algorithmic-complexity/blob/main/Send_more_money.ipynb\" target=\"_parent\"><img src=\"https://colab.research.google.com/assets/colab-badge.svg\" alt=\"Open In Colab\"/></a>"
      ]
    },
    {
      "cell_type": "markdown",
      "metadata": {
        "id": "oDmlDJEYNdUS"
      },
      "source": [
        "Ejercicio 2: Polinomios"
      ]
    },
    {
      "cell_type": "code",
      "metadata": {
        "id": "iI7zc10gGtaa"
      },
      "source": [
        "def p(x):\n",
        "    a = [10, 20, 0, 1, 23, 4]\n",
        "    s = 0.0\n",
        "    for i, ai in enumerate(reversed(a)):\n",
        "        s += ai * x ** i\n",
        "\n",
        "    return s"
      ],
      "execution_count": null,
      "outputs": []
    },
    {
      "cell_type": "code",
      "metadata": {
        "colab": {
          "base_uri": "https://localhost:8080/"
        },
        "id": "0gjVth6UHYQ4",
        "outputId": "9c142656-4c4b-4b3a-f6ff-e93846dd99c5"
      },
      "source": [
        "p(2)"
      ],
      "execution_count": null,
      "outputs": [
        {
          "output_type": "execute_result",
          "data": {
            "text/plain": [
              "694.0"
            ]
          },
          "metadata": {
            "tags": []
          },
          "execution_count": 11
        }
      ]
    },
    {
      "cell_type": "markdown",
      "metadata": {
        "id": "O7wNh7tNNg2k"
      },
      "source": [
        "SEND + MORE = MONEY"
      ]
    },
    {
      "cell_type": "code",
      "metadata": {
        "id": "0v6dMAsXQeNZ"
      },
      "source": [
        "def validate(a, b, c, codex, chars):\n",
        "    stra = a\n",
        "    strb = b\n",
        "    strc = c\n",
        "    for i in range(len(codex)):\n",
        "        stra = stra.replace(chars[i], str(codex[i]))\n",
        "        strb = strb.replace(chars[i], str(codex[i]))\n",
        "        strc = strc.replace(chars[i], str(codex[i]))\n",
        "\n",
        "    if int(stra) + int(strb) == int(strc):\n",
        "        print(a, stra, b, strb, c, strc)"
      ],
      "execution_count": 35,
      "outputs": []
    },
    {
      "cell_type": "code",
      "metadata": {
        "colab": {
          "base_uri": "https://localhost:8080/"
        },
        "id": "0n3r7DDwZe8i",
        "outputId": "bb396270-9d09-414a-a998-474efe641b42"
      },
      "source": [
        "validate(\"SEND\", \"MORE\", \"MONEY\", [7,6,4,9,0,8,1,5], \"SENDMORY\")"
      ],
      "execution_count": 52,
      "outputs": [
        {
          "output_type": "stream",
          "text": [
            "SEND 7649 MORE 0816 MONEY 08465\n"
          ],
          "name": "stdout"
        }
      ]
    },
    {
      "cell_type": "code",
      "metadata": {
        "id": "htP_zj_MRWBV"
      },
      "source": [
        "def combinations(digits, n, w, chars, codex, a, b, c):\n",
        "    if w == n:\n",
        "        validate(a, b, c, codex, chars)\n",
        "    else:\n",
        "        for i in range(len(digits)):\n",
        "          e = digits[i]\n",
        "          combinations(digits[:i] + digits[i+1:], n, w+1, chars, codex + [e], a, b, c)\n"
      ],
      "execution_count": 45,
      "outputs": []
    },
    {
      "cell_type": "code",
      "metadata": {
        "id": "ZP9Kyn3RIv0Y"
      },
      "source": [
        "def solve(a, b, c):\n",
        "    chars = list(set(a + b + c))\n",
        "    digits = [i for i in range(10)] #set quita los repetidos \n",
        "    n = len(chars)\n",
        "    combinations(digits, n, 0, chars, [], a, b, c)"
      ],
      "execution_count": 46,
      "outputs": []
    },
    {
      "cell_type": "code",
      "metadata": {
        "colab": {
          "base_uri": "https://localhost:8080/"
        },
        "id": "LTqO87D0OF9H",
        "outputId": "611c5001-50f2-40af-c750-23a82b1ed565"
      },
      "source": [
        "solve(\"SEND\", \"MORE\", \"MONEY\")"
      ],
      "execution_count": 47,
      "outputs": [
        {
          "output_type": "stream",
          "text": [
            "SEND 7429 MORE 0814 MONEY 08243\n",
            "SEND 7539 MORE 0815 MONEY 08354\n",
            "SEND 7649 MORE 0816 MONEY 08465\n",
            "SEND 8432 MORE 0914 MONEY 09346\n",
            "SEND 8542 MORE 0915 MONEY 09457\n",
            "SEND 8324 MORE 0913 MONEY 09237\n",
            "SEND 6853 MORE 0728 MONEY 07581\n",
            "SEND 6419 MORE 0724 MONEY 07143\n",
            "SEND 7531 MORE 0825 MONEY 08356\n",
            "SEND 7643 MORE 0826 MONEY 08469\n",
            "SEND 7534 MORE 0825 MONEY 08359\n",
            "SEND 7316 MORE 0823 MONEY 08139\n",
            "SEND 5849 MORE 0638 MONEY 06487\n",
            "SEND 6851 MORE 0738 MONEY 07589\n",
            "SEND 6524 MORE 0735 MONEY 07259\n",
            "SEND 6415 MORE 0734 MONEY 07149\n",
            "SEND 5731 MORE 0647 MONEY 06378\n",
            "SEND 5732 MORE 0647 MONEY 06379\n",
            "SEND 3719 MORE 0457 MONEY 04176\n",
            "SEND 3829 MORE 0458 MONEY 04287\n",
            "SEND 2817 MORE 0368 MONEY 03185\n",
            "SEND 2819 MORE 0368 MONEY 03187\n",
            "SEND 3821 MORE 0468 MONEY 04289\n",
            "SEND 3712 MORE 0467 MONEY 04179\n",
            "SEND 9567 MORE 1085 MONEY 10652\n"
          ],
          "name": "stdout"
        }
      ]
    }
  ]
}