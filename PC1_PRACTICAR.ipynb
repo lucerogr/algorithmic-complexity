{
  "nbformat": 4,
  "nbformat_minor": 0,
  "metadata": {
    "colab": {
      "name": "PC1-PRACTICAR.ipynb",
      "provenance": [],
      "authorship_tag": "ABX9TyOh4l5lomocbTlmE0r1u27X",
      "include_colab_link": true
    },
    "kernelspec": {
      "display_name": "Python 3",
      "name": "python3"
    },
    "language_info": {
      "name": "python"
    }
  },
  "cells": [
    {
      "cell_type": "markdown",
      "metadata": {
        "id": "view-in-github",
        "colab_type": "text"
      },
      "source": [
        "<a href=\"https://colab.research.google.com/github/lucerogr/algorithmic-complexity/blob/main/PC1_PRACTICAR.ipynb\" target=\"_parent\"><img src=\"https://colab.research.google.com/assets/colab-badge.svg\" alt=\"Open In Colab\"/></a>"
      ]
    },
    {
      "cell_type": "markdown",
      "metadata": {
        "id": "Pc7cDhPReD0G"
      },
      "source": [
        "DEPURAR\n",
        "\n",
        "import pdb\n",
        "\n",
        "pdb.set_trace()"
      ]
    },
    {
      "cell_type": "markdown",
      "metadata": {
        "id": "OtXyGTgnRxGO"
      },
      "source": [
        "***FUERZA BRUTA***"
      ]
    },
    {
      "cell_type": "markdown",
      "metadata": {
        "id": "B0pYyMTIR3l5"
      },
      "source": [
        "SELECTION SORT\n",
        "\n"
      ]
    },
    {
      "cell_type": "code",
      "metadata": {
        "colab": {
          "base_uri": "https://localhost:8080/"
        },
        "id": "C9r6BDx8R0uO",
        "outputId": "432f4c67-a2ce-4fef-c55c-ae7c95039e1f"
      },
      "source": [
        "import random\n",
        "x =[random.randint(1, 20) for _ in range(10)]\n",
        "print(x)"
      ],
      "execution_count": null,
      "outputs": [
        {
          "output_type": "stream",
          "text": [
            "[10, 11, 20, 7, 16, 4, 18, 15, 15, 6]\n"
          ],
          "name": "stdout"
        }
      ]
    },
    {
      "cell_type": "code",
      "metadata": {
        "colab": {
          "base_uri": "https://localhost:8080/"
        },
        "id": "Bg6n17pXSnsy",
        "outputId": "7c320ac0-6be3-4219-f642-9668881e8011"
      },
      "source": [
        "def selectionSort(A: list):\n",
        "    n = len(A)\n",
        "    for i in range(n): # hasta n significa que hasta que ese numero salga\n",
        "        min_pos=i\n",
        "        for j in range(i+1, n):\n",
        "            if A[j] < A[min_pos]:\n",
        "                min_pos=j\n",
        "        if min_pos != i:\n",
        "           A[min_pos], A[i] = A[i], A[min_pos]\n",
        "\n",
        "selectionSort(x)\n",
        "print(x)"
      ],
      "execution_count": null,
      "outputs": [
        {
          "output_type": "stream",
          "text": [
            "[4, 6, 7, 10, 11, 15, 15, 16, 18, 20]\n"
          ],
          "name": "stdout"
        }
      ]
    },
    {
      "cell_type": "markdown",
      "metadata": {
        "id": "EA845B6XXF3t"
      },
      "source": [
        "BUBBLE SORT"
      ]
    },
    {
      "cell_type": "code",
      "metadata": {
        "colab": {
          "base_uri": "https://localhost:8080/"
        },
        "id": "TryFm-GMXINf",
        "outputId": "8d9a829b-4de2-4d2a-eb88-eb069ca24957"
      },
      "source": [
        "def bubbleSort(A: list):\n",
        "    n = len(A)\n",
        "    for i in range(n-1):\n",
        "        for j in range (n-1-i):\n",
        "            if A[j] > A[j+1]:\n",
        "                A[j], A[j+1] = A[j+1], A[j]\n",
        "\n",
        "bubbleSort(x)\n",
        "print(x)"
      ],
      "execution_count": null,
      "outputs": [
        {
          "output_type": "stream",
          "text": [
            "[4, 6, 7, 10, 11, 15, 15, 16, 18, 20]\n"
          ],
          "name": "stdout"
        }
      ]
    },
    {
      "cell_type": "markdown",
      "metadata": {
        "id": "7CwSOym2aJtk"
      },
      "source": [
        "STRING MATCHING"
      ]
    },
    {
      "cell_type": "code",
      "metadata": {
        "colab": {
          "base_uri": "https://localhost:8080/"
        },
        "id": "nnghansCaLFG",
        "outputId": "c7d9ddf5-1b97-44bf-abe9-9d3951da3a78"
      },
      "source": [
        "def stringMatching(word, text):\n",
        "    n = len(text)\n",
        "    l = len(word)\n",
        "    results=[]\n",
        "    for i in range(n):\n",
        "        if word == text[i:i+l]:\n",
        "            results.append(i)\n",
        "    return results\n",
        "\n",
        "stringMatching(\"bra\", \"abracadabra\")\n"
      ],
      "execution_count": null,
      "outputs": [
        {
          "output_type": "execute_result",
          "data": {
            "text/plain": [
              "[1, 8]"
            ]
          },
          "metadata": {
            "tags": []
          },
          "execution_count": 65
        }
      ]
    },
    {
      "cell_type": "markdown",
      "metadata": {
        "id": "ei2lLy9nYuij"
      },
      "source": [
        "SEQUENCES"
      ]
    },
    {
      "cell_type": "code",
      "metadata": {
        "colab": {
          "base_uri": "https://localhost:8080/"
        },
        "id": "q2MgEgHsfrHM",
        "outputId": "a9448f66-42c0-4f7c-a863-906f299cdfdb"
      },
      "source": [
        "import string\n",
        "import random\n",
        "def sequences(n, L):\n",
        "  if L <=26 and L>=1 and n>0:\n",
        "      A= string.ascii_uppercase\n",
        "      for i in range(1, n+1):\n",
        "          p=random.randint(0,L-1)\n",
        "          print(A[p], end=\" \") if i%4 == 0 else print(A[p], end=\"\")\n",
        "\n",
        "sequences(28, 3)"
      ],
      "execution_count": null,
      "outputs": [
        {
          "output_type": "stream",
          "text": [
            "ABAB AABA CCBC CCBB ABCC CABC BBAB "
          ],
          "name": "stdout"
        }
      ]
    },
    {
      "cell_type": "markdown",
      "metadata": {
        "id": "wJ00QOm62i-_"
      },
      "source": [
        "***BACKTRACKING***"
      ]
    },
    {
      "cell_type": "markdown",
      "metadata": {
        "id": "wYDCLwhUA5XV"
      },
      "source": [
        "N QUEENS"
      ]
    },
    {
      "cell_type": "code",
      "metadata": {
        "colab": {
          "base_uri": "https://localhost:8080/",
          "height": 252
        },
        "id": "C4WKBxY7A6qf",
        "outputId": "74265032-7e03-4d78-d3a9-2f18226dd8ae"
      },
      "source": [
        "import matplotlib.pyplot as plt\n",
        "import numpy as np\n",
        "def draw(board):\n",
        "    n = len(board)\n",
        "    tablero = np.zeros((n, n, 3))\n",
        "    tablero += 0.8\n",
        "    tablero[::2, ::2] = 1\n",
        "    tablero[1::2, 1::2] = 1\n",
        "\n",
        "    fig, ax = plt.subplots()\n",
        "    ax.imshow(tablero, interpolation='nearest')\n",
        "\n",
        "    for y, x in enumerate(board):\n",
        "        ax.text(x, y, u'\\u265B', size=30, ha='center', va='center')\n",
        "\n",
        "    ax.set(xticks=[], yticks=[])\n",
        "    ax.axis('image')\n",
        "\n",
        "    plt.show()\n",
        "\n",
        "draw([1, 3, -1, -1])"
      ],
      "execution_count": null,
      "outputs": [
        {
          "output_type": "display_data",
          "data": {
            "image/png": "[encoded data removed]",
            "text/plain": [
              "<Figure size 432x288 with 1 Axes>"
            ]
          },
          "metadata": {
            "tags": []
          }
        }
      ]
    },
    {
      "cell_type": "code",
      "metadata": {
        "colab": {
          "base_uri": "https://localhost:8080/",
          "height": 487
        },
        "id": "d1bUa0I8C9PU",
        "outputId": "8eeac3f6-be66-41c3-d8d2-87fbfae22844"
      },
      "source": [
        "\n",
        "def isLegal(board, row, column):\n",
        "    n = len(board)\n",
        "    for i in range(row):\n",
        "        if board[i] == column:\n",
        "            return False\n",
        "        dif = row - i\n",
        "        if board[i] + dif == column or board[i] - dif == column:\n",
        "            return False\n",
        "    return True\n",
        "\n",
        "def nQueens(board, row):\n",
        "    n = len(board)\n",
        "    if row < n:\n",
        "        for column in range(n):\n",
        "            if isLegal(board, row, column):\n",
        "                board[row] = column\n",
        "                nQueens(board, row + 1)\n",
        "    else:\n",
        "        draw(board)\n",
        "\n",
        "\n",
        "n = 4\n",
        "nQueens([-1]*n, 0)"
      ],
      "execution_count": null,
      "outputs": [
        {
          "output_type": "display_data",
          "data": {
            "image/png": "[encoded data removed]",
            "text/plain": [
              "<Figure size 432x288 with 1 Axes>"
            ]
          },
          "metadata": {
            "tags": []
          }
        },
        {
          "output_type": "display_data",
          "data": {
            "image/png": "[encoded data removed]",
            "text/plain": [
              "<Figure size 432x288 with 1 Axes>"
            ]
          },
          "metadata": {
            "tags": []
          }
        }
      ]
    },
    {
      "cell_type": "markdown",
      "metadata": {
        "id": "_0P5fUrFFa6Y"
      },
      "source": [
        "MAZE SOLVER"
      ]
    },
    {
      "cell_type": "code",
      "metadata": {
        "id": "9Zz_sTEyFcN5"
      },
      "source": [
        "!git clone https://github.com/lmcanavals/algorithmic_complexity.git 2>/dev/null"
      ],
      "execution_count": null,
      "outputs": []
    },
    {
      "cell_type": "code",
      "metadata": {
        "colab": {
          "base_uri": "https://localhost:8080/",
          "height": 557
        },
        "id": "cq4Knm_4GFV6",
        "outputId": "890352ea-124e-4d76-b1b6-6d9a9a966830"
      },
      "source": [
        "from algorithmic_complexity.aclib.mazebuilder import makeMaze\n",
        "import matplotlib.pyplot as plt\n",
        "\n",
        "def drawMaze(maze):\n",
        "    fig, ax = plt.subplots(figsize=(18, 18))\n",
        "    ax.imshow(maze, cmap='viridis') # https://matplotlib.org/stable/tutorials/colors/colormaps.html\n",
        "    ax.axis('off')\n",
        "\n",
        "maze = makeMaze(5, 10) #filas, columnas\n",
        "drawMaze(maze)"
      ],
      "execution_count": null,
      "outputs": [
        {
          "output_type": "display_data",
          "data": {
            "image/png": "[encoded data removed]",
            "text/plain": [
              "<Figure size 1296x1296 with 1 Axes>"
            ]
          },
          "metadata": {
            "tags": []
          }
        }
      ]
    },
    {
      "cell_type": "code",
      "metadata": {
        "colab": {
          "base_uri": "https://localhost:8080/",
          "height": 557
        },
        "id": "4cPiYs7gIvgP",
        "outputId": "37ef9ae3-57b4-4555-d1ca-999b134b2e04"
      },
      "source": [
        "def mazeSolve(maze, row, col, rowF, colF): #rowF = fila final\n",
        "    maze[row][col] = 3              # camino correcto (amarillito)\n",
        "    if row == rowF and col == colF:\n",
        "        return True\n",
        "\n",
        "    for r, c in [(row-1, col), (row, col+1), (row+1, col), (row, col-1)]:\n",
        "        if maze[r][c] == 1 and mazeSolve(maze, r, c, rowF, colF):\n",
        "            return True\n",
        "\n",
        "    maze[row][col] = 2              # camino sin salida (verde)\n",
        "    return False\n",
        "\n",
        "rows, cols = maze.shape # matriz de numpy, sino, sería len(maze), len(maze[0])\n",
        "mazeSolve(maze, 1, 1, rows - 2, cols -2)\n",
        "drawMaze(maze)"
      ],
      "execution_count": null,
      "outputs": [
        {
          "output_type": "display_data",
          "data": {
            "image/png": "[encoded data removed]",
            "text/plain": [
              "<Figure size 1296x1296 with 1 Axes>"
            ]
          },
          "metadata": {
            "tags": []
          }
        }
      ]
    },
    {
      "cell_type": "markdown",
      "metadata": {
        "id": "LyGI-e1rRj72"
      },
      "source": [
        "SUDOKU"
      ]
    },
    {
      "cell_type": "code",
      "metadata": {
        "colab": {
          "base_uri": "https://localhost:8080/"
        },
        "id": "gmHT9OsRTQZe",
        "outputId": "f957979d-b59d-494e-d83d-0c9679dbd27b"
      },
      "source": [
        "N = 9 #N*N for sudoku\n",
        " \n",
        "# A utility function to print grid\n",
        "def printing(arr):\n",
        "    for i in range(N):\n",
        "        for j in range(N):\n",
        "            print(arr[i][j], end = \" \")\n",
        "        print()\n",
        " \n",
        "# Checks whether it will be\n",
        "# legal to assign num to the\n",
        "# given row, col\n",
        "def isSafe(grid, row, col, num):\n",
        "   \n",
        "    # Check if we find the same num\n",
        "    # in the similar row , we\n",
        "    # return false\n",
        "    for x in range(9):\n",
        "        if grid[row][x] == num:\n",
        "            return False\n",
        " \n",
        "    # Check if we find the same num in\n",
        "    # the similar column , we\n",
        "    # return false\n",
        "    for x in range(9):\n",
        "        if grid[x][col] == num:\n",
        "            return False\n",
        " \n",
        "    # Check if we find the same num in\n",
        "    # the particular 3*3 matrix,\n",
        "    # we return false\n",
        "    startRow = row - row % 3\n",
        "    startCol = col - col % 3\n",
        "    for i in range(3):\n",
        "        for j in range(3):\n",
        "            if grid[i + startRow][j + startCol] == num:\n",
        "                return False\n",
        "    return True\n",
        " \n",
        "# Takes a partially filled-in grid and attempts\n",
        "# to assign values to all unassigned locations in\n",
        "# such a way to meet the requirements for\n",
        "# Sudoku solution (non-duplication across rows,\n",
        "# columns, and boxes) */\n",
        "def solveSuduko(grid, row, col):\n",
        "   \n",
        "    # Check if we have reached the 8th\n",
        "    # row and 9th column (0\n",
        "    # indexed matrix) , we are\n",
        "    # returning true to avoid\n",
        "    # further backtracking\n",
        "    if (row == N - 1 and col == N):\n",
        "        return True\n",
        "       \n",
        "    # Check if column value  becomes 9 ,\n",
        "    # we move to next row and\n",
        "    # column start from 0\n",
        "    if col == N:\n",
        "        row += 1\n",
        "        col = 0\n",
        " \n",
        "    # Check if the current position of\n",
        "    # the grid already contains\n",
        "    # value >0, we iterate for next column\n",
        "    if grid[row][col] > 0:\n",
        "        return solveSuduko(grid, row, col + 1)\n",
        "    for num in range(1, N + 1, 1):\n",
        "       \n",
        "        # Check if it is safe to place\n",
        "        # the num (1-9)  in the\n",
        "        # given row ,col  ->we\n",
        "        # move to next column\n",
        "        if isSafe(grid, row, col, num):\n",
        "           \n",
        "            # Assigning the num in\n",
        "            # the current (row,col)\n",
        "            # position of the grid\n",
        "            # and assuming our assined\n",
        "            # num in the position\n",
        "            # is correct\n",
        "            grid[row][col] = num\n",
        " \n",
        "            # Checking for next possibility with next\n",
        "            # column\n",
        "            if solveSuduko(grid, row, col + 1):\n",
        "                return True\n",
        " \n",
        "        # Removing the assigned num ,\n",
        "        # since our assumption\n",
        "        # was wrong , and we go for\n",
        "        # next assumption with\n",
        "        # diff num value\n",
        "        grid[row][col] = 0\n",
        "    return False\n",
        " \n",
        "# Driver Code\n",
        " \n",
        "# 0 means unassigned cells\n",
        "grid = [[3, 0, 6, 5, 0, 8, 4, 0, 0],\n",
        "        [5, 2, 0, 0, 0, 0, 0, 0, 0],\n",
        "        [0, 8, 7, 0, 0, 0, 0, 3, 1],\n",
        "        [0, 0, 3, 0, 1, 0, 0, 8, 0],\n",
        "        [9, 0, 0, 8, 6, 3, 0, 0, 5],\n",
        "        [0, 5, 0, 0, 9, 0, 6, 0, 0],\n",
        "        [1, 3, 0, 0, 0, 0, 2, 5, 0],\n",
        "        [0, 0, 0, 0, 0, 0, 0, 7, 4],\n",
        "        [0, 0, 5, 2, 0, 6, 3, 0, 0]]\n",
        " \n",
        "if (solveSuduko(grid, 0, 0)):\n",
        "    printing(grid)\n",
        "else:\n",
        "    print(\"no solution exists\")\n",
        " \n",
        "    # This code is contributed by sudhanshgupta2019a"
      ],
      "execution_count": null,
      "outputs": [
        {
          "output_type": "stream",
          "text": [
            "3 1 6 5 7 8 4 9 2 \n",
            "5 2 9 1 3 4 7 6 8 \n",
            "4 8 7 6 2 9 5 3 1 \n",
            "2 6 3 4 1 5 9 8 7 \n",
            "9 7 4 8 6 3 1 2 5 \n",
            "8 5 1 7 9 2 6 4 3 \n",
            "1 3 8 9 4 7 2 5 6 \n",
            "6 9 2 3 5 1 8 7 4 \n",
            "7 4 5 2 8 6 3 1 9 \n"
          ],
          "name": "stdout"
        }
      ]
    },
    {
      "cell_type": "markdown",
      "metadata": {
        "id": "jZMgfIDLVMjr"
      },
      "source": [
        "SEND MORE MONEY"
      ]
    },
    {
      "cell_type": "code",
      "metadata": {
        "colab": {
          "base_uri": "https://localhost:8080/"
        },
        "id": "-TbQhARCVPT9",
        "outputId": "f440ac61-8cbb-46d3-dd1d-a651f5e02534"
      },
      "source": [
        "def validate(a, b, c, codex, chars):\n",
        "    stra = a\n",
        "    strb = b\n",
        "    strc = c\n",
        "    for i in range(len(codex)):\n",
        "        stra = stra.replace(chars[i], str(codex[i])) #todas las S por 6 en esta palabra\n",
        "        strb = strb.replace(chars[i], str(codex[i]))\n",
        "        strc = strc.replace(chars[i], str(codex[i]))\n",
        "    if int(stra) + int(strb) == int(strc):\n",
        "        print(a, stra, b, strb, c, strc)\n",
        "\n",
        "validate(\"SEND\", \"MORE\", \"MONEY\", [7,6,4,9,0,8,1,5], \"SENDMORY\")"
      ],
      "execution_count": null,
      "outputs": [
        {
          "output_type": "stream",
          "text": [
            "SEND 7649 MORE 0816 MONEY 08465\n"
          ],
          "name": "stdout"
        }
      ]
    },
    {
      "cell_type": "code",
      "metadata": {
        "colab": {
          "base_uri": "https://localhost:8080/"
        },
        "id": "RMoZ3pjlYg3y",
        "outputId": "576f1978-8883-4b62-93ba-502a8941db52"
      },
      "source": [
        "def combinations(digits, n, w, chars, codex, a, b, c):\n",
        "    if w == n:\n",
        "        validate(a, b, c, codex, chars)\n",
        "    else:\n",
        "        for i in range(len(digits)):\n",
        "          e = digits[i]\n",
        "          combinations(digits[:i] + digits[i+1:], n, w+1, chars, codex + [e], a, b, c)\n",
        "\n",
        "def solve(a, b, c):\n",
        "    chars = list(set(a + b + c))\n",
        "    digits = [i for i in range(10)] #set quita los repetidos \n",
        "    n = len(chars)\n",
        "    combinations(digits, n, 0, chars, [], a, b, c)\n",
        "\n",
        "solve(\"SEND\", \"MORE\", \"MONEY\")"
      ],
      "execution_count": null,
      "outputs": [
        {
          "output_type": "stream",
          "text": [
            "SEND 2817 MORE 0368 MONEY 03185\n",
            "SEND 2819 MORE 0368 MONEY 03187\n",
            "SEND 3719 MORE 0457 MONEY 04176\n",
            "SEND 3829 MORE 0458 MONEY 04287\n",
            "SEND 3712 MORE 0467 MONEY 04179\n",
            "SEND 3821 MORE 0468 MONEY 04289\n",
            "SEND 5849 MORE 0638 MONEY 06487\n",
            "SEND 5731 MORE 0647 MONEY 06378\n",
            "SEND 5732 MORE 0647 MONEY 06379\n",
            "SEND 6853 MORE 0728 MONEY 07581\n",
            "SEND 6419 MORE 0724 MONEY 07143\n",
            "SEND 6415 MORE 0734 MONEY 07149\n",
            "SEND 6524 MORE 0735 MONEY 07259\n",
            "SEND 6851 MORE 0738 MONEY 07589\n",
            "SEND 7429 MORE 0814 MONEY 08243\n",
            "SEND 7539 MORE 0815 MONEY 08354\n",
            "SEND 7649 MORE 0816 MONEY 08465\n",
            "SEND 7531 MORE 0825 MONEY 08356\n",
            "SEND 7316 MORE 0823 MONEY 08139\n",
            "SEND 7534 MORE 0825 MONEY 08359\n",
            "SEND 7643 MORE 0826 MONEY 08469\n",
            "SEND 8432 MORE 0914 MONEY 09346\n",
            "SEND 8324 MORE 0913 MONEY 09237\n",
            "SEND 8542 MORE 0915 MONEY 09457\n",
            "SEND 9567 MORE 1085 MONEY 10652\n"
          ],
          "name": "stdout"
        }
      ]
    },
    {
      "cell_type": "markdown",
      "metadata": {
        "id": "cpPSCqAxZ3YB"
      },
      "source": [
        "***DIVIDE Y VENCERAS***"
      ]
    },
    {
      "cell_type": "markdown",
      "metadata": {
        "id": "QUGdKnLXcDLN"
      },
      "source": [
        "OBTENER MAXIMO"
      ]
    },
    {
      "cell_type": "code",
      "metadata": {
        "colab": {
          "base_uri": "https://localhost:8080/"
        },
        "id": "hGxHf_cTcErH",
        "outputId": "75c83ab8-dd38-4ec6-bc0a-96ae8e89bd5e"
      },
      "source": [
        "import random\n",
        "def getMax(a, i, j): #a(arreglo), i(de donde), j(a donde)\n",
        "    if i==j:\n",
        "        return a[i]\n",
        "    else:\n",
        "        med = (i+j)//2\n",
        "        maxi = getMax(a, i, med)\n",
        "        maxd = getMax(a, med+1, j)\n",
        "        return maxi if maxi > maxd else maxd\n",
        "\n",
        "x = [random.randint(0,100) for _ in range(10)]\n",
        "print(x)\n",
        "getMax(x, 0, len(x)-1)"
      ],
      "execution_count": null,
      "outputs": [
        {
          "output_type": "stream",
          "text": [
            "[81, 63, 9, 24, 16, 93, 21, 39, 37, 61]\n"
          ],
          "name": "stdout"
        },
        {
          "output_type": "execute_result",
          "data": {
            "text/plain": [
              "93"
            ]
          },
          "metadata": {
            "tags": []
          },
          "execution_count": 303
        }
      ]
    },
    {
      "cell_type": "markdown",
      "metadata": {
        "id": "5WWNhr6ydW2C"
      },
      "source": [
        "MULTIPLICACION"
      ]
    },
    {
      "cell_type": "code",
      "metadata": {
        "colab": {
          "base_uri": "https://localhost:8080/"
        },
        "id": "bt5mxZT-gHnf",
        "outputId": "7c3fea20-fa8b-4d4c-923e-c352ef7299c7"
      },
      "source": [
        "def mult(a, b, n): # n preferible que sea potencia de 2\n",
        "    if n == 1:\n",
        "        return a*b\n",
        "    ai = a // 10**(n//2)\n",
        "    ad = a % 10**(n//2)\n",
        "    bi = b // 10**(n//2)\n",
        "    bd = b % 10**(n//2)\n",
        "    z1 = mult(ai, bi, n // 2) * 10**n\n",
        "    z2 = mult(ai, bi, n // 2) * 10**(n//2) + mult(ad, bi, n//2) * 10**(n//2)\n",
        "    z3 = mult(ad, bd, n // 2)\n",
        "    return z1 + z2 + z3\n",
        "\n",
        "r = mult(51, 5, 1)\n",
        "print(r)"
      ],
      "execution_count": null,
      "outputs": [
        {
          "output_type": "stream",
          "text": [
            "255\n"
          ],
          "name": "stdout"
        }
      ]
    },
    {
      "cell_type": "markdown",
      "metadata": {
        "id": "9q9RKxPgiYSB"
      },
      "source": [
        "CONTEO DE PALABRAS"
      ]
    },
    {
      "cell_type": "code",
      "metadata": {
        "colab": {
          "base_uri": "https://localhost:8080/"
        },
        "id": "Z5Rg7HK1ict-",
        "outputId": "c9ff9bf9-d07b-4947-fc8a-289bb8aacf80"
      },
      "source": [
        "def wc(lines, i, j):\n",
        "    if i == j:\n",
        "        return len(lines[i].strip().split(\" \"))\n",
        "    med = (j+i) // 2\n",
        "    return wc(lines, i, med) + wc(lines, med+1, j)\n",
        "\n",
        "def wordCount(text):\n",
        "    lines = text.strip().split('\\n')\n",
        "    print(lines)\n",
        "    return wc(lines, 0, len(lines)-1)\n",
        "\n",
        "text = \"\"\"\n",
        "hola mis amigos\n",
        "como estan\n",
        "yo estoy muy bien\n",
        "todos van a jalar\n",
        "\"\"\"\n",
        "\n",
        "wordCount(text)"
      ],
      "execution_count": null,
      "outputs": [
        {
          "output_type": "stream",
          "text": [
            "['hola mis amigos', 'como estan', 'yo estoy muy bien', 'todos van a jalar']\n"
          ],
          "name": "stdout"
        },
        {
          "output_type": "execute_result",
          "data": {
            "text/plain": [
              "13"
            ]
          },
          "metadata": {
            "tags": []
          },
          "execution_count": 320
        }
      ]
    },
    {
      "cell_type": "markdown",
      "metadata": {
        "id": "XEWaMgCInPfV"
      },
      "source": [
        "***GRAFOS***"
      ]
    },
    {
      "cell_type": "markdown",
      "metadata": {
        "id": "ZSGBx3o7s9F8"
      },
      "source": [
        "En una matris de adyacencia -> O(n^2)\n",
        "\n",
        "En una lista de adyacencia -> O(n+m)"
      ]
    },
    {
      "cell_type": "code",
      "metadata": {
        "colab": {
          "base_uri": "https://localhost:8080/"
        },
        "id": "AAwnO9CUnhDR",
        "outputId": "220c982f-ea17-49ef-b52c-e9c6e5f7dccb"
      },
      "source": [
        "import networkx as nx\n",
        "import numpy as np\n",
        "n = 10\n",
        "npmat = np.random.randint(2, size=(n, n))\n",
        "npmat"
      ],
      "execution_count": null,
      "outputs": [
        {
          "output_type": "execute_result",
          "data": {
            "text/plain": [
              "array([[0, 0, 1, 0, 1, 0, 0, 0, 1, 0],\n",
              "       [1, 1, 1, 1, 1, 0, 0, 1, 1, 1],\n",
              "       [1, 1, 0, 0, 1, 0, 1, 0, 1, 1],\n",
              "       [0, 1, 0, 0, 1, 0, 0, 1, 0, 0],\n",
              "       [0, 1, 0, 0, 0, 0, 1, 1, 1, 1],\n",
              "       [1, 0, 0, 1, 0, 1, 0, 1, 0, 0],\n",
              "       [0, 0, 0, 0, 0, 0, 0, 1, 0, 0],\n",
              "       [0, 1, 0, 1, 0, 0, 1, 0, 1, 1],\n",
              "       [0, 1, 0, 1, 0, 1, 0, 0, 1, 1],\n",
              "       [0, 0, 0, 1, 0, 1, 1, 1, 1, 0]])"
            ]
          },
          "metadata": {
            "tags": []
          },
          "execution_count": 12
        }
      ]
    },
    {
      "cell_type": "code",
      "metadata": {
        "colab": {
          "base_uri": "https://localhost:8080/",
          "height": 319
        },
        "id": "wZjlCYAFwlI9",
        "outputId": "77c27774-460b-4ec9-aa10-f25075a892f0"
      },
      "source": [
        "G = nx.from_numpy_matrix(npmat)\n",
        "nx.draw(G)"
      ],
      "execution_count": null,
      "outputs": [
        {
          "output_type": "display_data",
          "data": {
            "image/png": "[encoded data removed]",
            "text/plain": [
              "<Figure size 432x288 with 1 Axes>"
            ]
          },
          "metadata": {
            "tags": []
          }
        }
      ]
    },
    {
      "cell_type": "code",
      "metadata": {
        "colab": {
          "base_uri": "https://localhost:8080/"
        },
        "id": "i2RdItCqtAWd",
        "outputId": "1631d702-bfcd-41dd-8f21-22958a1beadc"
      },
      "source": [
        "import random\n",
        "n = 10\n",
        "mat = [[random.randint(0,1) for _ in range(n)] for _ in range(n)]\n",
        "mat"
      ],
      "execution_count": null,
      "outputs": [
        {
          "output_type": "execute_result",
          "data": {
            "text/plain": [
              "[[1, 1, 1, 1, 1, 1, 0, 0, 1, 1],\n",
              " [1, 0, 0, 1, 0, 1, 0, 1, 0, 0],\n",
              " [0, 1, 1, 0, 1, 1, 0, 1, 1, 0],\n",
              " [1, 0, 0, 0, 0, 1, 0, 0, 0, 1],\n",
              " [1, 0, 1, 0, 0, 0, 0, 0, 1, 0],\n",
              " [0, 1, 0, 1, 1, 0, 0, 0, 0, 0],\n",
              " [1, 0, 0, 0, 0, 1, 0, 0, 1, 1],\n",
              " [0, 0, 0, 1, 0, 1, 1, 1, 0, 0],\n",
              " [0, 0, 0, 0, 1, 1, 1, 1, 0, 1],\n",
              " [1, 0, 1, 0, 0, 0, 1, 1, 1, 0]]"
            ]
          },
          "metadata": {
            "tags": []
          },
          "execution_count": 15
        }
      ]
    },
    {
      "cell_type": "code",
      "metadata": {
        "colab": {
          "base_uri": "https://localhost:8080/",
          "height": 319
        },
        "id": "kdj8eSA8udTd",
        "outputId": "0a547bec-5473-407e-c425-d23d5e3d92ce"
      },
      "source": [
        "G = nx.from_numpy_matrix(np.array(mat))\n",
        "nx.draw(G, with_labels=True, node_color=\"orange\")"
      ],
      "execution_count": null,
      "outputs": [
        {
          "output_type": "display_data",
          "data": {
            "image/png": "[encoded data removed]",
            "text/plain": [
              "<Figure size 432x288 with 1 Axes>"
            ]
          },
          "metadata": {
            "tags": []
          }
        }
      ]
    },
    {
      "cell_type": "markdown",
      "metadata": {
        "id": "UJzSz1mlxsXs"
      },
      "source": [
        "LISTA DE ADYACENCIA"
      ]
    },
    {
      "cell_type": "code",
      "metadata": {
        "colab": {
          "base_uri": "https://localhost:8080/"
        },
        "id": "A8XQ6ViKxt4B",
        "outputId": "52d01172-56c2-4fed-d34a-261f1a96bcd6"
      },
      "source": [
        "n, m = 10, 30\n",
        "lst=[[] for _ in range(n)]\n",
        "for i in range(m):\n",
        "    u = random.randint(0, n-1)\n",
        "    while True:\n",
        "        v = random.randint(0, n-1)\n",
        "        if u != v and not v in lst[u]:\n",
        "            break;\n",
        "    lst[u].append(v)\n",
        "\n",
        "for u in range(n):\n",
        "    print(u, *lst[u])"
      ],
      "execution_count": null,
      "outputs": [
        {
          "output_type": "stream",
          "text": [
            "0 7 9 5 8\n",
            "1 7 3 0\n",
            "2 9 1 5\n",
            "3 5 2 0\n",
            "4 8 2 0 5\n",
            "5\n",
            "6 2 5 1 3 8\n",
            "7 6 2 3 9\n",
            "8 6 0 2 1\n",
            "9\n"
          ],
          "name": "stdout"
        }
      ]
    },
    {
      "cell_type": "code",
      "metadata": {
        "colab": {
          "base_uri": "https://localhost:8080/"
        },
        "id": "NVmZ-FAF3gKM",
        "outputId": "cd9f853f-7351-48cc-f210-867c1f57dc09"
      },
      "source": [
        "%%file 1.al\n",
        "0 7 9 5 8\n",
        "1 7 3 0\n",
        "2 9 1 5\n",
        "3 5 2 0\n",
        "4 8 2 0 5\n",
        "5\n",
        "6 2 5 1 3 8\n",
        "7 6 2 3 9\n",
        "8 6 0 2 1\n",
        "9"
      ],
      "execution_count": null,
      "outputs": [
        {
          "output_type": "stream",
          "text": [
            "Writing 1.al\n"
          ],
          "name": "stdout"
        }
      ]
    },
    {
      "cell_type": "code",
      "metadata": {
        "colab": {
          "base_uri": "https://localhost:8080/",
          "height": 319
        },
        "id": "pW7jBCN_2tw8",
        "outputId": "05b481f0-0788-496e-ea3c-f160cdfb469e"
      },
      "source": [
        "G = nx.read_adjlist(\"1.al\")\n",
        "#para grafo dirigido\n",
        "#G = nx.read_adjlist(\"1.al\", create_using=nx.DiGraph)\n",
        "nx.draw(G, with_labels=True, node_color=\"orange\")"
      ],
      "execution_count": null,
      "outputs": [
        {
          "output_type": "display_data",
          "data": {
            "image/png": "[encoded data removed]",
            "text/plain": [
              "<Figure size 432x288 with 1 Axes>"
            ]
          },
          "metadata": {
            "tags": []
          }
        }
      ]
    },
    {
      "cell_type": "markdown",
      "metadata": {
        "id": "QSCoYWtOE6Lk"
      },
      "source": [
        "ADJACENCY MATRIX"
      ]
    },
    {
      "cell_type": "code",
      "metadata": {
        "id": "svjLVy2RFfTO"
      },
      "source": [
        "import random\n",
        "import numpy as np\n",
        "import networkx as nx\n",
        "\n",
        "from algorithmic_complexity.aclib import graphstuff as gs"
      ],
      "execution_count": null,
      "outputs": []
    },
    {
      "cell_type": "code",
      "metadata": {
        "colab": {
          "base_uri": "https://localhost:8080/"
        },
        "id": "MR5XDXaBFAWC",
        "outputId": "1617c368-1702-48b3-cc89-ed07fd74f931"
      },
      "source": [
        "def genAdjMatrix(n, m: int):\n",
        "  mat = [[0]*n for _ in range(n)]\n",
        "\n",
        "  temp = [1]*m\n",
        "  temp += [0]*(n**2 - m)\n",
        "\n",
        "  random.shuffle(temp)\n",
        "\n",
        "  for i in range(n):\n",
        "    for j in range(n):\n",
        "      mat[i][j] = temp[i*n + j]\n",
        "\n",
        "  return mat\n",
        "\n",
        "G = genAdjMatrix(7, 13)\n",
        "G"
      ],
      "execution_count": null,
      "outputs": [
        {
          "output_type": "execute_result",
          "data": {
            "text/plain": [
              "[[0, 0, 0, 0, 1, 0, 0],\n",
              " [0, 1, 1, 0, 0, 0, 1],\n",
              " [0, 0, 0, 0, 0, 1, 0],\n",
              " [0, 0, 1, 1, 0, 0, 1],\n",
              " [1, 0, 0, 1, 0, 0, 0],\n",
              " [0, 1, 1, 0, 0, 0, 0],\n",
              " [0, 0, 1, 0, 0, 0, 0]]"
            ]
          },
          "metadata": {
            "tags": []
          },
          "execution_count": 68
        }
      ]
    },
    {
      "cell_type": "code",
      "metadata": {
        "colab": {
          "base_uri": "https://localhost:8080/"
        },
        "id": "mews2bTKFKqw",
        "outputId": "5a3034a8-3572-4b5f-974f-59efc4f95421"
      },
      "source": [
        "#The same but using numpy\n",
        "def genAdjMatrixnp(n, m: int):\n",
        "  mat = np.zeros(n*n)\n",
        "  mat[:m] = 1\n",
        "  np.random.shuffle(mat)\n",
        "  return mat.reshape((n, n))\n",
        "\n",
        "Gnp = genAdjMatrixnp(7, 13)\n",
        "print(Gnp)"
      ],
      "execution_count": null,
      "outputs": [
        {
          "output_type": "stream",
          "text": [
            "[[0. 0. 0. 0. 0. 0. 0.]\n",
            " [0. 0. 1. 1. 0. 0. 0.]\n",
            " [0. 0. 1. 0. 1. 1. 0.]\n",
            " [1. 0. 0. 0. 0. 0. 0.]\n",
            " [0. 1. 1. 1. 0. 0. 0.]\n",
            " [0. 0. 1. 1. 0. 1. 0.]\n",
            " [0. 1. 0. 0. 0. 0. 0.]]\n"
          ],
          "name": "stdout"
        }
      ]
    },
    {
      "cell_type": "code",
      "metadata": {
        "colab": {
          "base_uri": "https://localhost:8080/",
          "height": 560
        },
        "id": "a5QDlTmOFYO7",
        "outputId": "77918c02-eb3f-44f0-d051-1a0c202715d1"
      },
      "source": [
        "import graphviz as gv\n",
        "G = nx.from_numpy_matrix(Gnp, create_using=nx.DiGraph)\n",
        "def as_gv(G):\n",
        "    if G.is_directed():\n",
        "        Gv = gv.Digraph()\n",
        "    else:\n",
        "      Gv = gv.Graph()\n",
        "\n",
        "    for u, v in G.edges():\n",
        "        Gv.edge(str(u), str(v))\n",
        "    \n",
        "    return Gv\n",
        "\n",
        "as_gv(G)"
      ],
      "execution_count": null,
      "outputs": [
        {
          "output_type": "execute_result",
          "data": {
            "text/plain": [
              "<graphviz.dot.Digraph at 0x7f2f267e6450>"
            ],
            "image/svg+xml": "<?xml version=\"1.0\" encoding=\"UTF-8\" standalone=\"no\"?>\n<!DOCTYPE svg PUBLIC \"-//W3C//DTD SVG 1.1//EN\"\n \"http://www.w3.org/Graphics/SVG/1.1/DTD/svg11.dtd\">\n<!-- Generated by graphviz version 2.40.1 (20161225.0304)\n -->\n<!-- Title: %3 Pages: 1 -->\n<svg width=\"166pt\" height=\"404pt\"\n viewBox=\"0.00 0.00 166.40 404.00\" xmlns=\"http://www.w3.org/2000/svg\" xmlns:xlink=\"http://www.w3.org/1999/xlink\">\n<g id=\"graph0\" class=\"graph\" transform=\"scale(1 1) rotate(0) translate(4 400)\">\n<title>%3</title>\n<polygon fill=\"#ffffff\" stroke=\"transparent\" points=\"-4,4 -4,-400 162.3999,-400 162.3999,4 -4,4\"/>\n<!-- 1 -->\n<g id=\"node1\" class=\"node\">\n<title>1</title>\n<ellipse fill=\"none\" stroke=\"#000000\" cx=\"126\" cy=\"-306\" rx=\"27\" ry=\"18\"/>\n<text text-anchor=\"middle\" x=\"126\" y=\"-302.3\" font-family=\"Times,serif\" font-size=\"14.00\" fill=\"#000000\">1</text>\n</g>\n<!-- 2 -->\n<g id=\"node2\" class=\"node\">\n<title>2</title>\n<ellipse fill=\"none\" stroke=\"#000000\" cx=\"53\" cy=\"-234\" rx=\"27\" ry=\"18\"/>\n<text text-anchor=\"middle\" x=\"53\" y=\"-230.3\" font-family=\"Times,serif\" font-size=\"14.00\" fill=\"#000000\">2</text>\n</g>\n<!-- 1&#45;&gt;2 -->\n<g id=\"edge1\" class=\"edge\">\n<title>1&#45;&gt;2</title>\n<path fill=\"none\" stroke=\"#000000\" d=\"M110.8744,-291.0816C100.6655,-281.0125 87.0122,-267.5463 75.5307,-256.2221\"/>\n<polygon fill=\"#000000\" stroke=\"#000000\" points=\"77.9349,-253.6773 68.3574,-249.147 73.0194,-258.6611 77.9349,-253.6773\"/>\n</g>\n<!-- 3 -->\n<g id=\"node3\" class=\"node\">\n<title>3</title>\n<ellipse fill=\"none\" stroke=\"#000000\" cx=\"117\" cy=\"-90\" rx=\"27\" ry=\"18\"/>\n<text text-anchor=\"middle\" x=\"117\" y=\"-86.3\" font-family=\"Times,serif\" font-size=\"14.00\" fill=\"#000000\">3</text>\n</g>\n<!-- 1&#45;&gt;3 -->\n<g id=\"edge2\" class=\"edge\">\n<title>1&#45;&gt;3</title>\n<path fill=\"none\" stroke=\"#000000\" d=\"M133.9911,-288.6413C146.691,-258.6231 168.5337,-195.3043 153,-144 149.7339,-133.2127 143.5236,-122.6108 137.1687,-113.6963\"/>\n<polygon fill=\"#000000\" stroke=\"#000000\" points=\"139.9513,-111.5732 131.1229,-105.7156 134.3715,-115.8001 139.9513,-111.5732\"/>\n</g>\n<!-- 2&#45;&gt;2 -->\n<g id=\"edge3\" class=\"edge\">\n<title>2&#45;&gt;2</title>\n<path fill=\"none\" stroke=\"#000000\" d=\"M72.895,-246.4321C85.688,-249.6753 98,-245.5313 98,-234 98,-225.6218 91.5006,-221.1433 83.0395,-220.5644\"/>\n<polygon fill=\"#000000\" stroke=\"#000000\" points=\"82.5019,-217.1004 72.895,-221.5679 83.191,-224.0665 82.5019,-217.1004\"/>\n</g>\n<!-- 4 -->\n<g id=\"node4\" class=\"node\">\n<title>4</title>\n<ellipse fill=\"none\" stroke=\"#000000\" cx=\"117\" cy=\"-162\" rx=\"27\" ry=\"18\"/>\n<text text-anchor=\"middle\" x=\"117\" y=\"-158.3\" font-family=\"Times,serif\" font-size=\"14.00\" fill=\"#000000\">4</text>\n</g>\n<!-- 2&#45;&gt;4 -->\n<g id=\"edge4\" class=\"edge\">\n<title>2&#45;&gt;4</title>\n<path fill=\"none\" stroke=\"#000000\" d=\"M62.3272,-216.937C70.1854,-206.8982 81.4199,-194.1129 91.7448,-183.4028\"/>\n<polygon fill=\"#000000\" stroke=\"#000000\" points=\"94.4883,-185.6067 99.0409,-176.0399 89.516,-180.6796 94.4883,-185.6067\"/>\n</g>\n<!-- 5 -->\n<g id=\"node5\" class=\"node\">\n<title>5</title>\n<ellipse fill=\"none\" stroke=\"#000000\" cx=\"27\" cy=\"-162\" rx=\"27\" ry=\"18\"/>\n<text text-anchor=\"middle\" x=\"27\" y=\"-158.3\" font-family=\"Times,serif\" font-size=\"14.00\" fill=\"#000000\">5</text>\n</g>\n<!-- 2&#45;&gt;5 -->\n<g id=\"edge5\" class=\"edge\">\n<title>2&#45;&gt;5</title>\n<path fill=\"none\" stroke=\"#000000\" d=\"M41.3394,-217.6621C37.4461,-209.4353 33.4845,-199.2325 30.4528,-189.8179\"/>\n<polygon fill=\"#000000\" stroke=\"#000000\" points=\"33.7567,-188.647 27.5753,-180.0423 27.0415,-190.6237 33.7567,-188.647\"/>\n</g>\n<!-- 0 -->\n<g id=\"node6\" class=\"node\">\n<title>0</title>\n<ellipse fill=\"none\" stroke=\"#000000\" cx=\"117\" cy=\"-18\" rx=\"27\" ry=\"18\"/>\n<text text-anchor=\"middle\" x=\"117\" y=\"-14.3\" font-family=\"Times,serif\" font-size=\"14.00\" fill=\"#000000\">0</text>\n</g>\n<!-- 3&#45;&gt;0 -->\n<g id=\"edge6\" class=\"edge\">\n<title>3&#45;&gt;0</title>\n<path fill=\"none\" stroke=\"#000000\" d=\"M117,-71.8314C117,-64.131 117,-54.9743 117,-46.4166\"/>\n<polygon fill=\"#000000\" stroke=\"#000000\" points=\"120.5001,-46.4132 117,-36.4133 113.5001,-46.4133 120.5001,-46.4132\"/>\n</g>\n<!-- 4&#45;&gt;1 -->\n<g id=\"edge7\" class=\"edge\">\n<title>4&#45;&gt;1</title>\n<path fill=\"none\" stroke=\"#000000\" d=\"M118.1306,-180.0896C119.6608,-204.5727 122.4073,-248.5174 124.217,-277.4713\"/>\n<polygon fill=\"#000000\" stroke=\"#000000\" points=\"120.7431,-278.0001 124.8601,-287.7623 127.7295,-277.5634 120.7431,-278.0001\"/>\n</g>\n<!-- 4&#45;&gt;2 -->\n<g id=\"edge8\" class=\"edge\">\n<title>4&#45;&gt;2</title>\n<path fill=\"none\" stroke=\"#000000\" d=\"M107.6102,-179.1429C99.7155,-189.22 88.44,-202.0437 78.0999,-212.7581\"/>\n<polygon fill=\"#000000\" stroke=\"#000000\" points=\"75.3566,-210.5538 70.7979,-220.1177 80.3257,-215.4841 75.3566,-210.5538\"/>\n</g>\n<!-- 4&#45;&gt;3 -->\n<g id=\"edge9\" class=\"edge\">\n<title>4&#45;&gt;3</title>\n<path fill=\"none\" stroke=\"#000000\" d=\"M117,-143.8314C117,-136.131 117,-126.9743 117,-118.4166\"/>\n<polygon fill=\"#000000\" stroke=\"#000000\" points=\"120.5001,-118.4132 117,-108.4133 113.5001,-118.4133 120.5001,-118.4132\"/>\n</g>\n<!-- 5&#45;&gt;2 -->\n<g id=\"edge10\" class=\"edge\">\n<title>5&#45;&gt;2</title>\n<path fill=\"none\" stroke=\"#000000\" d=\"M38.7085,-178.4393C42.5765,-186.6273 46.5078,-196.7541 49.524,-206.11\"/>\n<polygon fill=\"#000000\" stroke=\"#000000\" points=\"46.2053,-207.2301 52.3915,-215.8314 52.9193,-205.2497 46.2053,-207.2301\"/>\n</g>\n<!-- 5&#45;&gt;3 -->\n<g id=\"edge11\" class=\"edge\">\n<title>5&#45;&gt;3</title>\n<path fill=\"none\" stroke=\"#000000\" d=\"M44.3529,-148.1177C57.7997,-137.3602 76.6239,-122.3009 91.741,-110.2072\"/>\n<polygon fill=\"#000000\" stroke=\"#000000\" points=\"94.0781,-112.8197 99.7004,-103.8397 89.7052,-107.3536 94.0781,-112.8197\"/>\n</g>\n<!-- 5&#45;&gt;5 -->\n<g id=\"edge12\" class=\"edge\">\n<title>5&#45;&gt;5</title>\n<path fill=\"none\" stroke=\"#000000\" d=\"M46.895,-174.4321C59.688,-177.6753 72,-173.5313 72,-162 72,-153.6218 65.5006,-149.1433 57.0395,-148.5644\"/>\n<polygon fill=\"#000000\" stroke=\"#000000\" points=\"56.5019,-145.1004 46.895,-149.5679 57.191,-152.0665 56.5019,-145.1004\"/>\n</g>\n<!-- 6 -->\n<g id=\"node7\" class=\"node\">\n<title>6</title>\n<ellipse fill=\"none\" stroke=\"#000000\" cx=\"126\" cy=\"-378\" rx=\"27\" ry=\"18\"/>\n<text text-anchor=\"middle\" x=\"126\" y=\"-374.3\" font-family=\"Times,serif\" font-size=\"14.00\" fill=\"#000000\">6</text>\n</g>\n<!-- 6&#45;&gt;1 -->\n<g id=\"edge13\" class=\"edge\">\n<title>6&#45;&gt;1</title>\n<path fill=\"none\" stroke=\"#000000\" d=\"M126,-359.8314C126,-352.131 126,-342.9743 126,-334.4166\"/>\n<polygon fill=\"#000000\" stroke=\"#000000\" points=\"129.5001,-334.4132 126,-324.4133 122.5001,-334.4133 129.5001,-334.4132\"/>\n</g>\n</g>\n</svg>\n"
          },
          "metadata": {
            "tags": []
          },
          "execution_count": 76
        }
      ]
    },
    {
      "cell_type": "markdown",
      "metadata": {
        "id": "FYSJFPw_H0TL"
      },
      "source": [
        "ADJACENCY LIST"
      ]
    },
    {
      "cell_type": "code",
      "metadata": {
        "colab": {
          "base_uri": "https://localhost:8080/"
        },
        "id": "4wfKsXDpH2cp",
        "outputId": "1e773ccf-8cdc-44e3-f25d-0a8760ef8a5d"
      },
      "source": [
        "def genAdjList(n, m: int):\n",
        "  L = [[] for _ in range(n)]\n",
        "  cont = 0\n",
        "  while cont < m:\n",
        "    u = random.randint(0, n-1)\n",
        "    v = random.randint(0, n-1)\n",
        "    if u != v and v not in L[u]:\n",
        "      L[u].append(v)\n",
        "      cont += 1\n",
        "    \n",
        "  return L\n",
        "\n",
        "Gal = genAdjList(7, 13)\n",
        "for u, edges in enumerate(Gal):\n",
        "  print(u, *edges)"
      ],
      "execution_count": null,
      "outputs": [
        {
          "output_type": "stream",
          "text": [
            "0 2 5 4 1\n",
            "1 4 5 0\n",
            "2 6 5 0\n",
            "3\n",
            "4 6\n",
            "5 2 0\n",
            "6\n"
          ],
          "name": "stdout"
        }
      ]
    },
    {
      "cell_type": "code",
      "metadata": {
        "colab": {
          "base_uri": "https://localhost:8080/"
        },
        "id": "Oc_pWagzIIYu",
        "outputId": "7e986e0a-cc3f-45e5-b02b-f44f7d3f06a5"
      },
      "source": [
        "%%file 1.adjlist\n",
        "0 3\n",
        "1 3 2\n",
        "2 0\n",
        "3 0 2\n",
        "4 0 5 1 3\n",
        "5 6\n",
        "6 2 1"
      ],
      "execution_count": null,
      "outputs": [
        {
          "output_type": "stream",
          "text": [
            "Overwriting 1.adjlist\n"
          ],
          "name": "stdout"
        }
      ]
    },
    {
      "cell_type": "code",
      "metadata": {
        "colab": {
          "base_uri": "https://localhost:8080/",
          "height": 560
        },
        "id": "1VO26iJ9IMUb",
        "outputId": "209e23f6-efc1-42cc-da4f-c6b44ece86f0"
      },
      "source": [
        "G = nx.read_adjlist('1.adjlist')\n",
        "as_gv(G)\n",
        "#print(*G.neighbors('0'))"
      ],
      "execution_count": null,
      "outputs": [
        {
          "output_type": "execute_result",
          "data": {
            "text/plain": [
              "<graphviz.dot.Graph at 0x7f2f26880bd0>"
            ],
            "image/svg+xml": "<?xml version=\"1.0\" encoding=\"UTF-8\" standalone=\"no\"?>\n<!DOCTYPE svg PUBLIC \"-//W3C//DTD SVG 1.1//EN\"\n \"http://www.w3.org/Graphics/SVG/1.1/DTD/svg11.dtd\">\n<!-- Generated by graphviz version 2.40.1 (20161225.0304)\n -->\n<!-- Title: %3 Pages: 1 -->\n<svg width=\"172pt\" height=\"404pt\"\n viewBox=\"0.00 0.00 172.00 404.00\" xmlns=\"http://www.w3.org/2000/svg\" xmlns:xlink=\"http://www.w3.org/1999/xlink\">\n<g id=\"graph0\" class=\"graph\" transform=\"scale(1 1) rotate(0) translate(4 400)\">\n<title>%3</title>\n<polygon fill=\"#ffffff\" stroke=\"transparent\" points=\"-4,4 -4,-400 168,-400 168,4 -4,4\"/>\n<!-- 0 -->\n<g id=\"node1\" class=\"node\">\n<title>0</title>\n<ellipse fill=\"none\" stroke=\"#000000\" cx=\"82\" cy=\"-378\" rx=\"27\" ry=\"18\"/>\n<text text-anchor=\"middle\" x=\"82\" y=\"-374.3\" font-family=\"Times,serif\" font-size=\"14.00\" fill=\"#000000\">0</text>\n</g>\n<!-- 3 -->\n<g id=\"node2\" class=\"node\">\n<title>3</title>\n<ellipse fill=\"none\" stroke=\"#000000\" cx=\"82\" cy=\"-306\" rx=\"27\" ry=\"18\"/>\n<text text-anchor=\"middle\" x=\"82\" y=\"-302.3\" font-family=\"Times,serif\" font-size=\"14.00\" fill=\"#000000\">3</text>\n</g>\n<!-- 0&#45;&#45;3 -->\n<g id=\"edge1\" class=\"edge\">\n<title>0&#45;&#45;3</title>\n<path fill=\"none\" stroke=\"#000000\" d=\"M82,-359.8314C82,-349 82,-335.2876 82,-324.4133\"/>\n</g>\n<!-- 2 -->\n<g id=\"node3\" class=\"node\">\n<title>2</title>\n<ellipse fill=\"none\" stroke=\"#000000\" cx=\"27\" cy=\"-162\" rx=\"27\" ry=\"18\"/>\n<text text-anchor=\"middle\" x=\"27\" y=\"-158.3\" font-family=\"Times,serif\" font-size=\"14.00\" fill=\"#000000\">2</text>\n</g>\n<!-- 0&#45;&#45;2 -->\n<g id=\"edge2\" class=\"edge\">\n<title>0&#45;&#45;2</title>\n<path fill=\"none\" stroke=\"#000000\" d=\"M68.8882,-361.9207C61.1382,-351.6461 51.7465,-337.7179 46,-324 25.5398,-275.1581 24.8325,-211.2305 25.9377,-180.3177\"/>\n</g>\n<!-- 4 -->\n<g id=\"node4\" class=\"node\">\n<title>4</title>\n<ellipse fill=\"none\" stroke=\"#000000\" cx=\"137\" cy=\"-162\" rx=\"27\" ry=\"18\"/>\n<text text-anchor=\"middle\" x=\"137\" y=\"-158.3\" font-family=\"Times,serif\" font-size=\"14.00\" fill=\"#000000\">4</text>\n</g>\n<!-- 0&#45;&#45;4 -->\n<g id=\"edge3\" class=\"edge\">\n<title>0&#45;&#45;4</title>\n<path fill=\"none\" stroke=\"#000000\" d=\"M94.8592,-361.8109C102.5141,-351.4951 111.8946,-337.562 118,-324 131.5858,-293.8216 132.7424,-284.8204 137,-252 140.2162,-227.2077 139.4121,-198.2496 138.3568,-180.0173\"/>\n</g>\n<!-- 3&#45;&#45;2 -->\n<g id=\"edge5\" class=\"edge\">\n<title>3&#45;&#45;2</title>\n<path fill=\"none\" stroke=\"#000000\" d=\"M68.9011,-289.9153C61.1559,-279.6387 51.7648,-265.7102 46,-252 36.0345,-228.2992 31.0888,-198.8125 28.7905,-180.1917\"/>\n</g>\n<!-- 3&#45;&#45;4 -->\n<g id=\"edge6\" class=\"edge\">\n<title>3&#45;&#45;4</title>\n<path fill=\"none\" stroke=\"#000000\" d=\"M95.0989,-289.9153C102.8441,-279.6387 112.2352,-265.7102 118,-252 127.9655,-228.2992 132.9112,-198.8125 135.2095,-180.1917\"/>\n</g>\n<!-- 1 -->\n<g id=\"node5\" class=\"node\">\n<title>1</title>\n<ellipse fill=\"none\" stroke=\"#000000\" cx=\"82\" cy=\"-234\" rx=\"27\" ry=\"18\"/>\n<text text-anchor=\"middle\" x=\"82\" y=\"-230.3\" font-family=\"Times,serif\" font-size=\"14.00\" fill=\"#000000\">1</text>\n</g>\n<!-- 3&#45;&#45;1 -->\n<g id=\"edge4\" class=\"edge\">\n<title>3&#45;&#45;1</title>\n<path fill=\"none\" stroke=\"#000000\" d=\"M82,-287.8314C82,-277 82,-263.2876 82,-252.4133\"/>\n</g>\n<!-- 6 -->\n<g id=\"node6\" class=\"node\">\n<title>6</title>\n<ellipse fill=\"none\" stroke=\"#000000\" cx=\"82\" cy=\"-18\" rx=\"27\" ry=\"18\"/>\n<text text-anchor=\"middle\" x=\"82\" y=\"-14.3\" font-family=\"Times,serif\" font-size=\"14.00\" fill=\"#000000\">6</text>\n</g>\n<!-- 2&#45;&#45;6 -->\n<g id=\"edge10\" class=\"edge\">\n<title>2&#45;&#45;6</title>\n<path fill=\"none\" stroke=\"#000000\" d=\"M33.7441,-144.3428C44.3001,-116.7053 64.6109,-63.5278 75.2008,-35.8017\"/>\n</g>\n<!-- 5 -->\n<g id=\"node7\" class=\"node\">\n<title>5</title>\n<ellipse fill=\"none\" stroke=\"#000000\" cx=\"137\" cy=\"-90\" rx=\"27\" ry=\"18\"/>\n<text text-anchor=\"middle\" x=\"137\" y=\"-86.3\" font-family=\"Times,serif\" font-size=\"14.00\" fill=\"#000000\">5</text>\n</g>\n<!-- 4&#45;&#45;5 -->\n<g id=\"edge11\" class=\"edge\">\n<title>4&#45;&#45;5</title>\n<path fill=\"none\" stroke=\"#000000\" d=\"M137,-143.8314C137,-133 137,-119.2876 137,-108.4133\"/>\n</g>\n<!-- 1&#45;&#45;2 -->\n<g id=\"edge7\" class=\"edge\">\n<title>1&#45;&#45;2</title>\n<path fill=\"none\" stroke=\"#000000\" d=\"M69.5196,-217.6621C60.5186,-205.8788 48.4207,-190.0416 39.431,-178.2733\"/>\n</g>\n<!-- 1&#45;&#45;4 -->\n<g id=\"edge8\" class=\"edge\">\n<title>1&#45;&#45;4</title>\n<path fill=\"none\" stroke=\"#000000\" d=\"M94.4804,-217.6621C103.4814,-205.8788 115.5793,-190.0416 124.569,-178.2733\"/>\n</g>\n<!-- 1&#45;&#45;6 -->\n<g id=\"edge9\" class=\"edge\">\n<title>1&#45;&#45;6</title>\n<path fill=\"none\" stroke=\"#000000\" d=\"M82,-215.9555C82,-175.2967 82,-76.8988 82,-36.1451\"/>\n</g>\n<!-- 5&#45;&#45;6 -->\n<g id=\"edge12\" class=\"edge\">\n<title>5&#45;&#45;6</title>\n<path fill=\"none\" stroke=\"#000000\" d=\"M124.5196,-73.6621C115.5186,-61.8788 103.4207,-46.0416 94.431,-34.2733\"/>\n</g>\n</g>\n</svg>\n"
          },
          "metadata": {
            "tags": []
          },
          "execution_count": 85
        }
      ]
    },
    {
      "cell_type": "markdown",
      "metadata": {
        "id": "JhiRVUYnK0NL"
      },
      "source": [
        "***BFS (BREADTH FIRST SEARCH)***"
      ]
    },
    {
      "cell_type": "markdown",
      "metadata": {
        "id": "fEInBEEQPvSk"
      },
      "source": [
        "FOR ADJANCECY LIST(POR AMPLITUD)"
      ]
    },
    {
      "cell_type": "code",
      "metadata": {
        "colab": {
          "base_uri": "https://localhost:8080/"
        },
        "id": "ZCHHl2CRR9D9",
        "outputId": "c6f64e5a-67d4-49ed-bd6e-d6cb52494591"
      },
      "source": [
        "%%file 2.adjlist\n",
        "0 4 \n",
        "1 \n",
        "2 4 5 \n",
        "3 5 7 \n",
        "4 0 2 7\n",
        "5 2 3\n",
        "6 \n",
        "7 3 4"
      ],
      "execution_count": 101,
      "outputs": [
        {
          "output_type": "stream",
          "text": [
            "Overwriting 2.adjlist\n"
          ],
          "name": "stdout"
        }
      ]
    },
    {
      "cell_type": "code",
      "metadata": {
        "colab": {
          "base_uri": "https://localhost:8080/",
          "height": 560
        },
        "id": "i9gXZ2f8SAMv",
        "outputId": "eda08ae0-b4cf-4c2b-e650-3848224025c5"
      },
      "source": [
        "Gal = nx.read_adjlist('2.adjlist')\n",
        "as_gv(Gal)"
      ],
      "execution_count": 102,
      "outputs": [
        {
          "output_type": "execute_result",
          "data": {
            "text/plain": [
              "<graphviz.dot.Graph at 0x7f2f26157550>"
            ],
            "image/svg+xml": "<?xml version=\"1.0\" encoding=\"UTF-8\" standalone=\"no\"?>\n<!DOCTYPE svg PUBLIC \"-//W3C//DTD SVG 1.1//EN\"\n \"http://www.w3.org/Graphics/SVG/1.1/DTD/svg11.dtd\">\n<!-- Generated by graphviz version 2.40.1 (20161225.0304)\n -->\n<!-- Title: %3 Pages: 1 -->\n<svg width=\"89pt\" height=\"404pt\"\n viewBox=\"0.00 0.00 89.00 404.00\" xmlns=\"http://www.w3.org/2000/svg\" xmlns:xlink=\"http://www.w3.org/1999/xlink\">\n<g id=\"graph0\" class=\"graph\" transform=\"scale(1 1) rotate(0) translate(4 400)\">\n<title>%3</title>\n<polygon fill=\"#ffffff\" stroke=\"transparent\" points=\"-4,4 -4,-400 85,-400 85,4 -4,4\"/>\n<!-- 0 -->\n<g id=\"node1\" class=\"node\">\n<title>0</title>\n<ellipse fill=\"none\" stroke=\"#000000\" cx=\"54\" cy=\"-378\" rx=\"27\" ry=\"18\"/>\n<text text-anchor=\"middle\" x=\"54\" y=\"-374.3\" font-family=\"Times,serif\" font-size=\"14.00\" fill=\"#000000\">0</text>\n</g>\n<!-- 4 -->\n<g id=\"node2\" class=\"node\">\n<title>4</title>\n<ellipse fill=\"none\" stroke=\"#000000\" cx=\"54\" cy=\"-306\" rx=\"27\" ry=\"18\"/>\n<text text-anchor=\"middle\" x=\"54\" y=\"-302.3\" font-family=\"Times,serif\" font-size=\"14.00\" fill=\"#000000\">4</text>\n</g>\n<!-- 0&#45;&#45;4 -->\n<g id=\"edge1\" class=\"edge\">\n<title>0&#45;&#45;4</title>\n<path fill=\"none\" stroke=\"#000000\" d=\"M54,-359.8314C54,-349 54,-335.2876 54,-324.4133\"/>\n</g>\n<!-- 2 -->\n<g id=\"node3\" class=\"node\">\n<title>2</title>\n<ellipse fill=\"none\" stroke=\"#000000\" cx=\"27\" cy=\"-234\" rx=\"27\" ry=\"18\"/>\n<text text-anchor=\"middle\" x=\"27\" y=\"-230.3\" font-family=\"Times,serif\" font-size=\"14.00\" fill=\"#000000\">2</text>\n</g>\n<!-- 4&#45;&#45;2 -->\n<g id=\"edge2\" class=\"edge\">\n<title>4&#45;&#45;2</title>\n<path fill=\"none\" stroke=\"#000000\" d=\"M47.3258,-288.2022C43.1407,-277.0419 37.7679,-262.7143 33.5974,-251.593\"/>\n</g>\n<!-- 7 -->\n<g id=\"node4\" class=\"node\">\n<title>7</title>\n<ellipse fill=\"none\" stroke=\"#000000\" cx=\"54\" cy=\"-18\" rx=\"27\" ry=\"18\"/>\n<text text-anchor=\"middle\" x=\"54\" y=\"-14.3\" font-family=\"Times,serif\" font-size=\"14.00\" fill=\"#000000\">7</text>\n</g>\n<!-- 4&#45;&#45;7 -->\n<g id=\"edge3\" class=\"edge\">\n<title>4&#45;&#45;7</title>\n<path fill=\"none\" stroke=\"#000000\" d=\"M57.7474,-288.0931C59.7466,-277.6241 61.9966,-264.1241 63,-252 69.5984,-172.2726 69.5984,-151.7274 63,-72 61.9966,-59.8759 59.7466,-46.3759 57.7474,-35.9069\"/>\n</g>\n<!-- 5 -->\n<g id=\"node5\" class=\"node\">\n<title>5</title>\n<ellipse fill=\"none\" stroke=\"#000000\" cx=\"27\" cy=\"-162\" rx=\"27\" ry=\"18\"/>\n<text text-anchor=\"middle\" x=\"27\" y=\"-158.3\" font-family=\"Times,serif\" font-size=\"14.00\" fill=\"#000000\">5</text>\n</g>\n<!-- 2&#45;&#45;5 -->\n<g id=\"edge4\" class=\"edge\">\n<title>2&#45;&#45;5</title>\n<path fill=\"none\" stroke=\"#000000\" d=\"M27,-215.8314C27,-205 27,-191.2876 27,-180.4133\"/>\n</g>\n<!-- 3 -->\n<g id=\"node6\" class=\"node\">\n<title>3</title>\n<ellipse fill=\"none\" stroke=\"#000000\" cx=\"27\" cy=\"-90\" rx=\"27\" ry=\"18\"/>\n<text text-anchor=\"middle\" x=\"27\" y=\"-86.3\" font-family=\"Times,serif\" font-size=\"14.00\" fill=\"#000000\">3</text>\n</g>\n<!-- 5&#45;&#45;3 -->\n<g id=\"edge5\" class=\"edge\">\n<title>5&#45;&#45;3</title>\n<path fill=\"none\" stroke=\"#000000\" d=\"M27,-143.8314C27,-133 27,-119.2876 27,-108.4133\"/>\n</g>\n<!-- 3&#45;&#45;7 -->\n<g id=\"edge6\" class=\"edge\">\n<title>3&#45;&#45;7</title>\n<path fill=\"none\" stroke=\"#000000\" d=\"M33.6742,-72.2022C37.8593,-61.0419 43.2321,-46.7143 47.4026,-35.593\"/>\n</g>\n</g>\n</svg>\n"
          },
          "metadata": {
            "tags": []
          },
          "execution_count": 102
        }
      ]
    },
    {
      "cell_type": "code",
      "metadata": {
        "colab": {
          "base_uri": "https://localhost:8080/"
        },
        "id": "9U26Vt4TPxly",
        "outputId": "c1fa070d-599d-43b8-bb15-fbba27f2332f"
      },
      "source": [
        "def bfs(G, s):\n",
        "  n = G.order()\n",
        "  visited = [False]*n\n",
        "  path = [None]*n\n",
        "  queue = [s]\n",
        "  visited[s] = True\n",
        "\n",
        "  while len(queue) > 0:\n",
        "    u = int(queue[0])\n",
        "    queue = queue[1:]\n",
        "    for v in G.neighbors(str(u)):\n",
        "      v = int(v)\n",
        "      if not visited[v]:\n",
        "        visited[v] = True\n",
        "        path[v] = u\n",
        "        queue.append(v)\n",
        "\n",
        "  return path\n",
        "\n",
        "path = bfs(Gal, 3)\n",
        "print(path)"
      ],
      "execution_count": 104,
      "outputs": [
        {
          "output_type": "stream",
          "text": [
            "[4, None, 5, None, 7, 3, None, 3]\n"
          ],
          "name": "stdout"
        }
      ]
    },
    {
      "cell_type": "markdown",
      "metadata": {
        "id": "Fw01m2P_Z_iU"
      },
      "source": [
        " BFS FOR MATRIX LIST"
      ]
    },
    {
      "cell_type": "code",
      "metadata": {
        "colab": {
          "base_uri": "https://localhost:8080/",
          "height": 272
        },
        "id": "00ajfAbHYeo5",
        "outputId": "7720214d-2374-4b0d-d404-bb7e813361d8"
      },
      "source": [
        "G = [[0, 0, 0, 1, 1, 0, 0, 0],\n",
        "     [0, 0, 0, 1, 0, 1, 1, 0],\n",
        "     [0, 0, 0, 0, 1, 1, 1, 0],\n",
        "     [1, 1, 0, 0, 0, 0, 0, 1],\n",
        "     [1, 0, 1, 0, 0, 0, 1, 0],\n",
        "     [0, 1, 1, 0, 0, 0, 1, 1],\n",
        "     [0, 1, 1, 0, 1, 1, 0, 0],\n",
        "     [0, 0, 0, 1, 0, 1, 0, 0]]\n",
        "G = np.array(G)\n",
        "\n",
        "as_gv(nx.from_numpy_matrix(G))"
      ],
      "execution_count": 106,
      "outputs": [
        {
          "output_type": "execute_result",
          "data": {
            "text/plain": [
              "<graphviz.dot.Graph at 0x7f2f2680f050>"
            ],
            "image/svg+xml": "<?xml version=\"1.0\" encoding=\"UTF-8\" standalone=\"no\"?>\n<!DOCTYPE svg PUBLIC \"-//W3C//DTD SVG 1.1//EN\"\n \"http://www.w3.org/Graphics/SVG/1.1/DTD/svg11.dtd\">\n<!-- Generated by graphviz version 2.40.1 (20161225.0304)\n -->\n<!-- Title: %3 Pages: 1 -->\n<svg width=\"257pt\" height=\"188pt\"\n viewBox=\"0.00 0.00 257.49 188.00\" xmlns=\"http://www.w3.org/2000/svg\" xmlns:xlink=\"http://www.w3.org/1999/xlink\">\n<g id=\"graph0\" class=\"graph\" transform=\"scale(1 1) rotate(0) translate(4 184)\">\n<title>%3</title>\n<polygon fill=\"#ffffff\" stroke=\"transparent\" points=\"-4,4 -4,-184 253.4882,-184 253.4882,4 -4,4\"/>\n<!-- 0 -->\n<g id=\"node1\" class=\"node\">\n<title>0</title>\n<ellipse fill=\"none\" stroke=\"#000000\" cx=\"145\" cy=\"-162\" rx=\"27\" ry=\"18\"/>\n<text text-anchor=\"middle\" x=\"145\" y=\"-158.3\" font-family=\"Times,serif\" font-size=\"14.00\" fill=\"#000000\">0</text>\n</g>\n<!-- 3 -->\n<g id=\"node2\" class=\"node\">\n<title>3</title>\n<ellipse fill=\"none\" stroke=\"#000000\" cx=\"27\" cy=\"-90\" rx=\"27\" ry=\"18\"/>\n<text text-anchor=\"middle\" x=\"27\" y=\"-86.3\" font-family=\"Times,serif\" font-size=\"14.00\" fill=\"#000000\">3</text>\n</g>\n<!-- 0&#45;&#45;3 -->\n<g id=\"edge1\" class=\"edge\">\n<title>0&#45;&#45;3</title>\n<path fill=\"none\" stroke=\"#000000\" d=\"M124.9829,-149.7862C103.2842,-136.5463 68.8523,-115.537 47.1153,-102.2737\"/>\n</g>\n<!-- 4 -->\n<g id=\"node3\" class=\"node\">\n<title>4</title>\n<ellipse fill=\"none\" stroke=\"#000000\" cx=\"209\" cy=\"-90\" rx=\"27\" ry=\"18\"/>\n<text text-anchor=\"middle\" x=\"209\" y=\"-86.3\" font-family=\"Times,serif\" font-size=\"14.00\" fill=\"#000000\">4</text>\n</g>\n<!-- 0&#45;&#45;4 -->\n<g id=\"edge2\" class=\"edge\">\n<title>0&#45;&#45;4</title>\n<path fill=\"none\" stroke=\"#000000\" d=\"M158.887,-146.3771C169.622,-134.3003 184.4119,-117.6616 195.1401,-105.5924\"/>\n</g>\n<!-- 7 -->\n<g id=\"node8\" class=\"node\">\n<title>7</title>\n<ellipse fill=\"none\" stroke=\"#000000\" cx=\"82\" cy=\"-18\" rx=\"27\" ry=\"18\"/>\n<text text-anchor=\"middle\" x=\"82\" y=\"-14.3\" font-family=\"Times,serif\" font-size=\"14.00\" fill=\"#000000\">7</text>\n</g>\n<!-- 3&#45;&#45;7 -->\n<g id=\"edge9\" class=\"edge\">\n<title>3&#45;&#45;7</title>\n<path fill=\"none\" stroke=\"#000000\" d=\"M39.4804,-73.6621C48.4814,-61.8788 60.5793,-46.0416 69.569,-34.2733\"/>\n</g>\n<!-- 6 -->\n<g id=\"node6\" class=\"node\">\n<title>6</title>\n<ellipse fill=\"none\" stroke=\"#000000\" cx=\"173\" cy=\"-18\" rx=\"27\" ry=\"18\"/>\n<text text-anchor=\"middle\" x=\"173\" y=\"-14.3\" font-family=\"Times,serif\" font-size=\"14.00\" fill=\"#000000\">6</text>\n</g>\n<!-- 4&#45;&#45;6 -->\n<g id=\"edge10\" class=\"edge\">\n<title>4&#45;&#45;6</title>\n<path fill=\"none\" stroke=\"#000000\" d=\"M200.2854,-72.5708C194.6253,-61.2506 187.2784,-46.5568 181.6343,-35.2687\"/>\n</g>\n<!-- 1 -->\n<g id=\"node4\" class=\"node\">\n<title>1</title>\n<ellipse fill=\"none\" stroke=\"#000000\" cx=\"73\" cy=\"-162\" rx=\"27\" ry=\"18\"/>\n<text text-anchor=\"middle\" x=\"73\" y=\"-158.3\" font-family=\"Times,serif\" font-size=\"14.00\" fill=\"#000000\">1</text>\n</g>\n<!-- 1&#45;&#45;3 -->\n<g id=\"edge3\" class=\"edge\">\n<title>1&#45;&#45;3</title>\n<path fill=\"none\" stroke=\"#000000\" d=\"M62.3311,-145.3008C54.8996,-133.669 45.0298,-118.2206 37.6111,-106.6087\"/>\n</g>\n<!-- 5 -->\n<g id=\"node5\" class=\"node\">\n<title>5</title>\n<ellipse fill=\"none\" stroke=\"#000000\" cx=\"137\" cy=\"-90\" rx=\"27\" ry=\"18\"/>\n<text text-anchor=\"middle\" x=\"137\" y=\"-86.3\" font-family=\"Times,serif\" font-size=\"14.00\" fill=\"#000000\">5</text>\n</g>\n<!-- 1&#45;&#45;5 -->\n<g id=\"edge4\" class=\"edge\">\n<title>1&#45;&#45;5</title>\n<path fill=\"none\" stroke=\"#000000\" d=\"M86.887,-146.3771C97.622,-134.3003 112.4119,-117.6616 123.1401,-105.5924\"/>\n</g>\n<!-- 1&#45;&#45;6 -->\n<g id=\"edge5\" class=\"edge\">\n<title>1&#45;&#45;6</title>\n<path fill=\"none\" stroke=\"#000000\" d=\"M75.255,-143.9797C78.3885,-124.6966 85.5284,-93.9277 101,-72 114.0617,-53.4879 135.4257,-38.6225 151.4966,-29.2117\"/>\n</g>\n<!-- 5&#45;&#45;6 -->\n<g id=\"edge11\" class=\"edge\">\n<title>5&#45;&#45;6</title>\n<path fill=\"none\" stroke=\"#000000\" d=\"M145.7146,-72.5708C151.3747,-61.2506 158.7216,-46.5568 164.3657,-35.2687\"/>\n</g>\n<!-- 5&#45;&#45;7 -->\n<g id=\"edge12\" class=\"edge\">\n<title>5&#45;&#45;7</title>\n<path fill=\"none\" stroke=\"#000000\" d=\"M124.5196,-73.6621C115.5186,-61.8788 103.4207,-46.0416 94.431,-34.2733\"/>\n</g>\n<!-- 2 -->\n<g id=\"node7\" class=\"node\">\n<title>2</title>\n<ellipse fill=\"none\" stroke=\"#000000\" cx=\"217\" cy=\"-162\" rx=\"27\" ry=\"18\"/>\n<text text-anchor=\"middle\" x=\"217\" y=\"-158.3\" font-family=\"Times,serif\" font-size=\"14.00\" fill=\"#000000\">2</text>\n</g>\n<!-- 2&#45;&#45;4 -->\n<g id=\"edge6\" class=\"edge\">\n<title>2&#45;&#45;4</title>\n<path fill=\"none\" stroke=\"#000000\" d=\"M214.9813,-143.8314C213.7778,-133 212.2542,-119.2876 211.0459,-108.4133\"/>\n</g>\n<!-- 2&#45;&#45;5 -->\n<g id=\"edge7\" class=\"edge\">\n<title>2&#45;&#45;5</title>\n<path fill=\"none\" stroke=\"#000000\" d=\"M200.8108,-147.4297C186.9312,-134.938 167.0378,-117.034 153.1651,-104.5486\"/>\n</g>\n<!-- 2&#45;&#45;6 -->\n<g id=\"edge8\" class=\"edge\">\n<title>2&#45;&#45;6</title>\n<path fill=\"none\" stroke=\"#000000\" d=\"M229.2309,-145.7927C241.5821,-127.2948 257.2212,-96.4424 245,-72 234.7979,-51.5959 212.8141,-36.9014 195.8054,-28.0405\"/>\n</g>\n</g>\n</svg>\n"
          },
          "metadata": {
            "tags": []
          },
          "execution_count": 106
        }
      ]
    },
    {
      "cell_type": "code",
      "metadata": {
        "colab": {
          "base_uri": "https://localhost:8080/",
          "height": 313
        },
        "id": "PnFMja0JZTJ-",
        "outputId": "47374d36-70dc-41c3-9fdb-1389fe5af8da"
      },
      "source": [
        "def bfsAM(G, s):\n",
        "  n = len(G)\n",
        "  queue = [s]\n",
        "  path = [-1]*n\n",
        "  visited = [False]*n\n",
        "  visited[s] = True\n",
        "\n",
        "  while queue:\n",
        "    u = queue[0]\n",
        "    for v in range(n):\n",
        "      if G[u][v] == 1 and not visited[v]:\n",
        "        visited[v] = True\n",
        "        path[v] = u\n",
        "        queue.append(v)\n",
        "\n",
        "    del queue[0]\n",
        "\n",
        "  return path\n",
        "\n",
        "path = bfsAM(G, 5)\n",
        "print(path)\n",
        "gs.path2gv(path)"
      ],
      "execution_count": 107,
      "outputs": [
        {
          "output_type": "stream",
          "text": [
            "[3, 5, 5, 1, 2, -1, 5, 5]\n"
          ],
          "name": "stdout"
        },
        {
          "output_type": "execute_result",
          "data": {
            "text/plain": [
              "<graphviz.dot.Digraph at 0x7f2f26125e50>"
            ],
            "image/svg+xml": "<?xml version=\"1.0\" encoding=\"UTF-8\" standalone=\"no\"?>\n<!DOCTYPE svg PUBLIC \"-//W3C//DTD SVG 1.1//EN\"\n \"http://www.w3.org/Graphics/SVG/1.1/DTD/svg11.dtd\">\n<!-- Generated by graphviz version 2.40.1 (20161225.0304)\n -->\n<!-- Title: G Pages: 1 -->\n<svg width=\"332pt\" height=\"206pt\"\n viewBox=\"0.00 0.00 332.00 206.00\" xmlns=\"http://www.w3.org/2000/svg\" xmlns:xlink=\"http://www.w3.org/1999/xlink\">\n<g id=\"graph0\" class=\"graph\" transform=\"scale(1 1) rotate(0) translate(4 202)\">\n<title>G</title>\n<polygon fill=\"#ffffff\" stroke=\"transparent\" points=\"-4,4 -4,-202 328,-202 328,4 -4,4\"/>\n<!-- 0 -->\n<g id=\"node1\" class=\"node\">\n<title>0</title>\n<ellipse fill=\"none\" stroke=\"#000000\" cx=\"297\" cy=\"-180\" rx=\"27\" ry=\"18\"/>\n<text text-anchor=\"middle\" x=\"297\" y=\"-176.3\" font-family=\"Times,serif\" font-size=\"14.00\" fill=\"#000000\">0</text>\n</g>\n<!-- 1 -->\n<g id=\"node2\" class=\"node\">\n<title>1</title>\n<ellipse fill=\"none\" stroke=\"#000000\" cx=\"117\" cy=\"-180\" rx=\"27\" ry=\"18\"/>\n<text text-anchor=\"middle\" x=\"117\" y=\"-176.3\" font-family=\"Times,serif\" font-size=\"14.00\" fill=\"#000000\">1</text>\n</g>\n<!-- 3 -->\n<g id=\"node4\" class=\"node\">\n<title>3</title>\n<ellipse fill=\"none\" stroke=\"#000000\" cx=\"207\" cy=\"-180\" rx=\"27\" ry=\"18\"/>\n<text text-anchor=\"middle\" x=\"207\" y=\"-176.3\" font-family=\"Times,serif\" font-size=\"14.00\" fill=\"#000000\">3</text>\n</g>\n<!-- 1&#45;&gt;3 -->\n<g id=\"edge4\" class=\"edge\">\n<title>1&#45;&gt;3</title>\n<path fill=\"none\" stroke=\"#000000\" d=\"M144.003,-180C152.0277,-180 160.9665,-180 169.5309,-180\"/>\n<polygon fill=\"#000000\" stroke=\"#000000\" points=\"169.7051,-183.5001 179.705,-180 169.705,-176.5001 169.7051,-183.5001\"/>\n</g>\n<!-- 2 -->\n<g id=\"node3\" class=\"node\">\n<title>2</title>\n<ellipse fill=\"none\" stroke=\"#000000\" cx=\"117\" cy=\"-126\" rx=\"27\" ry=\"18\"/>\n<text text-anchor=\"middle\" x=\"117\" y=\"-122.3\" font-family=\"Times,serif\" font-size=\"14.00\" fill=\"#000000\">2</text>\n</g>\n<!-- 4 -->\n<g id=\"node5\" class=\"node\">\n<title>4</title>\n<ellipse fill=\"none\" stroke=\"#000000\" cx=\"207\" cy=\"-126\" rx=\"27\" ry=\"18\"/>\n<text text-anchor=\"middle\" x=\"207\" y=\"-122.3\" font-family=\"Times,serif\" font-size=\"14.00\" fill=\"#000000\">4</text>\n</g>\n<!-- 2&#45;&gt;4 -->\n<g id=\"edge5\" class=\"edge\">\n<title>2&#45;&gt;4</title>\n<path fill=\"none\" stroke=\"#000000\" d=\"M144.003,-126C152.0277,-126 160.9665,-126 169.5309,-126\"/>\n<polygon fill=\"#000000\" stroke=\"#000000\" points=\"169.7051,-129.5001 179.705,-126 169.705,-122.5001 169.7051,-129.5001\"/>\n</g>\n<!-- 3&#45;&gt;0 -->\n<g id=\"edge1\" class=\"edge\">\n<title>3&#45;&gt;0</title>\n<path fill=\"none\" stroke=\"#000000\" d=\"M234.003,-180C242.0277,-180 250.9665,-180 259.5309,-180\"/>\n<polygon fill=\"#000000\" stroke=\"#000000\" points=\"259.7051,-183.5001 269.705,-180 259.705,-176.5001 259.7051,-183.5001\"/>\n</g>\n<!-- 5 -->\n<g id=\"node6\" class=\"node\">\n<title>5</title>\n<ellipse fill=\"none\" stroke=\"#000000\" cx=\"27\" cy=\"-99\" rx=\"27\" ry=\"18\"/>\n<text text-anchor=\"middle\" x=\"27\" y=\"-95.3\" font-family=\"Times,serif\" font-size=\"14.00\" fill=\"#000000\">5</text>\n</g>\n<!-- 5&#45;&gt;1 -->\n<g id=\"edge2\" class=\"edge\">\n<title>5&#45;&gt;1</title>\n<path fill=\"none\" stroke=\"#000000\" d=\"M43.0902,-113.4812C56.9542,-125.9587 77.1669,-144.1502 92.9519,-158.3567\"/>\n<polygon fill=\"#000000\" stroke=\"#000000\" points=\"90.9713,-161.283 100.7457,-165.3711 95.6541,-156.0799 90.9713,-161.283\"/>\n</g>\n<!-- 5&#45;&gt;2 -->\n<g id=\"edge3\" class=\"edge\">\n<title>5&#45;&gt;2</title>\n<path fill=\"none\" stroke=\"#000000\" d=\"M52.07,-106.521C61.5102,-109.3531 72.4169,-112.6251 82.564,-115.6692\"/>\n<polygon fill=\"#000000\" stroke=\"#000000\" points=\"81.7915,-119.0915 92.3755,-118.6126 83.803,-112.3867 81.7915,-119.0915\"/>\n</g>\n<!-- 6 -->\n<g id=\"node7\" class=\"node\">\n<title>6</title>\n<ellipse fill=\"none\" stroke=\"#000000\" cx=\"117\" cy=\"-72\" rx=\"27\" ry=\"18\"/>\n<text text-anchor=\"middle\" x=\"117\" y=\"-68.3\" font-family=\"Times,serif\" font-size=\"14.00\" fill=\"#000000\">6</text>\n</g>\n<!-- 5&#45;&gt;6 -->\n<g id=\"edge6\" class=\"edge\">\n<title>5&#45;&gt;6</title>\n<path fill=\"none\" stroke=\"#000000\" d=\"M52.07,-91.479C61.5102,-88.6469 72.4169,-85.3749 82.564,-82.3308\"/>\n<polygon fill=\"#000000\" stroke=\"#000000\" points=\"83.803,-85.6133 92.3755,-79.3874 81.7915,-78.9085 83.803,-85.6133\"/>\n</g>\n<!-- 7 -->\n<g id=\"node8\" class=\"node\">\n<title>7</title>\n<ellipse fill=\"none\" stroke=\"#000000\" cx=\"117\" cy=\"-18\" rx=\"27\" ry=\"18\"/>\n<text text-anchor=\"middle\" x=\"117\" y=\"-14.3\" font-family=\"Times,serif\" font-size=\"14.00\" fill=\"#000000\">7</text>\n</g>\n<!-- 5&#45;&gt;7 -->\n<g id=\"edge7\" class=\"edge\">\n<title>5&#45;&gt;7</title>\n<path fill=\"none\" stroke=\"#000000\" d=\"M43.0902,-84.5188C56.9542,-72.0413 77.1669,-53.8498 92.9519,-39.6433\"/>\n<polygon fill=\"#000000\" stroke=\"#000000\" points=\"95.6541,-41.9201 100.7457,-32.6289 90.9713,-36.717 95.6541,-41.9201\"/>\n</g>\n</g>\n</svg>\n"
          },
          "metadata": {
            "tags": []
          },
          "execution_count": 107
        }
      ]
    },
    {
      "cell_type": "markdown",
      "metadata": {
        "id": "AFU7RFjLaGLt"
      },
      "source": [
        "ANOTHER BFS FOR ADJ LIST"
      ]
    },
    {
      "cell_type": "code",
      "metadata": {
        "colab": {
          "base_uri": "https://localhost:8080/",
          "height": 313
        },
        "id": "BlxHd1iUZ4ph",
        "outputId": "842954cf-a654-428b-a527-ee3fb49b6eb1"
      },
      "source": [
        "G = [[3, 4],\n",
        "     [3, 5, 6],\n",
        "     [4, 5, 6],\n",
        "     [0, 1, 7],\n",
        "     [0, 2, 6],\n",
        "     [1, 2, 6, 7],\n",
        "     [1, 2, 4, 5],\n",
        "     [3, 5]]\n",
        "\n",
        "def bfsAL(G, s):\n",
        "  n = len(G)\n",
        "  queue = [s]\n",
        "  path = [-1]*n\n",
        "  visited = [False]*n\n",
        "  visited[s] = True\n",
        "\n",
        "  while queue:\n",
        "    u = queue[0]\n",
        "    for v in G[u]:\n",
        "      if not visited[v]:\n",
        "        visited[v] = True\n",
        "        path[v] = u\n",
        "        queue.append(v)\n",
        "\n",
        "    del queue[0]\n",
        "\n",
        "  return path\n",
        "\n",
        "path = bfsAL(G, 5)\n",
        "print(path)\n",
        "gs.path2gv(path)"
      ],
      "execution_count": 108,
      "outputs": [
        {
          "output_type": "stream",
          "text": [
            "[3, 5, 5, 1, 2, -1, 5, 5]\n"
          ],
          "name": "stdout"
        },
        {
          "output_type": "execute_result",
          "data": {
            "text/plain": [
              "<graphviz.dot.Digraph at 0x7f2f26157cd0>"
            ],
            "image/svg+xml": "<?xml version=\"1.0\" encoding=\"UTF-8\" standalone=\"no\"?>\n<!DOCTYPE svg PUBLIC \"-//W3C//DTD SVG 1.1//EN\"\n \"http://www.w3.org/Graphics/SVG/1.1/DTD/svg11.dtd\">\n<!-- Generated by graphviz version 2.40.1 (20161225.0304)\n -->\n<!-- Title: G Pages: 1 -->\n<svg width=\"332pt\" height=\"206pt\"\n viewBox=\"0.00 0.00 332.00 206.00\" xmlns=\"http://www.w3.org/2000/svg\" xmlns:xlink=\"http://www.w3.org/1999/xlink\">\n<g id=\"graph0\" class=\"graph\" transform=\"scale(1 1) rotate(0) translate(4 202)\">\n<title>G</title>\n<polygon fill=\"#ffffff\" stroke=\"transparent\" points=\"-4,4 -4,-202 328,-202 328,4 -4,4\"/>\n<!-- 0 -->\n<g id=\"node1\" class=\"node\">\n<title>0</title>\n<ellipse fill=\"none\" stroke=\"#000000\" cx=\"297\" cy=\"-180\" rx=\"27\" ry=\"18\"/>\n<text text-anchor=\"middle\" x=\"297\" y=\"-176.3\" font-family=\"Times,serif\" font-size=\"14.00\" fill=\"#000000\">0</text>\n</g>\n<!-- 1 -->\n<g id=\"node2\" class=\"node\">\n<title>1</title>\n<ellipse fill=\"none\" stroke=\"#000000\" cx=\"117\" cy=\"-180\" rx=\"27\" ry=\"18\"/>\n<text text-anchor=\"middle\" x=\"117\" y=\"-176.3\" font-family=\"Times,serif\" font-size=\"14.00\" fill=\"#000000\">1</text>\n</g>\n<!-- 3 -->\n<g id=\"node4\" class=\"node\">\n<title>3</title>\n<ellipse fill=\"none\" stroke=\"#000000\" cx=\"207\" cy=\"-180\" rx=\"27\" ry=\"18\"/>\n<text text-anchor=\"middle\" x=\"207\" y=\"-176.3\" font-family=\"Times,serif\" font-size=\"14.00\" fill=\"#000000\">3</text>\n</g>\n<!-- 1&#45;&gt;3 -->\n<g id=\"edge4\" class=\"edge\">\n<title>1&#45;&gt;3</title>\n<path fill=\"none\" stroke=\"#000000\" d=\"M144.003,-180C152.0277,-180 160.9665,-180 169.5309,-180\"/>\n<polygon fill=\"#000000\" stroke=\"#000000\" points=\"169.7051,-183.5001 179.705,-180 169.705,-176.5001 169.7051,-183.5001\"/>\n</g>\n<!-- 2 -->\n<g id=\"node3\" class=\"node\">\n<title>2</title>\n<ellipse fill=\"none\" stroke=\"#000000\" cx=\"117\" cy=\"-126\" rx=\"27\" ry=\"18\"/>\n<text text-anchor=\"middle\" x=\"117\" y=\"-122.3\" font-family=\"Times,serif\" font-size=\"14.00\" fill=\"#000000\">2</text>\n</g>\n<!-- 4 -->\n<g id=\"node5\" class=\"node\">\n<title>4</title>\n<ellipse fill=\"none\" stroke=\"#000000\" cx=\"207\" cy=\"-126\" rx=\"27\" ry=\"18\"/>\n<text text-anchor=\"middle\" x=\"207\" y=\"-122.3\" font-family=\"Times,serif\" font-size=\"14.00\" fill=\"#000000\">4</text>\n</g>\n<!-- 2&#45;&gt;4 -->\n<g id=\"edge5\" class=\"edge\">\n<title>2&#45;&gt;4</title>\n<path fill=\"none\" stroke=\"#000000\" d=\"M144.003,-126C152.0277,-126 160.9665,-126 169.5309,-126\"/>\n<polygon fill=\"#000000\" stroke=\"#000000\" points=\"169.7051,-129.5001 179.705,-126 169.705,-122.5001 169.7051,-129.5001\"/>\n</g>\n<!-- 3&#45;&gt;0 -->\n<g id=\"edge1\" class=\"edge\">\n<title>3&#45;&gt;0</title>\n<path fill=\"none\" stroke=\"#000000\" d=\"M234.003,-180C242.0277,-180 250.9665,-180 259.5309,-180\"/>\n<polygon fill=\"#000000\" stroke=\"#000000\" points=\"259.7051,-183.5001 269.705,-180 259.705,-176.5001 259.7051,-183.5001\"/>\n</g>\n<!-- 5 -->\n<g id=\"node6\" class=\"node\">\n<title>5</title>\n<ellipse fill=\"none\" stroke=\"#000000\" cx=\"27\" cy=\"-99\" rx=\"27\" ry=\"18\"/>\n<text text-anchor=\"middle\" x=\"27\" y=\"-95.3\" font-family=\"Times,serif\" font-size=\"14.00\" fill=\"#000000\">5</text>\n</g>\n<!-- 5&#45;&gt;1 -->\n<g id=\"edge2\" class=\"edge\">\n<title>5&#45;&gt;1</title>\n<path fill=\"none\" stroke=\"#000000\" d=\"M43.0902,-113.4812C56.9542,-125.9587 77.1669,-144.1502 92.9519,-158.3567\"/>\n<polygon fill=\"#000000\" stroke=\"#000000\" points=\"90.9713,-161.283 100.7457,-165.3711 95.6541,-156.0799 90.9713,-161.283\"/>\n</g>\n<!-- 5&#45;&gt;2 -->\n<g id=\"edge3\" class=\"edge\">\n<title>5&#45;&gt;2</title>\n<path fill=\"none\" stroke=\"#000000\" d=\"M52.07,-106.521C61.5102,-109.3531 72.4169,-112.6251 82.564,-115.6692\"/>\n<polygon fill=\"#000000\" stroke=\"#000000\" points=\"81.7915,-119.0915 92.3755,-118.6126 83.803,-112.3867 81.7915,-119.0915\"/>\n</g>\n<!-- 6 -->\n<g id=\"node7\" class=\"node\">\n<title>6</title>\n<ellipse fill=\"none\" stroke=\"#000000\" cx=\"117\" cy=\"-72\" rx=\"27\" ry=\"18\"/>\n<text text-anchor=\"middle\" x=\"117\" y=\"-68.3\" font-family=\"Times,serif\" font-size=\"14.00\" fill=\"#000000\">6</text>\n</g>\n<!-- 5&#45;&gt;6 -->\n<g id=\"edge6\" class=\"edge\">\n<title>5&#45;&gt;6</title>\n<path fill=\"none\" stroke=\"#000000\" d=\"M52.07,-91.479C61.5102,-88.6469 72.4169,-85.3749 82.564,-82.3308\"/>\n<polygon fill=\"#000000\" stroke=\"#000000\" points=\"83.803,-85.6133 92.3755,-79.3874 81.7915,-78.9085 83.803,-85.6133\"/>\n</g>\n<!-- 7 -->\n<g id=\"node8\" class=\"node\">\n<title>7</title>\n<ellipse fill=\"none\" stroke=\"#000000\" cx=\"117\" cy=\"-18\" rx=\"27\" ry=\"18\"/>\n<text text-anchor=\"middle\" x=\"117\" y=\"-14.3\" font-family=\"Times,serif\" font-size=\"14.00\" fill=\"#000000\">7</text>\n</g>\n<!-- 5&#45;&gt;7 -->\n<g id=\"edge7\" class=\"edge\">\n<title>5&#45;&gt;7</title>\n<path fill=\"none\" stroke=\"#000000\" d=\"M43.0902,-84.5188C56.9542,-72.0413 77.1669,-53.8498 92.9519,-39.6433\"/>\n<polygon fill=\"#000000\" stroke=\"#000000\" points=\"95.6541,-41.9201 100.7457,-32.6289 90.9713,-36.717 95.6541,-41.9201\"/>\n</g>\n</g>\n</svg>\n"
          },
          "metadata": {
            "tags": []
          },
          "execution_count": 108
        }
      ]
    },
    {
      "cell_type": "markdown",
      "metadata": {
        "id": "BXM5e8ONa7Ud"
      },
      "source": [
        "BFS on NETWORKX GRAPH"
      ]
    },
    {
      "cell_type": "code",
      "metadata": {
        "colab": {
          "base_uri": "https://localhost:8080/"
        },
        "id": "pfrAUVxgbNpB",
        "outputId": "1a72a059-087c-4c98-ab45-7d43c1b4ce2b"
      },
      "source": [
        "%%file 3.adjlist\n",
        "0 3 4\n",
        "1 3 5 6\n",
        "2 4 5 6\n",
        "3 0 1 7\n",
        "4 0 2 6\n",
        "5 1 2 6 7\n",
        "6 1 2 4 5\n",
        "7 3 5"
      ],
      "execution_count": 110,
      "outputs": [
        {
          "output_type": "stream",
          "text": [
            "Writing 3.adjlist\n"
          ],
          "name": "stdout"
        }
      ]
    },
    {
      "cell_type": "code",
      "metadata": {
        "colab": {
          "base_uri": "https://localhost:8080/",
          "height": 560
        },
        "id": "pwRoT9JXbUky",
        "outputId": "de9eee20-c4ac-49de-8a91-19f6a49ee49d"
      },
      "source": [
        "G = nx.read_adjlist('3.adjlist')\n",
        "as_gv(G)"
      ],
      "execution_count": 114,
      "outputs": [
        {
          "output_type": "execute_result",
          "data": {
            "text/plain": [
              "<graphviz.dot.Graph at 0x7f2f26134290>"
            ],
            "image/svg+xml": "<?xml version=\"1.0\" encoding=\"UTF-8\" standalone=\"no\"?>\n<!DOCTYPE svg PUBLIC \"-//W3C//DTD SVG 1.1//EN\"\n \"http://www.w3.org/Graphics/SVG/1.1/DTD/svg11.dtd\">\n<!-- Generated by graphviz version 2.40.1 (20161225.0304)\n -->\n<!-- Title: %3 Pages: 1 -->\n<svg width=\"227pt\" height=\"404pt\"\n viewBox=\"0.00 0.00 227.00 404.00\" xmlns=\"http://www.w3.org/2000/svg\" xmlns:xlink=\"http://www.w3.org/1999/xlink\">\n<g id=\"graph0\" class=\"graph\" transform=\"scale(1 1) rotate(0) translate(4 400)\">\n<title>%3</title>\n<polygon fill=\"#ffffff\" stroke=\"transparent\" points=\"-4,4 -4,-400 223,-400 223,4 -4,4\"/>\n<!-- 0 -->\n<g id=\"node1\" class=\"node\">\n<title>0</title>\n<ellipse fill=\"none\" stroke=\"#000000\" cx=\"123\" cy=\"-378\" rx=\"27\" ry=\"18\"/>\n<text text-anchor=\"middle\" x=\"123\" y=\"-374.3\" font-family=\"Times,serif\" font-size=\"14.00\" fill=\"#000000\">0</text>\n</g>\n<!-- 3 -->\n<g id=\"node2\" class=\"node\">\n<title>3</title>\n<ellipse fill=\"none\" stroke=\"#000000\" cx=\"96\" cy=\"-306\" rx=\"27\" ry=\"18\"/>\n<text text-anchor=\"middle\" x=\"96\" y=\"-302.3\" font-family=\"Times,serif\" font-size=\"14.00\" fill=\"#000000\">3</text>\n</g>\n<!-- 0&#45;&#45;3 -->\n<g id=\"edge1\" class=\"edge\">\n<title>0&#45;&#45;3</title>\n<path fill=\"none\" stroke=\"#000000\" d=\"M116.3258,-360.2022C112.1407,-349.0419 106.7679,-334.7143 102.5974,-323.593\"/>\n</g>\n<!-- 4 -->\n<g id=\"node3\" class=\"node\">\n<title>4</title>\n<ellipse fill=\"none\" stroke=\"#000000\" cx=\"192\" cy=\"-162\" rx=\"27\" ry=\"18\"/>\n<text text-anchor=\"middle\" x=\"192\" y=\"-158.3\" font-family=\"Times,serif\" font-size=\"14.00\" fill=\"#000000\">4</text>\n</g>\n<!-- 0&#45;&#45;4 -->\n<g id=\"edge2\" class=\"edge\">\n<title>0&#45;&#45;4</title>\n<path fill=\"none\" stroke=\"#000000\" d=\"M128.6466,-360.3238C141.6175,-319.7191 173.4194,-220.1653 186.3722,-179.6175\"/>\n</g>\n<!-- 1 -->\n<g id=\"node4\" class=\"node\">\n<title>1</title>\n<ellipse fill=\"none\" stroke=\"#000000\" cx=\"96\" cy=\"-234\" rx=\"27\" ry=\"18\"/>\n<text text-anchor=\"middle\" x=\"96\" y=\"-230.3\" font-family=\"Times,serif\" font-size=\"14.00\" fill=\"#000000\">1</text>\n</g>\n<!-- 3&#45;&#45;1 -->\n<g id=\"edge3\" class=\"edge\">\n<title>3&#45;&#45;1</title>\n<path fill=\"none\" stroke=\"#000000\" d=\"M96,-287.8314C96,-277 96,-263.2876 96,-252.4133\"/>\n</g>\n<!-- 7 -->\n<g id=\"node5\" class=\"node\">\n<title>7</title>\n<ellipse fill=\"none\" stroke=\"#000000\" cx=\"27\" cy=\"-90\" rx=\"27\" ry=\"18\"/>\n<text text-anchor=\"middle\" x=\"27\" y=\"-86.3\" font-family=\"Times,serif\" font-size=\"14.00\" fill=\"#000000\">7</text>\n</g>\n<!-- 3&#45;&#45;7 -->\n<g id=\"edge4\" class=\"edge\">\n<title>3&#45;&#45;7</title>\n<path fill=\"none\" stroke=\"#000000\" d=\"M82.8668,-289.9296C75.1087,-279.6585 65.7161,-265.7306 60,-252 39.3717,-202.4485 31.2718,-138.8479 28.404,-108.163\"/>\n</g>\n<!-- 2 -->\n<g id=\"node6\" class=\"node\">\n<title>2</title>\n<ellipse fill=\"none\" stroke=\"#000000\" cx=\"137\" cy=\"-18\" rx=\"27\" ry=\"18\"/>\n<text text-anchor=\"middle\" x=\"137\" y=\"-14.3\" font-family=\"Times,serif\" font-size=\"14.00\" fill=\"#000000\">2</text>\n</g>\n<!-- 4&#45;&#45;2 -->\n<g id=\"edge5\" class=\"edge\">\n<title>4&#45;&#45;2</title>\n<path fill=\"none\" stroke=\"#000000\" d=\"M190.2095,-143.8083C187.9112,-125.1875 182.9655,-95.7008 173,-72 167.2352,-58.2898 157.8441,-44.3613 150.0989,-34.0847\"/>\n</g>\n<!-- 6 -->\n<g id=\"node7\" class=\"node\">\n<title>6</title>\n<ellipse fill=\"none\" stroke=\"#000000\" cx=\"137\" cy=\"-90\" rx=\"27\" ry=\"18\"/>\n<text text-anchor=\"middle\" x=\"137\" y=\"-86.3\" font-family=\"Times,serif\" font-size=\"14.00\" fill=\"#000000\">6</text>\n</g>\n<!-- 4&#45;&#45;6 -->\n<g id=\"edge6\" class=\"edge\">\n<title>4&#45;&#45;6</title>\n<path fill=\"none\" stroke=\"#000000\" d=\"M179.5196,-145.6621C170.5186,-133.8788 158.4207,-118.0416 149.431,-106.2733\"/>\n</g>\n<!-- 1&#45;&#45;6 -->\n<g id=\"edge8\" class=\"edge\">\n<title>1&#45;&#45;6</title>\n<path fill=\"none\" stroke=\"#000000\" d=\"M103.939,-216.7768C108.5298,-206.3107 114.1428,-192.5822 118,-180 125.489,-155.5711 131.0386,-126.5221 134.1477,-108.1706\"/>\n</g>\n<!-- 5 -->\n<g id=\"node8\" class=\"node\">\n<title>5</title>\n<ellipse fill=\"none\" stroke=\"#000000\" cx=\"82\" cy=\"-162\" rx=\"27\" ry=\"18\"/>\n<text text-anchor=\"middle\" x=\"82\" y=\"-158.3\" font-family=\"Times,serif\" font-size=\"14.00\" fill=\"#000000\">5</text>\n</g>\n<!-- 1&#45;&#45;5 -->\n<g id=\"edge7\" class=\"edge\">\n<title>1&#45;&#45;5</title>\n<path fill=\"none\" stroke=\"#000000\" d=\"M92.4672,-215.8314C90.3287,-204.8334 87.6126,-190.865 85.4832,-179.9134\"/>\n</g>\n<!-- 6&#45;&#45;2 -->\n<g id=\"edge12\" class=\"edge\">\n<title>6&#45;&#45;2</title>\n<path fill=\"none\" stroke=\"#000000\" d=\"M137,-71.8314C137,-61 137,-47.2876 137,-36.4133\"/>\n</g>\n<!-- 5&#45;&#45;7 -->\n<g id=\"edge11\" class=\"edge\">\n<title>5&#45;&#45;7</title>\n<path fill=\"none\" stroke=\"#000000\" d=\"M69.5196,-145.6621C60.5186,-133.8788 48.4207,-118.0416 39.431,-106.2733\"/>\n</g>\n<!-- 5&#45;&#45;2 -->\n<g id=\"edge9\" class=\"edge\">\n<title>5&#45;&#45;2</title>\n<path fill=\"none\" stroke=\"#000000\" d=\"M83.7905,-143.8083C86.0888,-125.1875 91.0345,-95.7008 101,-72 106.7648,-58.2898 116.1559,-44.3613 123.9011,-34.0847\"/>\n</g>\n<!-- 5&#45;&#45;6 -->\n<g id=\"edge10\" class=\"edge\">\n<title>5&#45;&#45;6</title>\n<path fill=\"none\" stroke=\"#000000\" d=\"M94.4804,-145.6621C103.4814,-133.8788 115.5793,-118.0416 124.569,-106.2733\"/>\n</g>\n</g>\n</svg>\n"
          },
          "metadata": {
            "tags": []
          },
          "execution_count": 114
        }
      ]
    },
    {
      "cell_type": "code",
      "metadata": {
        "colab": {
          "base_uri": "https://localhost:8080/",
          "height": 313
        },
        "id": "-yYA_iHba_SV",
        "outputId": "7856d25f-805d-4041-9aac-54164339be9e"
      },
      "source": [
        "def bfs(G, s):\n",
        "  queue = [s]\n",
        "  for u in G.nodes:\n",
        "    G.nodes[u]['visited'] = False\n",
        "    G.nodes[u]['π'] = -1\n",
        "  G.nodes[s]['visited'] = True\n",
        "  while queue:\n",
        "    u = queue[0]\n",
        "\n",
        "    for v in G.neighbors(u):\n",
        "      if not G.nodes[v]['visited']:\n",
        "        G.nodes[v]['visited'] = True\n",
        "        G.nodes[v]['π'] = u\n",
        "        queue.append(v)\n",
        "\n",
        "    del queue[0]\n",
        "\n",
        "\n",
        "bfs(G, '5')\n",
        "path = [0]*G.number_of_nodes()\n",
        "for v, info in G.nodes.data():\n",
        "  path[int(v)] = int(info['π'])\n",
        "\n",
        "print(path)\n",
        "gs.path2gv(path)"
      ],
      "execution_count": 115,
      "outputs": [
        {
          "output_type": "stream",
          "text": [
            "[3, 5, 5, 1, 2, -1, 5, 5]\n"
          ],
          "name": "stdout"
        },
        {
          "output_type": "execute_result",
          "data": {
            "text/plain": [
              "<graphviz.dot.Digraph at 0x7f2f261370d0>"
            ],
            "image/svg+xml": "<?xml version=\"1.0\" encoding=\"UTF-8\" standalone=\"no\"?>\n<!DOCTYPE svg PUBLIC \"-//W3C//DTD SVG 1.1//EN\"\n \"http://www.w3.org/Graphics/SVG/1.1/DTD/svg11.dtd\">\n<!-- Generated by graphviz version 2.40.1 (20161225.0304)\n -->\n<!-- Title: G Pages: 1 -->\n<svg width=\"332pt\" height=\"206pt\"\n viewBox=\"0.00 0.00 332.00 206.00\" xmlns=\"http://www.w3.org/2000/svg\" xmlns:xlink=\"http://www.w3.org/1999/xlink\">\n<g id=\"graph0\" class=\"graph\" transform=\"scale(1 1) rotate(0) translate(4 202)\">\n<title>G</title>\n<polygon fill=\"#ffffff\" stroke=\"transparent\" points=\"-4,4 -4,-202 328,-202 328,4 -4,4\"/>\n<!-- 0 -->\n<g id=\"node1\" class=\"node\">\n<title>0</title>\n<ellipse fill=\"none\" stroke=\"#000000\" cx=\"297\" cy=\"-180\" rx=\"27\" ry=\"18\"/>\n<text text-anchor=\"middle\" x=\"297\" y=\"-176.3\" font-family=\"Times,serif\" font-size=\"14.00\" fill=\"#000000\">0</text>\n</g>\n<!-- 1 -->\n<g id=\"node2\" class=\"node\">\n<title>1</title>\n<ellipse fill=\"none\" stroke=\"#000000\" cx=\"117\" cy=\"-180\" rx=\"27\" ry=\"18\"/>\n<text text-anchor=\"middle\" x=\"117\" y=\"-176.3\" font-family=\"Times,serif\" font-size=\"14.00\" fill=\"#000000\">1</text>\n</g>\n<!-- 3 -->\n<g id=\"node4\" class=\"node\">\n<title>3</title>\n<ellipse fill=\"none\" stroke=\"#000000\" cx=\"207\" cy=\"-180\" rx=\"27\" ry=\"18\"/>\n<text text-anchor=\"middle\" x=\"207\" y=\"-176.3\" font-family=\"Times,serif\" font-size=\"14.00\" fill=\"#000000\">3</text>\n</g>\n<!-- 1&#45;&gt;3 -->\n<g id=\"edge4\" class=\"edge\">\n<title>1&#45;&gt;3</title>\n<path fill=\"none\" stroke=\"#000000\" d=\"M144.003,-180C152.0277,-180 160.9665,-180 169.5309,-180\"/>\n<polygon fill=\"#000000\" stroke=\"#000000\" points=\"169.7051,-183.5001 179.705,-180 169.705,-176.5001 169.7051,-183.5001\"/>\n</g>\n<!-- 2 -->\n<g id=\"node3\" class=\"node\">\n<title>2</title>\n<ellipse fill=\"none\" stroke=\"#000000\" cx=\"117\" cy=\"-126\" rx=\"27\" ry=\"18\"/>\n<text text-anchor=\"middle\" x=\"117\" y=\"-122.3\" font-family=\"Times,serif\" font-size=\"14.00\" fill=\"#000000\">2</text>\n</g>\n<!-- 4 -->\n<g id=\"node5\" class=\"node\">\n<title>4</title>\n<ellipse fill=\"none\" stroke=\"#000000\" cx=\"207\" cy=\"-126\" rx=\"27\" ry=\"18\"/>\n<text text-anchor=\"middle\" x=\"207\" y=\"-122.3\" font-family=\"Times,serif\" font-size=\"14.00\" fill=\"#000000\">4</text>\n</g>\n<!-- 2&#45;&gt;4 -->\n<g id=\"edge5\" class=\"edge\">\n<title>2&#45;&gt;4</title>\n<path fill=\"none\" stroke=\"#000000\" d=\"M144.003,-126C152.0277,-126 160.9665,-126 169.5309,-126\"/>\n<polygon fill=\"#000000\" stroke=\"#000000\" points=\"169.7051,-129.5001 179.705,-126 169.705,-122.5001 169.7051,-129.5001\"/>\n</g>\n<!-- 3&#45;&gt;0 -->\n<g id=\"edge1\" class=\"edge\">\n<title>3&#45;&gt;0</title>\n<path fill=\"none\" stroke=\"#000000\" d=\"M234.003,-180C242.0277,-180 250.9665,-180 259.5309,-180\"/>\n<polygon fill=\"#000000\" stroke=\"#000000\" points=\"259.7051,-183.5001 269.705,-180 259.705,-176.5001 259.7051,-183.5001\"/>\n</g>\n<!-- 5 -->\n<g id=\"node6\" class=\"node\">\n<title>5</title>\n<ellipse fill=\"none\" stroke=\"#000000\" cx=\"27\" cy=\"-99\" rx=\"27\" ry=\"18\"/>\n<text text-anchor=\"middle\" x=\"27\" y=\"-95.3\" font-family=\"Times,serif\" font-size=\"14.00\" fill=\"#000000\">5</text>\n</g>\n<!-- 5&#45;&gt;1 -->\n<g id=\"edge2\" class=\"edge\">\n<title>5&#45;&gt;1</title>\n<path fill=\"none\" stroke=\"#000000\" d=\"M43.0902,-113.4812C56.9542,-125.9587 77.1669,-144.1502 92.9519,-158.3567\"/>\n<polygon fill=\"#000000\" stroke=\"#000000\" points=\"90.9713,-161.283 100.7457,-165.3711 95.6541,-156.0799 90.9713,-161.283\"/>\n</g>\n<!-- 5&#45;&gt;2 -->\n<g id=\"edge3\" class=\"edge\">\n<title>5&#45;&gt;2</title>\n<path fill=\"none\" stroke=\"#000000\" d=\"M52.07,-106.521C61.5102,-109.3531 72.4169,-112.6251 82.564,-115.6692\"/>\n<polygon fill=\"#000000\" stroke=\"#000000\" points=\"81.7915,-119.0915 92.3755,-118.6126 83.803,-112.3867 81.7915,-119.0915\"/>\n</g>\n<!-- 6 -->\n<g id=\"node7\" class=\"node\">\n<title>6</title>\n<ellipse fill=\"none\" stroke=\"#000000\" cx=\"117\" cy=\"-72\" rx=\"27\" ry=\"18\"/>\n<text text-anchor=\"middle\" x=\"117\" y=\"-68.3\" font-family=\"Times,serif\" font-size=\"14.00\" fill=\"#000000\">6</text>\n</g>\n<!-- 5&#45;&gt;6 -->\n<g id=\"edge6\" class=\"edge\">\n<title>5&#45;&gt;6</title>\n<path fill=\"none\" stroke=\"#000000\" d=\"M52.07,-91.479C61.5102,-88.6469 72.4169,-85.3749 82.564,-82.3308\"/>\n<polygon fill=\"#000000\" stroke=\"#000000\" points=\"83.803,-85.6133 92.3755,-79.3874 81.7915,-78.9085 83.803,-85.6133\"/>\n</g>\n<!-- 7 -->\n<g id=\"node8\" class=\"node\">\n<title>7</title>\n<ellipse fill=\"none\" stroke=\"#000000\" cx=\"117\" cy=\"-18\" rx=\"27\" ry=\"18\"/>\n<text text-anchor=\"middle\" x=\"117\" y=\"-14.3\" font-family=\"Times,serif\" font-size=\"14.00\" fill=\"#000000\">7</text>\n</g>\n<!-- 5&#45;&gt;7 -->\n<g id=\"edge7\" class=\"edge\">\n<title>5&#45;&gt;7</title>\n<path fill=\"none\" stroke=\"#000000\" d=\"M43.0902,-84.5188C56.9542,-72.0413 77.1669,-53.8498 92.9519,-39.6433\"/>\n<polygon fill=\"#000000\" stroke=\"#000000\" points=\"95.6541,-41.9201 100.7457,-32.6289 90.9713,-36.717 95.6541,-41.9201\"/>\n</g>\n</g>\n</svg>\n"
          },
          "metadata": {
            "tags": []
          },
          "execution_count": 115
        }
      ]
    },
    {
      "cell_type": "markdown",
      "metadata": {
        "id": "uemRzI7-gxd3"
      },
      "source": [
        "***DFS (DEPTH FIRST SEARCH)***"
      ]
    },
    {
      "cell_type": "code",
      "metadata": {
        "colab": {
          "base_uri": "https://localhost:8080/"
        },
        "id": "ABELfzaqg5qL",
        "outputId": "9af7cf0c-3c8a-42db-c843-00b6cac47415"
      },
      "source": [
        "%%file 4.adjlist\n",
        "0 3 4\n",
        "1 3 5 6\n",
        "2 4 5 6\n",
        "3 0 1 7\n",
        "4 0 2 6\n",
        "5 1 2 6 7\n",
        "6 1 2 4 5\n",
        "7 3 5"
      ],
      "execution_count": 116,
      "outputs": [
        {
          "output_type": "stream",
          "text": [
            "Writing 4.adjlist\n"
          ],
          "name": "stdout"
        }
      ]
    },
    {
      "cell_type": "code",
      "metadata": {
        "colab": {
          "base_uri": "https://localhost:8080/",
          "height": 560
        },
        "id": "TWv9_fLDlUQT",
        "outputId": "d7a11c2b-857d-433c-d12a-ba7521f17619"
      },
      "source": [
        "G = nx.read_adjlist('4.adjlist')\n",
        "as_gv(G)"
      ],
      "execution_count": 117,
      "outputs": [
        {
          "output_type": "execute_result",
          "data": {
            "text/plain": [
              "<graphviz.dot.Graph at 0x7f2f26144ed0>"
            ],
            "image/svg+xml": "<?xml version=\"1.0\" encoding=\"UTF-8\" standalone=\"no\"?>\n<!DOCTYPE svg PUBLIC \"-//W3C//DTD SVG 1.1//EN\"\n \"http://www.w3.org/Graphics/SVG/1.1/DTD/svg11.dtd\">\n<!-- Generated by graphviz version 2.40.1 (20161225.0304)\n -->\n<!-- Title: %3 Pages: 1 -->\n<svg width=\"227pt\" height=\"404pt\"\n viewBox=\"0.00 0.00 227.00 404.00\" xmlns=\"http://www.w3.org/2000/svg\" xmlns:xlink=\"http://www.w3.org/1999/xlink\">\n<g id=\"graph0\" class=\"graph\" transform=\"scale(1 1) rotate(0) translate(4 400)\">\n<title>%3</title>\n<polygon fill=\"#ffffff\" stroke=\"transparent\" points=\"-4,4 -4,-400 223,-400 223,4 -4,4\"/>\n<!-- 0 -->\n<g id=\"node1\" class=\"node\">\n<title>0</title>\n<ellipse fill=\"none\" stroke=\"#000000\" cx=\"123\" cy=\"-378\" rx=\"27\" ry=\"18\"/>\n<text text-anchor=\"middle\" x=\"123\" y=\"-374.3\" font-family=\"Times,serif\" font-size=\"14.00\" fill=\"#000000\">0</text>\n</g>\n<!-- 3 -->\n<g id=\"node2\" class=\"node\">\n<title>3</title>\n<ellipse fill=\"none\" stroke=\"#000000\" cx=\"96\" cy=\"-306\" rx=\"27\" ry=\"18\"/>\n<text text-anchor=\"middle\" x=\"96\" y=\"-302.3\" font-family=\"Times,serif\" font-size=\"14.00\" fill=\"#000000\">3</text>\n</g>\n<!-- 0&#45;&#45;3 -->\n<g id=\"edge1\" class=\"edge\">\n<title>0&#45;&#45;3</title>\n<path fill=\"none\" stroke=\"#000000\" d=\"M116.3258,-360.2022C112.1407,-349.0419 106.7679,-334.7143 102.5974,-323.593\"/>\n</g>\n<!-- 4 -->\n<g id=\"node3\" class=\"node\">\n<title>4</title>\n<ellipse fill=\"none\" stroke=\"#000000\" cx=\"192\" cy=\"-162\" rx=\"27\" ry=\"18\"/>\n<text text-anchor=\"middle\" x=\"192\" y=\"-158.3\" font-family=\"Times,serif\" font-size=\"14.00\" fill=\"#000000\">4</text>\n</g>\n<!-- 0&#45;&#45;4 -->\n<g id=\"edge2\" class=\"edge\">\n<title>0&#45;&#45;4</title>\n<path fill=\"none\" stroke=\"#000000\" d=\"M128.6466,-360.3238C141.6175,-319.7191 173.4194,-220.1653 186.3722,-179.6175\"/>\n</g>\n<!-- 1 -->\n<g id=\"node4\" class=\"node\">\n<title>1</title>\n<ellipse fill=\"none\" stroke=\"#000000\" cx=\"96\" cy=\"-234\" rx=\"27\" ry=\"18\"/>\n<text text-anchor=\"middle\" x=\"96\" y=\"-230.3\" font-family=\"Times,serif\" font-size=\"14.00\" fill=\"#000000\">1</text>\n</g>\n<!-- 3&#45;&#45;1 -->\n<g id=\"edge3\" class=\"edge\">\n<title>3&#45;&#45;1</title>\n<path fill=\"none\" stroke=\"#000000\" d=\"M96,-287.8314C96,-277 96,-263.2876 96,-252.4133\"/>\n</g>\n<!-- 7 -->\n<g id=\"node5\" class=\"node\">\n<title>7</title>\n<ellipse fill=\"none\" stroke=\"#000000\" cx=\"27\" cy=\"-90\" rx=\"27\" ry=\"18\"/>\n<text text-anchor=\"middle\" x=\"27\" y=\"-86.3\" font-family=\"Times,serif\" font-size=\"14.00\" fill=\"#000000\">7</text>\n</g>\n<!-- 3&#45;&#45;7 -->\n<g id=\"edge4\" class=\"edge\">\n<title>3&#45;&#45;7</title>\n<path fill=\"none\" stroke=\"#000000\" d=\"M82.8668,-289.9296C75.1087,-279.6585 65.7161,-265.7306 60,-252 39.3717,-202.4485 31.2718,-138.8479 28.404,-108.163\"/>\n</g>\n<!-- 2 -->\n<g id=\"node6\" class=\"node\">\n<title>2</title>\n<ellipse fill=\"none\" stroke=\"#000000\" cx=\"137\" cy=\"-18\" rx=\"27\" ry=\"18\"/>\n<text text-anchor=\"middle\" x=\"137\" y=\"-14.3\" font-family=\"Times,serif\" font-size=\"14.00\" fill=\"#000000\">2</text>\n</g>\n<!-- 4&#45;&#45;2 -->\n<g id=\"edge5\" class=\"edge\">\n<title>4&#45;&#45;2</title>\n<path fill=\"none\" stroke=\"#000000\" d=\"M190.2095,-143.8083C187.9112,-125.1875 182.9655,-95.7008 173,-72 167.2352,-58.2898 157.8441,-44.3613 150.0989,-34.0847\"/>\n</g>\n<!-- 6 -->\n<g id=\"node7\" class=\"node\">\n<title>6</title>\n<ellipse fill=\"none\" stroke=\"#000000\" cx=\"137\" cy=\"-90\" rx=\"27\" ry=\"18\"/>\n<text text-anchor=\"middle\" x=\"137\" y=\"-86.3\" font-family=\"Times,serif\" font-size=\"14.00\" fill=\"#000000\">6</text>\n</g>\n<!-- 4&#45;&#45;6 -->\n<g id=\"edge6\" class=\"edge\">\n<title>4&#45;&#45;6</title>\n<path fill=\"none\" stroke=\"#000000\" d=\"M179.5196,-145.6621C170.5186,-133.8788 158.4207,-118.0416 149.431,-106.2733\"/>\n</g>\n<!-- 1&#45;&#45;6 -->\n<g id=\"edge8\" class=\"edge\">\n<title>1&#45;&#45;6</title>\n<path fill=\"none\" stroke=\"#000000\" d=\"M103.939,-216.7768C108.5298,-206.3107 114.1428,-192.5822 118,-180 125.489,-155.5711 131.0386,-126.5221 134.1477,-108.1706\"/>\n</g>\n<!-- 5 -->\n<g id=\"node8\" class=\"node\">\n<title>5</title>\n<ellipse fill=\"none\" stroke=\"#000000\" cx=\"82\" cy=\"-162\" rx=\"27\" ry=\"18\"/>\n<text text-anchor=\"middle\" x=\"82\" y=\"-158.3\" font-family=\"Times,serif\" font-size=\"14.00\" fill=\"#000000\">5</text>\n</g>\n<!-- 1&#45;&#45;5 -->\n<g id=\"edge7\" class=\"edge\">\n<title>1&#45;&#45;5</title>\n<path fill=\"none\" stroke=\"#000000\" d=\"M92.4672,-215.8314C90.3287,-204.8334 87.6126,-190.865 85.4832,-179.9134\"/>\n</g>\n<!-- 6&#45;&#45;2 -->\n<g id=\"edge12\" class=\"edge\">\n<title>6&#45;&#45;2</title>\n<path fill=\"none\" stroke=\"#000000\" d=\"M137,-71.8314C137,-61 137,-47.2876 137,-36.4133\"/>\n</g>\n<!-- 5&#45;&#45;7 -->\n<g id=\"edge11\" class=\"edge\">\n<title>5&#45;&#45;7</title>\n<path fill=\"none\" stroke=\"#000000\" d=\"M69.5196,-145.6621C60.5186,-133.8788 48.4207,-118.0416 39.431,-106.2733\"/>\n</g>\n<!-- 5&#45;&#45;2 -->\n<g id=\"edge9\" class=\"edge\">\n<title>5&#45;&#45;2</title>\n<path fill=\"none\" stroke=\"#000000\" d=\"M83.7905,-143.8083C86.0888,-125.1875 91.0345,-95.7008 101,-72 106.7648,-58.2898 116.1559,-44.3613 123.9011,-34.0847\"/>\n</g>\n<!-- 5&#45;&#45;6 -->\n<g id=\"edge10\" class=\"edge\">\n<title>5&#45;&#45;6</title>\n<path fill=\"none\" stroke=\"#000000\" d=\"M94.4804,-145.6621C103.4814,-133.8788 115.5793,-118.0416 124.569,-106.2733\"/>\n</g>\n</g>\n</svg>\n"
          },
          "metadata": {
            "tags": []
          },
          "execution_count": 117
        }
      ]
    },
    {
      "cell_type": "markdown",
      "metadata": {
        "id": "WkX1__OQlnUq"
      },
      "source": [
        "RECURSIVE IMPLEMENTATION WITH NETWORK GRAPH"
      ]
    },
    {
      "cell_type": "code",
      "metadata": {
        "colab": {
          "base_uri": "https://localhost:8080/",
          "height": 117
        },
        "id": "YPZxivomldo6",
        "outputId": "9428bee2-4a26-4e49-8917-ff1afa4058d5"
      },
      "source": [
        "def _dfs(G, u):\n",
        "  if not G.nodes[u]['visited']:\n",
        "    G.nodes[u]['visited'] = True\n",
        "    for v in G.neighbors(u):\n",
        "      if not G.nodes[v]['visited']:\n",
        "        G.nodes[v]['π'] = u\n",
        "        _dfs(G, v)\n",
        "\n",
        "\n",
        "def dfs(G, s):\n",
        "  for u in G.nodes:\n",
        "    G.nodes[u]['visited'] = False\n",
        "    G.nodes[u]['π'] = -1\n",
        "  _dfs(G, s)\n",
        "\n",
        "\n",
        "dfs(G, '5')\n",
        "path = [0]*G.number_of_nodes()\n",
        "for v, info in G.nodes.data():\n",
        "  path[int(v)] = int(info['π'])\n",
        "\n",
        "print(path)\n",
        "gs.path2gv(path)"
      ],
      "execution_count": 119,
      "outputs": [
        {
          "output_type": "stream",
          "text": [
            "[3, 5, 4, 1, 0, -1, 2, 3]\n"
          ],
          "name": "stdout"
        },
        {
          "output_type": "execute_result",
          "data": {
            "text/plain": [
              "<graphviz.dot.Digraph at 0x7f2f2614f810>"
            ],
            "image/svg+xml": "<?xml version=\"1.0\" encoding=\"UTF-8\" standalone=\"no\"?>\n<!DOCTYPE svg PUBLIC \"-//W3C//DTD SVG 1.1//EN\"\n \"http://www.w3.org/Graphics/SVG/1.1/DTD/svg11.dtd\">\n<!-- Generated by graphviz version 2.40.1 (20161225.0304)\n -->\n<!-- Title: G Pages: 1 -->\n<svg width=\"360pt\" height=\"59pt\"\n viewBox=\"0.00 0.00 360.00 58.60\" xmlns=\"http://www.w3.org/2000/svg\" xmlns:xlink=\"http://www.w3.org/1999/xlink\">\n<g id=\"graph0\" class=\"graph\" transform=\"scale(.598 .598) rotate(0) translate(4 94)\">\n<title>G</title>\n<polygon fill=\"#ffffff\" stroke=\"transparent\" points=\"-4,4 -4,-94 598,-94 598,4 -4,4\"/>\n<!-- 0 -->\n<g id=\"node1\" class=\"node\">\n<title>0</title>\n<ellipse fill=\"none\" stroke=\"#000000\" cx=\"297\" cy=\"-72\" rx=\"27\" ry=\"18\"/>\n<text text-anchor=\"middle\" x=\"297\" y=\"-68.3\" font-family=\"Times,serif\" font-size=\"14.00\" fill=\"#000000\">0</text>\n</g>\n<!-- 4 -->\n<g id=\"node5\" class=\"node\">\n<title>4</title>\n<ellipse fill=\"none\" stroke=\"#000000\" cx=\"387\" cy=\"-72\" rx=\"27\" ry=\"18\"/>\n<text text-anchor=\"middle\" x=\"387\" y=\"-68.3\" font-family=\"Times,serif\" font-size=\"14.00\" fill=\"#000000\">4</text>\n</g>\n<!-- 0&#45;&gt;4 -->\n<g id=\"edge5\" class=\"edge\">\n<title>0&#45;&gt;4</title>\n<path fill=\"none\" stroke=\"#000000\" d=\"M324.003,-72C332.0277,-72 340.9665,-72 349.5309,-72\"/>\n<polygon fill=\"#000000\" stroke=\"#000000\" points=\"349.7051,-75.5001 359.705,-72 349.705,-68.5001 349.7051,-75.5001\"/>\n</g>\n<!-- 1 -->\n<g id=\"node2\" class=\"node\">\n<title>1</title>\n<ellipse fill=\"none\" stroke=\"#000000\" cx=\"117\" cy=\"-45\" rx=\"27\" ry=\"18\"/>\n<text text-anchor=\"middle\" x=\"117\" y=\"-41.3\" font-family=\"Times,serif\" font-size=\"14.00\" fill=\"#000000\">1</text>\n</g>\n<!-- 3 -->\n<g id=\"node4\" class=\"node\">\n<title>3</title>\n<ellipse fill=\"none\" stroke=\"#000000\" cx=\"207\" cy=\"-45\" rx=\"27\" ry=\"18\"/>\n<text text-anchor=\"middle\" x=\"207\" y=\"-41.3\" font-family=\"Times,serif\" font-size=\"14.00\" fill=\"#000000\">3</text>\n</g>\n<!-- 1&#45;&gt;3 -->\n<g id=\"edge4\" class=\"edge\">\n<title>1&#45;&gt;3</title>\n<path fill=\"none\" stroke=\"#000000\" d=\"M144.003,-45C152.0277,-45 160.9665,-45 169.5309,-45\"/>\n<polygon fill=\"#000000\" stroke=\"#000000\" points=\"169.7051,-48.5001 179.705,-45 169.705,-41.5001 169.7051,-48.5001\"/>\n</g>\n<!-- 2 -->\n<g id=\"node3\" class=\"node\">\n<title>2</title>\n<ellipse fill=\"none\" stroke=\"#000000\" cx=\"477\" cy=\"-72\" rx=\"27\" ry=\"18\"/>\n<text text-anchor=\"middle\" x=\"477\" y=\"-68.3\" font-family=\"Times,serif\" font-size=\"14.00\" fill=\"#000000\">2</text>\n</g>\n<!-- 6 -->\n<g id=\"node7\" class=\"node\">\n<title>6</title>\n<ellipse fill=\"none\" stroke=\"#000000\" cx=\"567\" cy=\"-72\" rx=\"27\" ry=\"18\"/>\n<text text-anchor=\"middle\" x=\"567\" y=\"-68.3\" font-family=\"Times,serif\" font-size=\"14.00\" fill=\"#000000\">6</text>\n</g>\n<!-- 2&#45;&gt;6 -->\n<g id=\"edge6\" class=\"edge\">\n<title>2&#45;&gt;6</title>\n<path fill=\"none\" stroke=\"#000000\" d=\"M504.003,-72C512.0277,-72 520.9665,-72 529.5309,-72\"/>\n<polygon fill=\"#000000\" stroke=\"#000000\" points=\"529.7051,-75.5001 539.705,-72 529.705,-68.5001 529.7051,-75.5001\"/>\n</g>\n<!-- 3&#45;&gt;0 -->\n<g id=\"edge1\" class=\"edge\">\n<title>3&#45;&gt;0</title>\n<path fill=\"none\" stroke=\"#000000\" d=\"M232.07,-52.521C241.5102,-55.3531 252.4169,-58.6251 262.564,-61.6692\"/>\n<polygon fill=\"#000000\" stroke=\"#000000\" points=\"261.7915,-65.0915 272.3755,-64.6126 263.803,-58.3867 261.7915,-65.0915\"/>\n</g>\n<!-- 7 -->\n<g id=\"node8\" class=\"node\">\n<title>7</title>\n<ellipse fill=\"none\" stroke=\"#000000\" cx=\"297\" cy=\"-18\" rx=\"27\" ry=\"18\"/>\n<text text-anchor=\"middle\" x=\"297\" y=\"-14.3\" font-family=\"Times,serif\" font-size=\"14.00\" fill=\"#000000\">7</text>\n</g>\n<!-- 3&#45;&gt;7 -->\n<g id=\"edge7\" class=\"edge\">\n<title>3&#45;&gt;7</title>\n<path fill=\"none\" stroke=\"#000000\" d=\"M232.07,-37.479C241.5102,-34.6469 252.4169,-31.3749 262.564,-28.3308\"/>\n<polygon fill=\"#000000\" stroke=\"#000000\" points=\"263.803,-31.6133 272.3755,-25.3874 261.7915,-24.9085 263.803,-31.6133\"/>\n</g>\n<!-- 4&#45;&gt;2 -->\n<g id=\"edge3\" class=\"edge\">\n<title>4&#45;&gt;2</title>\n<path fill=\"none\" stroke=\"#000000\" d=\"M414.003,-72C422.0277,-72 430.9665,-72 439.5309,-72\"/>\n<polygon fill=\"#000000\" stroke=\"#000000\" points=\"439.7051,-75.5001 449.705,-72 439.705,-68.5001 439.7051,-75.5001\"/>\n</g>\n<!-- 5 -->\n<g id=\"node6\" class=\"node\">\n<title>5</title>\n<ellipse fill=\"none\" stroke=\"#000000\" cx=\"27\" cy=\"-45\" rx=\"27\" ry=\"18\"/>\n<text text-anchor=\"middle\" x=\"27\" y=\"-41.3\" font-family=\"Times,serif\" font-size=\"14.00\" fill=\"#000000\">5</text>\n</g>\n<!-- 5&#45;&gt;1 -->\n<g id=\"edge2\" class=\"edge\">\n<title>5&#45;&gt;1</title>\n<path fill=\"none\" stroke=\"#000000\" d=\"M54.003,-45C62.0277,-45 70.9665,-45 79.5309,-45\"/>\n<polygon fill=\"#000000\" stroke=\"#000000\" points=\"79.7051,-48.5001 89.705,-45 79.705,-41.5001 79.7051,-48.5001\"/>\n</g>\n</g>\n</svg>\n"
          },
          "metadata": {
            "tags": []
          },
          "execution_count": 119
        }
      ]
    },
    {
      "cell_type": "markdown",
      "metadata": {
        "id": "464J-Ku_lzXj"
      },
      "source": [
        "NON RECURSIVE IMPLEMENTATION WITH NETWORKX GRAPH"
      ]
    },
    {
      "cell_type": "code",
      "metadata": {
        "colab": {
          "base_uri": "https://localhost:8080/",
          "height": 117
        },
        "id": "8V8Rkaa1lyqh",
        "outputId": "612e3b05-b407-46f4-8416-828828ab006e"
      },
      "source": [
        "def dfsWithStack(G, s):\n",
        "  for u in G.nodes:\n",
        "    G.nodes[u]['visited'] = False\n",
        "    G.nodes[u]['π'] = -1\n",
        "\n",
        "  stack = [s]\n",
        "  while stack:\n",
        "    u = stack.pop()\n",
        "    if not G.nodes[u]['visited']:\n",
        "      G.nodes[u]['visited'] = True\n",
        "      for v in reversed(list(G.neighbors(u))):\n",
        "        if not G.nodes[v]['visited']:\n",
        "          G.nodes[v]['π'] = u\n",
        "          stack.append(v)\n",
        "\n",
        "  path = [0]*G.number_of_nodes()\n",
        "  for v, info in G.nodes.data():\n",
        "    path[int(v)] = int(info['π'])\n",
        "\n",
        "  return path\n",
        "\n",
        "path = dfsWithStack(G, '5')\n",
        "print(path)\n",
        "gs.path2gv(path)"
      ],
      "execution_count": 120,
      "outputs": [
        {
          "output_type": "stream",
          "text": [
            "[3, 5, 4, 1, 0, -1, 2, 3]\n"
          ],
          "name": "stdout"
        },
        {
          "output_type": "execute_result",
          "data": {
            "text/plain": [
              "<graphviz.dot.Digraph at 0x7f2f26137050>"
            ],
            "image/svg+xml": "<?xml version=\"1.0\" encoding=\"UTF-8\" standalone=\"no\"?>\n<!DOCTYPE svg PUBLIC \"-//W3C//DTD SVG 1.1//EN\"\n \"http://www.w3.org/Graphics/SVG/1.1/DTD/svg11.dtd\">\n<!-- Generated by graphviz version 2.40.1 (20161225.0304)\n -->\n<!-- Title: G Pages: 1 -->\n<svg width=\"360pt\" height=\"59pt\"\n viewBox=\"0.00 0.00 360.00 58.60\" xmlns=\"http://www.w3.org/2000/svg\" xmlns:xlink=\"http://www.w3.org/1999/xlink\">\n<g id=\"graph0\" class=\"graph\" transform=\"scale(.598 .598) rotate(0) translate(4 94)\">\n<title>G</title>\n<polygon fill=\"#ffffff\" stroke=\"transparent\" points=\"-4,4 -4,-94 598,-94 598,4 -4,4\"/>\n<!-- 0 -->\n<g id=\"node1\" class=\"node\">\n<title>0</title>\n<ellipse fill=\"none\" stroke=\"#000000\" cx=\"297\" cy=\"-72\" rx=\"27\" ry=\"18\"/>\n<text text-anchor=\"middle\" x=\"297\" y=\"-68.3\" font-family=\"Times,serif\" font-size=\"14.00\" fill=\"#000000\">0</text>\n</g>\n<!-- 4 -->\n<g id=\"node5\" class=\"node\">\n<title>4</title>\n<ellipse fill=\"none\" stroke=\"#000000\" cx=\"387\" cy=\"-72\" rx=\"27\" ry=\"18\"/>\n<text text-anchor=\"middle\" x=\"387\" y=\"-68.3\" font-family=\"Times,serif\" font-size=\"14.00\" fill=\"#000000\">4</text>\n</g>\n<!-- 0&#45;&gt;4 -->\n<g id=\"edge5\" class=\"edge\">\n<title>0&#45;&gt;4</title>\n<path fill=\"none\" stroke=\"#000000\" d=\"M324.003,-72C332.0277,-72 340.9665,-72 349.5309,-72\"/>\n<polygon fill=\"#000000\" stroke=\"#000000\" points=\"349.7051,-75.5001 359.705,-72 349.705,-68.5001 349.7051,-75.5001\"/>\n</g>\n<!-- 1 -->\n<g id=\"node2\" class=\"node\">\n<title>1</title>\n<ellipse fill=\"none\" stroke=\"#000000\" cx=\"117\" cy=\"-45\" rx=\"27\" ry=\"18\"/>\n<text text-anchor=\"middle\" x=\"117\" y=\"-41.3\" font-family=\"Times,serif\" font-size=\"14.00\" fill=\"#000000\">1</text>\n</g>\n<!-- 3 -->\n<g id=\"node4\" class=\"node\">\n<title>3</title>\n<ellipse fill=\"none\" stroke=\"#000000\" cx=\"207\" cy=\"-45\" rx=\"27\" ry=\"18\"/>\n<text text-anchor=\"middle\" x=\"207\" y=\"-41.3\" font-family=\"Times,serif\" font-size=\"14.00\" fill=\"#000000\">3</text>\n</g>\n<!-- 1&#45;&gt;3 -->\n<g id=\"edge4\" class=\"edge\">\n<title>1&#45;&gt;3</title>\n<path fill=\"none\" stroke=\"#000000\" d=\"M144.003,-45C152.0277,-45 160.9665,-45 169.5309,-45\"/>\n<polygon fill=\"#000000\" stroke=\"#000000\" points=\"169.7051,-48.5001 179.705,-45 169.705,-41.5001 169.7051,-48.5001\"/>\n</g>\n<!-- 2 -->\n<g id=\"node3\" class=\"node\">\n<title>2</title>\n<ellipse fill=\"none\" stroke=\"#000000\" cx=\"477\" cy=\"-72\" rx=\"27\" ry=\"18\"/>\n<text text-anchor=\"middle\" x=\"477\" y=\"-68.3\" font-family=\"Times,serif\" font-size=\"14.00\" fill=\"#000000\">2</text>\n</g>\n<!-- 6 -->\n<g id=\"node7\" class=\"node\">\n<title>6</title>\n<ellipse fill=\"none\" stroke=\"#000000\" cx=\"567\" cy=\"-72\" rx=\"27\" ry=\"18\"/>\n<text text-anchor=\"middle\" x=\"567\" y=\"-68.3\" font-family=\"Times,serif\" font-size=\"14.00\" fill=\"#000000\">6</text>\n</g>\n<!-- 2&#45;&gt;6 -->\n<g id=\"edge6\" class=\"edge\">\n<title>2&#45;&gt;6</title>\n<path fill=\"none\" stroke=\"#000000\" d=\"M504.003,-72C512.0277,-72 520.9665,-72 529.5309,-72\"/>\n<polygon fill=\"#000000\" stroke=\"#000000\" points=\"529.7051,-75.5001 539.705,-72 529.705,-68.5001 529.7051,-75.5001\"/>\n</g>\n<!-- 3&#45;&gt;0 -->\n<g id=\"edge1\" class=\"edge\">\n<title>3&#45;&gt;0</title>\n<path fill=\"none\" stroke=\"#000000\" d=\"M232.07,-52.521C241.5102,-55.3531 252.4169,-58.6251 262.564,-61.6692\"/>\n<polygon fill=\"#000000\" stroke=\"#000000\" points=\"261.7915,-65.0915 272.3755,-64.6126 263.803,-58.3867 261.7915,-65.0915\"/>\n</g>\n<!-- 7 -->\n<g id=\"node8\" class=\"node\">\n<title>7</title>\n<ellipse fill=\"none\" stroke=\"#000000\" cx=\"297\" cy=\"-18\" rx=\"27\" ry=\"18\"/>\n<text text-anchor=\"middle\" x=\"297\" y=\"-14.3\" font-family=\"Times,serif\" font-size=\"14.00\" fill=\"#000000\">7</text>\n</g>\n<!-- 3&#45;&gt;7 -->\n<g id=\"edge7\" class=\"edge\">\n<title>3&#45;&gt;7</title>\n<path fill=\"none\" stroke=\"#000000\" d=\"M232.07,-37.479C241.5102,-34.6469 252.4169,-31.3749 262.564,-28.3308\"/>\n<polygon fill=\"#000000\" stroke=\"#000000\" points=\"263.803,-31.6133 272.3755,-25.3874 261.7915,-24.9085 263.803,-31.6133\"/>\n</g>\n<!-- 4&#45;&gt;2 -->\n<g id=\"edge3\" class=\"edge\">\n<title>4&#45;&gt;2</title>\n<path fill=\"none\" stroke=\"#000000\" d=\"M414.003,-72C422.0277,-72 430.9665,-72 439.5309,-72\"/>\n<polygon fill=\"#000000\" stroke=\"#000000\" points=\"439.7051,-75.5001 449.705,-72 439.705,-68.5001 439.7051,-75.5001\"/>\n</g>\n<!-- 5 -->\n<g id=\"node6\" class=\"node\">\n<title>5</title>\n<ellipse fill=\"none\" stroke=\"#000000\" cx=\"27\" cy=\"-45\" rx=\"27\" ry=\"18\"/>\n<text text-anchor=\"middle\" x=\"27\" y=\"-41.3\" font-family=\"Times,serif\" font-size=\"14.00\" fill=\"#000000\">5</text>\n</g>\n<!-- 5&#45;&gt;1 -->\n<g id=\"edge2\" class=\"edge\">\n<title>5&#45;&gt;1</title>\n<path fill=\"none\" stroke=\"#000000\" d=\"M54.003,-45C62.0277,-45 70.9665,-45 79.5309,-45\"/>\n<polygon fill=\"#000000\" stroke=\"#000000\" points=\"79.7051,-48.5001 89.705,-45 79.705,-41.5001 79.7051,-48.5001\"/>\n</g>\n</g>\n</svg>\n"
          },
          "metadata": {
            "tags": []
          },
          "execution_count": 120
        }
      ]
    },
    {
      "cell_type": "markdown",
      "metadata": {
        "id": "fI-18lnytJy7"
      },
      "source": [
        "***DIJKSTRA/ USC(UNIFORM COST SEARCH)***"
      ]
    },
    {
      "cell_type": "code",
      "metadata": {
        "colab": {
          "base_uri": "https://localhost:8080/"
        },
        "id": "ULsqF5yXtZho",
        "outputId": "1bd945f2-0e24-48e2-d936-88d2f08e521a"
      },
      "source": [
        "!git clone https://github.com/lmcanavals/algorithmic_complexity.git 1>/dev/null"
      ],
      "execution_count": 1,
      "outputs": [
        {
          "output_type": "stream",
          "text": [
            "Cloning into 'algorithmic_complexity'...\n",
            "remote: Enumerating objects: 207, done.\u001b[K\n",
            "remote: Counting objects: 100% (207/207), done.\u001b[K\n",
            "remote: Compressing objects: 100% (203/203), done.\u001b[K\n",
            "remote: Total 207 (delta 114), reused 0 (delta 0), pack-reused 0\u001b[K\n",
            "Receiving objects: 100% (207/207), 150.74 KiB | 9.42 MiB/s, done.\n",
            "Resolving deltas: 100% (114/114), done.\n"
          ],
          "name": "stdout"
        }
      ]
    },
    {
      "cell_type": "code",
      "metadata": {
        "id": "Eaj38iFVL9eq"
      },
      "source": [
        "from algorithmic_complexity.aclib import graphstuff as gs\n",
        "import networkx as nx\n",
        "import heapq as hq\n",
        "import math"
      ],
      "execution_count": 2,
      "outputs": []
    },
    {
      "cell_type": "code",
      "metadata": {
        "colab": {
          "base_uri": "https://localhost:8080/"
        },
        "id": "ng9FLN1tMDwS",
        "outputId": "bc21c002-5101-48f2-b665-4026dcffef37"
      },
      "source": [
        "%%file 5.csv\n",
        "#u,v,w\n",
        "0,2,6\n",
        "0,3,9\n",
        "1,0,3\n",
        "1,3,8\n",
        "1,5,9\n",
        "3,5,8\n",
        "5,6,7\n",
        "5,7,7\n",
        "6,4,4\n",
        "7,4,6"
      ],
      "execution_count": 5,
      "outputs": [
        {
          "output_type": "stream",
          "text": [
            "Writing 5.csv\n"
          ],
          "name": "stdout"
        }
      ]
    },
    {
      "cell_type": "code",
      "metadata": {
        "colab": {
          "base_uri": "https://localhost:8080/",
          "height": 157
        },
        "id": "f8aGWUjhMIMT",
        "outputId": "5083f07f-a091-424b-9dbb-313e8b921508"
      },
      "source": [
        "G = nx.read_weighted_edgelist('5.csv', create_using=nx.DiGraph, delimiter=',', nodetype=int)\n",
        "gs.nx2gv(G, weighted=True)"
      ],
      "execution_count": 6,
      "outputs": [
        {
          "output_type": "execute_result",
          "data": {
            "text/plain": [
              "<graphviz.dot.Digraph at 0x7fe20290c810>"
            ],
            "image/svg+xml": "<?xml version=\"1.0\" encoding=\"UTF-8\" standalone=\"no\"?>\n<!DOCTYPE svg PUBLIC \"-//W3C//DTD SVG 1.1//EN\"\n \"http://www.w3.org/Graphics/SVG/1.1/DTD/svg11.dtd\">\n<!-- Generated by graphviz version 2.40.1 (20161225.0304)\n -->\n<!-- Title: G Pages: 1 -->\n<svg width=\"360pt\" height=\"102pt\"\n viewBox=\"0.00 0.00 360.00 102.01\" xmlns=\"http://www.w3.org/2000/svg\" xmlns:xlink=\"http://www.w3.org/1999/xlink\">\n<g id=\"graph0\" class=\"graph\" transform=\"scale(.5931 .5931) rotate(0) translate(4 168)\">\n<title>G</title>\n<polygon fill=\"#ffffff\" stroke=\"transparent\" points=\"-4,4 -4,-168 603,-168 603,4 -4,4\"/>\n<!-- 0 -->\n<g id=\"node1\" class=\"node\">\n<title>0</title>\n<ellipse fill=\"none\" stroke=\"#000000\" cx=\"136\" cy=\"-126\" rx=\"27\" ry=\"18\"/>\n<text text-anchor=\"middle\" x=\"136\" y=\"-122.3\" font-family=\"Times,serif\" font-size=\"14.00\" fill=\"#000000\">0</text>\n</g>\n<!-- 2 -->\n<g id=\"node3\" class=\"node\">\n<title>2</title>\n<ellipse fill=\"none\" stroke=\"#000000\" cx=\"245\" cy=\"-146\" rx=\"27\" ry=\"18\"/>\n<text text-anchor=\"middle\" x=\"245\" y=\"-142.3\" font-family=\"Times,serif\" font-size=\"14.00\" fill=\"#000000\">2</text>\n</g>\n<!-- 0&#45;&gt;2 -->\n<g id=\"edge1\" class=\"edge\">\n<title>0&#45;&gt;2</title>\n<path fill=\"none\" stroke=\"#000000\" d=\"M162.1082,-130.7905C176.0272,-133.3444 193.374,-136.5273 208.5963,-139.3204\"/>\n<polygon fill=\"#000000\" stroke=\"#000000\" points=\"208.2596,-142.817 218.727,-141.1793 209.5229,-135.9319 208.2596,-142.817\"/>\n<text text-anchor=\"middle\" x=\"190.5\" y=\"-140.8\" font-family=\"Times,serif\" font-size=\"14.00\" fill=\"#000000\">6.0</text>\n</g>\n<!-- 3 -->\n<g id=\"node4\" class=\"node\">\n<title>3</title>\n<ellipse fill=\"none\" stroke=\"#000000\" cx=\"245\" cy=\"-75\" rx=\"27\" ry=\"18\"/>\n<text text-anchor=\"middle\" x=\"245\" y=\"-71.3\" font-family=\"Times,serif\" font-size=\"14.00\" fill=\"#000000\">3</text>\n</g>\n<!-- 0&#45;&gt;3 -->\n<g id=\"edge2\" class=\"edge\">\n<title>0&#45;&gt;3</title>\n<path fill=\"none\" stroke=\"#000000\" d=\"M158.3208,-115.5563C174.1915,-108.1306 195.7344,-98.0509 213.3726,-89.7982\"/>\n<polygon fill=\"#000000\" stroke=\"#000000\" points=\"215.1348,-92.8379 222.709,-85.4297 212.1682,-86.4976 215.1348,-92.8379\"/>\n<text text-anchor=\"middle\" x=\"190.5\" y=\"-106.8\" font-family=\"Times,serif\" font-size=\"14.00\" fill=\"#000000\">9.0</text>\n</g>\n<!-- 1 -->\n<g id=\"node2\" class=\"node\">\n<title>1</title>\n<ellipse fill=\"none\" stroke=\"#000000\" cx=\"27\" cy=\"-75\" rx=\"27\" ry=\"18\"/>\n<text text-anchor=\"middle\" x=\"27\" y=\"-71.3\" font-family=\"Times,serif\" font-size=\"14.00\" fill=\"#000000\">1</text>\n</g>\n<!-- 1&#45;&gt;0 -->\n<g id=\"edge4\" class=\"edge\">\n<title>1&#45;&gt;0</title>\n<path fill=\"none\" stroke=\"#000000\" d=\"M49.3208,-85.4437C65.1915,-92.8694 86.7344,-102.9491 104.3726,-111.2018\"/>\n<polygon fill=\"#000000\" stroke=\"#000000\" points=\"103.1682,-114.5024 113.709,-115.5703 106.1348,-108.1621 103.1682,-114.5024\"/>\n<text text-anchor=\"middle\" x=\"81.5\" y=\"-106.8\" font-family=\"Times,serif\" font-size=\"14.00\" fill=\"#000000\">3.0</text>\n</g>\n<!-- 1&#45;&gt;3 -->\n<g id=\"edge5\" class=\"edge\">\n<title>1&#45;&gt;3</title>\n<path fill=\"none\" stroke=\"#000000\" d=\"M54.1691,-75C92.867,-75 163.994,-75 207.6319,-75\"/>\n<polygon fill=\"#000000\" stroke=\"#000000\" points=\"207.8318,-78.5001 217.8318,-75 207.8318,-71.5001 207.8318,-78.5001\"/>\n<text text-anchor=\"middle\" x=\"136\" y=\"-78.8\" font-family=\"Times,serif\" font-size=\"14.00\" fill=\"#000000\">8.0</text>\n</g>\n<!-- 5 -->\n<g id=\"node6\" class=\"node\">\n<title>5</title>\n<ellipse fill=\"none\" stroke=\"#000000\" cx=\"354\" cy=\"-45\" rx=\"27\" ry=\"18\"/>\n<text text-anchor=\"middle\" x=\"354\" y=\"-41.3\" font-family=\"Times,serif\" font-size=\"14.00\" fill=\"#000000\">5</text>\n</g>\n<!-- 1&#45;&gt;5 -->\n<g id=\"edge6\" class=\"edge\">\n<title>1&#45;&gt;5</title>\n<path fill=\"none\" stroke=\"#000000\" d=\"M53.1512,-70.3015C89.8418,-63.9387 158.7524,-52.8241 218,-48 251.2488,-45.2928 289.2104,-44.6597 316.562,-44.6361\"/>\n<polygon fill=\"#000000\" stroke=\"#000000\" points=\"316.8509,-48.1366 326.8575,-44.6555 316.8642,-41.1366 316.8509,-48.1366\"/>\n<text text-anchor=\"middle\" x=\"190.5\" y=\"-54.8\" font-family=\"Times,serif\" font-size=\"14.00\" fill=\"#000000\">9.0</text>\n</g>\n<!-- 3&#45;&gt;5 -->\n<g id=\"edge3\" class=\"edge\">\n<title>3&#45;&gt;5</title>\n<path fill=\"none\" stroke=\"#000000\" d=\"M270.0068,-68.1174C284.4433,-64.1441 302.8307,-59.0833 318.7188,-54.7104\"/>\n<polygon fill=\"#000000\" stroke=\"#000000\" points=\"320.0194,-57.9827 328.7321,-51.9545 318.1618,-51.2336 320.0194,-57.9827\"/>\n<text text-anchor=\"middle\" x=\"299.5\" y=\"-64.8\" font-family=\"Times,serif\" font-size=\"14.00\" fill=\"#000000\">8.0</text>\n</g>\n<!-- 4 -->\n<g id=\"node5\" class=\"node\">\n<title>4</title>\n<ellipse fill=\"none\" stroke=\"#000000\" cx=\"572\" cy=\"-45\" rx=\"27\" ry=\"18\"/>\n<text text-anchor=\"middle\" x=\"572\" y=\"-41.3\" font-family=\"Times,serif\" font-size=\"14.00\" fill=\"#000000\">4</text>\n</g>\n<!-- 6 -->\n<g id=\"node7\" class=\"node\">\n<title>6</title>\n<ellipse fill=\"none\" stroke=\"#000000\" cx=\"463\" cy=\"-72\" rx=\"27\" ry=\"18\"/>\n<text text-anchor=\"middle\" x=\"463\" y=\"-68.3\" font-family=\"Times,serif\" font-size=\"14.00\" fill=\"#000000\">6</text>\n</g>\n<!-- 5&#45;&gt;6 -->\n<g id=\"edge7\" class=\"edge\">\n<title>5&#45;&gt;6</title>\n<path fill=\"none\" stroke=\"#000000\" d=\"M379.5557,-51.3303C393.9053,-54.8848 412.0262,-59.3735 427.7122,-63.259\"/>\n<polygon fill=\"#000000\" stroke=\"#000000\" points=\"427.0562,-66.7022 437.6045,-65.7094 428.7394,-59.9076 427.0562,-66.7022\"/>\n<text text-anchor=\"middle\" x=\"408.5\" y=\"-63.8\" font-family=\"Times,serif\" font-size=\"14.00\" fill=\"#000000\">7.0</text>\n</g>\n<!-- 7 -->\n<g id=\"node8\" class=\"node\">\n<title>7</title>\n<ellipse fill=\"none\" stroke=\"#000000\" cx=\"463\" cy=\"-18\" rx=\"27\" ry=\"18\"/>\n<text text-anchor=\"middle\" x=\"463\" y=\"-14.3\" font-family=\"Times,serif\" font-size=\"14.00\" fill=\"#000000\">7</text>\n</g>\n<!-- 5&#45;&gt;7 -->\n<g id=\"edge8\" class=\"edge\">\n<title>5&#45;&gt;7</title>\n<path fill=\"none\" stroke=\"#000000\" d=\"M379.5557,-38.6697C393.9053,-35.1152 412.0262,-30.6265 427.7122,-26.741\"/>\n<polygon fill=\"#000000\" stroke=\"#000000\" points=\"428.7394,-30.0924 437.6045,-24.2906 427.0562,-23.2978 428.7394,-30.0924\"/>\n<text text-anchor=\"middle\" x=\"408.5\" y=\"-37.8\" font-family=\"Times,serif\" font-size=\"14.00\" fill=\"#000000\">7.0</text>\n</g>\n<!-- 6&#45;&gt;4 -->\n<g id=\"edge9\" class=\"edge\">\n<title>6&#45;&gt;4</title>\n<path fill=\"none\" stroke=\"#000000\" d=\"M488.5557,-65.6697C502.9053,-62.1152 521.0262,-57.6265 536.7122,-53.741\"/>\n<polygon fill=\"#000000\" stroke=\"#000000\" points=\"537.7394,-57.0924 546.6045,-51.2906 536.0562,-50.2978 537.7394,-57.0924\"/>\n<text text-anchor=\"middle\" x=\"517.5\" y=\"-63.8\" font-family=\"Times,serif\" font-size=\"14.00\" fill=\"#000000\">4.0</text>\n</g>\n<!-- 7&#45;&gt;4 -->\n<g id=\"edge10\" class=\"edge\">\n<title>7&#45;&gt;4</title>\n<path fill=\"none\" stroke=\"#000000\" d=\"M488.5557,-24.3303C502.9053,-27.8848 521.0262,-32.3735 536.7122,-36.259\"/>\n<polygon fill=\"#000000\" stroke=\"#000000\" points=\"536.0562,-39.7022 546.6045,-38.7094 537.7394,-32.9076 536.0562,-39.7022\"/>\n<text text-anchor=\"middle\" x=\"517.5\" y=\"-37.8\" font-family=\"Times,serif\" font-size=\"14.00\" fill=\"#000000\">6.0</text>\n</g>\n</g>\n</svg>\n"
          },
          "metadata": {
            "tags": []
          },
          "execution_count": 6
        }
      ]
    },
    {
      "cell_type": "markdown",
      "metadata": {
        "id": "owO2t-rUMiVJ"
      },
      "source": [
        "HEAPS"
      ]
    },
    {
      "cell_type": "code",
      "metadata": {
        "colab": {
          "base_uri": "https://localhost:8080/"
        },
        "id": "6-9jL0v7MGik",
        "outputId": "9129c53e-fb9d-428d-b7da-f7e5b7799931"
      },
      "source": [
        "import random\n",
        "q = []\n",
        "for _ in range(10):\n",
        "  value = random.randint(1, 100)\n",
        "  print(f\"Inserting {value}\")\n",
        "  hq.heappush(q, value)\n",
        "\n",
        "print(q)\n",
        "while q:\n",
        "  print(hq.heappop(q))"
      ],
      "execution_count": 7,
      "outputs": [
        {
          "output_type": "stream",
          "text": [
            "Inserting 85\n",
            "Inserting 93\n",
            "Inserting 64\n",
            "Inserting 44\n",
            "Inserting 62\n",
            "Inserting 80\n",
            "Inserting 82\n",
            "Inserting 64\n",
            "Inserting 84\n",
            "Inserting 51\n",
            "[44, 51, 80, 64, 62, 85, 82, 93, 84, 64]\n",
            "44\n",
            "51\n",
            "62\n",
            "64\n",
            "64\n",
            "80\n",
            "82\n",
            "84\n",
            "85\n",
            "93\n"
          ],
          "name": "stdout"
        }
      ]
    },
    {
      "cell_type": "code",
      "metadata": {
        "colab": {
          "base_uri": "https://localhost:8080/"
        },
        "id": "irbU3L2uM0G7",
        "outputId": "49c9020c-489a-40fa-9c5f-6cd841abdfa7"
      },
      "source": [
        "q = []\n",
        "for _ in range(10):\n",
        "  priority = random.randint(1, 100)\n",
        "  value = random.randint(1, 12124545)\n",
        "  print(f\"Inserting {value} with priority {priority}\")\n",
        "  hq.heappush(q, (priority, value))\n",
        "\n",
        "for e in q:\n",
        "  print(e)\n",
        "\n",
        "print(\"Priority queue\")\n",
        "while q:\n",
        "  print(hq.heappop(q))"
      ],
      "execution_count": 8,
      "outputs": [
        {
          "output_type": "stream",
          "text": [
            "Inserting 9594386 with priority 84\n",
            "Inserting 3923009 with priority 11\n",
            "Inserting 925284 with priority 100\n",
            "Inserting 8380333 with priority 1\n",
            "Inserting 926410 with priority 46\n",
            "Inserting 2926058 with priority 76\n",
            "Inserting 225178 with priority 10\n",
            "Inserting 11616119 with priority 30\n",
            "Inserting 9394592 with priority 93\n",
            "Inserting 9986062 with priority 74\n",
            "(1, 8380333)\n",
            "(11, 3923009)\n",
            "(10, 225178)\n",
            "(30, 11616119)\n",
            "(46, 926410)\n",
            "(100, 925284)\n",
            "(76, 2926058)\n",
            "(84, 9594386)\n",
            "(93, 9394592)\n",
            "(74, 9986062)\n",
            "Priority queue\n",
            "(1, 8380333)\n",
            "(10, 225178)\n",
            "(11, 3923009)\n",
            "(30, 11616119)\n",
            "(46, 926410)\n",
            "(74, 9986062)\n",
            "(76, 2926058)\n",
            "(84, 9594386)\n",
            "(93, 9394592)\n",
            "(100, 925284)\n"
          ],
          "name": "stdout"
        }
      ]
    },
    {
      "cell_type": "markdown",
      "metadata": {
        "id": "sXoiIl0qNlGR"
      },
      "source": [
        "UCS"
      ]
    },
    {
      "cell_type": "code",
      "metadata": {
        "id": "XBRV3iS1NoBV"
      },
      "source": [
        "def dijkstra(G, s):\n",
        "  for u in G.nodes:\n",
        "    G.nodes[u]['visited'] = False #ninguno es visitado al inicio\n",
        "    G.nodes[u]['path']    = -1 # ninguno tiene padre o predecesor\n",
        "    G.nodes[u]['cost']    = math.inf # costo de todos infinito\n",
        "\n",
        "  G.nodes[s]['cost'] = 0 #costo de s(Vertice) es 0\n",
        "  q = [(0, s)] #agregamos a la cola el vertice con prioridad 0\n",
        "  while q: #repetimos hasta que no quede nada en la cola\n",
        "    g_u, u = hq.heappop(q) #recuperamos el primer elemento de la cola\n",
        "    #g_u (costo/prioridad del vertice)   u (vertice)\n",
        "    if not G.nodes[u]['visited']: #si no ha sido visitado el vertice en cuestion\n",
        "      G.nodes[u]['visited'] = True # se marca como visitado\n",
        "      for v in G.neighbors(u): # para todos sus vecinos \n",
        "        if not G.nodes[v]['visited']: #si no ha sido visitado el vecino\n",
        "          w_uv = G.edges[u, v]['weight'] #recuperamos w_uv(el peso del arco uv)\n",
        "          f_v  = g_u + w_uv #calculamos el nuevo costo para llegar a v (costo del 1er elementos + peso del arco)\n",
        "          g_v  = G.nodes[v]['cost'] #recuperamos el costo actual de v (por si ya tiene uno)\n",
        "          if f_v < g_v: #si el nuevo costo es menor que el costo actual\n",
        "            G.nodes[v]['cost'] = f_v #el costo de v sera el nuevo costo\n",
        "            G.nodes[v]['path'] = u # el padre sera u\n",
        "            hq.heappush(q, (f_v, v)) #y se agregara a la cola, con el costo nuevo y el vertice que corresponde\n",
        "\n",
        "  path = [0]*G.number_of_nodes() \n",
        "  for v, info in G.nodes.data():\n",
        "    path[v] = info['path'] #formar un arreglo en el que se tiene el padre de cada elemento\n",
        "\n",
        "  return path"
      ],
      "execution_count": 10,
      "outputs": []
    },
    {
      "cell_type": "code",
      "metadata": {
        "colab": {
          "base_uri": "https://localhost:8080/",
          "height": 174
        },
        "id": "clU-6znJS8wm",
        "outputId": "d2123994-18bb-41e9-a64f-c8481f49ba60"
      },
      "source": [
        "path = dijkstra(G, 1)\n",
        "print(path)\n",
        "gs.nx2gv(G, path=path, weighted=True)"
      ],
      "execution_count": 14,
      "outputs": [
        {
          "output_type": "stream",
          "text": [
            "[1, -1, 0, 1, 6, 1, 5, 5]\n"
          ],
          "name": "stdout"
        },
        {
          "output_type": "execute_result",
          "data": {
            "text/plain": [
              "<graphviz.dot.Digraph at 0x7fe1fe731910>"
            ],
            "image/svg+xml": "<?xml version=\"1.0\" encoding=\"UTF-8\" standalone=\"no\"?>\n<!DOCTYPE svg PUBLIC \"-//W3C//DTD SVG 1.1//EN\"\n \"http://www.w3.org/Graphics/SVG/1.1/DTD/svg11.dtd\">\n<!-- Generated by graphviz version 2.40.1 (20161225.0304)\n -->\n<!-- Title: G Pages: 1 -->\n<svg width=\"360pt\" height=\"102pt\"\n viewBox=\"0.00 0.00 360.00 102.01\" xmlns=\"http://www.w3.org/2000/svg\" xmlns:xlink=\"http://www.w3.org/1999/xlink\">\n<g id=\"graph0\" class=\"graph\" transform=\"scale(.5931 .5931) rotate(0) translate(4 168)\">\n<title>G</title>\n<polygon fill=\"#ffffff\" stroke=\"transparent\" points=\"-4,4 -4,-168 603,-168 603,4 -4,4\"/>\n<!-- 0 -->\n<g id=\"node1\" class=\"node\">\n<title>0</title>\n<ellipse fill=\"none\" stroke=\"#000000\" cx=\"136\" cy=\"-126\" rx=\"27\" ry=\"18\"/>\n<text text-anchor=\"middle\" x=\"136\" y=\"-122.3\" font-family=\"Times,serif\" font-size=\"14.00\" fill=\"#000000\">0</text>\n</g>\n<!-- 2 -->\n<g id=\"node3\" class=\"node\">\n<title>2</title>\n<ellipse fill=\"none\" stroke=\"#000000\" cx=\"245\" cy=\"-146\" rx=\"27\" ry=\"18\"/>\n<text text-anchor=\"middle\" x=\"245\" y=\"-142.3\" font-family=\"Times,serif\" font-size=\"14.00\" fill=\"#000000\">2</text>\n</g>\n<!-- 0&#45;&gt;2 -->\n<g id=\"edge1\" class=\"edge\">\n<title>0&#45;&gt;2</title>\n<path fill=\"none\" stroke=\"#ff4500\" d=\"M162.1082,-130.7905C176.0272,-133.3444 193.374,-136.5273 208.5963,-139.3204\"/>\n<polygon fill=\"#ff4500\" stroke=\"#ff4500\" points=\"208.2596,-142.817 218.727,-141.1793 209.5229,-135.9319 208.2596,-142.817\"/>\n<text text-anchor=\"middle\" x=\"190.5\" y=\"-140.8\" font-family=\"Times,serif\" font-size=\"14.00\" fill=\"#000000\">6.0</text>\n</g>\n<!-- 3 -->\n<g id=\"node4\" class=\"node\">\n<title>3</title>\n<ellipse fill=\"none\" stroke=\"#000000\" cx=\"245\" cy=\"-75\" rx=\"27\" ry=\"18\"/>\n<text text-anchor=\"middle\" x=\"245\" y=\"-71.3\" font-family=\"Times,serif\" font-size=\"14.00\" fill=\"#000000\">3</text>\n</g>\n<!-- 0&#45;&gt;3 -->\n<g id=\"edge2\" class=\"edge\">\n<title>0&#45;&gt;3</title>\n<path fill=\"none\" stroke=\"#000000\" d=\"M158.3208,-115.5563C174.1915,-108.1306 195.7344,-98.0509 213.3726,-89.7982\"/>\n<polygon fill=\"#000000\" stroke=\"#000000\" points=\"215.1348,-92.8379 222.709,-85.4297 212.1682,-86.4976 215.1348,-92.8379\"/>\n<text text-anchor=\"middle\" x=\"190.5\" y=\"-106.8\" font-family=\"Times,serif\" font-size=\"14.00\" fill=\"#000000\">9.0</text>\n</g>\n<!-- 1 -->\n<g id=\"node2\" class=\"node\">\n<title>1</title>\n<ellipse fill=\"none\" stroke=\"#000000\" cx=\"27\" cy=\"-75\" rx=\"27\" ry=\"18\"/>\n<text text-anchor=\"middle\" x=\"27\" y=\"-71.3\" font-family=\"Times,serif\" font-size=\"14.00\" fill=\"#000000\">1</text>\n</g>\n<!-- 1&#45;&gt;0 -->\n<g id=\"edge4\" class=\"edge\">\n<title>1&#45;&gt;0</title>\n<path fill=\"none\" stroke=\"#ff4500\" d=\"M49.3208,-85.4437C65.1915,-92.8694 86.7344,-102.9491 104.3726,-111.2018\"/>\n<polygon fill=\"#ff4500\" stroke=\"#ff4500\" points=\"103.1682,-114.5024 113.709,-115.5703 106.1348,-108.1621 103.1682,-114.5024\"/>\n<text text-anchor=\"middle\" x=\"81.5\" y=\"-106.8\" font-family=\"Times,serif\" font-size=\"14.00\" fill=\"#000000\">3.0</text>\n</g>\n<!-- 1&#45;&gt;3 -->\n<g id=\"edge5\" class=\"edge\">\n<title>1&#45;&gt;3</title>\n<path fill=\"none\" stroke=\"#ff4500\" d=\"M54.1691,-75C92.867,-75 163.994,-75 207.6319,-75\"/>\n<polygon fill=\"#ff4500\" stroke=\"#ff4500\" points=\"207.8318,-78.5001 217.8318,-75 207.8318,-71.5001 207.8318,-78.5001\"/>\n<text text-anchor=\"middle\" x=\"136\" y=\"-78.8\" font-family=\"Times,serif\" font-size=\"14.00\" fill=\"#000000\">8.0</text>\n</g>\n<!-- 5 -->\n<g id=\"node6\" class=\"node\">\n<title>5</title>\n<ellipse fill=\"none\" stroke=\"#000000\" cx=\"354\" cy=\"-45\" rx=\"27\" ry=\"18\"/>\n<text text-anchor=\"middle\" x=\"354\" y=\"-41.3\" font-family=\"Times,serif\" font-size=\"14.00\" fill=\"#000000\">5</text>\n</g>\n<!-- 1&#45;&gt;5 -->\n<g id=\"edge6\" class=\"edge\">\n<title>1&#45;&gt;5</title>\n<path fill=\"none\" stroke=\"#ff4500\" d=\"M53.1512,-70.3015C89.8418,-63.9387 158.7524,-52.8241 218,-48 251.2488,-45.2928 289.2104,-44.6597 316.562,-44.6361\"/>\n<polygon fill=\"#ff4500\" stroke=\"#ff4500\" points=\"316.8509,-48.1366 326.8575,-44.6555 316.8642,-41.1366 316.8509,-48.1366\"/>\n<text text-anchor=\"middle\" x=\"190.5\" y=\"-54.8\" font-family=\"Times,serif\" font-size=\"14.00\" fill=\"#000000\">9.0</text>\n</g>\n<!-- 3&#45;&gt;5 -->\n<g id=\"edge3\" class=\"edge\">\n<title>3&#45;&gt;5</title>\n<path fill=\"none\" stroke=\"#000000\" d=\"M270.0068,-68.1174C284.4433,-64.1441 302.8307,-59.0833 318.7188,-54.7104\"/>\n<polygon fill=\"#000000\" stroke=\"#000000\" points=\"320.0194,-57.9827 328.7321,-51.9545 318.1618,-51.2336 320.0194,-57.9827\"/>\n<text text-anchor=\"middle\" x=\"299.5\" y=\"-64.8\" font-family=\"Times,serif\" font-size=\"14.00\" fill=\"#000000\">8.0</text>\n</g>\n<!-- 4 -->\n<g id=\"node5\" class=\"node\">\n<title>4</title>\n<ellipse fill=\"none\" stroke=\"#000000\" cx=\"572\" cy=\"-45\" rx=\"27\" ry=\"18\"/>\n<text text-anchor=\"middle\" x=\"572\" y=\"-41.3\" font-family=\"Times,serif\" font-size=\"14.00\" fill=\"#000000\">4</text>\n</g>\n<!-- 6 -->\n<g id=\"node7\" class=\"node\">\n<title>6</title>\n<ellipse fill=\"none\" stroke=\"#000000\" cx=\"463\" cy=\"-72\" rx=\"27\" ry=\"18\"/>\n<text text-anchor=\"middle\" x=\"463\" y=\"-68.3\" font-family=\"Times,serif\" font-size=\"14.00\" fill=\"#000000\">6</text>\n</g>\n<!-- 5&#45;&gt;6 -->\n<g id=\"edge7\" class=\"edge\">\n<title>5&#45;&gt;6</title>\n<path fill=\"none\" stroke=\"#ff4500\" d=\"M379.5557,-51.3303C393.9053,-54.8848 412.0262,-59.3735 427.7122,-63.259\"/>\n<polygon fill=\"#ff4500\" stroke=\"#ff4500\" points=\"427.0562,-66.7022 437.6045,-65.7094 428.7394,-59.9076 427.0562,-66.7022\"/>\n<text text-anchor=\"middle\" x=\"408.5\" y=\"-63.8\" font-family=\"Times,serif\" font-size=\"14.00\" fill=\"#000000\">7.0</text>\n</g>\n<!-- 7 -->\n<g id=\"node8\" class=\"node\">\n<title>7</title>\n<ellipse fill=\"none\" stroke=\"#000000\" cx=\"463\" cy=\"-18\" rx=\"27\" ry=\"18\"/>\n<text text-anchor=\"middle\" x=\"463\" y=\"-14.3\" font-family=\"Times,serif\" font-size=\"14.00\" fill=\"#000000\">7</text>\n</g>\n<!-- 5&#45;&gt;7 -->\n<g id=\"edge8\" class=\"edge\">\n<title>5&#45;&gt;7</title>\n<path fill=\"none\" stroke=\"#ff4500\" d=\"M379.5557,-38.6697C393.9053,-35.1152 412.0262,-30.6265 427.7122,-26.741\"/>\n<polygon fill=\"#ff4500\" stroke=\"#ff4500\" points=\"428.7394,-30.0924 437.6045,-24.2906 427.0562,-23.2978 428.7394,-30.0924\"/>\n<text text-anchor=\"middle\" x=\"408.5\" y=\"-37.8\" font-family=\"Times,serif\" font-size=\"14.00\" fill=\"#000000\">7.0</text>\n</g>\n<!-- 6&#45;&gt;4 -->\n<g id=\"edge9\" class=\"edge\">\n<title>6&#45;&gt;4</title>\n<path fill=\"none\" stroke=\"#ff4500\" d=\"M488.5557,-65.6697C502.9053,-62.1152 521.0262,-57.6265 536.7122,-53.741\"/>\n<polygon fill=\"#ff4500\" stroke=\"#ff4500\" points=\"537.7394,-57.0924 546.6045,-51.2906 536.0562,-50.2978 537.7394,-57.0924\"/>\n<text text-anchor=\"middle\" x=\"517.5\" y=\"-63.8\" font-family=\"Times,serif\" font-size=\"14.00\" fill=\"#000000\">4.0</text>\n</g>\n<!-- 7&#45;&gt;4 -->\n<g id=\"edge10\" class=\"edge\">\n<title>7&#45;&gt;4</title>\n<path fill=\"none\" stroke=\"#000000\" d=\"M488.5557,-24.3303C502.9053,-27.8848 521.0262,-32.3735 536.7122,-36.259\"/>\n<polygon fill=\"#000000\" stroke=\"#000000\" points=\"536.0562,-39.7022 546.6045,-38.7094 537.7394,-32.9076 536.0562,-39.7022\"/>\n<text text-anchor=\"middle\" x=\"517.5\" y=\"-37.8\" font-family=\"Times,serif\" font-size=\"14.00\" fill=\"#000000\">6.0</text>\n</g>\n</g>\n</svg>\n"
          },
          "metadata": {
            "tags": []
          },
          "execution_count": 14
        }
      ]
    },
    {
      "cell_type": "code",
      "metadata": {
        "colab": {
          "base_uri": "https://localhost:8080/"
        },
        "id": "bpiTacCJUEXM",
        "outputId": "a297b39b-858a-4d73-8cbd-526559e4d038"
      },
      "source": [
        "a, b = nx.single_source_dijkstra(G, 1)\n",
        "print(\"Paths by networkx\")\n",
        "for i in range(len(a)):\n",
        "  print(f\"Cost: {a[i]:2.0f} -> Path to {i}: {b[i]}\")"
      ],
      "execution_count": 15,
      "outputs": [
        {
          "output_type": "stream",
          "text": [
            "Paths by networkx\n",
            "Cost:  3 -> Path to 0: [1, 0]\n",
            "Cost:  0 -> Path to 1: [1]\n",
            "Cost:  9 -> Path to 2: [1, 0, 2]\n",
            "Cost:  8 -> Path to 3: [1, 3]\n",
            "Cost: 20 -> Path to 4: [1, 5, 6, 4]\n",
            "Cost:  9 -> Path to 5: [1, 5]\n",
            "Cost: 16 -> Path to 6: [1, 5, 6]\n",
            "Cost: 16 -> Path to 7: [1, 5, 7]\n"
          ],
          "name": "stdout"
        }
      ]
    },
    {
      "cell_type": "markdown",
      "metadata": {
        "id": "p_lTQtOXUeBM"
      },
      "source": [
        "SIMPLE ADJANCENCY LIST VERSION"
      ]
    },
    {
      "cell_type": "code",
      "metadata": {
        "id": "KucJVZUSUf4J"
      },
      "source": [
        "def dijkstraNoNx(G, s):\n",
        "  n = len(G)\n",
        "  path = [-1]*n\n",
        "  visited = [False]*n\n",
        "  cost = [math.inf]*n\n",
        "\n",
        "  cost[s] = 0\n",
        "  q = [(0, s)]\n",
        "  while q:\n",
        "    g_u, u = hq.heappop(q)\n",
        "    if not visited[u]:\n",
        "      visited[u] = True\n",
        "      for v, w_uv in G[u]:\n",
        "        if not visited[v]:\n",
        "          f_v = g_u + w_uv\n",
        "          g_v = cost[v]\n",
        "          if f_v < g_v:\n",
        "            cost[v] = f_v\n",
        "            path[v] = u\n",
        "            hq.heappush(q, (f_v, v))\n",
        "\n",
        "  return path"
      ],
      "execution_count": 16,
      "outputs": []
    },
    {
      "cell_type": "code",
      "metadata": {
        "colab": {
          "base_uri": "https://localhost:8080/",
          "height": 277
        },
        "id": "ZsKMo1DTUiO9",
        "outputId": "a081de90-fd3f-4b55-c514-84ded03d5e52"
      },
      "source": [
        "G = gs.wedges2adjlist('1.csv')\n",
        "path = dijkstraNoNx(G, 1)\n",
        "print(path)\n",
        "gs.path2gv(path)"
      ],
      "execution_count": 17,
      "outputs": [
        {
          "output_type": "stream",
          "text": [
            "[1, -1, 0, 1, 6, 1, 5, 5]\n"
          ],
          "name": "stdout"
        },
        {
          "output_type": "execute_result",
          "data": {
            "text/plain": [
              "<graphviz.dot.Digraph at 0x7fe1fe8bf390>"
            ],
            "image/svg+xml": "<?xml version=\"1.0\" encoding=\"UTF-8\" standalone=\"no\"?>\n<!DOCTYPE svg PUBLIC \"-//W3C//DTD SVG 1.1//EN\"\n \"http://www.w3.org/Graphics/SVG/1.1/DTD/svg11.dtd\">\n<!-- Generated by graphviz version 2.40.1 (20161225.0304)\n -->\n<!-- Title: G Pages: 1 -->\n<svg width=\"332pt\" height=\"179pt\"\n viewBox=\"0.00 0.00 332.00 179.00\" xmlns=\"http://www.w3.org/2000/svg\" xmlns:xlink=\"http://www.w3.org/1999/xlink\">\n<g id=\"graph0\" class=\"graph\" transform=\"scale(1 1) rotate(0) translate(4 175)\">\n<title>G</title>\n<polygon fill=\"#ffffff\" stroke=\"transparent\" points=\"-4,4 -4,-175 328,-175 328,4 -4,4\"/>\n<!-- 0 -->\n<g id=\"node1\" class=\"node\">\n<title>0</title>\n<ellipse fill=\"none\" stroke=\"#000000\" cx=\"117\" cy=\"-153\" rx=\"27\" ry=\"18\"/>\n<text text-anchor=\"middle\" x=\"117\" y=\"-149.3\" font-family=\"Times,serif\" font-size=\"14.00\" fill=\"#000000\">0</text>\n</g>\n<!-- 2 -->\n<g id=\"node3\" class=\"node\">\n<title>2</title>\n<ellipse fill=\"none\" stroke=\"#000000\" cx=\"207\" cy=\"-153\" rx=\"27\" ry=\"18\"/>\n<text text-anchor=\"middle\" x=\"207\" y=\"-149.3\" font-family=\"Times,serif\" font-size=\"14.00\" fill=\"#000000\">2</text>\n</g>\n<!-- 0&#45;&gt;2 -->\n<g id=\"edge2\" class=\"edge\">\n<title>0&#45;&gt;2</title>\n<path fill=\"none\" stroke=\"#000000\" d=\"M144.003,-153C152.0277,-153 160.9665,-153 169.5309,-153\"/>\n<polygon fill=\"#000000\" stroke=\"#000000\" points=\"169.7051,-156.5001 179.705,-153 169.705,-149.5001 169.7051,-156.5001\"/>\n</g>\n<!-- 1 -->\n<g id=\"node2\" class=\"node\">\n<title>1</title>\n<ellipse fill=\"none\" stroke=\"#000000\" cx=\"27\" cy=\"-99\" rx=\"27\" ry=\"18\"/>\n<text text-anchor=\"middle\" x=\"27\" y=\"-95.3\" font-family=\"Times,serif\" font-size=\"14.00\" fill=\"#000000\">1</text>\n</g>\n<!-- 1&#45;&gt;0 -->\n<g id=\"edge1\" class=\"edge\">\n<title>1&#45;&gt;0</title>\n<path fill=\"none\" stroke=\"#000000\" d=\"M47.4224,-111.2534C59.3897,-118.4338 74.7024,-127.6215 87.9143,-135.5486\"/>\n<polygon fill=\"#000000\" stroke=\"#000000\" points=\"86.2827,-138.6513 96.6584,-140.7951 89.8842,-132.6488 86.2827,-138.6513\"/>\n</g>\n<!-- 3 -->\n<g id=\"node4\" class=\"node\">\n<title>3</title>\n<ellipse fill=\"none\" stroke=\"#000000\" cx=\"117\" cy=\"-99\" rx=\"27\" ry=\"18\"/>\n<text text-anchor=\"middle\" x=\"117\" y=\"-95.3\" font-family=\"Times,serif\" font-size=\"14.00\" fill=\"#000000\">3</text>\n</g>\n<!-- 1&#45;&gt;3 -->\n<g id=\"edge3\" class=\"edge\">\n<title>1&#45;&gt;3</title>\n<path fill=\"none\" stroke=\"#000000\" d=\"M54.003,-99C62.0277,-99 70.9665,-99 79.5309,-99\"/>\n<polygon fill=\"#000000\" stroke=\"#000000\" points=\"79.7051,-102.5001 89.705,-99 79.705,-95.5001 79.7051,-102.5001\"/>\n</g>\n<!-- 5 -->\n<g id=\"node6\" class=\"node\">\n<title>5</title>\n<ellipse fill=\"none\" stroke=\"#000000\" cx=\"117\" cy=\"-45\" rx=\"27\" ry=\"18\"/>\n<text text-anchor=\"middle\" x=\"117\" y=\"-41.3\" font-family=\"Times,serif\" font-size=\"14.00\" fill=\"#000000\">5</text>\n</g>\n<!-- 1&#45;&gt;5 -->\n<g id=\"edge5\" class=\"edge\">\n<title>1&#45;&gt;5</title>\n<path fill=\"none\" stroke=\"#000000\" d=\"M47.4224,-86.7466C59.3897,-79.5662 74.7024,-70.3785 87.9143,-62.4514\"/>\n<polygon fill=\"#000000\" stroke=\"#000000\" points=\"89.8842,-65.3512 96.6584,-57.2049 86.2827,-59.3487 89.8842,-65.3512\"/>\n</g>\n<!-- 4 -->\n<g id=\"node5\" class=\"node\">\n<title>4</title>\n<ellipse fill=\"none\" stroke=\"#000000\" cx=\"297\" cy=\"-72\" rx=\"27\" ry=\"18\"/>\n<text text-anchor=\"middle\" x=\"297\" y=\"-68.3\" font-family=\"Times,serif\" font-size=\"14.00\" fill=\"#000000\">4</text>\n</g>\n<!-- 6 -->\n<g id=\"node7\" class=\"node\">\n<title>6</title>\n<ellipse fill=\"none\" stroke=\"#000000\" cx=\"207\" cy=\"-72\" rx=\"27\" ry=\"18\"/>\n<text text-anchor=\"middle\" x=\"207\" y=\"-68.3\" font-family=\"Times,serif\" font-size=\"14.00\" fill=\"#000000\">6</text>\n</g>\n<!-- 5&#45;&gt;6 -->\n<g id=\"edge6\" class=\"edge\">\n<title>5&#45;&gt;6</title>\n<path fill=\"none\" stroke=\"#000000\" d=\"M142.07,-52.521C151.5102,-55.3531 162.4169,-58.6251 172.564,-61.6692\"/>\n<polygon fill=\"#000000\" stroke=\"#000000\" points=\"171.7915,-65.0915 182.3755,-64.6126 173.803,-58.3867 171.7915,-65.0915\"/>\n</g>\n<!-- 7 -->\n<g id=\"node8\" class=\"node\">\n<title>7</title>\n<ellipse fill=\"none\" stroke=\"#000000\" cx=\"207\" cy=\"-18\" rx=\"27\" ry=\"18\"/>\n<text text-anchor=\"middle\" x=\"207\" y=\"-14.3\" font-family=\"Times,serif\" font-size=\"14.00\" fill=\"#000000\">7</text>\n</g>\n<!-- 5&#45;&gt;7 -->\n<g id=\"edge7\" class=\"edge\">\n<title>5&#45;&gt;7</title>\n<path fill=\"none\" stroke=\"#000000\" d=\"M142.07,-37.479C151.5102,-34.6469 162.4169,-31.3749 172.564,-28.3308\"/>\n<polygon fill=\"#000000\" stroke=\"#000000\" points=\"173.803,-31.6133 182.3755,-25.3874 171.7915,-24.9085 173.803,-31.6133\"/>\n</g>\n<!-- 6&#45;&gt;4 -->\n<g id=\"edge4\" class=\"edge\">\n<title>6&#45;&gt;4</title>\n<path fill=\"none\" stroke=\"#000000\" d=\"M234.003,-72C242.0277,-72 250.9665,-72 259.5309,-72\"/>\n<polygon fill=\"#000000\" stroke=\"#000000\" points=\"259.7051,-75.5001 269.705,-72 259.705,-68.5001 259.7051,-75.5001\"/>\n</g>\n</g>\n</svg>\n"
          },
          "metadata": {
            "tags": []
          },
          "execution_count": 17
        }
      ]
    },
    {
      "cell_type": "markdown",
      "metadata": {
        "id": "Wwitos1jUxgL"
      },
      "source": [
        "***DLS (DEPTH LIMITED SEARCH)***\n",
        "O(v+L) \n",
        "\n",
        "v(numero de vertices)\n",
        "\n",
        "L(profundidad)"
      ]
    },
    {
      "cell_type": "code",
      "metadata": {
        "colab": {
          "base_uri": "https://localhost:8080/"
        },
        "id": "gj8B-DUSU090",
        "outputId": "7bce8f4c-75ec-4011-c7ce-01a13a9efdc2"
      },
      "source": [
        "!git clone https://github.com/lmcanavals/algorithmic_complexity.git 1>/dev/null\n"
      ],
      "execution_count": 29,
      "outputs": [
        {
          "output_type": "stream",
          "text": [
            "fatal: destination path 'algorithmic_complexity' already exists and is not an empty directory.\n"
          ],
          "name": "stdout"
        }
      ]
    },
    {
      "cell_type": "code",
      "metadata": {
        "id": "gbnWRMwrYJzA"
      },
      "source": [
        "from algorithmic_complexity.aclib import graphstuff as gs\n",
        "import networkx as nx"
      ],
      "execution_count": 18,
      "outputs": []
    },
    {
      "cell_type": "code",
      "metadata": {
        "id": "gegFlNyTYNr3"
      },
      "source": [
        "def _dls(G, u, limit):\n",
        "  if limit > 0:\n",
        "    if not G.nodes[u]['visited']:\n",
        "      G.nodes[u]['visited'] = True\n",
        "      for v in G.neighbors(u):\n",
        "        if not G.nodes[v]['visited']:\n",
        "          G.nodes[v]['path'] = u\n",
        "          G.nodes[v]['reached'] = True\n",
        "          _dls(G, v, limit - 1)\n",
        "def dls(G, s, limit):\n",
        "  for u in G.nodes:\n",
        "    G.nodes[u]['visited'] = False\n",
        "    G.nodes[u]['path']    = -1\n",
        "    G.nodes[u]['reached'] = False  # alcanzado pero no explorado\n",
        "\n",
        "  G.nodes[s]['reached'] = True\n",
        "  _dls(G, s, limit)\n",
        "\n",
        "  path = [0]*G.number_of_nodes()\n",
        "  for v, data in G.nodes.data():\n",
        "    path[v] = data['path']\n",
        "\n",
        "  return path"
      ],
      "execution_count": 19,
      "outputs": []
    },
    {
      "cell_type": "code",
      "metadata": {
        "colab": {
          "base_uri": "https://localhost:8080/"
        },
        "id": "G84fepYRYRs_",
        "outputId": "c75e7a47-78ec-4b44-c595-953d11da0d75"
      },
      "source": [
        "%%file 6.adjlist\n",
        "0 2 7 14\n",
        "1 4\n",
        "2\n",
        "3 2 10\n",
        "4 7\n",
        "5 6 8 \n",
        "6 3 5 \n",
        "7 8 11 14\n",
        "8 4\n",
        "9 5 6 13 \n",
        "10 6 9 17\n",
        "11 12\n",
        "12 11 16\n",
        "13 12 16\n",
        "14 \n",
        "15 14\n",
        "16 15\n",
        "17 16"
      ],
      "execution_count": 23,
      "outputs": [
        {
          "output_type": "stream",
          "text": [
            "Overwriting 6.adjlist\n"
          ],
          "name": "stdout"
        }
      ]
    },
    {
      "cell_type": "code",
      "metadata": {
        "colab": {
          "base_uri": "https://localhost:8080/",
          "height": 282
        },
        "id": "21qrp6QzYYDX",
        "outputId": "015d29e7-75f4-41bd-8c50-6b1a5b4d3f10"
      },
      "source": [
        "G = nx.read_adjlist('6.adjlist', create_using=nx.DiGraph, nodetype=int)\n",
        "gs.nx2gv(G)"
      ],
      "execution_count": 24,
      "outputs": [
        {
          "output_type": "execute_result",
          "data": {
            "text/plain": [
              "<graphviz.dot.Digraph at 0x7fe1fe734250>"
            ],
            "image/svg+xml": "<?xml version=\"1.0\" encoding=\"UTF-8\" standalone=\"no\"?>\n<!DOCTYPE svg PUBLIC \"-//W3C//DTD SVG 1.1//EN\"\n \"http://www.w3.org/Graphics/SVG/1.1/DTD/svg11.dtd\">\n<!-- Generated by graphviz version 2.40.1 (20161225.0304)\n -->\n<!-- Title: G Pages: 1 -->\n<svg width=\"360pt\" height=\"196pt\"\n viewBox=\"0.00 0.00 360.00 196.13\" xmlns=\"http://www.w3.org/2000/svg\" xmlns:xlink=\"http://www.w3.org/1999/xlink\">\n<g id=\"graph0\" class=\"graph\" transform=\"scale(.5202 .5202) rotate(0) translate(4 373)\">\n<title>G</title>\n<polygon fill=\"#ffffff\" stroke=\"transparent\" points=\"-4,4 -4,-373 688,-373 688,4 -4,4\"/>\n<!-- 0 -->\n<g id=\"node1\" class=\"node\">\n<title>0</title>\n<ellipse fill=\"none\" stroke=\"#000000\" cx=\"117\" cy=\"-60\" rx=\"27\" ry=\"18\"/>\n<text text-anchor=\"middle\" x=\"117\" y=\"-56.3\" font-family=\"Times,serif\" font-size=\"14.00\" fill=\"#000000\">0</text>\n</g>\n<!-- 2 -->\n<g id=\"node3\" class=\"node\">\n<title>2</title>\n<ellipse fill=\"none\" stroke=\"#000000\" cx=\"207\" cy=\"-114\" rx=\"27\" ry=\"18\"/>\n<text text-anchor=\"middle\" x=\"207\" y=\"-110.3\" font-family=\"Times,serif\" font-size=\"14.00\" fill=\"#000000\">2</text>\n</g>\n<!-- 0&#45;&gt;2 -->\n<g id=\"edge1\" class=\"edge\">\n<title>0&#45;&gt;2</title>\n<path fill=\"none\" stroke=\"#000000\" d=\"M137.4224,-72.2534C149.3897,-79.4338 164.7024,-88.6215 177.9143,-96.5486\"/>\n<polygon fill=\"#000000\" stroke=\"#000000\" points=\"176.2827,-99.6513 186.6584,-101.7951 179.8842,-93.6488 176.2827,-99.6513\"/>\n</g>\n<!-- 7 -->\n<g id=\"node8\" class=\"node\">\n<title>7</title>\n<ellipse fill=\"none\" stroke=\"#000000\" cx=\"207\" cy=\"-60\" rx=\"27\" ry=\"18\"/>\n<text text-anchor=\"middle\" x=\"207\" y=\"-56.3\" font-family=\"Times,serif\" font-size=\"14.00\" fill=\"#000000\">7</text>\n</g>\n<!-- 0&#45;&gt;7 -->\n<g id=\"edge2\" class=\"edge\">\n<title>0&#45;&gt;7</title>\n<path fill=\"none\" stroke=\"#000000\" d=\"M144.003,-60C152.0277,-60 160.9665,-60 169.5309,-60\"/>\n<polygon fill=\"#000000\" stroke=\"#000000\" points=\"169.7051,-63.5001 179.705,-60 169.705,-56.5001 169.7051,-63.5001\"/>\n</g>\n<!-- 14 -->\n<g id=\"node15\" class=\"node\">\n<title>14</title>\n<ellipse fill=\"none\" stroke=\"#000000\" cx=\"657\" cy=\"-38\" rx=\"27\" ry=\"18\"/>\n<text text-anchor=\"middle\" x=\"657\" y=\"-34.3\" font-family=\"Times,serif\" font-size=\"14.00\" fill=\"#000000\">14</text>\n</g>\n<!-- 0&#45;&gt;14 -->\n<g id=\"edge3\" class=\"edge\">\n<title>0&#45;&gt;14</title>\n<path fill=\"none\" stroke=\"#000000\" d=\"M137.5892,-48.289C170.2796,-30.8279 236.5544,0 297,0 297,0 297,0 477,0 528.7433,0 587.0841,-15.2186 622.9493,-26.3939\"/>\n<polygon fill=\"#000000\" stroke=\"#000000\" points=\"622.2946,-29.8589 632.8854,-29.5666 624.4239,-23.1906 622.2946,-29.8589\"/>\n</g>\n<!-- 1 -->\n<g id=\"node2\" class=\"node\">\n<title>1</title>\n<ellipse fill=\"none\" stroke=\"#000000\" cx=\"477\" cy=\"-176\" rx=\"27\" ry=\"18\"/>\n<text text-anchor=\"middle\" x=\"477\" y=\"-172.3\" font-family=\"Times,serif\" font-size=\"14.00\" fill=\"#000000\">1</text>\n</g>\n<!-- 4 -->\n<g id=\"node5\" class=\"node\">\n<title>4</title>\n<ellipse fill=\"none\" stroke=\"#000000\" cx=\"567\" cy=\"-122\" rx=\"27\" ry=\"18\"/>\n<text text-anchor=\"middle\" x=\"567\" y=\"-118.3\" font-family=\"Times,serif\" font-size=\"14.00\" fill=\"#000000\">4</text>\n</g>\n<!-- 1&#45;&gt;4 -->\n<g id=\"edge7\" class=\"edge\">\n<title>1&#45;&gt;4</title>\n<path fill=\"none\" stroke=\"#000000\" d=\"M497.4224,-163.7466C509.3897,-156.5662 524.7024,-147.3785 537.9143,-139.4514\"/>\n<polygon fill=\"#000000\" stroke=\"#000000\" points=\"539.8842,-142.3512 546.6584,-134.2049 536.2827,-136.3487 539.8842,-142.3512\"/>\n</g>\n<!-- 3 -->\n<g id=\"node4\" class=\"node\">\n<title>3</title>\n<ellipse fill=\"none\" stroke=\"#000000\" cx=\"27\" cy=\"-160\" rx=\"27\" ry=\"18\"/>\n<text text-anchor=\"middle\" x=\"27\" y=\"-156.3\" font-family=\"Times,serif\" font-size=\"14.00\" fill=\"#000000\">3</text>\n</g>\n<!-- 3&#45;&gt;2 -->\n<g id=\"edge9\" class=\"edge\">\n<title>3&#45;&gt;2</title>\n<path fill=\"none\" stroke=\"#000000\" d=\"M52.4078,-153.5069C83.6313,-145.5276 136.7766,-131.946 171.8889,-122.9728\"/>\n<polygon fill=\"#000000\" stroke=\"#000000\" points=\"172.8994,-126.3272 181.7214,-120.4601 171.1662,-119.5451 172.8994,-126.3272\"/>\n</g>\n<!-- 10 -->\n<g id=\"node11\" class=\"node\">\n<title>10</title>\n<ellipse fill=\"none\" stroke=\"#000000\" cx=\"117\" cy=\"-225\" rx=\"27\" ry=\"18\"/>\n<text text-anchor=\"middle\" x=\"117\" y=\"-221.3\" font-family=\"Times,serif\" font-size=\"14.00\" fill=\"#000000\">10</text>\n</g>\n<!-- 3&#45;&gt;10 -->\n<g id=\"edge10\" class=\"edge\">\n<title>3&#45;&gt;10</title>\n<path fill=\"none\" stroke=\"#000000\" d=\"M45.6481,-173.468C58.5247,-182.7679 75.8462,-195.2778 90.1979,-205.6429\"/>\n<polygon fill=\"#000000\" stroke=\"#000000\" points=\"88.5277,-208.754 98.6838,-211.7716 92.6262,-203.0793 88.5277,-208.754\"/>\n</g>\n<!-- 4&#45;&gt;7 -->\n<g id=\"edge8\" class=\"edge\">\n<title>4&#45;&gt;7</title>\n<path fill=\"none\" stroke=\"#000000\" d=\"M545.3942,-110.9055C533.4819,-105.2628 518.2555,-98.809 504,-95 412.8178,-70.6363 301.374,-63.2255 244.4211,-60.9762\"/>\n<polygon fill=\"#000000\" stroke=\"#000000\" points=\"244.2287,-57.4671 234.1084,-60.6025 243.9751,-64.4625 244.2287,-57.4671\"/>\n</g>\n<!-- 5 -->\n<g id=\"node6\" class=\"node\">\n<title>5</title>\n<ellipse fill=\"none\" stroke=\"#000000\" cx=\"387\" cy=\"-160\" rx=\"27\" ry=\"18\"/>\n<text text-anchor=\"middle\" x=\"387\" y=\"-156.3\" font-family=\"Times,serif\" font-size=\"14.00\" fill=\"#000000\">5</text>\n</g>\n<!-- 6 -->\n<g id=\"node7\" class=\"node\">\n<title>6</title>\n<ellipse fill=\"none\" stroke=\"#000000\" cx=\"297\" cy=\"-160\" rx=\"27\" ry=\"18\"/>\n<text text-anchor=\"middle\" x=\"297\" y=\"-156.3\" font-family=\"Times,serif\" font-size=\"14.00\" fill=\"#000000\">6</text>\n</g>\n<!-- 5&#45;&gt;6 -->\n<g id=\"edge14\" class=\"edge\">\n<title>5&#45;&gt;6</title>\n<path fill=\"none\" stroke=\"#000000\" d=\"M361.3865,-166.1592C352.45,-166.7387 342.2523,-166.8919 332.6491,-166.6188\"/>\n<polygon fill=\"#000000\" stroke=\"#000000\" points=\"332.6997,-163.1175 322.5497,-166.1551 332.3786,-170.1101 332.6997,-163.1175\"/>\n</g>\n<!-- 8 -->\n<g id=\"node9\" class=\"node\">\n<title>8</title>\n<ellipse fill=\"none\" stroke=\"#000000\" cx=\"477\" cy=\"-122\" rx=\"27\" ry=\"18\"/>\n<text text-anchor=\"middle\" x=\"477\" y=\"-118.3\" font-family=\"Times,serif\" font-size=\"14.00\" fill=\"#000000\">8</text>\n</g>\n<!-- 5&#45;&gt;8 -->\n<g id=\"edge15\" class=\"edge\">\n<title>5&#45;&gt;8</title>\n<path fill=\"none\" stroke=\"#000000\" d=\"M410.1772,-150.2141C420.6752,-145.7816 433.2638,-140.4664 444.67,-135.6504\"/>\n<polygon fill=\"#000000\" stroke=\"#000000\" points=\"446.0502,-138.8669 453.9013,-131.7528 443.3274,-132.4182 446.0502,-138.8669\"/>\n</g>\n<!-- 6&#45;&gt;3 -->\n<g id=\"edge16\" class=\"edge\">\n<title>6&#45;&gt;3</title>\n<path fill=\"none\" stroke=\"#000000\" d=\"M269.8932,-160C221.2874,-160 119.2514,-160 64.164,-160\"/>\n<polygon fill=\"#000000\" stroke=\"#000000\" points=\"64.1249,-156.5001 54.1248,-160 64.1248,-163.5001 64.1249,-156.5001\"/>\n</g>\n<!-- 6&#45;&gt;5 -->\n<g id=\"edge17\" class=\"edge\">\n<title>6&#45;&gt;5</title>\n<path fill=\"none\" stroke=\"#000000\" d=\"M322.5497,-153.8449C331.4801,-153.2634 341.6762,-153.1082 351.2822,-153.3793\"/>\n<polygon fill=\"#000000\" stroke=\"#000000\" points=\"351.2372,-156.8808 361.3865,-153.8408 351.5566,-149.8881 351.2372,-156.8808\"/>\n</g>\n<!-- 7&#45;&gt;8 -->\n<g id=\"edge4\" class=\"edge\">\n<title>7&#45;&gt;8</title>\n<path fill=\"none\" stroke=\"#000000\" d=\"M227.6689,-71.7247C239.6773,-78.0509 255.297,-85.4696 270,-90 327.8269,-107.8181 397.9354,-115.9926 439.9281,-119.5321\"/>\n<polygon fill=\"#000000\" stroke=\"#000000\" points=\"439.7268,-123.0271 449.9739,-120.3352 440.2846,-116.0494 439.7268,-123.0271\"/>\n</g>\n<!-- 11 -->\n<g id=\"node12\" class=\"node\">\n<title>11</title>\n<ellipse fill=\"none\" stroke=\"#000000\" cx=\"297\" cy=\"-252\" rx=\"27\" ry=\"18\"/>\n<text text-anchor=\"middle\" x=\"297\" y=\"-248.3\" font-family=\"Times,serif\" font-size=\"14.00\" fill=\"#000000\">11</text>\n</g>\n<!-- 7&#45;&gt;11 -->\n<g id=\"edge5\" class=\"edge\">\n<title>7&#45;&gt;11</title>\n<path fill=\"none\" stroke=\"#000000\" d=\"M223.7085,-74.3885C227.4561,-78.2064 231.1584,-82.5222 234,-87 259.3103,-126.8835 252.9349,-142.9535 270,-187 274.8974,-199.6405 280.6206,-213.532 285.5342,-225.2164\"/>\n<polygon fill=\"#000000\" stroke=\"#000000\" points=\"282.3152,-226.5907 289.4353,-234.4363 288.7618,-223.8629 282.3152,-226.5907\"/>\n</g>\n<!-- 7&#45;&gt;14 -->\n<g id=\"edge6\" class=\"edge\">\n<title>7&#45;&gt;14</title>\n<path fill=\"none\" stroke=\"#000000\" d=\"M233.1105,-54.7863C268.0215,-48.2806 331.9055,-38 387,-38 387,-38 387,-38 477,-38 526.3475,-38 583.305,-38 619.7075,-38\"/>\n<polygon fill=\"#000000\" stroke=\"#000000\" points=\"619.8598,-41.5001 629.8597,-38 619.8597,-34.5001 619.8598,-41.5001\"/>\n</g>\n<!-- 8&#45;&gt;4 -->\n<g id=\"edge18\" class=\"edge\">\n<title>8&#45;&gt;4</title>\n<path fill=\"none\" stroke=\"#000000\" d=\"M504.003,-122C512.0277,-122 520.9665,-122 529.5309,-122\"/>\n<polygon fill=\"#000000\" stroke=\"#000000\" points=\"529.7051,-125.5001 539.705,-122 529.705,-118.5001 529.7051,-125.5001\"/>\n</g>\n<!-- 9 -->\n<g id=\"node10\" class=\"node\">\n<title>9</title>\n<ellipse fill=\"none\" stroke=\"#000000\" cx=\"207\" cy=\"-244\" rx=\"27\" ry=\"18\"/>\n<text text-anchor=\"middle\" x=\"207\" y=\"-240.3\" font-family=\"Times,serif\" font-size=\"14.00\" fill=\"#000000\">9</text>\n</g>\n<!-- 9&#45;&gt;5 -->\n<g id=\"edge20\" class=\"edge\">\n<title>9&#45;&gt;5</title>\n<path fill=\"none\" stroke=\"#000000\" d=\"M229.4332,-233.5312C261.2695,-218.6742 319.6877,-191.4124 355.7518,-174.5825\"/>\n<polygon fill=\"#000000\" stroke=\"#000000\" points=\"357.2678,-177.7374 364.8496,-170.3369 354.3076,-171.3941 357.2678,-177.7374\"/>\n</g>\n<!-- 9&#45;&gt;6 -->\n<g id=\"edge21\" class=\"edge\">\n<title>9&#45;&gt;6</title>\n<path fill=\"none\" stroke=\"#000000\" d=\"M223.0902,-228.9825C237.1683,-215.843 257.7927,-196.5935 273.6799,-181.7654\"/>\n<polygon fill=\"#000000\" stroke=\"#000000\" points=\"276.1267,-184.2694 281.0491,-174.8875 271.3504,-179.152 276.1267,-184.2694\"/>\n</g>\n<!-- 13 -->\n<g id=\"node14\" class=\"node\">\n<title>13</title>\n<ellipse fill=\"none\" stroke=\"#000000\" cx=\"297\" cy=\"-306\" rx=\"27\" ry=\"18\"/>\n<text text-anchor=\"middle\" x=\"297\" y=\"-302.3\" font-family=\"Times,serif\" font-size=\"14.00\" fill=\"#000000\">13</text>\n</g>\n<!-- 9&#45;&gt;13 -->\n<g id=\"edge22\" class=\"edge\">\n<title>9&#45;&gt;13</title>\n<path fill=\"none\" stroke=\"#000000\" d=\"M226.0867,-257.1486C238.7349,-265.8618 255.5263,-277.4292 269.5946,-287.1207\"/>\n<polygon fill=\"#000000\" stroke=\"#000000\" points=\"267.7202,-290.0795 277.9408,-292.8703 271.6913,-284.315 267.7202,-290.0795\"/>\n</g>\n<!-- 10&#45;&gt;6 -->\n<g id=\"edge11\" class=\"edge\">\n<title>10&#45;&gt;6</title>\n<path fill=\"none\" stroke=\"#000000\" d=\"M140.9026,-216.3685C172.3715,-205.0047 227.8684,-184.9642 263.509,-172.094\"/>\n<polygon fill=\"#000000\" stroke=\"#000000\" points=\"264.7818,-175.3556 272.9985,-168.6672 262.4042,-168.7718 264.7818,-175.3556\"/>\n</g>\n<!-- 10&#45;&gt;9 -->\n<g id=\"edge12\" class=\"edge\">\n<title>10&#45;&gt;9</title>\n<path fill=\"none\" stroke=\"#000000\" d=\"M143.0317,-230.4956C151.8005,-232.3468 161.7454,-234.4463 171.1362,-236.4287\"/>\n<polygon fill=\"#000000\" stroke=\"#000000\" points=\"170.5194,-239.8756 181.0268,-238.5168 171.9654,-233.0266 170.5194,-239.8756\"/>\n</g>\n<!-- 17 -->\n<g id=\"node18\" class=\"node\">\n<title>17</title>\n<ellipse fill=\"none\" stroke=\"#000000\" cx=\"387\" cy=\"-351\" rx=\"27\" ry=\"18\"/>\n<text text-anchor=\"middle\" x=\"387\" y=\"-347.3\" font-family=\"Times,serif\" font-size=\"14.00\" fill=\"#000000\">17</text>\n</g>\n<!-- 10&#45;&gt;17 -->\n<g id=\"edge13\" class=\"edge\">\n<title>10&#45;&gt;17</title>\n<path fill=\"none\" stroke=\"#000000\" d=\"M132.455,-239.8034C158.494,-263.7836 213.7928,-310.6843 270,-333 295.3433,-343.0619 325.8446,-347.5291 349.3498,-349.4981\"/>\n<polygon fill=\"#000000\" stroke=\"#000000\" points=\"349.3876,-353.0098 359.6135,-350.2381 349.8911,-346.0279 349.3876,-353.0098\"/>\n</g>\n<!-- 12 -->\n<g id=\"node13\" class=\"node\">\n<title>12</title>\n<ellipse fill=\"none\" stroke=\"#000000\" cx=\"387\" cy=\"-256\" rx=\"27\" ry=\"18\"/>\n<text text-anchor=\"middle\" x=\"387\" y=\"-252.3\" font-family=\"Times,serif\" font-size=\"14.00\" fill=\"#000000\">12</text>\n</g>\n<!-- 11&#45;&gt;12 -->\n<g id=\"edge19\" class=\"edge\">\n<title>11&#45;&gt;12</title>\n<path fill=\"none\" stroke=\"#000000\" d=\"M323.0317,-246.971C332.0292,-246.8033 342.2651,-247.119 351.8699,-247.8351\"/>\n<polygon fill=\"#000000\" stroke=\"#000000\" points=\"351.6769,-251.3321 361.9561,-248.7653 352.3199,-244.3616 351.6769,-251.3321\"/>\n</g>\n<!-- 12&#45;&gt;11 -->\n<g id=\"edge26\" class=\"edge\">\n<title>12&#45;&gt;11</title>\n<path fill=\"none\" stroke=\"#000000\" d=\"M360.8096,-261.0319C351.8429,-261.1931 341.6613,-260.8763 332.1058,-260.1631\"/>\n<polygon fill=\"#000000\" stroke=\"#000000\" points=\"332.3492,-256.6708 322.07,-259.2376 331.7063,-263.6412 332.3492,-256.6708\"/>\n</g>\n<!-- 16 -->\n<g id=\"node17\" class=\"node\">\n<title>16</title>\n<ellipse fill=\"none\" stroke=\"#000000\" cx=\"477\" cy=\"-279\" rx=\"27\" ry=\"18\"/>\n<text text-anchor=\"middle\" x=\"477\" y=\"-275.3\" font-family=\"Times,serif\" font-size=\"14.00\" fill=\"#000000\">16</text>\n</g>\n<!-- 12&#45;&gt;16 -->\n<g id=\"edge27\" class=\"edge\">\n<title>12&#45;&gt;16</title>\n<path fill=\"none\" stroke=\"#000000\" d=\"M412.5497,-262.5294C421.6523,-264.8556 432.0697,-267.5178 441.8371,-270.0139\"/>\n<polygon fill=\"#000000\" stroke=\"#000000\" points=\"441.1427,-273.4489 451.698,-272.5339 442.876,-266.6668 441.1427,-273.4489\"/>\n</g>\n<!-- 13&#45;&gt;12 -->\n<g id=\"edge23\" class=\"edge\">\n<title>13&#45;&gt;12</title>\n<path fill=\"none\" stroke=\"#000000\" d=\"M317.874,-294.4033C329.574,-287.9034 344.3631,-279.6872 357.2568,-272.524\"/>\n<polygon fill=\"#000000\" stroke=\"#000000\" points=\"359.1974,-275.4498 366.2392,-267.5338 355.7978,-269.3307 359.1974,-275.4498\"/>\n</g>\n<!-- 13&#45;&gt;16 -->\n<g id=\"edge24\" class=\"edge\">\n<title>13&#45;&gt;16</title>\n<path fill=\"none\" stroke=\"#000000\" d=\"M323.5596,-302.0161C354.4897,-297.3765 405.7592,-289.6861 440.4363,-284.4846\"/>\n<polygon fill=\"#000000\" stroke=\"#000000\" points=\"441.2545,-287.9011 450.6246,-282.9563 440.216,-280.9785 441.2545,-287.9011\"/>\n</g>\n<!-- 15 -->\n<g id=\"node16\" class=\"node\">\n<title>15</title>\n<ellipse fill=\"none\" stroke=\"#000000\" cx=\"567\" cy=\"-227\" rx=\"27\" ry=\"18\"/>\n<text text-anchor=\"middle\" x=\"567\" y=\"-223.3\" font-family=\"Times,serif\" font-size=\"14.00\" fill=\"#000000\">15</text>\n</g>\n<!-- 15&#45;&gt;14 -->\n<g id=\"edge29\" class=\"edge\">\n<title>15&#45;&gt;14</title>\n<path fill=\"none\" stroke=\"#000000\" d=\"M575.3057,-209.5581C591.1115,-176.3657 625.6056,-103.9283 644.318,-64.6322\"/>\n<polygon fill=\"#000000\" stroke=\"#000000\" points=\"647.575,-65.9331 648.7144,-55.3997 641.255,-62.9236 647.575,-65.9331\"/>\n</g>\n<!-- 16&#45;&gt;15 -->\n<g id=\"edge28\" class=\"edge\">\n<title>16&#45;&gt;15</title>\n<path fill=\"none\" stroke=\"#000000\" d=\"M497.4224,-267.2004C509.3055,-260.3346 524.4869,-251.5631 537.6349,-243.9665\"/>\n<polygon fill=\"#000000\" stroke=\"#000000\" points=\"539.4392,-246.9663 546.3469,-238.9329 535.9372,-240.9052 539.4392,-246.9663\"/>\n</g>\n<!-- 17&#45;&gt;16 -->\n<g id=\"edge25\" class=\"edge\">\n<title>17&#45;&gt;16</title>\n<path fill=\"none\" stroke=\"#000000\" d=\"M404.3529,-337.1177C417.7997,-326.3602 436.6239,-311.3009 451.741,-299.2072\"/>\n<polygon fill=\"#000000\" stroke=\"#000000\" points=\"454.0781,-301.8197 459.7004,-292.8397 449.7052,-296.3536 454.0781,-301.8197\"/>\n</g>\n</g>\n</svg>\n"
          },
          "metadata": {
            "tags": []
          },
          "execution_count": 24
        }
      ]
    },
    {
      "cell_type": "code",
      "metadata": {
        "colab": {
          "base_uri": "https://localhost:8080/",
          "height": 481
        },
        "id": "qxqxvQo-Y85P",
        "outputId": "90e5742f-d89e-449d-82bf-3caa6c945993"
      },
      "source": [
        "path = dls(G, 3,4)\n",
        "print(path)\n",
        "#gs.path2gv(path)\n",
        "gs.path2gv(path, params={'rankdir':\"TD\", 'size':'8'}) #LR: Left ro Right, TD: Top to Down\n",
        "\n",
        "#llegamos al 12 pero no lo visitamos"
      ],
      "execution_count": 49,
      "outputs": [
        {
          "output_type": "stream",
          "text": [
            "[-1, -1, 3, -1, -1, 6, 10, -1, 5, 10, 3, -1, 13, 9, -1, 16, 17, 10]\n"
          ],
          "name": "stdout"
        },
        {
          "output_type": "execute_result",
          "data": {
            "text/plain": [
              "<graphviz.dot.Digraph at 0x7fe1fe6f8e50>"
            ],
            "image/svg+xml": "<?xml version=\"1.0\" encoding=\"UTF-8\" standalone=\"no\"?>\n<!DOCTYPE svg PUBLIC \"-//W3C//DTD SVG 1.1//EN\"\n \"http://www.w3.org/Graphics/SVG/1.1/DTD/svg11.dtd\">\n<!-- Generated by graphviz version 2.40.1 (20161225.0304)\n -->\n<!-- Title: G Pages: 1 -->\n<svg width=\"494pt\" height=\"332pt\"\n viewBox=\"0.00 0.00 494.00 332.00\" xmlns=\"http://www.w3.org/2000/svg\" xmlns:xlink=\"http://www.w3.org/1999/xlink\">\n<g id=\"graph0\" class=\"graph\" transform=\"scale(1 1) rotate(0) translate(4 328)\">\n<title>G</title>\n<polygon fill=\"#ffffff\" stroke=\"transparent\" points=\"-4,4 -4,-328 490,-328 490,4 -4,4\"/>\n<!-- 0 -->\n<g id=\"node1\" class=\"node\">\n<title>0</title>\n<ellipse fill=\"none\" stroke=\"#000000\" cx=\"27\" cy=\"-306\" rx=\"27\" ry=\"18\"/>\n<text text-anchor=\"middle\" x=\"27\" y=\"-302.3\" font-family=\"Times,serif\" font-size=\"14.00\" fill=\"#000000\">0</text>\n</g>\n<!-- 1 -->\n<g id=\"node2\" class=\"node\">\n<title>1</title>\n<ellipse fill=\"none\" stroke=\"#000000\" cx=\"99\" cy=\"-306\" rx=\"27\" ry=\"18\"/>\n<text text-anchor=\"middle\" x=\"99\" y=\"-302.3\" font-family=\"Times,serif\" font-size=\"14.00\" fill=\"#000000\">1</text>\n</g>\n<!-- 2 -->\n<g id=\"node3\" class=\"node\">\n<title>2</title>\n<ellipse fill=\"none\" stroke=\"#000000\" cx=\"135\" cy=\"-234\" rx=\"27\" ry=\"18\"/>\n<text text-anchor=\"middle\" x=\"135\" y=\"-230.3\" font-family=\"Times,serif\" font-size=\"14.00\" fill=\"#000000\">2</text>\n</g>\n<!-- 3 -->\n<g id=\"node4\" class=\"node\">\n<title>3</title>\n<ellipse fill=\"none\" stroke=\"#000000\" cx=\"171\" cy=\"-306\" rx=\"27\" ry=\"18\"/>\n<text text-anchor=\"middle\" x=\"171\" y=\"-302.3\" font-family=\"Times,serif\" font-size=\"14.00\" fill=\"#000000\">3</text>\n</g>\n<!-- 3&#45;&gt;2 -->\n<g id=\"edge1\" class=\"edge\">\n<title>3&#45;&gt;2</title>\n<path fill=\"none\" stroke=\"#000000\" d=\"M162.2854,-288.5708C158.0403,-280.0807 152.8464,-269.6929 148.1337,-260.2674\"/>\n<polygon fill=\"#000000\" stroke=\"#000000\" points=\"151.237,-258.6477 143.6343,-251.2687 144.976,-261.7782 151.237,-258.6477\"/>\n</g>\n<!-- 10 -->\n<g id=\"node11\" class=\"node\">\n<title>10</title>\n<ellipse fill=\"none\" stroke=\"#000000\" cx=\"207\" cy=\"-234\" rx=\"27\" ry=\"18\"/>\n<text text-anchor=\"middle\" x=\"207\" y=\"-230.3\" font-family=\"Times,serif\" font-size=\"14.00\" fill=\"#000000\">10</text>\n</g>\n<!-- 3&#45;&gt;10 -->\n<g id=\"edge6\" class=\"edge\">\n<title>3&#45;&gt;10</title>\n<path fill=\"none\" stroke=\"#000000\" d=\"M179.7146,-288.5708C183.9597,-280.0807 189.1536,-269.6929 193.8663,-260.2674\"/>\n<polygon fill=\"#000000\" stroke=\"#000000\" points=\"197.024,-261.7782 198.3657,-251.2687 190.763,-258.6477 197.024,-261.7782\"/>\n</g>\n<!-- 4 -->\n<g id=\"node5\" class=\"node\">\n<title>4</title>\n<ellipse fill=\"none\" stroke=\"#000000\" cx=\"243\" cy=\"-306\" rx=\"27\" ry=\"18\"/>\n<text text-anchor=\"middle\" x=\"243\" y=\"-302.3\" font-family=\"Times,serif\" font-size=\"14.00\" fill=\"#000000\">4</text>\n</g>\n<!-- 5 -->\n<g id=\"node6\" class=\"node\">\n<title>5</title>\n<ellipse fill=\"none\" stroke=\"#000000\" cx=\"135\" cy=\"-90\" rx=\"27\" ry=\"18\"/>\n<text text-anchor=\"middle\" x=\"135\" y=\"-86.3\" font-family=\"Times,serif\" font-size=\"14.00\" fill=\"#000000\">5</text>\n</g>\n<!-- 8 -->\n<g id=\"node9\" class=\"node\">\n<title>8</title>\n<ellipse fill=\"none\" stroke=\"#000000\" cx=\"135\" cy=\"-18\" rx=\"27\" ry=\"18\"/>\n<text text-anchor=\"middle\" x=\"135\" y=\"-14.3\" font-family=\"Times,serif\" font-size=\"14.00\" fill=\"#000000\">8</text>\n</g>\n<!-- 5&#45;&gt;8 -->\n<g id=\"edge4\" class=\"edge\">\n<title>5&#45;&gt;8</title>\n<path fill=\"none\" stroke=\"#000000\" d=\"M135,-71.8314C135,-64.131 135,-54.9743 135,-46.4166\"/>\n<polygon fill=\"#000000\" stroke=\"#000000\" points=\"138.5001,-46.4132 135,-36.4133 131.5001,-46.4133 138.5001,-46.4132\"/>\n</g>\n<!-- 6 -->\n<g id=\"node7\" class=\"node\">\n<title>6</title>\n<ellipse fill=\"none\" stroke=\"#000000\" cx=\"135\" cy=\"-162\" rx=\"27\" ry=\"18\"/>\n<text text-anchor=\"middle\" x=\"135\" y=\"-158.3\" font-family=\"Times,serif\" font-size=\"14.00\" fill=\"#000000\">6</text>\n</g>\n<!-- 6&#45;&gt;5 -->\n<g id=\"edge2\" class=\"edge\">\n<title>6&#45;&gt;5</title>\n<path fill=\"none\" stroke=\"#000000\" d=\"M135,-143.8314C135,-136.131 135,-126.9743 135,-118.4166\"/>\n<polygon fill=\"#000000\" stroke=\"#000000\" points=\"138.5001,-118.4132 135,-108.4133 131.5001,-118.4133 138.5001,-118.4132\"/>\n</g>\n<!-- 7 -->\n<g id=\"node8\" class=\"node\">\n<title>7</title>\n<ellipse fill=\"none\" stroke=\"#000000\" cx=\"315\" cy=\"-306\" rx=\"27\" ry=\"18\"/>\n<text text-anchor=\"middle\" x=\"315\" y=\"-302.3\" font-family=\"Times,serif\" font-size=\"14.00\" fill=\"#000000\">7</text>\n</g>\n<!-- 9 -->\n<g id=\"node10\" class=\"node\">\n<title>9</title>\n<ellipse fill=\"none\" stroke=\"#000000\" cx=\"207\" cy=\"-162\" rx=\"27\" ry=\"18\"/>\n<text text-anchor=\"middle\" x=\"207\" y=\"-158.3\" font-family=\"Times,serif\" font-size=\"14.00\" fill=\"#000000\">9</text>\n</g>\n<!-- 13 -->\n<g id=\"node14\" class=\"node\">\n<title>13</title>\n<ellipse fill=\"none\" stroke=\"#000000\" cx=\"207\" cy=\"-90\" rx=\"27\" ry=\"18\"/>\n<text text-anchor=\"middle\" x=\"207\" y=\"-86.3\" font-family=\"Times,serif\" font-size=\"14.00\" fill=\"#000000\">13</text>\n</g>\n<!-- 9&#45;&gt;13 -->\n<g id=\"edge8\" class=\"edge\">\n<title>9&#45;&gt;13</title>\n<path fill=\"none\" stroke=\"#000000\" d=\"M207,-143.8314C207,-136.131 207,-126.9743 207,-118.4166\"/>\n<polygon fill=\"#000000\" stroke=\"#000000\" points=\"210.5001,-118.4132 207,-108.4133 203.5001,-118.4133 210.5001,-118.4132\"/>\n</g>\n<!-- 10&#45;&gt;6 -->\n<g id=\"edge3\" class=\"edge\">\n<title>10&#45;&gt;6</title>\n<path fill=\"none\" stroke=\"#000000\" d=\"M191.7307,-218.7307C181.803,-208.803 168.6847,-195.6847 157.5637,-184.5637\"/>\n<polygon fill=\"#000000\" stroke=\"#000000\" points=\"159.7933,-181.8436 150.2473,-177.2473 154.8436,-186.7933 159.7933,-181.8436\"/>\n</g>\n<!-- 10&#45;&gt;9 -->\n<g id=\"edge5\" class=\"edge\">\n<title>10&#45;&gt;9</title>\n<path fill=\"none\" stroke=\"#000000\" d=\"M207,-215.8314C207,-208.131 207,-198.9743 207,-190.4166\"/>\n<polygon fill=\"#000000\" stroke=\"#000000\" points=\"210.5001,-190.4132 207,-180.4133 203.5001,-190.4133 210.5001,-190.4132\"/>\n</g>\n<!-- 17 -->\n<g id=\"node18\" class=\"node\">\n<title>17</title>\n<ellipse fill=\"none\" stroke=\"#000000\" cx=\"279\" cy=\"-162\" rx=\"27\" ry=\"18\"/>\n<text text-anchor=\"middle\" x=\"279\" y=\"-158.3\" font-family=\"Times,serif\" font-size=\"14.00\" fill=\"#000000\">17</text>\n</g>\n<!-- 10&#45;&gt;17 -->\n<g id=\"edge11\" class=\"edge\">\n<title>10&#45;&gt;17</title>\n<path fill=\"none\" stroke=\"#000000\" d=\"M222.2693,-218.7307C232.197,-208.803 245.3153,-195.6847 256.4363,-184.5637\"/>\n<polygon fill=\"#000000\" stroke=\"#000000\" points=\"259.1564,-186.7933 263.7527,-177.2473 254.2067,-181.8436 259.1564,-186.7933\"/>\n</g>\n<!-- 11 -->\n<g id=\"node12\" class=\"node\">\n<title>11</title>\n<ellipse fill=\"none\" stroke=\"#000000\" cx=\"387\" cy=\"-306\" rx=\"27\" ry=\"18\"/>\n<text text-anchor=\"middle\" x=\"387\" y=\"-302.3\" font-family=\"Times,serif\" font-size=\"14.00\" fill=\"#000000\">11</text>\n</g>\n<!-- 12 -->\n<g id=\"node13\" class=\"node\">\n<title>12</title>\n<ellipse fill=\"none\" stroke=\"#000000\" cx=\"207\" cy=\"-18\" rx=\"27\" ry=\"18\"/>\n<text text-anchor=\"middle\" x=\"207\" y=\"-14.3\" font-family=\"Times,serif\" font-size=\"14.00\" fill=\"#000000\">12</text>\n</g>\n<!-- 13&#45;&gt;12 -->\n<g id=\"edge7\" class=\"edge\">\n<title>13&#45;&gt;12</title>\n<path fill=\"none\" stroke=\"#000000\" d=\"M207,-71.8314C207,-64.131 207,-54.9743 207,-46.4166\"/>\n<polygon fill=\"#000000\" stroke=\"#000000\" points=\"210.5001,-46.4132 207,-36.4133 203.5001,-46.4133 210.5001,-46.4132\"/>\n</g>\n<!-- 14 -->\n<g id=\"node15\" class=\"node\">\n<title>14</title>\n<ellipse fill=\"none\" stroke=\"#000000\" cx=\"459\" cy=\"-306\" rx=\"27\" ry=\"18\"/>\n<text text-anchor=\"middle\" x=\"459\" y=\"-302.3\" font-family=\"Times,serif\" font-size=\"14.00\" fill=\"#000000\">14</text>\n</g>\n<!-- 15 -->\n<g id=\"node16\" class=\"node\">\n<title>15</title>\n<ellipse fill=\"none\" stroke=\"#000000\" cx=\"279\" cy=\"-18\" rx=\"27\" ry=\"18\"/>\n<text text-anchor=\"middle\" x=\"279\" y=\"-14.3\" font-family=\"Times,serif\" font-size=\"14.00\" fill=\"#000000\">15</text>\n</g>\n<!-- 16 -->\n<g id=\"node17\" class=\"node\">\n<title>16</title>\n<ellipse fill=\"none\" stroke=\"#000000\" cx=\"279\" cy=\"-90\" rx=\"27\" ry=\"18\"/>\n<text text-anchor=\"middle\" x=\"279\" y=\"-86.3\" font-family=\"Times,serif\" font-size=\"14.00\" fill=\"#000000\">16</text>\n</g>\n<!-- 16&#45;&gt;15 -->\n<g id=\"edge9\" class=\"edge\">\n<title>16&#45;&gt;15</title>\n<path fill=\"none\" stroke=\"#000000\" d=\"M279,-71.8314C279,-64.131 279,-54.9743 279,-46.4166\"/>\n<polygon fill=\"#000000\" stroke=\"#000000\" points=\"282.5001,-46.4132 279,-36.4133 275.5001,-46.4133 282.5001,-46.4132\"/>\n</g>\n<!-- 17&#45;&gt;16 -->\n<g id=\"edge10\" class=\"edge\">\n<title>17&#45;&gt;16</title>\n<path fill=\"none\" stroke=\"#000000\" d=\"M279,-143.8314C279,-136.131 279,-126.9743 279,-118.4166\"/>\n<polygon fill=\"#000000\" stroke=\"#000000\" points=\"282.5001,-118.4132 279,-108.4133 275.5001,-118.4133 282.5001,-118.4132\"/>\n</g>\n</g>\n</svg>\n"
          },
          "metadata": {
            "tags": []
          },
          "execution_count": 49
        }
      ]
    },
    {
      "cell_type": "code",
      "metadata": {
        "colab": {
          "base_uri": "https://localhost:8080/",
          "height": 299
        },
        "id": "xw62GdJHZ3Z4",
        "outputId": "46a1afb4-317a-4fbc-8d29-0807b3e7e544"
      },
      "source": [
        "path = dls(G, 3, limit=2)\n",
        "print(path)\n",
        "gs.nx2gv(G, path=path)"
      ],
      "execution_count": 44,
      "outputs": [
        {
          "output_type": "stream",
          "text": [
            "[-1, -1, 3, -1, -1, -1, 10, -1, -1, 10, 3, -1, -1, -1, -1, -1, -1, 10]\n"
          ],
          "name": "stdout"
        },
        {
          "output_type": "execute_result",
          "data": {
            "text/plain": [
              "<graphviz.dot.Digraph at 0x7fe1fe6cd410>"
            ],
            "image/svg+xml": "<?xml version=\"1.0\" encoding=\"UTF-8\" standalone=\"no\"?>\n<!DOCTYPE svg PUBLIC \"-//W3C//DTD SVG 1.1//EN\"\n \"http://www.w3.org/Graphics/SVG/1.1/DTD/svg11.dtd\">\n<!-- Generated by graphviz version 2.40.1 (20161225.0304)\n -->\n<!-- Title: G Pages: 1 -->\n<svg width=\"360pt\" height=\"196pt\"\n viewBox=\"0.00 0.00 360.00 196.13\" xmlns=\"http://www.w3.org/2000/svg\" xmlns:xlink=\"http://www.w3.org/1999/xlink\">\n<g id=\"graph0\" class=\"graph\" transform=\"scale(.5202 .5202) rotate(0) translate(4 373)\">\n<title>G</title>\n<polygon fill=\"#ffffff\" stroke=\"transparent\" points=\"-4,4 -4,-373 688,-373 688,4 -4,4\"/>\n<!-- 0 -->\n<g id=\"node1\" class=\"node\">\n<title>0</title>\n<ellipse fill=\"none\" stroke=\"#000000\" cx=\"117\" cy=\"-60\" rx=\"27\" ry=\"18\"/>\n<text text-anchor=\"middle\" x=\"117\" y=\"-56.3\" font-family=\"Times,serif\" font-size=\"14.00\" fill=\"#000000\">0</text>\n</g>\n<!-- 2 -->\n<g id=\"node3\" class=\"node\">\n<title>2</title>\n<ellipse fill=\"none\" stroke=\"#000000\" cx=\"207\" cy=\"-114\" rx=\"27\" ry=\"18\"/>\n<text text-anchor=\"middle\" x=\"207\" y=\"-110.3\" font-family=\"Times,serif\" font-size=\"14.00\" fill=\"#000000\">2</text>\n</g>\n<!-- 0&#45;&gt;2 -->\n<g id=\"edge1\" class=\"edge\">\n<title>0&#45;&gt;2</title>\n<path fill=\"none\" stroke=\"#000000\" d=\"M137.4224,-72.2534C149.3897,-79.4338 164.7024,-88.6215 177.9143,-96.5486\"/>\n<polygon fill=\"#000000\" stroke=\"#000000\" points=\"176.2827,-99.6513 186.6584,-101.7951 179.8842,-93.6488 176.2827,-99.6513\"/>\n</g>\n<!-- 7 -->\n<g id=\"node8\" class=\"node\">\n<title>7</title>\n<ellipse fill=\"none\" stroke=\"#000000\" cx=\"207\" cy=\"-60\" rx=\"27\" ry=\"18\"/>\n<text text-anchor=\"middle\" x=\"207\" y=\"-56.3\" font-family=\"Times,serif\" font-size=\"14.00\" fill=\"#000000\">7</text>\n</g>\n<!-- 0&#45;&gt;7 -->\n<g id=\"edge2\" class=\"edge\">\n<title>0&#45;&gt;7</title>\n<path fill=\"none\" stroke=\"#000000\" d=\"M144.003,-60C152.0277,-60 160.9665,-60 169.5309,-60\"/>\n<polygon fill=\"#000000\" stroke=\"#000000\" points=\"169.7051,-63.5001 179.705,-60 169.705,-56.5001 169.7051,-63.5001\"/>\n</g>\n<!-- 14 -->\n<g id=\"node15\" class=\"node\">\n<title>14</title>\n<ellipse fill=\"none\" stroke=\"#000000\" cx=\"657\" cy=\"-38\" rx=\"27\" ry=\"18\"/>\n<text text-anchor=\"middle\" x=\"657\" y=\"-34.3\" font-family=\"Times,serif\" font-size=\"14.00\" fill=\"#000000\">14</text>\n</g>\n<!-- 0&#45;&gt;14 -->\n<g id=\"edge3\" class=\"edge\">\n<title>0&#45;&gt;14</title>\n<path fill=\"none\" stroke=\"#000000\" d=\"M137.5892,-48.289C170.2796,-30.8279 236.5544,0 297,0 297,0 297,0 477,0 528.7433,0 587.0841,-15.2186 622.9493,-26.3939\"/>\n<polygon fill=\"#000000\" stroke=\"#000000\" points=\"622.2946,-29.8589 632.8854,-29.5666 624.4239,-23.1906 622.2946,-29.8589\"/>\n</g>\n<!-- 1 -->\n<g id=\"node2\" class=\"node\">\n<title>1</title>\n<ellipse fill=\"none\" stroke=\"#000000\" cx=\"477\" cy=\"-176\" rx=\"27\" ry=\"18\"/>\n<text text-anchor=\"middle\" x=\"477\" y=\"-172.3\" font-family=\"Times,serif\" font-size=\"14.00\" fill=\"#000000\">1</text>\n</g>\n<!-- 4 -->\n<g id=\"node5\" class=\"node\">\n<title>4</title>\n<ellipse fill=\"none\" stroke=\"#000000\" cx=\"567\" cy=\"-122\" rx=\"27\" ry=\"18\"/>\n<text text-anchor=\"middle\" x=\"567\" y=\"-118.3\" font-family=\"Times,serif\" font-size=\"14.00\" fill=\"#000000\">4</text>\n</g>\n<!-- 1&#45;&gt;4 -->\n<g id=\"edge7\" class=\"edge\">\n<title>1&#45;&gt;4</title>\n<path fill=\"none\" stroke=\"#000000\" d=\"M497.4224,-163.7466C509.3897,-156.5662 524.7024,-147.3785 537.9143,-139.4514\"/>\n<polygon fill=\"#000000\" stroke=\"#000000\" points=\"539.8842,-142.3512 546.6584,-134.2049 536.2827,-136.3487 539.8842,-142.3512\"/>\n</g>\n<!-- 3 -->\n<g id=\"node4\" class=\"node\">\n<title>3</title>\n<ellipse fill=\"none\" stroke=\"#000000\" cx=\"27\" cy=\"-160\" rx=\"27\" ry=\"18\"/>\n<text text-anchor=\"middle\" x=\"27\" y=\"-156.3\" font-family=\"Times,serif\" font-size=\"14.00\" fill=\"#000000\">3</text>\n</g>\n<!-- 3&#45;&gt;2 -->\n<g id=\"edge9\" class=\"edge\">\n<title>3&#45;&gt;2</title>\n<path fill=\"none\" stroke=\"#ff4500\" d=\"M52.4078,-153.5069C83.6313,-145.5276 136.7766,-131.946 171.8889,-122.9728\"/>\n<polygon fill=\"#ff4500\" stroke=\"#ff4500\" points=\"172.8994,-126.3272 181.7214,-120.4601 171.1662,-119.5451 172.8994,-126.3272\"/>\n</g>\n<!-- 10 -->\n<g id=\"node11\" class=\"node\">\n<title>10</title>\n<ellipse fill=\"none\" stroke=\"#000000\" cx=\"117\" cy=\"-225\" rx=\"27\" ry=\"18\"/>\n<text text-anchor=\"middle\" x=\"117\" y=\"-221.3\" font-family=\"Times,serif\" font-size=\"14.00\" fill=\"#000000\">10</text>\n</g>\n<!-- 3&#45;&gt;10 -->\n<g id=\"edge10\" class=\"edge\">\n<title>3&#45;&gt;10</title>\n<path fill=\"none\" stroke=\"#ff4500\" d=\"M45.6481,-173.468C58.5247,-182.7679 75.8462,-195.2778 90.1979,-205.6429\"/>\n<polygon fill=\"#ff4500\" stroke=\"#ff4500\" points=\"88.5277,-208.754 98.6838,-211.7716 92.6262,-203.0793 88.5277,-208.754\"/>\n</g>\n<!-- 4&#45;&gt;7 -->\n<g id=\"edge8\" class=\"edge\">\n<title>4&#45;&gt;7</title>\n<path fill=\"none\" stroke=\"#000000\" d=\"M545.3942,-110.9055C533.4819,-105.2628 518.2555,-98.809 504,-95 412.8178,-70.6363 301.374,-63.2255 244.4211,-60.9762\"/>\n<polygon fill=\"#000000\" stroke=\"#000000\" points=\"244.2287,-57.4671 234.1084,-60.6025 243.9751,-64.4625 244.2287,-57.4671\"/>\n</g>\n<!-- 5 -->\n<g id=\"node6\" class=\"node\">\n<title>5</title>\n<ellipse fill=\"none\" stroke=\"#000000\" cx=\"387\" cy=\"-160\" rx=\"27\" ry=\"18\"/>\n<text text-anchor=\"middle\" x=\"387\" y=\"-156.3\" font-family=\"Times,serif\" font-size=\"14.00\" fill=\"#000000\">5</text>\n</g>\n<!-- 6 -->\n<g id=\"node7\" class=\"node\">\n<title>6</title>\n<ellipse fill=\"none\" stroke=\"#000000\" cx=\"297\" cy=\"-160\" rx=\"27\" ry=\"18\"/>\n<text text-anchor=\"middle\" x=\"297\" y=\"-156.3\" font-family=\"Times,serif\" font-size=\"14.00\" fill=\"#000000\">6</text>\n</g>\n<!-- 5&#45;&gt;6 -->\n<g id=\"edge14\" class=\"edge\">\n<title>5&#45;&gt;6</title>\n<path fill=\"none\" stroke=\"#000000\" d=\"M361.3865,-166.1592C352.45,-166.7387 342.2523,-166.8919 332.6491,-166.6188\"/>\n<polygon fill=\"#000000\" stroke=\"#000000\" points=\"332.6997,-163.1175 322.5497,-166.1551 332.3786,-170.1101 332.6997,-163.1175\"/>\n</g>\n<!-- 8 -->\n<g id=\"node9\" class=\"node\">\n<title>8</title>\n<ellipse fill=\"none\" stroke=\"#000000\" cx=\"477\" cy=\"-122\" rx=\"27\" ry=\"18\"/>\n<text text-anchor=\"middle\" x=\"477\" y=\"-118.3\" font-family=\"Times,serif\" font-size=\"14.00\" fill=\"#000000\">8</text>\n</g>\n<!-- 5&#45;&gt;8 -->\n<g id=\"edge15\" class=\"edge\">\n<title>5&#45;&gt;8</title>\n<path fill=\"none\" stroke=\"#000000\" d=\"M410.1772,-150.2141C420.6752,-145.7816 433.2638,-140.4664 444.67,-135.6504\"/>\n<polygon fill=\"#000000\" stroke=\"#000000\" points=\"446.0502,-138.8669 453.9013,-131.7528 443.3274,-132.4182 446.0502,-138.8669\"/>\n</g>\n<!-- 6&#45;&gt;3 -->\n<g id=\"edge16\" class=\"edge\">\n<title>6&#45;&gt;3</title>\n<path fill=\"none\" stroke=\"#000000\" d=\"M269.8932,-160C221.2874,-160 119.2514,-160 64.164,-160\"/>\n<polygon fill=\"#000000\" stroke=\"#000000\" points=\"64.1249,-156.5001 54.1248,-160 64.1248,-163.5001 64.1249,-156.5001\"/>\n</g>\n<!-- 6&#45;&gt;5 -->\n<g id=\"edge17\" class=\"edge\">\n<title>6&#45;&gt;5</title>\n<path fill=\"none\" stroke=\"#000000\" d=\"M322.5497,-153.8449C331.4801,-153.2634 341.6762,-153.1082 351.2822,-153.3793\"/>\n<polygon fill=\"#000000\" stroke=\"#000000\" points=\"351.2372,-156.8808 361.3865,-153.8408 351.5566,-149.8881 351.2372,-156.8808\"/>\n</g>\n<!-- 7&#45;&gt;8 -->\n<g id=\"edge4\" class=\"edge\">\n<title>7&#45;&gt;8</title>\n<path fill=\"none\" stroke=\"#000000\" d=\"M227.6689,-71.7247C239.6773,-78.0509 255.297,-85.4696 270,-90 327.8269,-107.8181 397.9354,-115.9926 439.9281,-119.5321\"/>\n<polygon fill=\"#000000\" stroke=\"#000000\" points=\"439.7268,-123.0271 449.9739,-120.3352 440.2846,-116.0494 439.7268,-123.0271\"/>\n</g>\n<!-- 11 -->\n<g id=\"node12\" class=\"node\">\n<title>11</title>\n<ellipse fill=\"none\" stroke=\"#000000\" cx=\"297\" cy=\"-252\" rx=\"27\" ry=\"18\"/>\n<text text-anchor=\"middle\" x=\"297\" y=\"-248.3\" font-family=\"Times,serif\" font-size=\"14.00\" fill=\"#000000\">11</text>\n</g>\n<!-- 7&#45;&gt;11 -->\n<g id=\"edge5\" class=\"edge\">\n<title>7&#45;&gt;11</title>\n<path fill=\"none\" stroke=\"#000000\" d=\"M223.7085,-74.3885C227.4561,-78.2064 231.1584,-82.5222 234,-87 259.3103,-126.8835 252.9349,-142.9535 270,-187 274.8974,-199.6405 280.6206,-213.532 285.5342,-225.2164\"/>\n<polygon fill=\"#000000\" stroke=\"#000000\" points=\"282.3152,-226.5907 289.4353,-234.4363 288.7618,-223.8629 282.3152,-226.5907\"/>\n</g>\n<!-- 7&#45;&gt;14 -->\n<g id=\"edge6\" class=\"edge\">\n<title>7&#45;&gt;14</title>\n<path fill=\"none\" stroke=\"#000000\" d=\"M233.1105,-54.7863C268.0215,-48.2806 331.9055,-38 387,-38 387,-38 387,-38 477,-38 526.3475,-38 583.305,-38 619.7075,-38\"/>\n<polygon fill=\"#000000\" stroke=\"#000000\" points=\"619.8598,-41.5001 629.8597,-38 619.8597,-34.5001 619.8598,-41.5001\"/>\n</g>\n<!-- 8&#45;&gt;4 -->\n<g id=\"edge18\" class=\"edge\">\n<title>8&#45;&gt;4</title>\n<path fill=\"none\" stroke=\"#000000\" d=\"M504.003,-122C512.0277,-122 520.9665,-122 529.5309,-122\"/>\n<polygon fill=\"#000000\" stroke=\"#000000\" points=\"529.7051,-125.5001 539.705,-122 529.705,-118.5001 529.7051,-125.5001\"/>\n</g>\n<!-- 9 -->\n<g id=\"node10\" class=\"node\">\n<title>9</title>\n<ellipse fill=\"none\" stroke=\"#000000\" cx=\"207\" cy=\"-244\" rx=\"27\" ry=\"18\"/>\n<text text-anchor=\"middle\" x=\"207\" y=\"-240.3\" font-family=\"Times,serif\" font-size=\"14.00\" fill=\"#000000\">9</text>\n</g>\n<!-- 9&#45;&gt;5 -->\n<g id=\"edge20\" class=\"edge\">\n<title>9&#45;&gt;5</title>\n<path fill=\"none\" stroke=\"#000000\" d=\"M229.4332,-233.5312C261.2695,-218.6742 319.6877,-191.4124 355.7518,-174.5825\"/>\n<polygon fill=\"#000000\" stroke=\"#000000\" points=\"357.2678,-177.7374 364.8496,-170.3369 354.3076,-171.3941 357.2678,-177.7374\"/>\n</g>\n<!-- 9&#45;&gt;6 -->\n<g id=\"edge21\" class=\"edge\">\n<title>9&#45;&gt;6</title>\n<path fill=\"none\" stroke=\"#000000\" d=\"M223.0902,-228.9825C237.1683,-215.843 257.7927,-196.5935 273.6799,-181.7654\"/>\n<polygon fill=\"#000000\" stroke=\"#000000\" points=\"276.1267,-184.2694 281.0491,-174.8875 271.3504,-179.152 276.1267,-184.2694\"/>\n</g>\n<!-- 13 -->\n<g id=\"node14\" class=\"node\">\n<title>13</title>\n<ellipse fill=\"none\" stroke=\"#000000\" cx=\"297\" cy=\"-306\" rx=\"27\" ry=\"18\"/>\n<text text-anchor=\"middle\" x=\"297\" y=\"-302.3\" font-family=\"Times,serif\" font-size=\"14.00\" fill=\"#000000\">13</text>\n</g>\n<!-- 9&#45;&gt;13 -->\n<g id=\"edge22\" class=\"edge\">\n<title>9&#45;&gt;13</title>\n<path fill=\"none\" stroke=\"#000000\" d=\"M226.0867,-257.1486C238.7349,-265.8618 255.5263,-277.4292 269.5946,-287.1207\"/>\n<polygon fill=\"#000000\" stroke=\"#000000\" points=\"267.7202,-290.0795 277.9408,-292.8703 271.6913,-284.315 267.7202,-290.0795\"/>\n</g>\n<!-- 10&#45;&gt;6 -->\n<g id=\"edge11\" class=\"edge\">\n<title>10&#45;&gt;6</title>\n<path fill=\"none\" stroke=\"#ff4500\" d=\"M140.9026,-216.3685C172.3715,-205.0047 227.8684,-184.9642 263.509,-172.094\"/>\n<polygon fill=\"#ff4500\" stroke=\"#ff4500\" points=\"264.7818,-175.3556 272.9985,-168.6672 262.4042,-168.7718 264.7818,-175.3556\"/>\n</g>\n<!-- 10&#45;&gt;9 -->\n<g id=\"edge12\" class=\"edge\">\n<title>10&#45;&gt;9</title>\n<path fill=\"none\" stroke=\"#ff4500\" d=\"M143.0317,-230.4956C151.8005,-232.3468 161.7454,-234.4463 171.1362,-236.4287\"/>\n<polygon fill=\"#ff4500\" stroke=\"#ff4500\" points=\"170.5194,-239.8756 181.0268,-238.5168 171.9654,-233.0266 170.5194,-239.8756\"/>\n</g>\n<!-- 17 -->\n<g id=\"node18\" class=\"node\">\n<title>17</title>\n<ellipse fill=\"none\" stroke=\"#000000\" cx=\"387\" cy=\"-351\" rx=\"27\" ry=\"18\"/>\n<text text-anchor=\"middle\" x=\"387\" y=\"-347.3\" font-family=\"Times,serif\" font-size=\"14.00\" fill=\"#000000\">17</text>\n</g>\n<!-- 10&#45;&gt;17 -->\n<g id=\"edge13\" class=\"edge\">\n<title>10&#45;&gt;17</title>\n<path fill=\"none\" stroke=\"#ff4500\" d=\"M132.455,-239.8034C158.494,-263.7836 213.7928,-310.6843 270,-333 295.3433,-343.0619 325.8446,-347.5291 349.3498,-349.4981\"/>\n<polygon fill=\"#ff4500\" stroke=\"#ff4500\" points=\"349.3876,-353.0098 359.6135,-350.2381 349.8911,-346.0279 349.3876,-353.0098\"/>\n</g>\n<!-- 12 -->\n<g id=\"node13\" class=\"node\">\n<title>12</title>\n<ellipse fill=\"none\" stroke=\"#000000\" cx=\"387\" cy=\"-256\" rx=\"27\" ry=\"18\"/>\n<text text-anchor=\"middle\" x=\"387\" y=\"-252.3\" font-family=\"Times,serif\" font-size=\"14.00\" fill=\"#000000\">12</text>\n</g>\n<!-- 11&#45;&gt;12 -->\n<g id=\"edge19\" class=\"edge\">\n<title>11&#45;&gt;12</title>\n<path fill=\"none\" stroke=\"#000000\" d=\"M323.0317,-246.971C332.0292,-246.8033 342.2651,-247.119 351.8699,-247.8351\"/>\n<polygon fill=\"#000000\" stroke=\"#000000\" points=\"351.6769,-251.3321 361.9561,-248.7653 352.3199,-244.3616 351.6769,-251.3321\"/>\n</g>\n<!-- 12&#45;&gt;11 -->\n<g id=\"edge26\" class=\"edge\">\n<title>12&#45;&gt;11</title>\n<path fill=\"none\" stroke=\"#000000\" d=\"M360.8096,-261.0319C351.8429,-261.1931 341.6613,-260.8763 332.1058,-260.1631\"/>\n<polygon fill=\"#000000\" stroke=\"#000000\" points=\"332.3492,-256.6708 322.07,-259.2376 331.7063,-263.6412 332.3492,-256.6708\"/>\n</g>\n<!-- 16 -->\n<g id=\"node17\" class=\"node\">\n<title>16</title>\n<ellipse fill=\"none\" stroke=\"#000000\" cx=\"477\" cy=\"-279\" rx=\"27\" ry=\"18\"/>\n<text text-anchor=\"middle\" x=\"477\" y=\"-275.3\" font-family=\"Times,serif\" font-size=\"14.00\" fill=\"#000000\">16</text>\n</g>\n<!-- 12&#45;&gt;16 -->\n<g id=\"edge27\" class=\"edge\">\n<title>12&#45;&gt;16</title>\n<path fill=\"none\" stroke=\"#000000\" d=\"M412.5497,-262.5294C421.6523,-264.8556 432.0697,-267.5178 441.8371,-270.0139\"/>\n<polygon fill=\"#000000\" stroke=\"#000000\" points=\"441.1427,-273.4489 451.698,-272.5339 442.876,-266.6668 441.1427,-273.4489\"/>\n</g>\n<!-- 13&#45;&gt;12 -->\n<g id=\"edge23\" class=\"edge\">\n<title>13&#45;&gt;12</title>\n<path fill=\"none\" stroke=\"#000000\" d=\"M317.874,-294.4033C329.574,-287.9034 344.3631,-279.6872 357.2568,-272.524\"/>\n<polygon fill=\"#000000\" stroke=\"#000000\" points=\"359.1974,-275.4498 366.2392,-267.5338 355.7978,-269.3307 359.1974,-275.4498\"/>\n</g>\n<!-- 13&#45;&gt;16 -->\n<g id=\"edge24\" class=\"edge\">\n<title>13&#45;&gt;16</title>\n<path fill=\"none\" stroke=\"#000000\" d=\"M323.5596,-302.0161C354.4897,-297.3765 405.7592,-289.6861 440.4363,-284.4846\"/>\n<polygon fill=\"#000000\" stroke=\"#000000\" points=\"441.2545,-287.9011 450.6246,-282.9563 440.216,-280.9785 441.2545,-287.9011\"/>\n</g>\n<!-- 15 -->\n<g id=\"node16\" class=\"node\">\n<title>15</title>\n<ellipse fill=\"none\" stroke=\"#000000\" cx=\"567\" cy=\"-227\" rx=\"27\" ry=\"18\"/>\n<text text-anchor=\"middle\" x=\"567\" y=\"-223.3\" font-family=\"Times,serif\" font-size=\"14.00\" fill=\"#000000\">15</text>\n</g>\n<!-- 15&#45;&gt;14 -->\n<g id=\"edge29\" class=\"edge\">\n<title>15&#45;&gt;14</title>\n<path fill=\"none\" stroke=\"#000000\" d=\"M575.3057,-209.5581C591.1115,-176.3657 625.6056,-103.9283 644.318,-64.6322\"/>\n<polygon fill=\"#000000\" stroke=\"#000000\" points=\"647.575,-65.9331 648.7144,-55.3997 641.255,-62.9236 647.575,-65.9331\"/>\n</g>\n<!-- 16&#45;&gt;15 -->\n<g id=\"edge28\" class=\"edge\">\n<title>16&#45;&gt;15</title>\n<path fill=\"none\" stroke=\"#000000\" d=\"M497.4224,-267.2004C509.3055,-260.3346 524.4869,-251.5631 537.6349,-243.9665\"/>\n<polygon fill=\"#000000\" stroke=\"#000000\" points=\"539.4392,-246.9663 546.3469,-238.9329 535.9372,-240.9052 539.4392,-246.9663\"/>\n</g>\n<!-- 17&#45;&gt;16 -->\n<g id=\"edge25\" class=\"edge\">\n<title>17&#45;&gt;16</title>\n<path fill=\"none\" stroke=\"#000000\" d=\"M404.3529,-337.1177C417.7997,-326.3602 436.6239,-311.3009 451.741,-299.2072\"/>\n<polygon fill=\"#000000\" stroke=\"#000000\" points=\"454.0781,-301.8197 459.7004,-292.8397 449.7052,-296.3536 454.0781,-301.8197\"/>\n</g>\n</g>\n</svg>\n"
          },
          "metadata": {
            "tags": []
          },
          "execution_count": 44
        }
      ]
    },
    {
      "cell_type": "markdown",
      "metadata": {
        "id": "AHbdybLadAIG"
      },
      "source": [
        "***IDS (iterative Depth Search)***"
      ]
    },
    {
      "cell_type": "code",
      "metadata": {
        "id": "mwirc_DldDwg"
      },
      "source": [
        "def ids(G, start, target):\n",
        "  for limit in range(G.number_of_edges()):\n",
        "    path = dls(G, start, limit)\n",
        "    if G.nodes[target]['reached']:\n",
        "      break\n",
        "\n",
        "  return path"
      ],
      "execution_count": 51,
      "outputs": []
    },
    {
      "cell_type": "code",
      "metadata": {
        "colab": {
          "base_uri": "https://localhost:8080/",
          "height": 518
        },
        "id": "8KnH3B6leW5k",
        "outputId": "f7e44f9f-a2b3-49d4-8109-6ad9bf8871d0"
      },
      "source": [
        "path = ids(G, 3, 16)\n",
        "print(path)\n",
        "gs.path2gv(path)\n",
        "#gs.nx2gv(G, path=path)"
      ],
      "execution_count": 55,
      "outputs": [
        {
          "output_type": "stream",
          "text": [
            "[-1, -1, 3, -1, -1, 9, 10, -1, -1, 10, 3, -1, -1, 9, -1, -1, 17, 10]\n"
          ],
          "name": "stdout"
        },
        {
          "output_type": "execute_result",
          "data": {
            "text/plain": [
              "<graphviz.dot.Digraph at 0x7fe1fe6deb50>"
            ],
            "image/svg+xml": "<?xml version=\"1.0\" encoding=\"UTF-8\" standalone=\"no\"?>\n<!DOCTYPE svg PUBLIC \"-//W3C//DTD SVG 1.1//EN\"\n \"http://www.w3.org/Graphics/SVG/1.1/DTD/svg11.dtd\">\n<!-- Generated by graphviz version 2.40.1 (20161225.0304)\n -->\n<!-- Title: G Pages: 1 -->\n<svg width=\"226pt\" height=\"360pt\"\n viewBox=\"0.00 0.00 225.51 360.00\" xmlns=\"http://www.w3.org/2000/svg\" xmlns:xlink=\"http://www.w3.org/1999/xlink\">\n<g id=\"graph0\" class=\"graph\" transform=\"scale(.6792 .6792) rotate(0) translate(4 526)\">\n<title>G</title>\n<polygon fill=\"#ffffff\" stroke=\"transparent\" points=\"-4,4 -4,-526 328,-526 328,4 -4,4\"/>\n<!-- 0 -->\n<g id=\"node1\" class=\"node\">\n<title>0</title>\n<ellipse fill=\"none\" stroke=\"#000000\" cx=\"27\" cy=\"-18\" rx=\"27\" ry=\"18\"/>\n<text text-anchor=\"middle\" x=\"27\" y=\"-14.3\" font-family=\"Times,serif\" font-size=\"14.00\" fill=\"#000000\">0</text>\n</g>\n<!-- 1 -->\n<g id=\"node2\" class=\"node\">\n<title>1</title>\n<ellipse fill=\"none\" stroke=\"#000000\" cx=\"27\" cy=\"-72\" rx=\"27\" ry=\"18\"/>\n<text text-anchor=\"middle\" x=\"27\" y=\"-68.3\" font-family=\"Times,serif\" font-size=\"14.00\" fill=\"#000000\">1</text>\n</g>\n<!-- 2 -->\n<g id=\"node3\" class=\"node\">\n<title>2</title>\n<ellipse fill=\"none\" stroke=\"#000000\" cx=\"117\" cy=\"-153\" rx=\"27\" ry=\"18\"/>\n<text text-anchor=\"middle\" x=\"117\" y=\"-149.3\" font-family=\"Times,serif\" font-size=\"14.00\" fill=\"#000000\">2</text>\n</g>\n<!-- 3 -->\n<g id=\"node4\" class=\"node\">\n<title>3</title>\n<ellipse fill=\"none\" stroke=\"#000000\" cx=\"27\" cy=\"-126\" rx=\"27\" ry=\"18\"/>\n<text text-anchor=\"middle\" x=\"27\" y=\"-122.3\" font-family=\"Times,serif\" font-size=\"14.00\" fill=\"#000000\">3</text>\n</g>\n<!-- 3&#45;&gt;2 -->\n<g id=\"edge1\" class=\"edge\">\n<title>3&#45;&gt;2</title>\n<path fill=\"none\" stroke=\"#000000\" d=\"M52.07,-133.521C61.5102,-136.3531 72.4169,-139.6251 82.564,-142.6692\"/>\n<polygon fill=\"#000000\" stroke=\"#000000\" points=\"81.7915,-146.0915 92.3755,-145.6126 83.803,-139.3867 81.7915,-146.0915\"/>\n</g>\n<!-- 10 -->\n<g id=\"node11\" class=\"node\">\n<title>10</title>\n<ellipse fill=\"none\" stroke=\"#000000\" cx=\"117\" cy=\"-99\" rx=\"27\" ry=\"18\"/>\n<text text-anchor=\"middle\" x=\"117\" y=\"-95.3\" font-family=\"Times,serif\" font-size=\"14.00\" fill=\"#000000\">10</text>\n</g>\n<!-- 3&#45;&gt;10 -->\n<g id=\"edge5\" class=\"edge\">\n<title>3&#45;&gt;10</title>\n<path fill=\"none\" stroke=\"#000000\" d=\"M52.07,-118.479C61.5102,-115.6469 72.4169,-112.3749 82.564,-109.3308\"/>\n<polygon fill=\"#000000\" stroke=\"#000000\" points=\"83.803,-112.6133 92.3755,-106.3874 81.7915,-105.9085 83.803,-112.6133\"/>\n</g>\n<!-- 4 -->\n<g id=\"node5\" class=\"node\">\n<title>4</title>\n<ellipse fill=\"none\" stroke=\"#000000\" cx=\"27\" cy=\"-180\" rx=\"27\" ry=\"18\"/>\n<text text-anchor=\"middle\" x=\"27\" y=\"-176.3\" font-family=\"Times,serif\" font-size=\"14.00\" fill=\"#000000\">4</text>\n</g>\n<!-- 5 -->\n<g id=\"node6\" class=\"node\">\n<title>5</title>\n<ellipse fill=\"none\" stroke=\"#000000\" cx=\"297\" cy=\"-153\" rx=\"27\" ry=\"18\"/>\n<text text-anchor=\"middle\" x=\"297\" y=\"-149.3\" font-family=\"Times,serif\" font-size=\"14.00\" fill=\"#000000\">5</text>\n</g>\n<!-- 6 -->\n<g id=\"node7\" class=\"node\">\n<title>6</title>\n<ellipse fill=\"none\" stroke=\"#000000\" cx=\"207\" cy=\"-153\" rx=\"27\" ry=\"18\"/>\n<text text-anchor=\"middle\" x=\"207\" y=\"-149.3\" font-family=\"Times,serif\" font-size=\"14.00\" fill=\"#000000\">6</text>\n</g>\n<!-- 7 -->\n<g id=\"node8\" class=\"node\">\n<title>7</title>\n<ellipse fill=\"none\" stroke=\"#000000\" cx=\"27\" cy=\"-234\" rx=\"27\" ry=\"18\"/>\n<text text-anchor=\"middle\" x=\"27\" y=\"-230.3\" font-family=\"Times,serif\" font-size=\"14.00\" fill=\"#000000\">7</text>\n</g>\n<!-- 8 -->\n<g id=\"node9\" class=\"node\">\n<title>8</title>\n<ellipse fill=\"none\" stroke=\"#000000\" cx=\"27\" cy=\"-288\" rx=\"27\" ry=\"18\"/>\n<text text-anchor=\"middle\" x=\"27\" y=\"-284.3\" font-family=\"Times,serif\" font-size=\"14.00\" fill=\"#000000\">8</text>\n</g>\n<!-- 9 -->\n<g id=\"node10\" class=\"node\">\n<title>9</title>\n<ellipse fill=\"none\" stroke=\"#000000\" cx=\"207\" cy=\"-99\" rx=\"27\" ry=\"18\"/>\n<text text-anchor=\"middle\" x=\"207\" y=\"-95.3\" font-family=\"Times,serif\" font-size=\"14.00\" fill=\"#000000\">9</text>\n</g>\n<!-- 9&#45;&gt;5 -->\n<g id=\"edge2\" class=\"edge\">\n<title>9&#45;&gt;5</title>\n<path fill=\"none\" stroke=\"#000000\" d=\"M227.4224,-111.2534C239.3897,-118.4338 254.7024,-127.6215 267.9143,-135.5486\"/>\n<polygon fill=\"#000000\" stroke=\"#000000\" points=\"266.2827,-138.6513 276.6584,-140.7951 269.8842,-132.6488 266.2827,-138.6513\"/>\n</g>\n<!-- 13 -->\n<g id=\"node14\" class=\"node\">\n<title>13</title>\n<ellipse fill=\"none\" stroke=\"#000000\" cx=\"297\" cy=\"-99\" rx=\"27\" ry=\"18\"/>\n<text text-anchor=\"middle\" x=\"297\" y=\"-95.3\" font-family=\"Times,serif\" font-size=\"14.00\" fill=\"#000000\">13</text>\n</g>\n<!-- 9&#45;&gt;13 -->\n<g id=\"edge6\" class=\"edge\">\n<title>9&#45;&gt;13</title>\n<path fill=\"none\" stroke=\"#000000\" d=\"M234.003,-99C242.0277,-99 250.9665,-99 259.5309,-99\"/>\n<polygon fill=\"#000000\" stroke=\"#000000\" points=\"259.7051,-102.5001 269.705,-99 259.705,-95.5001 259.7051,-102.5001\"/>\n</g>\n<!-- 10&#45;&gt;6 -->\n<g id=\"edge3\" class=\"edge\">\n<title>10&#45;&gt;6</title>\n<path fill=\"none\" stroke=\"#000000\" d=\"M137.4224,-111.2534C149.3897,-118.4338 164.7024,-127.6215 177.9143,-135.5486\"/>\n<polygon fill=\"#000000\" stroke=\"#000000\" points=\"176.2827,-138.6513 186.6584,-140.7951 179.8842,-132.6488 176.2827,-138.6513\"/>\n</g>\n<!-- 10&#45;&gt;9 -->\n<g id=\"edge4\" class=\"edge\">\n<title>10&#45;&gt;9</title>\n<path fill=\"none\" stroke=\"#000000\" d=\"M144.003,-99C152.0277,-99 160.9665,-99 169.5309,-99\"/>\n<polygon fill=\"#000000\" stroke=\"#000000\" points=\"169.7051,-102.5001 179.705,-99 169.705,-95.5001 169.7051,-102.5001\"/>\n</g>\n<!-- 17 -->\n<g id=\"node18\" class=\"node\">\n<title>17</title>\n<ellipse fill=\"none\" stroke=\"#000000\" cx=\"207\" cy=\"-45\" rx=\"27\" ry=\"18\"/>\n<text text-anchor=\"middle\" x=\"207\" y=\"-41.3\" font-family=\"Times,serif\" font-size=\"14.00\" fill=\"#000000\">17</text>\n</g>\n<!-- 10&#45;&gt;17 -->\n<g id=\"edge8\" class=\"edge\">\n<title>10&#45;&gt;17</title>\n<path fill=\"none\" stroke=\"#000000\" d=\"M137.4224,-86.7466C149.3897,-79.5662 164.7024,-70.3785 177.9143,-62.4514\"/>\n<polygon fill=\"#000000\" stroke=\"#000000\" points=\"179.8842,-65.3512 186.6584,-57.2049 176.2827,-59.3487 179.8842,-65.3512\"/>\n</g>\n<!-- 11 -->\n<g id=\"node12\" class=\"node\">\n<title>11</title>\n<ellipse fill=\"none\" stroke=\"#000000\" cx=\"27\" cy=\"-342\" rx=\"27\" ry=\"18\"/>\n<text text-anchor=\"middle\" x=\"27\" y=\"-338.3\" font-family=\"Times,serif\" font-size=\"14.00\" fill=\"#000000\">11</text>\n</g>\n<!-- 12 -->\n<g id=\"node13\" class=\"node\">\n<title>12</title>\n<ellipse fill=\"none\" stroke=\"#000000\" cx=\"27\" cy=\"-396\" rx=\"27\" ry=\"18\"/>\n<text text-anchor=\"middle\" x=\"27\" y=\"-392.3\" font-family=\"Times,serif\" font-size=\"14.00\" fill=\"#000000\">12</text>\n</g>\n<!-- 14 -->\n<g id=\"node15\" class=\"node\">\n<title>14</title>\n<ellipse fill=\"none\" stroke=\"#000000\" cx=\"27\" cy=\"-450\" rx=\"27\" ry=\"18\"/>\n<text text-anchor=\"middle\" x=\"27\" y=\"-446.3\" font-family=\"Times,serif\" font-size=\"14.00\" fill=\"#000000\">14</text>\n</g>\n<!-- 15 -->\n<g id=\"node16\" class=\"node\">\n<title>15</title>\n<ellipse fill=\"none\" stroke=\"#000000\" cx=\"27\" cy=\"-504\" rx=\"27\" ry=\"18\"/>\n<text text-anchor=\"middle\" x=\"27\" y=\"-500.3\" font-family=\"Times,serif\" font-size=\"14.00\" fill=\"#000000\">15</text>\n</g>\n<!-- 16 -->\n<g id=\"node17\" class=\"node\">\n<title>16</title>\n<ellipse fill=\"none\" stroke=\"#000000\" cx=\"297\" cy=\"-45\" rx=\"27\" ry=\"18\"/>\n<text text-anchor=\"middle\" x=\"297\" y=\"-41.3\" font-family=\"Times,serif\" font-size=\"14.00\" fill=\"#000000\">16</text>\n</g>\n<!-- 17&#45;&gt;16 -->\n<g id=\"edge7\" class=\"edge\">\n<title>17&#45;&gt;16</title>\n<path fill=\"none\" stroke=\"#000000\" d=\"M234.003,-45C242.0277,-45 250.9665,-45 259.5309,-45\"/>\n<polygon fill=\"#000000\" stroke=\"#000000\" points=\"259.7051,-48.5001 269.705,-45 259.705,-41.5001 259.7051,-48.5001\"/>\n</g>\n</g>\n</svg>\n"
          },
          "metadata": {
            "tags": []
          },
          "execution_count": 55
        }
      ]
    }
  ]
}