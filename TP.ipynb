{
  "nbformat": 4,
  "nbformat_minor": 0,
  "metadata": {
    "colab": {
      "name": "TP.ipynb",
      "provenance": [],
      "authorship_tag": "ABX9TyNzwPYOChSG2s61v/YacE6L",
      "include_colab_link": true
    },
    "kernelspec": {
      "name": "python3",
      "display_name": "Python 3"
    },
    "language_info": {
      "name": "python"
    }
  },
  "cells": [
    {
      "cell_type": "markdown",
      "metadata": {
        "id": "view-in-github",
        "colab_type": "text"
      },
      "source": [
        "<a href=\"https://colab.research.google.com/github/lucerogr/algorithmic-complexity/blob/main/TP.ipynb\" target=\"_parent\"><img src=\"https://colab.research.google.com/assets/colab-badge.svg\" alt=\"Open In Colab\"/></a>"
      ]
    },
    {
      "cell_type": "code",
      "metadata": {
        "id": "IJ5HVzNu2xJg"
      },
      "source": [
        "!git clone https://github.com/lmcanavals/algorithmic_complexity.git"
      ],
      "execution_count": null,
      "outputs": []
    },
    {
      "cell_type": "code",
      "metadata": {
        "id": "gE8p6-Oi2791"
      },
      "source": [
        "from algorithmic_complexity.aclib import graphstuff as gs"
      ],
      "execution_count": 25,
      "outputs": []
    },
    {
      "cell_type": "code",
      "metadata": {
        "id": "km0Hh9HD2_Oz"
      },
      "source": [
        "import pandas as pd\n",
        "import numpy as np\n",
        "import networkx as nx\n",
        "import math"
      ],
      "execution_count": 26,
      "outputs": []
    },
    {
      "cell_type": "code",
      "metadata": {
        "colab": {
          "base_uri": "https://localhost:8080/"
        },
        "id": "YYtDSRoh0Y_d",
        "outputId": "aabb3d09-d7a3-478d-d1ad-e4c4d560a4aa"
      },
      "source": [
        "url=\"https://raw.githubusercontent.com/lmcanavals/algorithmic_complexity/main/data/poblaciones.csv\"\n",
        "poblaciones=pd.read_csv(url)\n",
        "print(poblaciones)"
      ],
      "execution_count": 27,
      "outputs": [
        {
          "output_type": "stream",
          "text": [
            "     DEPARTAMENTO         PROVINCIA     DISTRITO  ...    LONGITUD NMI1  NMI2\n",
            "0        AMAZONAS             BAGUA     ARAMANGO  ...   -78.45299  311  1206\n",
            "1        AMAZONAS             BAGUA     ARAMANGO  ...  -78.444372   44   129\n",
            "2        AMAZONAS             BAGUA     ARAMANGO  ...   -78.44472   49   179\n",
            "3        AMAZONAS             BAGUA        BAGUA  ...  -78.495229    3     8\n",
            "4        AMAZONAS           BONGARA      CUISPES  ...  -77.965302    1     4\n",
            "...           ...               ...          ...  ...         ...  ...   ...\n",
            "3752      UCAYALI  CORONEL PORTILLO  YARINACOCHA  ...  -74.621338   54   186\n",
            "3753      UCAYALI        PADRE ABAD     CURIMANA  ...   -75.08788  119   483\n",
            "3754      UCAYALI        PADRE ABAD     CURIMANA  ...  -75.082978    9    43\n",
            "3755      UCAYALI        PADRE ABAD     CURIMANA  ...  -75.089698   29   132\n",
            "3756      UCAYALI        PADRE ABAD     CURIMANA  ...  -75.087845   62   277\n",
            "\n",
            "[3757 rows x 8 columns]\n"
          ],
          "name": "stdout"
        }
      ]
    },
    {
      "cell_type": "code",
      "metadata": {
        "colab": {
          "base_uri": "https://localhost:8080/",
          "height": 215
        },
        "id": "LYo6VEsN3J_i",
        "outputId": "e5e84098-869f-4f4a-ed19-b0bcd00802fb"
      },
      "source": [
        "print(len(poblaciones))\n",
        "poblaciones.head()"
      ],
      "execution_count": 28,
      "outputs": [
        {
          "output_type": "stream",
          "text": [
            "3757\n"
          ],
          "name": "stdout"
        },
        {
          "output_type": "execute_result",
          "data": {
            "text/html": [
              "<div>\n",
              "<style scoped>\n",
              "    .dataframe tbody tr th:only-of-type {\n",
              "        vertical-align: middle;\n",
              "    }\n",
              "\n",
              "    .dataframe tbody tr th {\n",
              "        vertical-align: top;\n",
              "    }\n",
              "\n",
              "    .dataframe thead th {\n",
              "        text-align: right;\n",
              "    }\n",
              "</style>\n",
              "<table border=\"1\" class=\"dataframe\">\n",
              "  <thead>\n",
              "    <tr style=\"text-align: right;\">\n",
              "      <th></th>\n",
              "      <th>DEPARTAMENTO</th>\n",
              "      <th>PROVINCIA</th>\n",
              "      <th>DISTRITO</th>\n",
              "      <th>CENTRO POBLADO</th>\n",
              "      <th>LATITUD</th>\n",
              "      <th>LONGITUD</th>\n",
              "      <th>NMI1</th>\n",
              "      <th>NMI2</th>\n",
              "    </tr>\n",
              "  </thead>\n",
              "  <tbody>\n",
              "    <tr>\n",
              "      <th>0</th>\n",
              "      <td>AMAZONAS</td>\n",
              "      <td>BAGUA</td>\n",
              "      <td>ARAMANGO</td>\n",
              "      <td>EL MUYO (C.P.L.)</td>\n",
              "      <td>-5.422545</td>\n",
              "      <td>-78.45299</td>\n",
              "      <td>311</td>\n",
              "      <td>1206</td>\n",
              "    </tr>\n",
              "    <tr>\n",
              "      <th>1</th>\n",
              "      <td>AMAZONAS</td>\n",
              "      <td>BAGUA</td>\n",
              "      <td>ARAMANGO</td>\n",
              "      <td>RESERVA UJUCANO</td>\n",
              "      <td>-5.427565</td>\n",
              "      <td>-78.444372</td>\n",
              "      <td>44</td>\n",
              "      <td>129</td>\n",
              "    </tr>\n",
              "    <tr>\n",
              "      <th>2</th>\n",
              "      <td>AMAZONAS</td>\n",
              "      <td>BAGUA</td>\n",
              "      <td>ARAMANGO</td>\n",
              "      <td>TUTUMBEROS</td>\n",
              "      <td>-5.327317</td>\n",
              "      <td>-78.44472</td>\n",
              "      <td>49</td>\n",
              "      <td>179</td>\n",
              "    </tr>\n",
              "    <tr>\n",
              "      <th>3</th>\n",
              "      <td>AMAZONAS</td>\n",
              "      <td>BAGUA</td>\n",
              "      <td>BAGUA</td>\n",
              "      <td>ALENYA BAJO</td>\n",
              "      <td>-5.682439</td>\n",
              "      <td>-78.495229</td>\n",
              "      <td>3</td>\n",
              "      <td>8</td>\n",
              "    </tr>\n",
              "    <tr>\n",
              "      <th>4</th>\n",
              "      <td>AMAZONAS</td>\n",
              "      <td>BONGARA</td>\n",
              "      <td>CUISPES</td>\n",
              "      <td>MITOPAMPA</td>\n",
              "      <td>-5.93856</td>\n",
              "      <td>-77.965302</td>\n",
              "      <td>1</td>\n",
              "      <td>4</td>\n",
              "    </tr>\n",
              "  </tbody>\n",
              "</table>\n",
              "</div>"
            ],
            "text/plain": [
              "  DEPARTAMENTO PROVINCIA  DISTRITO  ...    LONGITUD NMI1  NMI2\n",
              "0     AMAZONAS     BAGUA  ARAMANGO  ...   -78.45299  311  1206\n",
              "1     AMAZONAS     BAGUA  ARAMANGO  ...  -78.444372   44   129\n",
              "2     AMAZONAS     BAGUA  ARAMANGO  ...   -78.44472   49   179\n",
              "3     AMAZONAS     BAGUA     BAGUA  ...  -78.495229    3     8\n",
              "4     AMAZONAS   BONGARA   CUISPES  ...  -77.965302    1     4\n",
              "\n",
              "[5 rows x 8 columns]"
            ]
          },
          "metadata": {
            "tags": []
          },
          "execution_count": 28
        }
      ]
    },
    {
      "cell_type": "code",
      "metadata": {
        "colab": {
          "base_uri": "https://localhost:8080/"
        },
        "id": "d33KQ1wl3SwS",
        "outputId": "fad52573-f16c-47c2-9c2e-d9cc7aecc5ea"
      },
      "source": [
        "nomdepartamentos = poblaciones['DEPARTAMENTO'].unique()\n",
        "print(len(nomdepartamentos))\n",
        "nomdepartamentos"
      ],
      "execution_count": 33,
      "outputs": [
        {
          "output_type": "stream",
          "text": [
            "25\n"
          ],
          "name": "stdout"
        },
        {
          "output_type": "execute_result",
          "data": {
            "text/plain": [
              "array(['AMAZONAS', 'ANCASH', 'APURIMAC', 'AREQUIPA', 'AYACUCHO',\n",
              "       'CAJAMARCA', 'CUSCO', 'DEPARTAMENTO', 'HUANCAVELICA', 'HUANUCO',\n",
              "       'ICA', 'JUNIN', 'LA LIBERTAD', 'LAMBAYEQUE', 'LIMA', 'LORETO',\n",
              "       'MADRE DE DIOS', 'MOQUEGUA', 'PASCO', 'PIURA', 'PUNO',\n",
              "       'SAN MARTIN', 'TACNA', 'TUMBES', 'UCAYALI'], dtype=object)"
            ]
          },
          "metadata": {
            "tags": []
          },
          "execution_count": 33
        }
      ]
    },
    {
      "cell_type": "code",
      "metadata": {
        "colab": {
          "base_uri": "https://localhost:8080/"
        },
        "id": "uj6IXcOJ5Pkh",
        "outputId": "300f83c0-b82f-4f3d-86f9-e27b7cc55aac"
      },
      "source": [
        "departamentos = dict()\n",
        "for nom in nomdepartamentos:\n",
        "  departamentos[nom] = poblaciones[poblaciones['DEPARTAMENTO'] == nom]\n",
        "  print(nom, len(departamentos[nom]))"
      ],
      "execution_count": 38,
      "outputs": [
        {
          "output_type": "stream",
          "text": [
            "AMAZONAS 25\n",
            "ANCASH 190\n",
            "APURIMAC 87\n",
            "AREQUIPA 80\n",
            "AYACUCHO 190\n",
            "CAJAMARCA 97\n",
            "CUSCO 85\n",
            "DEPARTAMENTO 1\n",
            "HUANCAVELICA 89\n",
            "HUANUCO 139\n",
            "ICA 111\n",
            "JUNIN 85\n",
            "LA LIBERTAD 345\n",
            "LAMBAYEQUE 817\n",
            "LIMA 172\n",
            "LORETO 224\n",
            "MADRE DE DIOS 5\n",
            "MOQUEGUA 49\n",
            "PASCO 43\n",
            "PIURA 504\n",
            "PUNO 83\n",
            "SAN MARTIN 68\n",
            "TACNA 33\n",
            "TUMBES 72\n",
            "UCAYALI 163\n"
          ],
          "name": "stdout"
        }
      ]
    },
    {
      "cell_type": "code",
      "metadata": {
        "colab": {
          "base_uri": "https://localhost:8080/"
        },
        "id": "uBSKx-Hp4Xk8",
        "outputId": "cee4bdc5-1be5-464f-b414-ca0647787489"
      },
      "source": [
        "nomprovincias = poblaciones['PROVINCIA'].unique()\n",
        "print(len(nomprovincias))\n",
        "nomprovincias"
      ],
      "execution_count": 35,
      "outputs": [
        {
          "output_type": "stream",
          "text": [
            "157\n"
          ],
          "name": "stdout"
        },
        {
          "output_type": "execute_result",
          "data": {
            "text/plain": [
              "array(['BAGUA', 'BONGARA', 'CHACHAPOYAS', 'UTCUBAMBA', 'ANTONIO RAYMONDI',\n",
              "       'BOLOGNESI', 'CARHUAZ', 'CASMA', 'HUARAZ', 'HUARI', 'HUAYLAS',\n",
              "       'OCROS', 'POMABAMBA', 'RECUAY', 'SANTA', 'SIHUAS', 'YUNGAY',\n",
              "       'ABANCAY', 'ANDAHUAYLAS', 'ANTABAMBA', 'AYMARAES', 'CHINCHEROS',\n",
              "       'GRAU', 'AREQUIPA', 'CAMANA', 'CARAVELI', 'CASTILLA', 'CAYLLOMA',\n",
              "       'CONDESUYOS', 'CANGALLO', 'HUAMANGA', 'HUANCA SANCOS', 'HUANTA',\n",
              "       'LUCANAS', 'PARINACOCHAS', 'VICTOR FAJARDO', 'CAJABAMBA',\n",
              "       'CAJAMARCA', 'CELENDIN', 'CHOTA', 'CONTUMAZA', 'CUTERVO', 'JAEN',\n",
              "       'SAN IGNACIO', 'SAN MARCOS', 'SAN MIGUEL', 'SAN MIMGUEL',\n",
              "       'SANTA CRUZ', 'ACOMAYO', 'CALCA', 'CANAS', 'CANCHIS',\n",
              "       'CHUMBIVILCAS', 'LA CONVENCION', 'PARURO', 'QUISPICANCHI',\n",
              "       'PROVINCIA', 'CASTROVIRREYNA', 'CHURCAMPA', 'HUANCAVELICA',\n",
              "       'HUAYTARA', 'TAYACAJA', 'AMBO', 'DOS DE MAYO', 'DOSDEMAYO',\n",
              "       'HUAMALIES', 'HUANUCO SANTA', 'HUANUCO', 'LAURICOCHA',\n",
              "       'LEONCIO PRADO', 'MARAÑON', 'PUERTO INCA', 'CHINCHA', 'ICA',\n",
              "       'NASCA', 'PALPA', 'PISCO', 'CHANCHAMAYO', 'CHUPACA', 'CONCEPCION',\n",
              "       'HUANCAYO', 'JAUJA', 'JUNIN', 'SATIPO', 'TARMA', 'ASCOPE',\n",
              "       'BOLIVAR', 'CHEPEN', 'GRAN CHIMU', 'JULCAN', 'OTUZCO', 'PACASMAYO',\n",
              "       'PATAZ', 'SANCHEZ CARRION', 'SANTIAGO DE CHUCO', 'TRUJILLO',\n",
              "       'VIRU', 'CHICLAYO', 'FERREÑAFE', 'LAMBAYEQUE', 'BARRANCA',\n",
              "       'CAJATAMBO', 'CAÑETE', 'HUARAL', 'HUAROCHIRI', 'HUAURA', 'LIMA',\n",
              "       'OYON', 'YAUYOS', 'ALTO AMAZONAS', 'LORETO',\n",
              "       'MARISCAL RAMON CASTILLA', 'MAYNAS', 'PUTUMAYO   10', 'REQUENA',\n",
              "       'UCAYALI', 'MANU', 'TAMBOPATA', 'GENERAL SANCHEZ CERRO',\n",
              "       'MARISCAL NIETO', 'DANIEL ALCIDES CARRION', 'OXAPAMPA', 'PASCO',\n",
              "       'AYABACA', 'HUANCABAMBA', 'MORROPON', 'PAITA', 'PIURA', 'SECHURA',\n",
              "       'SULLANA', 'TALARA', 'AZANGARO', 'CARABAYA', 'CHUCUITO',\n",
              "       'EL COLLAO', 'LAMPA', 'MELGAR', 'PUNO', 'SANDIA', 'BELLAVISTA',\n",
              "       'HUALLAGA', 'LAMAS', 'MARISCAL CACERES', 'MOYOBAMBA', 'PICOTA',\n",
              "       'RIOJA', 'SAN MARTIN', 'TOCACHE', 'CANDARAVE', 'JORGE BASADRE',\n",
              "       'TACNA', 'TARATA', 'CONTRALMIRANTE VILLAR', 'TUMBES', 'ZARUMILLA',\n",
              "       'CORONEL PORTILLO', 'PADRE ABAD'], dtype=object)"
            ]
          },
          "metadata": {
            "tags": []
          },
          "execution_count": 35
        }
      ]
    },
    {
      "cell_type": "code",
      "metadata": {
        "colab": {
          "base_uri": "https://localhost:8080/"
        },
        "id": "34_jWOMT4n-5",
        "outputId": "3f2f4a78-5abb-4ec1-dead-0efffffbdf66"
      },
      "source": [
        "provincias = dict()\n",
        "for nom in nomprovincias:\n",
        "  provincias[nom] = poblaciones[poblaciones['PROVINCIA'] == nom]\n",
        "  print(nom, len(provincias[nom]))"
      ],
      "execution_count": 257,
      "outputs": [
        {
          "output_type": "stream",
          "text": [
            "BAGUA 4\n",
            "BONGARA 8\n",
            "CHACHAPOYAS 1\n",
            "UTCUBAMBA 12\n",
            "ANTONIO RAYMONDI 2\n",
            "BOLOGNESI 5\n",
            "CARHUAZ 20\n",
            "CASMA 14\n",
            "HUARAZ 38\n",
            "HUARI 20\n",
            "HUAYLAS 5\n",
            "OCROS 2\n",
            "POMABAMBA 21\n",
            "RECUAY 28\n",
            "SANTA 22\n",
            "SIHUAS 6\n",
            "YUNGAY 7\n",
            "ABANCAY 41\n",
            "ANDAHUAYLAS 8\n",
            "ANTABAMBA 2\n",
            "AYMARAES 23\n",
            "CHINCHEROS 12\n",
            "GRAU 1\n",
            "AREQUIPA 24\n",
            "CAMANA 16\n",
            "CARAVELI 16\n",
            "CASTILLA 1\n",
            "CAYLLOMA 20\n",
            "CONDESUYOS 3\n",
            "CANGALLO 20\n",
            "HUAMANGA 3\n",
            "HUANCA SANCOS 38\n",
            "HUANTA 7\n",
            "LUCANAS 92\n",
            "PARINACOCHAS 1\n",
            "VICTOR FAJARDO 29\n",
            "CAJABAMBA 10\n",
            "CAJAMARCA 13\n",
            "CELENDIN 16\n",
            "CHOTA 6\n",
            "CONTUMAZA 16\n",
            "CUTERVO 6\n",
            "JAEN 11\n",
            "SAN IGNACIO 2\n",
            "SAN MARCOS 2\n",
            "SAN MIGUEL 13\n",
            "SAN MIMGUEL 1\n",
            "SANTA CRUZ 1\n",
            "ACOMAYO 14\n",
            "CALCA 3\n",
            "CANAS 4\n",
            "CANCHIS 12\n",
            "CHUMBIVILCAS 3\n",
            "LA CONVENCION 13\n",
            "PARURO 14\n",
            "QUISPICANCHI 22\n",
            "PROVINCIA 1\n",
            "CASTROVIRREYNA 49\n",
            "CHURCAMPA 1\n",
            "HUANCAVELICA 6\n",
            "HUAYTARA 32\n",
            "TAYACAJA 1\n",
            "AMBO 37\n",
            "DOS DE MAYO 7\n",
            "DOSDEMAYO 1\n",
            "HUAMALIES 6\n",
            "HUANUCO SANTA 1\n",
            "HUANUCO 27\n",
            "LAURICOCHA 11\n",
            "LEONCIO PRADO 28\n",
            "MARAÑON 12\n",
            "PUERTO INCA 9\n",
            "CHINCHA 1\n",
            "ICA 60\n",
            "NASCA 6\n",
            "PALPA 30\n",
            "PISCO 14\n",
            "CHANCHAMAYO 14\n",
            "CHUPACA 13\n",
            "CONCEPCION 1\n",
            "HUANCAYO 13\n",
            "JAUJA 1\n",
            "JUNIN 2\n",
            "SATIPO 6\n",
            "TARMA 35\n",
            "ASCOPE 67\n",
            "BOLIVAR 15\n",
            "CHEPEN 82\n",
            "GRAN CHIMU 21\n",
            "JULCAN 1\n",
            "OTUZCO 2\n",
            "PACASMAYO 52\n",
            "PATAZ 8\n",
            "SANCHEZ CARRION 6\n",
            "SANTIAGO DE CHUCO 22\n",
            "TRUJILLO 68\n",
            "VIRU 1\n",
            "CHICLAYO 250\n",
            "FERREÑAFE 127\n",
            "LAMBAYEQUE 440\n",
            "BARRANCA 15\n",
            "CAJATAMBO 3\n",
            "CAÑETE 48\n",
            "HUARAL 27\n",
            "HUAROCHIRI 6\n",
            "HUAURA 23\n",
            "LIMA 2\n",
            "OYON 26\n",
            "YAUYOS 22\n",
            "ALTO AMAZONAS 7\n",
            "LORETO 23\n",
            "MARISCAL RAMON CASTILLA 23\n",
            "MAYNAS 70\n",
            "PUTUMAYO   10 3\n",
            "REQUENA 79\n",
            "UCAYALI 19\n",
            "MANU 4\n",
            "TAMBOPATA 1\n",
            "GENERAL SANCHEZ CERRO 25\n",
            "MARISCAL NIETO 24\n",
            "DANIEL ALCIDES CARRION 6\n",
            "OXAPAMPA 4\n",
            "PASCO 33\n",
            "AYABACA 13\n",
            "HUANCABAMBA 46\n",
            "MORROPON 102\n",
            "PAITA 20\n",
            "PIURA 185\n",
            "SECHURA 76\n",
            "SULLANA 56\n",
            "TALARA 6\n",
            "AZANGARO 4\n",
            "CARABAYA 36\n",
            "CHUCUITO 12\n",
            "EL COLLAO 4\n",
            "LAMPA 4\n",
            "MELGAR 7\n",
            "PUNO 5\n",
            "SANDIA 11\n",
            "BELLAVISTA 7\n",
            "HUALLAGA 3\n",
            "LAMAS 7\n",
            "MARISCAL CACERES 8\n",
            "MOYOBAMBA 9\n",
            "PICOTA 10\n",
            "RIOJA 9\n",
            "SAN MARTIN 6\n",
            "TOCACHE 9\n",
            "CANDARAVE 1\n",
            "JORGE BASADRE 7\n",
            "TACNA 11\n",
            "TARATA 14\n",
            "CONTRALMIRANTE VILLAR 15\n",
            "TUMBES 33\n",
            "ZARUMILLA 24\n",
            "CORONEL PORTILLO 159\n",
            "PADRE ABAD 4\n"
          ],
          "name": "stdout"
        }
      ]
    },
    {
      "cell_type": "code",
      "metadata": {
        "colab": {
          "base_uri": "https://localhost:8080/"
        },
        "id": "EHWn5Lbt6U8I",
        "outputId": "4da6033f-ac08-4f54-a3cb-e47cf4086026"
      },
      "source": [
        "nomprovincia = input(\"Ingrese la provincia para mostrar sus distritos: \")\n",
        "nomdistritos = provincias[nomprovincia]['DISTRITO'].unique()\n",
        "print(\"Hay \", len(nomdistritos), \" distritos \")\n",
        "print(\" \")\n",
        "nomdistritos\n",
        "\n",
        "distritos = dict()\n",
        "for nom in nomdistritos:\n",
        "  distritos[nom] = provincias[nomprovincia][provincias[nomprovincia]['DISTRITO'] == nom]\n",
        "  print(nom, len(distritos[nom]))\n"
      ],
      "execution_count": 258,
      "outputs": [
        {
          "output_type": "stream",
          "text": [
            "Ingrese la provincia para mostrar sus distritos: SATIPO\n",
            "Hay  2  distritos \n",
            " \n",
            "COVIRIALI 3\n",
            "MAZAMARI 3\n"
          ],
          "name": "stdout"
        }
      ]
    },
    {
      "cell_type": "code",
      "metadata": {
        "id": "6G8sH64q-cb4"
      },
      "source": [
        "def dist(cp1, cp2):\n",
        "  x1, y1 = float(cp1['LATITUD']), float(cp1['LONGITUD'])\n",
        "  x2, y2 = float(cp2['LATITUD']), float(cp2['LONGITUD'])\n",
        "\n",
        "  return math.sqrt((x1 - x2)**2 + (y1 - y2)**2)"
      ],
      "execution_count": 56,
      "outputs": []
    },
    {
      "cell_type": "code",
      "metadata": {
        "colab": {
          "base_uri": "https://localhost:8080/"
        },
        "id": "lguvyUDw71LJ",
        "outputId": "5b230658-b742-4ec4-fe18-4736b367a95f"
      },
      "source": [
        "nomdistrito = input(\"Ingrese el DISTRITO para mostrar sus CENTROS POBLADOS: \")\n",
        "distrito = distritos[nomdistrito]\n",
        "\n",
        "G = nx.Graph()\n",
        "col = 'CENTRO POBLADO'\n",
        "for i, cp1 in distrito.iterrows():\n",
        "  print(cp1[col])\n",
        "  for j, cp2 in distrito.iterrows():\n",
        "    if cp1[col] != cp2[col]:\n",
        "      G.add_edge(cp1[col], cp2[col], weight=dist(cp1, cp2))\n",
        "\n"
      ],
      "execution_count": 259,
      "outputs": [
        {
          "output_type": "stream",
          "text": [
            "Ingrese el DISTRITO para mostrar sus CENTROS POBLADOS: MAZAMARI\n",
            "ARTURO DURAN PANES Y PASTOR\n",
            "CIUDAD SATELITE (QUERUBINI)\n",
            "SAN CRISTOBAL\n"
          ],
          "name": "stdout"
        }
      ]
    },
    {
      "cell_type": "code",
      "metadata": {
        "colab": {
          "base_uri": "https://localhost:8080/"
        },
        "id": "WWN4ZNHJHRRQ",
        "outputId": "2b495e29-2e35-4294-e042-674376ce88f7"
      },
      "source": [
        "print(G.nodes)"
      ],
      "execution_count": 261,
      "outputs": [
        {
          "output_type": "stream",
          "text": [
            "['ARTURO DURAN PANES Y PASTOR', 'CIUDAD SATELITE (QUERUBINI)', 'SAN CRISTOBAL']\n"
          ],
          "name": "stdout"
        }
      ]
    },
    {
      "cell_type": "code",
      "metadata": {
        "colab": {
          "base_uri": "https://localhost:8080/"
        },
        "id": "9ByKhH2kIcGS",
        "outputId": "93a3e0f1-2533-493a-a576-a57147186859"
      },
      "source": [
        "\n",
        "list(G.neighbors('SAN CRISTOBAL'))"
      ],
      "execution_count": 263,
      "outputs": [
        {
          "output_type": "execute_result",
          "data": {
            "text/plain": [
              "['ARTURO DURAN PANES Y PASTOR', 'CIUDAD SATELITE (QUERUBINI)']"
            ]
          },
          "metadata": {
            "tags": []
          },
          "execution_count": 263
        }
      ]
    },
    {
      "cell_type": "code",
      "metadata": {
        "id": "KwQ_UGE3VBop"
      },
      "source": [
        "def dijkstra(G, s):\n",
        "    neighbor = ''\n",
        "    unvisited = []\n",
        "    visited = []\n",
        "    total_weight = 0\n",
        "    current_node = s\n",
        "\n",
        "    for node in G.nodes:\n",
        "        if node == s:\n",
        "            visited.append(s)\n",
        "        else:\n",
        "            unvisited.append(node)\n",
        "    while unvisited:\n",
        "        for i, neighbor in enumerate(unvisited):\n",
        "            if i == 0:\n",
        "                current_weight = G.edges[s, neighbor]['weight']\n",
        "                current_node = neighbor\n",
        "            elif G.edges[s, neighbor]['weight'] < current_weight:\n",
        "                current_weight = G.edges[s, neighbor]['weight']\n",
        "                current_node = neighbor\n",
        "        total_weight += current_weight\n",
        "        unvisited.remove(current_node)\n",
        "        visited.append(current_node)\n",
        "    \n",
        "    total_weight += G.edges[s, current_node]['weight']\n",
        "    visited.append(s)\n",
        "    return visited, total_weight"
      ],
      "execution_count": 274,
      "outputs": []
    },
    {
      "cell_type": "code",
      "metadata": {
        "colab": {
          "base_uri": "https://localhost:8080/"
        },
        "id": "ivXms5i-V_L7",
        "outputId": "bbc52bd6-cbe8-4b85-f80c-a226e905c115"
      },
      "source": [
        "def path_taken():\n",
        "    dijkstra(G, 'SAN CRISTOBAL')\n",
        "    shortest_path = []\n",
        "    shortest_weight = 0\n",
        "\n",
        "    for i, node in enumerate(G.nodes):\n",
        "        path, weight = dijkstra(G, node)\n",
        "        print(\"\")\n",
        "        print(\"Ruta\", i + 1, \"=\", path)\n",
        "        print(\"Distancia =\", weight)\n",
        "        if i == 0:\n",
        "            shortest_weight = weight\n",
        "            shortest_path = path\n",
        "            \n",
        "        elif weight < shortest_weight:\n",
        "            shortest_weight = weight\n",
        "            shortest_path = path\n",
        "        \n",
        "    print('--------------------------------------')\n",
        "    print(\"La ruta más corta que visita cada ciudad es:\", shortest_path)\n",
        "    print(\"La distancia de la ruta es:\", shortest_weight)\n",
        "\n",
        "path_taken()"
      ],
      "execution_count": 288,
      "outputs": [
        {
          "output_type": "stream",
          "text": [
            "\n",
            "Ruta 1 = ['ARTURO DURAN PANES Y PASTOR', 'SAN CRISTOBAL', 'CIUDAD SATELITE (QUERUBINI)', 'ARTURO DURAN PANES Y PASTOR']\n",
            "Distancia = 0.02031753534539294\n",
            "\n",
            "Ruta 2 = ['CIUDAD SATELITE (QUERUBINI)', 'ARTURO DURAN PANES Y PASTOR', 'SAN CRISTOBAL', 'CIUDAD SATELITE (QUERUBINI)']\n",
            "Distancia = 0.032951388920751265\n",
            "\n",
            "Ruta 3 = ['SAN CRISTOBAL', 'ARTURO DURAN PANES Y PASTOR', 'CIUDAD SATELITE (QUERUBINI)', 'SAN CRISTOBAL']\n",
            "Distancia = 0.03024551129152025\n",
            "--------------------------------------\n",
            "La ruta más corta que visita cada ciudad es: ['ARTURO DURAN PANES Y PASTOR', 'SAN CRISTOBAL', 'CIUDAD SATELITE (QUERUBINI)', 'ARTURO DURAN PANES Y PASTOR']\n",
            "La distancia de la ruta es: 0.02031753534539294\n"
          ],
          "name": "stdout"
        }
      ]
    },
    {
      "cell_type": "code",
      "metadata": {
        "colab": {
          "base_uri": "https://localhost:8080/",
          "height": 312
        },
        "id": "V3Y46ib_zdnT",
        "outputId": "e64603dc-f93d-4224-ea07-b276f3eca549"
      },
      "source": [
        "gs.nx2gv(G, weighted=True, params={'size':'10'})"
      ],
      "execution_count": 286,
      "outputs": [
        {
          "output_type": "execute_result",
          "data": {
            "text/plain": [
              "<graphviz.dot.Graph at 0x7f4fe23443d0>"
            ],
            "image/svg+xml": "<?xml version=\"1.0\" encoding=\"UTF-8\" standalone=\"no\"?>\n<!DOCTYPE svg PUBLIC \"-//W3C//DTD SVG 1.1//EN\"\n \"http://www.w3.org/Graphics/SVG/1.1/DTD/svg11.dtd\">\n<!-- Generated by graphviz version 2.40.1 (20161225.0304)\n -->\n<!-- Title: G Pages: 1 -->\n<svg width=\"508pt\" height=\"218pt\"\n viewBox=\"0.00 0.00 508.39 218.00\" xmlns=\"http://www.w3.org/2000/svg\" xmlns:xlink=\"http://www.w3.org/1999/xlink\">\n<g id=\"graph0\" class=\"graph\" transform=\"scale(1 1) rotate(0) translate(4 214)\">\n<title>G</title>\n<polygon fill=\"#ffffff\" stroke=\"transparent\" points=\"-4,4 -4,-214 504.3864,-214 504.3864,4 -4,4\"/>\n<!-- ARTURO DURAN PANES Y PASTOR -->\n<g id=\"node1\" class=\"node\">\n<title>ARTURO DURAN PANES Y PASTOR</title>\n<ellipse fill=\"none\" stroke=\"#000000\" cx=\"260.3864\" cy=\"-192\" rx=\"163.2712\" ry=\"18\"/>\n<text text-anchor=\"middle\" x=\"260.3864\" y=\"-188.3\" font-family=\"Times,serif\" font-size=\"14.00\" fill=\"#000000\">ARTURO DURAN PANES Y PASTOR</text>\n</g>\n<!-- CIUDAD SATELITE (QUERUBINI) -->\n<g id=\"node2\" class=\"node\">\n<title>CIUDAD SATELITE (QUERUBINI)</title>\n<ellipse fill=\"none\" stroke=\"#000000\" cx=\"153.3864\" cy=\"-105\" rx=\"153.2729\" ry=\"18\"/>\n<text text-anchor=\"middle\" x=\"153.3864\" y=\"-101.3\" font-family=\"Times,serif\" font-size=\"14.00\" fill=\"#000000\">CIUDAD SATELITE (QUERUBINI)</text>\n</g>\n<!-- ARTURO DURAN PANES Y PASTOR&#45;&#45;CIUDAD SATELITE (QUERUBINI) -->\n<g id=\"edge1\" class=\"edge\">\n<title>ARTURO DURAN PANES Y PASTOR&#45;&#45;CIUDAD SATELITE (QUERUBINI)</title>\n<path fill=\"none\" stroke=\"#000000\" d=\"M209.7689,-174.79C199.6111,-169.7965 189.5613,-163.5874 181.3864,-156 171.7619,-147.0672 164.6919,-134.0552 160.0638,-123.4105\"/>\n<text text-anchor=\"middle\" x=\"254.8864\" y=\"-144.8\" font-family=\"Times,serif\" font-size=\"14.00\" fill=\"#000000\">0.007674470991541319</text>\n</g>\n<!-- SAN CRISTOBAL -->\n<g id=\"node3\" class=\"node\">\n<title>SAN CRISTOBAL</title>\n<ellipse fill=\"none\" stroke=\"#000000\" cx=\"248.3864\" cy=\"-18\" rx=\"85.2851\" ry=\"18\"/>\n<text text-anchor=\"middle\" x=\"248.3864\" y=\"-14.3\" font-family=\"Times,serif\" font-size=\"14.00\" fill=\"#000000\">SAN CRISTOBAL</text>\n</g>\n<!-- ARTURO DURAN PANES Y PASTOR&#45;&#45;SAN CRISTOBAL -->\n<g id=\"edge2\" class=\"edge\">\n<title>ARTURO DURAN PANES Y PASTOR&#45;&#45;SAN CRISTOBAL</title>\n<path fill=\"none\" stroke=\"#000000\" d=\"M309.3025,-174.6444C316.9123,-169.7872 323.77,-163.6673 328.3864,-156 351.7696,-117.1627 353.0011,-92.0687 328.3864,-54 322.1842,-44.4077 312.7496,-37.346 302.509,-32.1554\"/>\n<text text-anchor=\"middle\" x=\"423.3864\" y=\"-101.3\" font-family=\"Times,serif\" font-size=\"14.00\" fill=\"#000000\">0.0049685933623103045</text>\n</g>\n<!-- CIUDAD SATELITE (QUERUBINI)&#45;&#45;SAN CRISTOBAL -->\n<g id=\"edge3\" class=\"edge\">\n<title>CIUDAD SATELITE (QUERUBINI)&#45;&#45;SAN CRISTOBAL</title>\n<path fill=\"none\" stroke=\"#000000\" d=\"M160.28,-86.8149C164.9847,-76.2501 172.0594,-63.243 181.3864,-54 189.3588,-46.0994 199.4234,-39.4764 209.3119,-34.1538\"/>\n<text text-anchor=\"middle\" x=\"254.8864\" y=\"-57.8\" font-family=\"Times,serif\" font-size=\"14.00\" fill=\"#000000\">0.012638458964604974</text>\n</g>\n</g>\n</svg>\n"
          },
          "metadata": {
            "tags": []
          },
          "execution_count": 286
        }
      ]
    }
  ]
}