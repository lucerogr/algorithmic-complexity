{
  "nbformat": 4,
  "nbformat_minor": 0,
  "metadata": {
    "colab": {
      "name": "TF.ipynb",
      "provenance": [],
      "authorship_tag": "ABX9TyO5OYI+34bueQW6d9yntqm4",
      "include_colab_link": true
    },
    "kernelspec": {
      "name": "python3",
      "display_name": "Python 3"
    },
    "language_info": {
      "name": "python"
    }
  },
  "cells": [
    {
      "cell_type": "markdown",
      "metadata": {
        "id": "view-in-github",
        "colab_type": "text"
      },
      "source": [
        "<a href=\"https://colab.research.google.com/github/lucerogr/algorithmic-complexity/blob/main/TF.ipynb\" target=\"_parent\"><img src=\"https://colab.research.google.com/assets/colab-badge.svg\" alt=\"Open In Colab\"/></a>"
      ]
    },
    {
      "cell_type": "code",
      "metadata": {
        "colab": {
          "base_uri": "https://localhost:8080/"
        },
        "id": "IJ5HVzNu2xJg",
        "outputId": "bb87af06-8633-4e5d-c7b5-4dfd165e3d0d"
      },
      "source": [
        "!git clone https://github.com/lmcanavals/algorithmic_complexity.git"
      ],
      "execution_count": 1,
      "outputs": [
        {
          "output_type": "stream",
          "text": [
            "Cloning into 'algorithmic_complexity'...\n",
            "remote: Enumerating objects: 104, done.\u001b[K\n",
            "remote: Counting objects: 100% (104/104), done.\u001b[K\n",
            "remote: Compressing objects: 100% (58/58), done.\u001b[K\n",
            "remote: Total 104 (delta 50), reused 91 (delta 41), pack-reused 0\u001b[K\n",
            "Receiving objects: 100% (104/104), 15.59 MiB | 38.09 MiB/s, done.\n",
            "Resolving deltas: 100% (50/50), done.\n"
          ],
          "name": "stdout"
        }
      ]
    },
    {
      "cell_type": "code",
      "metadata": {
        "id": "gE8p6-Oi2791"
      },
      "source": [
        "from algorithmic_complexity.aclib import graphstuff as gs"
      ],
      "execution_count": 6,
      "outputs": []
    },
    {
      "cell_type": "code",
      "metadata": {
        "id": "km0Hh9HD2_Oz"
      },
      "source": [
        "import pandas as pd\n",
        "import numpy as np\n",
        "import networkx as nx\n",
        "import math\n",
        "import graphviz as gv"
      ],
      "execution_count": 2,
      "outputs": []
    },
    {
      "cell_type": "code",
      "metadata": {
        "id": "YYtDSRoh0Y_d"
      },
      "source": [
        "url=\"https://raw.githubusercontent.com/lmcanavals/algorithmic_complexity/main/data/poblaciones.csv\"\n",
        "poblacionesDF = pd.read_csv(url)"
      ],
      "execution_count": 4,
      "outputs": []
    },
    {
      "cell_type": "code",
      "metadata": {
        "id": "jeMk3PXRA5G9"
      },
      "source": [
        "def dist(cp1, cp2):\n",
        "  la1, lo1 = float(cp1['LATITUD']), float(cp1['LONGITUD'])\n",
        "  la2, lo2 = float(cp2['LATITUD']), float(cp2['LONGITUD'])\n",
        "  \n",
        "  lo1, la1, lo2, la2 = map(math.radians, [lo1, la1, lo2, la2])\n",
        "  dlo = lo2 - lo1\n",
        "  dla = la2 - la1\n",
        "  a = math.sin(dla/2)**2 + math.cos(la1) * math.cos(la2) * math.sin(dlo/2)**2\n",
        "  c = 2 * math.asin(math.sqrt(a))\n",
        "  r = 6371\n",
        "\n",
        "  return round(c * r, 2)"
      ],
      "execution_count": 5,
      "outputs": []
    },
    {
      "cell_type": "code",
      "metadata": {
        "colab": {
          "base_uri": "https://localhost:8080/"
        },
        "id": "cEoG-2KZBCTk",
        "outputId": "c140e5a6-ea39-4409-e4c0-5b9966fba22c"
      },
      "source": [
        "nomdepartamentos = poblacionesDF['DEPARTAMENTO'].unique()\n",
        "departamentos = dict()\n",
        "for nom in nomdepartamentos:\n",
        "  departamentos[nom] = poblacionesDF[poblacionesDF['DEPARTAMENTO'] == nom]\n",
        "  print(nom, len(departamentos[nom]))"
      ],
      "execution_count": 7,
      "outputs": [
        {
          "output_type": "stream",
          "text": [
            "AMAZONAS 25\n",
            "ANCASH 189\n",
            "APURIMAC 87\n",
            "AREQUIPA 80\n",
            "AYACUCHO 190\n",
            "CAJAMARCA 97\n",
            "CUSCO 85\n",
            "HUANCAVELICA 89\n",
            "HUANUCO 137\n",
            "ICA 111\n",
            "JUNIN 85\n",
            "LA LIBERTAD 345\n",
            "LAMBAYEQUE 817\n",
            "LIMA 172\n",
            "LORETO 224\n",
            "MADRE DE DIOS 5\n",
            "MOQUEGUA 49\n",
            "PASCO 43\n",
            "PIURA 504\n",
            "PUNO 83\n",
            "SAN MARTIN 68\n",
            "TACNA 33\n",
            "TUMBES 72\n",
            "UCAYALI 163\n"
          ],
          "name": "stdout"
        }
      ]
    },
    {
      "cell_type": "code",
      "metadata": {
        "colab": {
          "base_uri": "https://localhost:8080/"
        },
        "id": "hFfV-vZSBET0",
        "outputId": "81b21eeb-0f1a-4eda-c59a-da3b515b766e"
      },
      "source": [
        "nomprovincias = poblacionesDF['PROVINCIA'].unique()\n",
        "provincias = dict()\n",
        "for nom in nomprovincias:\n",
        "  provincias[nom] = poblacionesDF[poblacionesDF['PROVINCIA'] == nom]\n",
        "  print(nom, len(provincias[nom]))"
      ],
      "execution_count": 8,
      "outputs": [
        {
          "output_type": "stream",
          "text": [
            "BAGUA 4\n",
            "BONGARA 8\n",
            "CHACHAPOYAS 1\n",
            "UTCUBAMBA 12\n",
            "ANTONIO RAYMONDI 2\n",
            "BOLOGNESI 5\n",
            "CARHUAZ 19\n",
            "CASMA 14\n",
            "HUARAZ 38\n",
            "HUARI 20\n",
            "HUAYLAS 5\n",
            "OCROS 2\n",
            "POMABAMBA 21\n",
            "RECUAY 28\n",
            "SANTA 22\n",
            "SIHUAS 6\n",
            "YUNGAY 7\n",
            "ABANCAY 41\n",
            "ANDAHUAYLAS 8\n",
            "ANTABAMBA 2\n",
            "AYMARAES 23\n",
            "CHINCHEROS 12\n",
            "GRAU 1\n",
            "AREQUIPA 24\n",
            "CAMANA 16\n",
            "CARAVELI 16\n",
            "CASTILLA 1\n",
            "CAYLLOMA 20\n",
            "CONDESUYOS 3\n",
            "CANGALLO 20\n",
            "HUAMANGA 3\n",
            "HUANCA SANCOS 38\n",
            "HUANTA 7\n",
            "LUCANAS 92\n",
            "PARINACOCHAS 1\n",
            "VICTOR FAJARDO 29\n",
            "CAJABAMBA 10\n",
            "CAJAMARCA 13\n",
            "CELENDIN 16\n",
            "CHOTA 6\n",
            "CONTUMAZA 16\n",
            "CUTERVO 6\n",
            "JAEN 11\n",
            "SAN IGNACIO 2\n",
            "SAN MARCOS 2\n",
            "SAN MIGUEL 13\n",
            "SAN MIMGUEL 1\n",
            "SANTA CRUZ 1\n",
            "ACOMAYO 14\n",
            "CALCA 3\n",
            "CANAS 4\n",
            "CANCHIS 12\n",
            "CHUMBIVILCAS 3\n",
            "LA CONVENCION 13\n",
            "PARURO 14\n",
            "QUISPICANCHI 22\n",
            "CASTROVIRREYNA 49\n",
            "CHURCAMPA 1\n",
            "HUANCAVELICA 6\n",
            "HUAYTARA 32\n",
            "TAYACAJA 1\n",
            "AMBO 36\n",
            "DOS DE MAYO 7\n",
            "DOSDEMAYO 1\n",
            "HUAMALIES 6\n",
            "HUANUCO SANTA 1\n",
            "HUANUCO 27\n",
            "LAURICOCHA 10\n",
            "LEONCIO PRADO 28\n",
            "MARAÑON 12\n",
            "PUERTO INCA 9\n",
            "CHINCHA 1\n",
            "ICA 60\n",
            "NASCA 6\n",
            "PALPA 30\n",
            "PISCO 14\n",
            "CHANCHAMAYO 14\n",
            "CHUPACA 13\n",
            "CONCEPCION 1\n",
            "HUANCAYO 13\n",
            "JAUJA 1\n",
            "JUNIN 2\n",
            "SATIPO 6\n",
            "TARMA 35\n",
            "ASCOPE 67\n",
            "BOLIVAR 15\n",
            "CHEPEN 82\n",
            "GRAN CHIMU 21\n",
            "JULCAN 1\n",
            "OTUZCO 2\n",
            "PACASMAYO 52\n",
            "PATAZ 8\n",
            "SANCHEZ CARRION 6\n",
            "SANTIAGO DE CHUCO 22\n",
            "TRUJILLO 68\n",
            "VIRU 1\n",
            "CHICLAYO 250\n",
            "FERREÑAFE 127\n",
            "LAMBAYEQUE 440\n",
            "BARRANCA 15\n",
            "CAJATAMBO 3\n",
            "CAÑETE 48\n",
            "HUARAL 27\n",
            "HUAROCHIRI 6\n",
            "HUAURA 23\n",
            "LIMA 2\n",
            "OYON 26\n",
            "YAUYOS 22\n",
            "ALTO AMAZONAS 7\n",
            "LORETO 23\n",
            "MARISCAL RAMON CASTILLA 23\n",
            "MAYNAS 70\n",
            "PUTUMAYO 3\n",
            "REQUENA 79\n",
            "UCAYALI 19\n",
            "MANU 4\n",
            "TAMBOPATA 1\n",
            "GENERAL SANCHEZ CERRO 25\n",
            "MARISCAL NIETO 24\n",
            "DANIEL ALCIDES CARRION 6\n",
            "OXAPAMPA 4\n",
            "PASCO 33\n",
            "AYABACA 13\n",
            "HUANCABAMBA 46\n",
            "MORROPON 102\n",
            "PAITA 20\n",
            "PIURA 185\n",
            "SECHURA 76\n",
            "SULLANA 56\n",
            "TALARA 6\n",
            "AZANGARO 4\n",
            "CARABAYA 36\n",
            "CHUCUITO 12\n",
            "EL COLLAO 4\n",
            "LAMPA 4\n",
            "MELGAR 7\n",
            "PUNO 5\n",
            "SANDIA 11\n",
            "BELLAVISTA 7\n",
            "HUALLAGA 3\n",
            "LAMAS 7\n",
            "MARISCAL CACERES 8\n",
            "MOYOBAMBA 9\n",
            "PICOTA 10\n",
            "RIOJA 9\n",
            "SAN MARTIN 6\n",
            "TOCACHE 9\n",
            "CANDARAVE 1\n",
            "JORGE BASADRE 7\n",
            "TACNA 11\n",
            "TARATA 14\n",
            "CONTRALMIRANTE VILLAR 15\n",
            "TUMBES 33\n",
            "ZARUMILLA 24\n",
            "CORONEL PORTILLO 159\n",
            "PADRE ABAD 4\n"
          ],
          "name": "stdout"
        }
      ]
    },
    {
      "cell_type": "code",
      "metadata": {
        "id": "Gx3HBSZHBJDP"
      },
      "source": [
        "def dijkstra(G, s):\n",
        "    unvisited = []\n",
        "    visited = []\n",
        "    total_weight = 0\n",
        "    current_node = s\n",
        "    neighbor = ''\n",
        "\n",
        "    for node in G.nodes:\n",
        "        if node == s:\n",
        "            visited.append(s)\n",
        "        else:\n",
        "            unvisited.append(node)\n",
        "    while unvisited:\n",
        "        for i, neighbor in enumerate(unvisited):\n",
        "            if i == 0:\n",
        "                current_weight = G.edges[s, neighbor]['weight']\n",
        "                current_node = neighbor\n",
        "            elif G.edges[s, neighbor]['weight'] < current_weight:\n",
        "                current_weight = G.edges[s, neighbor]['weight']\n",
        "                current_node = neighbor\n",
        "        total_weight += current_weight\n",
        "        unvisited.remove(current_node)\n",
        "        visited.append(current_node)\n",
        "    \n",
        "    total_weight += G.edges[s, current_node]['weight']\n",
        "    visited.append(s)\n",
        "    return visited, total_weight"
      ],
      "execution_count": 9,
      "outputs": []
    },
    {
      "cell_type": "markdown",
      "metadata": {
        "id": "mljsM1d1BMGP"
      },
      "source": [
        "Ingresar la PROVINCIA y DISTRITO "
      ]
    },
    {
      "cell_type": "code",
      "metadata": {
        "colab": {
          "base_uri": "https://localhost:8080/",
          "height": 827
        },
        "id": "bSje_qnbBM2k",
        "outputId": "39ffb83d-b494-42fe-b571-a81cc68f89a3"
      },
      "source": [
        "nomprovincia = input(\"Ingrese la provincia para mostrar sus distritos: \")\n",
        "nomdistritos = provincias[nomprovincia]['DISTRITO'].unique()\n",
        "print(\"Hay \", len(nomdistritos), \" distritos \")\n",
        "print(\" \")\n",
        "nomdistritos\n",
        "\n",
        "distritos = dict()\n",
        "for nom in nomdistritos:\n",
        "  distritos[nom] = provincias[nomprovincia][provincias[nomprovincia]['DISTRITO'] == nom]\n",
        "  print(nom, len(distritos[nom]))\n",
        "\n",
        "\n",
        "print(\"----------------------------------------------------\")\n",
        "nomdistrito = input(\"Ingrese el DISTRITO para mostrar sus CENTROS POBLADOS: \")\n",
        "distrito = distritos[nomdistrito]\n",
        "\n",
        "G = nx.Graph()\n",
        "col = 'CENTRO POBLADO'\n",
        "for i, cp1 in distrito.iterrows():\n",
        "  #print(cp1[col])\n",
        "  for j, cp2 in distrito.iterrows():\n",
        "    if cp1[col] != cp2[col]:\n",
        "      G.add_edge(cp1[col], cp2[col], weight=dist(cp1, cp2))\n",
        "\n",
        "gs.nx2gv(G, weighted=True, params={'size':'10'})"
      ],
      "execution_count": 11,
      "outputs": [
        {
          "output_type": "stream",
          "text": [
            "Ingrese la provincia para mostrar sus distritos: ICA\n",
            "Hay  6  distritos \n",
            " \n",
            "PACHACUTEC EL 1\n",
            "PACHACUTEC 13\n",
            "SAN JOSE DE  LOS MOLINOS 1\n",
            "SAN JOSE DE LOS MOLINOS 7\n",
            "SANTIAGO 25\n",
            "YAUCA DEL ROSARIO 13\n",
            "----------------------------------------------------\n",
            "Ingrese el DISTRITO para mostrar sus CENTROS POBLADOS: PACHACUTEC\n"
          ],
          "name": "stdout"
        },
        {
          "output_type": "execute_result",
          "data": {
            "text/plain": [
              "<graphviz.dot.Graph at 0x7f309d292890>"
            ],
            "image/svg+xml": "<?xml version=\"1.0\" encoding=\"UTF-8\" standalone=\"no\"?>\n<!DOCTYPE svg PUBLIC \"-//W3C//DTD SVG 1.1//EN\"\n \"http://www.w3.org/Graphics/SVG/1.1/DTD/svg11.dtd\">\n<!-- Generated by graphviz version 2.40.1 (20161225.0304)\n -->\n<!-- Title: G Pages: 1 -->\n<svg width=\"720pt\" height=\"447pt\"\n viewBox=\"0.00 0.00 720.00 446.87\" xmlns=\"http://www.w3.org/2000/svg\" xmlns:xlink=\"http://www.w3.org/1999/xlink\">\n<g id=\"graph0\" class=\"graph\" transform=\"scale(.4107 .4107) rotate(0) translate(4 1084)\">\n<title>G</title>\n<polygon fill=\"#ffffff\" stroke=\"transparent\" points=\"-4,4 -4,-1084 1749,-1084 1749,4 -4,4\"/>\n<!-- ATALAYA -->\n<g id=\"node1\" class=\"node\">\n<title>ATALAYA</title>\n<ellipse fill=\"none\" stroke=\"#000000\" cx=\"570\" cy=\"-1062\" rx=\"53.0913\" ry=\"18\"/>\n<text text-anchor=\"middle\" x=\"570\" y=\"-1058.3\" font-family=\"Times,serif\" font-size=\"14.00\" fill=\"#000000\">ATALAYA</text>\n</g>\n<!-- CRUZ -->\n<g id=\"node2\" class=\"node\">\n<title>CRUZ</title>\n<ellipse fill=\"none\" stroke=\"#000000\" cx=\"873\" cy=\"-975\" rx=\"36.2938\" ry=\"18\"/>\n<text text-anchor=\"middle\" x=\"873\" y=\"-971.3\" font-family=\"Times,serif\" font-size=\"14.00\" fill=\"#000000\">CRUZ</text>\n</g>\n<!-- ATALAYA&#45;&#45;CRUZ -->\n<g id=\"edge1\" class=\"edge\">\n<title>ATALAYA&#45;&#45;CRUZ</title>\n<path fill=\"none\" stroke=\"#000000\" d=\"M620.7317,-1056.4574C677.2904,-1049.8327 764.9026,-1038.1146 796,-1026 817.664,-1017.5604 839.4896,-1002.3196 854.3435,-990.6898\"/>\n<text text-anchor=\"middle\" x=\"839.5\" y=\"-1014.8\" font-family=\"Times,serif\" font-size=\"14.00\" fill=\"#000000\">2.04</text>\n</g>\n<!-- CUATRO DE MAYO -->\n<g id=\"node3\" class=\"node\">\n<title>CUATRO DE MAYO</title>\n<ellipse fill=\"none\" stroke=\"#000000\" cx=\"1242\" cy=\"-888\" rx=\"94.4839\" ry=\"18\"/>\n<text text-anchor=\"middle\" x=\"1242\" y=\"-884.3\" font-family=\"Times,serif\" font-size=\"14.00\" fill=\"#000000\">CUATRO DE MAYO</text>\n</g>\n<!-- ATALAYA&#45;&#45;CUATRO DE MAYO -->\n<g id=\"edge2\" class=\"edge\">\n<title>ATALAYA&#45;&#45;CUATRO DE MAYO</title>\n<path fill=\"none\" stroke=\"#000000\" d=\"M623.2881,-1061.0812C828.4085,-1057.4202 1556.3748,-1043.2326 1573,-1026 1604.4754,-993.3747 1603.273,-957.744 1573,-924 1557.2219,-906.4128 1426.5824,-896.6061 1334.2349,-891.8153\"/>\n<text text-anchor=\"middle\" x=\"1610\" y=\"-971.3\" font-family=\"Times,serif\" font-size=\"14.00\" fill=\"#000000\">2.11</text>\n</g>\n<!-- EL SIETE -->\n<g id=\"node4\" class=\"node\">\n<title>EL SIETE</title>\n<ellipse fill=\"none\" stroke=\"#000000\" cx=\"723\" cy=\"-801\" rx=\"50.0912\" ry=\"18\"/>\n<text text-anchor=\"middle\" x=\"723\" y=\"-797.3\" font-family=\"Times,serif\" font-size=\"14.00\" fill=\"#000000\">EL SIETE</text>\n</g>\n<!-- ATALAYA&#45;&#45;EL SIETE -->\n<g id=\"edge3\" class=\"edge\">\n<title>ATALAYA&#45;&#45;EL SIETE</title>\n<path fill=\"none\" stroke=\"#000000\" d=\"M580.5163,-1044.0604C608.5345,-996.2646 684.7424,-866.2629 712.6124,-818.72\"/>\n<text text-anchor=\"middle\" x=\"664.5\" y=\"-927.8\" font-family=\"Times,serif\" font-size=\"14.00\" fill=\"#000000\">2.56</text>\n</g>\n<!-- ELSIETE -->\n<g id=\"node5\" class=\"node\">\n<title>ELSIETE</title>\n<ellipse fill=\"none\" stroke=\"#000000\" cx=\"548\" cy=\"-714\" rx=\"48.1917\" ry=\"18\"/>\n<text text-anchor=\"middle\" x=\"548\" y=\"-710.3\" font-family=\"Times,serif\" font-size=\"14.00\" fill=\"#000000\">ELSIETE</text>\n</g>\n<!-- ATALAYA&#45;&#45;ELSIETE -->\n<g id=\"edge4\" class=\"edge\">\n<title>ATALAYA&#45;&#45;ELSIETE</title>\n<path fill=\"none\" stroke=\"#000000\" d=\"M568.8482,-1043.78C565.0465,-983.6441 552.9254,-791.9115 549.1404,-732.0397\"/>\n<text text-anchor=\"middle\" x=\"573.5\" y=\"-884.3\" font-family=\"Times,serif\" font-size=\"14.00\" fill=\"#000000\">2.56</text>\n</g>\n<!-- LA GUARDA -->\n<g id=\"node6\" class=\"node\">\n<title>LA GUARDA</title>\n<ellipse fill=\"none\" stroke=\"#000000\" cx=\"1029\" cy=\"-627\" rx=\"65.7887\" ry=\"18\"/>\n<text text-anchor=\"middle\" x=\"1029\" y=\"-623.3\" font-family=\"Times,serif\" font-size=\"14.00\" fill=\"#000000\">LA GUARDA</text>\n</g>\n<!-- ATALAYA&#45;&#45;LA GUARDA -->\n<g id=\"edge5\" class=\"edge\">\n<title>ATALAYA&#45;&#45;LA GUARDA</title>\n<path fill=\"none\" stroke=\"#000000\" d=\"M623.0176,-1059.1609C752.6247,-1050.9616 1079.4228,-1022.2651 1141,-939 1144.964,-933.6399 1141.8585,-930.6112 1141,-924 1136.2942,-887.759 1120,-881.0453 1120,-844.5 1120,-844.5 1120,-844.5 1120,-714 1120,-681.2144 1088.7576,-656.9803 1062.885,-642.5325\"/>\n<text text-anchor=\"middle\" x=\"1134.5\" y=\"-840.8\" font-family=\"Times,serif\" font-size=\"14.00\" fill=\"#000000\">2.12</text>\n</g>\n<!-- LENGUA -->\n<g id=\"node7\" class=\"node\">\n<title>LENGUA</title>\n<ellipse fill=\"none\" stroke=\"#000000\" cx=\"946\" cy=\"-540\" rx=\"50.0912\" ry=\"18\"/>\n<text text-anchor=\"middle\" x=\"946\" y=\"-536.3\" font-family=\"Times,serif\" font-size=\"14.00\" fill=\"#000000\">LENGUA</text>\n</g>\n<!-- ATALAYA&#45;&#45;LENGUA -->\n<g id=\"edge6\" class=\"edge\">\n<title>ATALAYA&#45;&#45;LENGUA</title>\n<path fill=\"none\" stroke=\"#000000\" d=\"M589.5146,-1045.2034C631.0495,-1008.4179 728.7456,-916.2224 782,-819 816.6665,-755.7122 846.1909,-732.5616 827,-663 815.5292,-621.4216 757.0113,-609.6445 784,-576 791.3238,-566.87 854.6241,-554.8254 899.8859,-547.2452\"/>\n<text text-anchor=\"middle\" x=\"812.5\" y=\"-797.3\" font-family=\"Times,serif\" font-size=\"14.00\" fill=\"#000000\">3.6</text>\n</g>\n<!-- PAMPA DE LOS CASTILLOS -->\n<g id=\"node8\" class=\"node\">\n<title>PAMPA DE LOS CASTILLOS</title>\n<ellipse fill=\"none\" stroke=\"#000000\" cx=\"523\" cy=\"-453\" rx=\"129.9769\" ry=\"18\"/>\n<text text-anchor=\"middle\" x=\"523\" y=\"-449.3\" font-family=\"Times,serif\" font-size=\"14.00\" fill=\"#000000\">PAMPA DE LOS CASTILLOS</text>\n</g>\n<!-- ATALAYA&#45;&#45;PAMPA DE LOS CASTILLOS -->\n<g id=\"edge7\" class=\"edge\">\n<title>ATALAYA&#45;&#45;PAMPA DE LOS CASTILLOS</title>\n<path fill=\"none\" stroke=\"#000000\" d=\"M517.752,-1058.0316C429.8782,-1049.905 262,-1027.5085 262,-975 262,-975 262,-975 262,-757.5 262,-645.13 279.4002,-606.035 354,-522 369.76,-504.2467 374.8465,-499.7744 396,-489 413.1536,-480.2629 432.7238,-473.3836 451.2777,-468.0835\"/>\n<text text-anchor=\"middle\" x=\"279\" y=\"-753.8\" font-family=\"Times,serif\" font-size=\"14.00\" fill=\"#000000\">11.98</text>\n</g>\n<!-- PAMPA DE TATE -->\n<g id=\"node9\" class=\"node\">\n<title>PAMPA DE TATE</title>\n<ellipse fill=\"none\" stroke=\"#000000\" cx=\"1103\" cy=\"-366\" rx=\"81.4863\" ry=\"18\"/>\n<text text-anchor=\"middle\" x=\"1103\" y=\"-362.3\" font-family=\"Times,serif\" font-size=\"14.00\" fill=\"#000000\">PAMPA DE TATE</text>\n</g>\n<!-- ATALAYA&#45;&#45;PAMPA DE TATE -->\n<g id=\"edge8\" class=\"edge\">\n<title>ATALAYA&#45;&#45;PAMPA DE TATE</title>\n<path fill=\"none\" stroke=\"#000000\" d=\"M623.299,-1060.9904C826.9563,-1057.0207 1546.8827,-1041.9207 1593,-1026 1629.3854,-1013.439 1663,-1013.4926 1663,-975 1663,-975 1663,-975 1663,-757.5 1663,-594.8459 1632.4764,-513.4655 1490,-435 1371.1476,-369.5448 1322.7072,-407.0792 1189,-384 1179.9809,-382.4432 1170.4654,-380.6274 1161.1816,-378.7595\"/>\n<text text-anchor=\"middle\" x=\"1676.5\" y=\"-710.3\" font-family=\"Times,serif\" font-size=\"14.00\" fill=\"#000000\">1.49</text>\n</g>\n<!-- SAN ANTONIO -->\n<g id=\"node10\" class=\"node\">\n<title>SAN ANTONIO</title>\n<ellipse fill=\"none\" stroke=\"#000000\" cx=\"562\" cy=\"-279\" rx=\"74.9875\" ry=\"18\"/>\n<text text-anchor=\"middle\" x=\"562\" y=\"-275.3\" font-family=\"Times,serif\" font-size=\"14.00\" fill=\"#000000\">SAN ANTONIO</text>\n</g>\n<!-- ATALAYA&#45;&#45;SAN ANTONIO -->\n<g id=\"edge9\" class=\"edge\">\n<title>ATALAYA&#45;&#45;SAN ANTONIO</title>\n<path fill=\"none\" stroke=\"#000000\" d=\"M517.3899,-1058.8753C460.7901,-1054.668 368.4719,-1045.3503 291,-1026 228.7729,-1010.4575 156,-1039.1387 156,-975 156,-975 156,-975 156,-583.5 156,-476.2154 151.0574,-438.2919 209,-348 221.8212,-328.0207 228.8832,-323.6258 251,-315 298.9697,-296.2912 431.0857,-304.671 482,-297 491.0094,-295.6426 500.5141,-293.8389 509.7034,-291.8969\"/>\n<text text-anchor=\"middle\" x=\"169.5\" y=\"-666.8\" font-family=\"Times,serif\" font-size=\"14.00\" fill=\"#000000\">2.21</text>\n</g>\n<!-- SAN FRANCISCO A -->\n<g id=\"node11\" class=\"node\">\n<title>SAN FRANCISCO A</title>\n<ellipse fill=\"none\" stroke=\"#000000\" cx=\"1203\" cy=\"-192\" rx=\"94.4839\" ry=\"18\"/>\n<text text-anchor=\"middle\" x=\"1203\" y=\"-188.3\" font-family=\"Times,serif\" font-size=\"14.00\" fill=\"#000000\">SAN FRANCISCO A</text>\n</g>\n<!-- ATALAYA&#45;&#45;SAN FRANCISCO A -->\n<g id=\"edge10\" class=\"edge\">\n<title>ATALAYA&#45;&#45;SAN FRANCISCO A</title>\n<path fill=\"none\" stroke=\"#000000\" d=\"M623.609,-1061.7071C825.4468,-1060.3953 1533.0463,-1053.8371 1630,-1026 1673.4492,-1013.525 1718,-1020.2046 1718,-975 1718,-975 1718,-975 1718,-496.5 1718,-363.125 1640.0159,-339.2398 1532,-261 1497.4964,-236.0078 1483.2747,-238.56 1442,-228 1433.984,-225.9491 1345.095,-212.756 1278.0464,-202.9314\"/>\n<text text-anchor=\"middle\" x=\"1731.5\" y=\"-623.3\" font-family=\"Times,serif\" font-size=\"14.00\" fill=\"#000000\">3.09</text>\n</g>\n<!-- SAN FRANCISCO B -->\n<g id=\"node12\" class=\"node\">\n<title>SAN FRANCISCO B</title>\n<ellipse fill=\"none\" stroke=\"#000000\" cx=\"877\" cy=\"-105\" rx=\"94.4839\" ry=\"18\"/>\n<text text-anchor=\"middle\" x=\"877\" y=\"-101.3\" font-family=\"Times,serif\" font-size=\"14.00\" fill=\"#000000\">SAN FRANCISCO B</text>\n</g>\n<!-- ATALAYA&#45;&#45;SAN FRANCISCO B -->\n<g id=\"edge11\" class=\"edge\">\n<title>ATALAYA&#45;&#45;SAN FRANCISCO B</title>\n<path fill=\"none\" stroke=\"#000000\" d=\"M517.1018,-1059.3886C423.8973,-1054.4299 234.2048,-1042.6398 170,-1026 115.8764,-1011.9729 55,-1030.9117 55,-975 55,-975 55,-975 55,-583.5 55,-437.0151 36.6103,-379.2989 123,-261 186.6241,-173.8755 230.673,-172.0201 334,-141 415.3261,-116.5849 650.152,-108.7074 782.8236,-106.1807\"/>\n<text text-anchor=\"middle\" x=\"64.5\" y=\"-579.8\" font-family=\"Times,serif\" font-size=\"14.00\" fill=\"#000000\">2.7</text>\n</g>\n<!-- SAN ISIDRO -->\n<g id=\"node13\" class=\"node\">\n<title>SAN ISIDRO</title>\n<ellipse fill=\"none\" stroke=\"#000000\" cx=\"1113\" cy=\"-18\" rx=\"63.8893\" ry=\"18\"/>\n<text text-anchor=\"middle\" x=\"1113\" y=\"-14.3\" font-family=\"Times,serif\" font-size=\"14.00\" fill=\"#000000\">SAN ISIDRO</text>\n</g>\n<!-- ATALAYA&#45;&#45;SAN ISIDRO -->\n<g id=\"edge12\" class=\"edge\">\n<title>ATALAYA&#45;&#45;SAN ISIDRO</title>\n<path fill=\"none\" stroke=\"#000000\" d=\"M517.042,-1059.7841C397.3267,-1054.5436 113.0543,-1040.7181 72,-1026 35.086,-1012.7662 0,-1014.2145 0,-975 0,-975 0,-975 0,-105 0,-37.5234 76.7357,-66.7329 143,-54 231.3827,-37.0171 847.7138,-23.3093 1049.3314,-19.2366\"/>\n<text text-anchor=\"middle\" x=\"13.5\" y=\"-536.3\" font-family=\"Times,serif\" font-size=\"14.00\" fill=\"#000000\">2.76</text>\n</g>\n<!-- CRUZ&#45;&#45;CUATRO DE MAYO -->\n<g id=\"edge13\" class=\"edge\">\n<title>CRUZ&#45;&#45;CUATRO DE MAYO</title>\n<path fill=\"none\" stroke=\"#000000\" d=\"M907.259,-968.7179C943.2004,-961.9763 1001.2717,-950.6562 1051,-939 1097.9492,-927.9952 1150.8958,-913.7081 1189.1151,-903.0562\"/>\n<text text-anchor=\"middle\" x=\"1123.5\" y=\"-927.8\" font-family=\"Times,serif\" font-size=\"14.00\" fill=\"#000000\">0.09</text>\n</g>\n<!-- CRUZ&#45;&#45;EL SIETE -->\n<g id=\"edge14\" class=\"edge\">\n<title>CRUZ&#45;&#45;EL SIETE</title>\n<path fill=\"none\" stroke=\"#000000\" d=\"M858.6174,-958.3161C830.1662,-925.3128 766.954,-851.9867 738.0044,-818.4051\"/>\n<text text-anchor=\"middle\" x=\"822.5\" y=\"-884.3\" font-family=\"Times,serif\" font-size=\"14.00\" fill=\"#000000\">0.8</text>\n</g>\n<!-- CRUZ&#45;&#45;ELSIETE -->\n<g id=\"edge15\" class=\"edge\">\n<title>CRUZ&#45;&#45;ELSIETE</title>\n<path fill=\"none\" stroke=\"#000000\" d=\"M841.9992,-965.2779C784.9625,-945.9744 662.5126,-897.7464 589,-819 565.8971,-794.2523 555.2954,-755.0013 550.8493,-732.1508\"/>\n<text text-anchor=\"middle\" x=\"633.5\" y=\"-840.8\" font-family=\"Times,serif\" font-size=\"14.00\" fill=\"#000000\">0.8</text>\n</g>\n<!-- CRUZ&#45;&#45;LA GUARDA -->\n<g id=\"edge16\" class=\"edge\">\n<title>CRUZ&#45;&#45;LA GUARDA</title>\n<path fill=\"none\" stroke=\"#000000\" d=\"M885.3985,-957.8303C889.3501,-951.9982 893.5801,-945.3486 897,-939 954.7396,-831.8157 1005.4082,-693.9755 1022.6894,-645.1353\"/>\n<text text-anchor=\"middle\" x=\"983.5\" y=\"-797.3\" font-family=\"Times,serif\" font-size=\"14.00\" fill=\"#000000\">3.75</text>\n</g>\n<!-- CRUZ&#45;&#45;LENGUA -->\n<g id=\"edge17\" class=\"edge\">\n<title>CRUZ&#45;&#45;LENGUA</title>\n<path fill=\"none\" stroke=\"#000000\" d=\"M873.5956,-956.8551C875.4649,-908.5515 882.5642,-773.0095 906,-663 914.1409,-624.7859 929.6943,-581.6961 938.8229,-558.0126\"/>\n<text text-anchor=\"middle\" x=\"900.5\" y=\"-753.8\" font-family=\"Times,serif\" font-size=\"14.00\" fill=\"#000000\">2.5</text>\n</g>\n<!-- CRUZ&#45;&#45;PAMPA DE LOS CASTILLOS -->\n<g id=\"edge18\" class=\"edge\">\n<title>CRUZ&#45;&#45;PAMPA DE LOS CASTILLOS</title>\n<path fill=\"none\" stroke=\"#000000\" d=\"M836.5781,-972.4932C732.6052,-963.1059 434.6749,-920.1315 322,-732 284.9714,-670.1739 290.2605,-631.1236 388,-522 409.9515,-497.4917 442.6525,-480.4664 470.3718,-469.4597\"/>\n<text text-anchor=\"middle\" x=\"339\" y=\"-710.3\" font-family=\"Times,serif\" font-size=\"14.00\" fill=\"#000000\">10.81</text>\n</g>\n<!-- CRUZ&#45;&#45;PAMPA DE TATE -->\n<g id=\"edge19\" class=\"edge\">\n<title>CRUZ&#45;&#45;PAMPA DE TATE</title>\n<path fill=\"none\" stroke=\"#000000\" d=\"M908.5907,-970.5281C959.9668,-964.0025 1057.8729,-951.3044 1141,-939 1310.6775,-913.8845 1399.1246,-976.6058 1517,-852 1546.7793,-820.5203 1541,-800.8333 1541,-757.5 1541,-757.5 1541,-757.5 1541,-583.5 1541,-540.5697 1549.4584,-521.1424 1521,-489 1441.8982,-399.6584 1381.9069,-434.1778 1267,-402 1256.7193,-399.121 1204.4971,-387.7476 1161.7037,-378.5447\"/>\n<text text-anchor=\"middle\" x=\"1554.5\" y=\"-666.8\" font-family=\"Times,serif\" font-size=\"14.00\" fill=\"#000000\">1.06</text>\n</g>\n<!-- CRUZ&#45;&#45;SAN ANTONIO -->\n<g id=\"edge20\" class=\"edge\">\n<title>CRUZ&#45;&#45;SAN ANTONIO</title>\n<path fill=\"none\" stroke=\"#000000\" d=\"M837.2944,-971.4811C751.2788,-962.5933 534.9088,-937.6762 470,-906 412.7211,-878.0473 398.8447,-866.1864 356,-819 295.4365,-752.2992 278.952,-730.9682 252,-645 212.4613,-518.8844 153.6079,-450.5388 237,-348 307.1766,-261.7109 373.2969,-320.5415 482,-297 490.209,-295.2222 498.8834,-293.3078 507.3727,-291.4141\"/>\n<text text-anchor=\"middle\" x=\"261.5\" y=\"-623.3\" font-family=\"Times,serif\" font-size=\"14.00\" fill=\"#000000\">0.2</text>\n</g>\n<!-- CRUZ&#45;&#45;SAN FRANCISCO A -->\n<g id=\"edge21\" class=\"edge\">\n<title>CRUZ&#45;&#45;SAN FRANCISCO A</title>\n<path fill=\"none\" stroke=\"#000000\" d=\"M909.5636,-974.5129C1026.2896,-972.4057 1388.2361,-961.4466 1489,-906 1531.2874,-882.7308 1539.4904,-865.0342 1554,-819 1586.7643,-715.0499 1564.1699,-682.5734 1587,-576 1597.1922,-528.4214 1611.0395,-519.1576 1618,-471 1620.2888,-455.1645 1621.7698,-450.5496 1618,-435 1614.1128,-418.9661 1609.7342,-415.9968 1601,-402 1559.6361,-335.7134 1561.3134,-303.8842 1496,-261 1460.3424,-237.5876 1351.0122,-215.9759 1276.471,-203.3891\"/>\n<text text-anchor=\"middle\" x=\"1600.5\" y=\"-579.8\" font-family=\"Times,serif\" font-size=\"14.00\" fill=\"#000000\">1.95</text>\n</g>\n<!-- CRUZ&#45;&#45;SAN FRANCISCO B -->\n<g id=\"edge22\" class=\"edge\">\n<title>CRUZ&#45;&#45;SAN FRANCISCO B</title>\n<path fill=\"none\" stroke=\"#000000\" d=\"M837.4149,-971.1552C791.2849,-965.8001 708.5127,-954.9254 639,-939 461.8128,-898.4062 398.6069,-920.7877 248,-819 129.6273,-738.9978 105.3393,-663.5129 125,-522 160.7825,-264.4464 314.4944,-194.3022 569,-141 641.9798,-125.7155 726.1442,-116.4322 788.03,-111.1303\"/>\n<text text-anchor=\"middle\" x=\"138.5\" y=\"-536.3\" font-family=\"Times,serif\" font-size=\"14.00\" fill=\"#000000\">1.54</text>\n</g>\n<!-- CRUZ&#45;&#45;SAN ISIDRO -->\n<g id=\"edge23\" class=\"edge\">\n<title>CRUZ&#45;&#45;SAN ISIDRO</title>\n<path fill=\"none\" stroke=\"#000000\" d=\"M909.3309,-973.8328C1015.7759,-970.2227 1325.6594,-958.3047 1425,-939 1470.9425,-930.0721 1487.9477,-934.5927 1525,-906 1559.9618,-879.0205 1559.3689,-861.0049 1573,-819 1608.1697,-710.6228 1701,-436.4409 1701,-322.5 1701,-322.5 1701,-322.5 1701,-105 1701,-52.3707 1327.6143,-28.3735 1175.9263,-20.7961\"/>\n<text text-anchor=\"middle\" x=\"1686.5\" y=\"-492.8\" font-family=\"Times,serif\" font-size=\"14.00\" fill=\"#000000\">1.31</text>\n</g>\n<!-- CUATRO DE MAYO&#45;&#45;EL SIETE -->\n<g id=\"edge24\" class=\"edge\">\n<title>CUATRO DE MAYO&#45;&#45;EL SIETE</title>\n<path fill=\"none\" stroke=\"#000000\" d=\"M1168.9297,-876.6184C1084.5391,-863.3488 941.5787,-840.4862 819,-819 802.1305,-816.043 783.6292,-812.6175 767.4096,-809.5534\"/>\n<text text-anchor=\"middle\" x=\"1018.5\" y=\"-840.8\" font-family=\"Times,serif\" font-size=\"14.00\" fill=\"#000000\">0.72</text>\n</g>\n<!-- CUATRO DE MAYO&#45;&#45;ELSIETE -->\n<g id=\"edge25\" class=\"edge\">\n<title>CUATRO DE MAYO&#45;&#45;ELSIETE</title>\n<path fill=\"none\" stroke=\"#000000\" d=\"M1149.1666,-884.7585C1002.6596,-878.4239 725.3874,-861.1405 637,-819 598.3889,-800.5914 570.2603,-756.5908 556.8323,-731.7872\"/>\n<text text-anchor=\"middle\" x=\"650.5\" y=\"-797.3\" font-family=\"Times,serif\" font-size=\"14.00\" fill=\"#000000\">0.72</text>\n</g>\n<!-- CUATRO DE MAYO&#45;&#45;LA GUARDA -->\n<g id=\"edge26\" class=\"edge\">\n<title>CUATRO DE MAYO&#45;&#45;LA GUARDA</title>\n<path fill=\"none\" stroke=\"#000000\" d=\"M1234.2833,-869.9189C1212.4899,-819.1633 1150.9594,-678.0794 1134,-663 1119.9587,-650.5152 1101.3822,-642.3184 1083.7619,-636.9542\"/>\n<text text-anchor=\"middle\" x=\"1197.5\" y=\"-753.8\" font-family=\"Times,serif\" font-size=\"14.00\" fill=\"#000000\">3.8</text>\n</g>\n<!-- CUATRO DE MAYO&#45;&#45;LENGUA -->\n<g id=\"edge27\" class=\"edge\">\n<title>CUATRO DE MAYO&#45;&#45;LENGUA</title>\n<path fill=\"none\" stroke=\"#000000\" d=\"M1238.1335,-869.7625C1233.6589,-848.7974 1226.0058,-813.3668 1219,-783 1215.6074,-768.2948 1216.7821,-763.9399 1211,-750 1180.8592,-677.3352 1168.1268,-654.5674 1104,-609 1066.7908,-582.5598 1017.8446,-563.1351 984.3492,-551.7502\"/>\n<text text-anchor=\"middle\" x=\"1217.5\" y=\"-710.3\" font-family=\"Times,serif\" font-size=\"14.00\" fill=\"#000000\">2.43</text>\n</g>\n<!-- CUATRO DE MAYO&#45;&#45;PAMPA DE LOS CASTILLOS -->\n<g id=\"edge28\" class=\"edge\">\n<title>CUATRO DE MAYO&#45;&#45;PAMPA DE LOS CASTILLOS</title>\n<path fill=\"none\" stroke=\"#000000\" d=\"M1149.2924,-884.6322C1016.2237,-879.3342 777.7702,-867.9841 693,-852 645.3464,-843.0146 631.1643,-842.9536 589,-819 512.4871,-775.533 478.0735,-761.3996 450,-678 436.5383,-638.0086 491.7289,-517.2361 514.0271,-471.1438\"/>\n<text text-anchor=\"middle\" x=\"467\" y=\"-666.8\" font-family=\"Times,serif\" font-size=\"14.00\" fill=\"#000000\">10.73</text>\n</g>\n<!-- CUATRO DE MAYO&#45;&#45;PAMPA DE TATE -->\n<g id=\"edge29\" class=\"edge\">\n<title>CUATRO DE MAYO&#45;&#45;PAMPA DE TATE</title>\n<path fill=\"none\" stroke=\"#000000\" d=\"M1261.5458,-870.3595C1277.3544,-854.076 1297,-828.34 1297,-801 1297,-801 1297,-801 1297,-540 1297,-474.4569 1294.9761,-444.4062 1245,-402 1238.3582,-396.3642 1198.1575,-386.4504 1162.2186,-378.4513\"/>\n<text text-anchor=\"middle\" x=\"1310.5\" y=\"-623.3\" font-family=\"Times,serif\" font-size=\"14.00\" fill=\"#000000\">1.14</text>\n</g>\n<!-- CUATRO DE MAYO&#45;&#45;SAN ANTONIO -->\n<g id=\"edge30\" class=\"edge\">\n<title>CUATRO DE MAYO&#45;&#45;SAN ANTONIO</title>\n<path fill=\"none\" stroke=\"#000000\" d=\"M1220.1484,-870.4819C1176.3969,-835.6925 1074.4701,-756.0699 984,-696 959.9331,-680.0202 953.4306,-676.7059 928,-663 834.7395,-612.7368 786.7798,-634.987 714,-558 673.2274,-514.8704 689.6705,-487.5063 662,-435 634.5533,-382.9183 595.2466,-325.5809 575.0614,-297.1156\"/>\n<text text-anchor=\"middle\" x=\"765.5\" y=\"-579.8\" font-family=\"Times,serif\" font-size=\"14.00\" fill=\"#000000\">0.12</text>\n</g>\n<!-- CUATRO DE MAYO&#45;&#45;SAN FRANCISCO A -->\n<g id=\"edge31\" class=\"edge\">\n<title>CUATRO DE MAYO&#45;&#45;SAN FRANCISCO A</title>\n<path fill=\"none\" stroke=\"#000000\" d=\"M1299.0199,-873.6118C1333.9493,-860.9921 1372,-838.6128 1372,-801 1372,-801 1372,-801 1372,-583.5 1372,-505.7985 1389,-487.2015 1389,-409.5 1389,-409.5 1389,-409.5 1389,-279 1389,-249.9456 1313.5936,-222.6195 1258.8061,-206.5997\"/>\n<text text-anchor=\"middle\" x=\"1390.5\" y=\"-536.3\" font-family=\"Times,serif\" font-size=\"14.00\" fill=\"#000000\">1.89</text>\n</g>\n<!-- CUATRO DE MAYO&#45;&#45;SAN FRANCISCO B -->\n<g id=\"edge32\" class=\"edge\">\n<title>CUATRO DE MAYO&#45;&#45;SAN FRANCISCO B</title>\n<path fill=\"none\" stroke=\"#000000\" d=\"M1308.9074,-875.3066C1374.5934,-860.8788 1465,-834.8692 1465,-801 1465,-801 1465,-801 1465,-583.5 1465,-490.2802 1445.6874,-233.5891 1374,-174 1343.0587,-148.2805 1097.9285,-123.7468 963.8758,-112.0826\"/>\n<text text-anchor=\"middle\" x=\"1475.5\" y=\"-492.8\" font-family=\"Times,serif\" font-size=\"14.00\" fill=\"#000000\">1.49</text>\n</g>\n<!-- CUATRO DE MAYO&#45;&#45;SAN ISIDRO -->\n<g id=\"edge33\" class=\"edge\">\n<title>CUATRO DE MAYO&#45;&#45;SAN ISIDRO</title>\n<path fill=\"none\" stroke=\"#000000\" d=\"M1318.8969,-877.5426C1395.8855,-864.8555 1503,-840.1661 1503,-801 1503,-801 1503,-801 1503,-583.5 1503,-418.2378 1634,-400.7622 1634,-235.5 1634,-235.5 1634,-235.5 1634,-105 1634,-58.9761 1313.6174,-31.6346 1175.3273,-21.9767\"/>\n<text text-anchor=\"middle\" x=\"1564.5\" y=\"-449.3\" font-family=\"Times,serif\" font-size=\"14.00\" fill=\"#000000\">1.24</text>\n</g>\n<!-- EL SIETE&#45;&#45;ELSIETE -->\n<g id=\"edge34\" class=\"edge\">\n<title>EL SIETE&#45;&#45;ELSIETE</title>\n<path fill=\"none\" stroke=\"#000000\" d=\"M679.4116,-791.9999C656.8903,-786.2494 629.4911,-777.488 607,-765 590.9014,-756.0614 575.2562,-742.2265 564.1261,-731.2203\"/>\n<text text-anchor=\"middle\" x=\"616.5\" y=\"-753.8\" font-family=\"Times,serif\" font-size=\"14.00\" fill=\"#000000\">0.0</text>\n</g>\n<!-- EL SIETE&#45;&#45;LA GUARDA -->\n<g id=\"edge35\" class=\"edge\">\n<title>EL SIETE&#45;&#45;LA GUARDA</title>\n<path fill=\"none\" stroke=\"#000000\" d=\"M767.5313,-792.6504C824.25,-782.0156 915,-765 915,-765 943.3634,-744.477 931.3002,-723.4736 953,-696 968.6853,-676.1413 990.3533,-657.0836 1006.5408,-644.0483\"/>\n<text text-anchor=\"middle\" x=\"966.5\" y=\"-710.3\" font-family=\"Times,serif\" font-size=\"14.00\" fill=\"#000000\">3.92</text>\n</g>\n<!-- EL SIETE&#45;&#45;LENGUA -->\n<g id=\"edge36\" class=\"edge\">\n<title>EL SIETE&#45;&#45;LENGUA</title>\n<path fill=\"none\" stroke=\"#000000\" d=\"M736.388,-783.5306C766.1594,-744.9757 840.6263,-650.1423 909,-576 914.9544,-569.5432 921.7721,-562.7543 927.9196,-556.8337\"/>\n<text text-anchor=\"middle\" x=\"845.5\" y=\"-666.8\" font-family=\"Times,serif\" font-size=\"14.00\" fill=\"#000000\">1.75</text>\n</g>\n<!-- EL SIETE&#45;&#45;PAMPA DE LOS CASTILLOS -->\n<g id=\"edge37\" class=\"edge\">\n<title>EL SIETE&#45;&#45;PAMPA DE LOS CASTILLOS</title>\n<path fill=\"none\" stroke=\"#000000\" d=\"M693.6045,-786.2678C684.4833,-780.5981 674.9991,-773.4285 668,-765 583.103,-662.7652 621.8653,-602.6531 553,-489 549.2056,-482.7378 544.3712,-476.4292 539.6971,-470.8809\"/>\n<text text-anchor=\"middle\" x=\"625\" y=\"-623.3\" font-family=\"Times,serif\" font-size=\"14.00\" fill=\"#000000\">10.01</text>\n</g>\n<!-- EL SIETE&#45;&#45;PAMPA DE TATE -->\n<g id=\"edge38\" class=\"edge\">\n<title>EL SIETE&#45;&#45;PAMPA DE TATE</title>\n<path fill=\"none\" stroke=\"#000000\" d=\"M767.393,-792.3508C783.611,-789.277 802.1155,-785.8699 819,-783 871.301,-774.1104 887.2783,-783.4979 937,-765 1030.9609,-730.044 1056.723,-715.4994 1128,-645 1169.4566,-603.9957 1262.0146,-448.6259 1227,-402 1222.5747,-396.1072 1189.9772,-386.7694 1159.3177,-379.0807\"/>\n<text text-anchor=\"middle\" x=\"1192.5\" y=\"-579.8\" font-family=\"Times,serif\" font-size=\"14.00\" fill=\"#000000\">1.85</text>\n</g>\n<!-- EL SIETE&#45;&#45;SAN ANTONIO -->\n<g id=\"edge39\" class=\"edge\">\n<title>EL SIETE&#45;&#45;SAN ANTONIO</title>\n<path fill=\"none\" stroke=\"#000000\" d=\"M686.7797,-788.522C680.5508,-786.5557 674.1147,-784.6352 668,-783 630.2752,-772.9116 619.3551,-776.3812 582,-765 565.0259,-759.8284 561.6475,-756.1421 545,-750 521.2656,-741.2433 512.047,-746.0365 491,-732 464.5293,-714.3464 459.2307,-705.9351 444,-678 398.1478,-593.9008 397.4671,-565.8354 384,-471 381.7505,-455.1589 377.1483,-449.4587 384,-435 389.41,-423.5835 396.3781,-425.1868 406,-417 455.8469,-374.5876 513.1905,-323.1637 542.5119,-296.6728\"/>\n<text text-anchor=\"middle\" x=\"411.5\" y=\"-536.3\" font-family=\"Times,serif\" font-size=\"14.00\" fill=\"#000000\">0.62</text>\n</g>\n<!-- EL SIETE&#45;&#45;SAN FRANCISCO A -->\n<g id=\"edge40\" class=\"edge\">\n<title>EL SIETE&#45;&#45;SAN FRANCISCO A</title>\n<path fill=\"none\" stroke=\"#000000\" d=\"M758.1886,-788.1991C764.7068,-786.1966 771.5074,-784.3475 778,-783 862.3524,-765.493 887.0385,-784.2948 971,-765 1099.0533,-735.5727 1143.1523,-704.1149 1210,-591 1285.1126,-463.8999 1272.9913,-406.5053 1248,-261 1245.4266,-246.0171 1246.6305,-241.1487 1239,-228 1235.1847,-221.4255 1229.87,-215.2055 1224.494,-209.8437\"/>\n<text text-anchor=\"middle\" x=\"1270.5\" y=\"-492.8\" font-family=\"Times,serif\" font-size=\"14.00\" fill=\"#000000\">1.23</text>\n</g>\n<!-- EL SIETE&#45;&#45;SAN FRANCISCO B -->\n<g id=\"edge41\" class=\"edge\">\n<title>EL SIETE&#45;&#45;SAN FRANCISCO B</title>\n<path fill=\"none\" stroke=\"#000000\" d=\"M723.5305,-782.9948C724.5604,-748.986 726.9959,-672.972 730,-609 733.6348,-531.5976 723.3433,-510.4492 741,-435 756.1436,-370.2895 841.3901,-182.3396 868.6306,-123.1033\"/>\n<text text-anchor=\"middle\" x=\"754.5\" y=\"-449.3\" font-family=\"Times,serif\" font-size=\"14.00\" fill=\"#000000\">0.89</text>\n</g>\n<!-- EL SIETE&#45;&#45;SAN ISIDRO -->\n<g id=\"edge42\" class=\"edge\">\n<title>EL SIETE&#45;&#45;SAN ISIDRO</title>\n<path fill=\"none\" stroke=\"#000000\" d=\"M687.1523,-788.3136C680.8229,-786.3482 674.2569,-784.4821 668,-783 571.5955,-760.1642 535.0645,-784.4259 451,-732 312.0683,-645.3567 281.4385,-607.4917 191,-471 174.7299,-446.4449 137,-323.4 137,-322.5 137,-322.5 137,-322.5 137,-105 137,.5731 264.3504,-67.9337 369,-54 499.7503,-36.5911 894.5646,-24.0673 1049.5631,-19.6978\"/>\n<text text-anchor=\"middle\" x=\"181.5\" y=\"-405.8\" font-family=\"Times,serif\" font-size=\"14.00\" fill=\"#000000\">0.55</text>\n</g>\n<!-- ELSIETE&#45;&#45;LA GUARDA -->\n<g id=\"edge43\" class=\"edge\">\n<title>ELSIETE&#45;&#45;LA GUARDA</title>\n<path fill=\"none\" stroke=\"#000000\" d=\"M595.1847,-709.7803C651.418,-704.3364 748.0731,-693.665 830,-678 883.4216,-667.7854 943.8139,-651.6426 983.9147,-640.2592\"/>\n<text text-anchor=\"middle\" x=\"910.5\" y=\"-666.8\" font-family=\"Times,serif\" font-size=\"14.00\" fill=\"#000000\">3.92</text>\n</g>\n<!-- ELSIETE&#45;&#45;LENGUA -->\n<g id=\"edge44\" class=\"edge\">\n<title>ELSIETE&#45;&#45;LENGUA</title>\n<path fill=\"none\" stroke=\"#000000\" d=\"M593.6459,-708.0975C635.3629,-700.4169 696.1526,-683.1371 734,-645 756.976,-621.8482 734.1939,-597.1791 759,-576 761.7265,-573.6721 846.6509,-557.964 901.1041,-548.0813\"/>\n<text text-anchor=\"middle\" x=\"759.5\" y=\"-623.3\" font-family=\"Times,serif\" font-size=\"14.00\" fill=\"#000000\">1.75</text>\n</g>\n<!-- ELSIETE&#45;&#45;PAMPA DE LOS CASTILLOS -->\n<g id=\"edge45\" class=\"edge\">\n<title>ELSIETE&#45;&#45;PAMPA DE LOS CASTILLOS</title>\n<path fill=\"none\" stroke=\"#000000\" d=\"M549.4085,-695.877C551.9178,-657.2119 555.3154,-564.0377 537,-489 535.5371,-483.0065 533.3175,-476.6714 531.0741,-471.0143\"/>\n<text text-anchor=\"middle\" x=\"568\" y=\"-579.8\" font-family=\"Times,serif\" font-size=\"14.00\" fill=\"#000000\">10.01</text>\n</g>\n<!-- ELSIETE&#45;&#45;PAMPA DE TATE -->\n<g id=\"edge46\" class=\"edge\">\n<title>ELSIETE&#45;&#45;PAMPA DE TATE</title>\n<path fill=\"none\" stroke=\"#000000\" d=\"M595.7897,-711.1539C723.6222,-703.1158 1066.2959,-678.6235 1104,-645 1125.3513,-625.9595 1123,-612.108 1123,-583.5 1123,-583.5 1123,-583.5 1123,-453 1123,-428.6679 1115.4777,-401.4588 1109.6597,-384.0531\"/>\n<text text-anchor=\"middle\" x=\"1136.5\" y=\"-536.3\" font-family=\"Times,serif\" font-size=\"14.00\" fill=\"#000000\">1.85</text>\n</g>\n<!-- ELSIETE&#45;&#45;SAN ANTONIO -->\n<g id=\"edge47\" class=\"edge\">\n<title>ELSIETE&#45;&#45;SAN ANTONIO</title>\n<path fill=\"none\" stroke=\"#000000\" d=\"M542.9498,-695.739C536.7877,-674.4489 525.5037,-638.4243 512,-609 493.3051,-568.2644 491.8131,-554.5491 461,-522 432.7805,-492.1906 403.4231,-507.1619 384,-471 376.4291,-456.9046 379.8243,-450.4455 384,-435 400.114,-375.3956 406.0763,-353.9316 454,-315 468.1131,-303.535 486.0306,-295.6611 503.1955,-290.2778\"/>\n<text text-anchor=\"middle\" x=\"447.5\" y=\"-492.8\" font-family=\"Times,serif\" font-size=\"14.00\" fill=\"#000000\">0.62</text>\n</g>\n<!-- ELSIETE&#45;&#45;SAN FRANCISCO A -->\n<g id=\"edge48\" class=\"edge\">\n<title>ELSIETE&#45;&#45;SAN FRANCISCO A</title>\n<path fill=\"none\" stroke=\"#000000\" d=\"M572.5565,-698.304C592.8748,-684.9466 622.1625,-664.8246 646,-645 688.5292,-609.6303 700.8041,-601.4787 735,-558 757.0525,-529.9611 748.8915,-512.1867 776,-489 792.3696,-474.9987 801.9078,-480.9743 821,-471 859.677,-450.794 878.0101,-452.7729 903,-417 929.6703,-378.8217 897.308,-350.8786 927,-315 935.1107,-305.1994 1089.4298,-239.6164 1163.7024,-208.4245\"/>\n<text text-anchor=\"middle\" x=\"901.5\" y=\"-449.3\" font-family=\"Times,serif\" font-size=\"14.00\" fill=\"#000000\">1.23</text>\n</g>\n<!-- ELSIETE&#45;&#45;SAN FRANCISCO B -->\n<g id=\"edge49\" class=\"edge\">\n<title>ELSIETE&#45;&#45;SAN FRANCISCO B</title>\n<path fill=\"none\" stroke=\"#000000\" d=\"M537.5727,-696.1583C524.3443,-674.3181 500.0921,-636.8121 474,-609 457.9956,-591.9407 452.6126,-588.7478 433,-576 418.3337,-566.4672 409.0818,-571.534 398,-558 352.6544,-502.6201 340.2972,-471.3525 358,-402 388.8727,-281.0533 412.0154,-233.0307 522,-174 568.677,-148.9476 708.0708,-126.9416 797.6653,-114.8514\"/>\n<text text-anchor=\"middle\" x=\"371.5\" y=\"-405.8\" font-family=\"Times,serif\" font-size=\"14.00\" fill=\"#000000\">0.89</text>\n</g>\n<!-- ELSIETE&#45;&#45;SAN ISIDRO -->\n<g id=\"edge50\" class=\"edge\">\n<title>ELSIETE&#45;&#45;SAN ISIDRO</title>\n<path fill=\"none\" stroke=\"#000000\" d=\"M522.4367,-698.6976C483.3567,-673.9963 408.9887,-621.6143 368,-558 254.3052,-381.5463 188.634,-239.384 333,-87 381.9104,-35.3732 871.9932,-22.0442 1049.3572,-18.8977\"/>\n<text text-anchor=\"middle\" x=\"286.5\" y=\"-362.3\" font-family=\"Times,serif\" font-size=\"14.00\" fill=\"#000000\">0.55</text>\n</g>\n<!-- LA GUARDA&#45;&#45;LENGUA -->\n<g id=\"edge51\" class=\"edge\">\n<title>LA GUARDA&#45;&#45;LENGUA</title>\n<path fill=\"none\" stroke=\"#000000\" d=\"M989.8746,-612.4076C979.6354,-607.008 969.4045,-599.9555 962,-591 954.313,-581.7027 950.3071,-568.6964 948.226,-558.1456\"/>\n<text text-anchor=\"middle\" x=\"975.5\" y=\"-579.8\" font-family=\"Times,serif\" font-size=\"14.00\" fill=\"#000000\">4.07</text>\n</g>\n<!-- LA GUARDA&#45;&#45;PAMPA DE LOS CASTILLOS -->\n<g id=\"edge52\" class=\"edge\">\n<title>LA GUARDA&#45;&#45;PAMPA DE LOS CASTILLOS</title>\n<path fill=\"none\" stroke=\"#000000\" d=\"M978.2553,-615.3905C968.5524,-613.225 958.4692,-611.0119 949,-609 909.0985,-600.5222 897.394,-604.7805 859,-591 845.7123,-586.2307 843.6886,-582.1894 831,-576 744.9754,-534.0374 723.4171,-523.142 634,-489 615.7361,-482.0263 595.4691,-475.1948 577.3043,-469.3891\"/>\n<text text-anchor=\"middle\" x=\"810\" y=\"-536.3\" font-family=\"Times,serif\" font-size=\"14.00\" fill=\"#000000\">11.73</text>\n</g>\n<!-- LA GUARDA&#45;&#45;PAMPA DE TATE -->\n<g id=\"edge53\" class=\"edge\">\n<title>LA GUARDA&#45;&#45;PAMPA DE TATE</title>\n<path fill=\"none\" stroke=\"#000000\" d=\"M1035.905,-608.7845C1037.9641,-603.1192 1040.1604,-596.8301 1042,-591 1065.9916,-514.9642 1089.1815,-422.7121 1098.5963,-384.2284\"/>\n<text text-anchor=\"middle\" x=\"1085.5\" y=\"-492.8\" font-family=\"Times,serif\" font-size=\"14.00\" fill=\"#000000\">3.55</text>\n</g>\n<!-- LA GUARDA&#45;&#45;SAN ANTONIO -->\n<g id=\"edge54\" class=\"edge\">\n<title>LA GUARDA&#45;&#45;SAN ANTONIO</title>\n<path fill=\"none\" stroke=\"#000000\" d=\"M992.523,-611.951C963.1204,-599.1969 921.1885,-579.5779 887,-558 853.1738,-536.6507 842.1629,-533.3628 815,-504 747.4316,-430.9592 775.122,-373.9992 695,-315 682.8166,-306.0286 650.1986,-297.1331 620.3159,-290.4292\"/>\n<text text-anchor=\"middle\" x=\"803.5\" y=\"-449.3\" font-family=\"Times,serif\" font-size=\"14.00\" fill=\"#000000\">3.86</text>\n</g>\n<!-- LA GUARDA&#45;&#45;SAN FRANCISCO A -->\n<g id=\"edge55\" class=\"edge\">\n<title>LA GUARDA&#45;&#45;SAN FRANCISCO A</title>\n<path fill=\"none\" stroke=\"#000000\" d=\"M1069.0203,-612.5959C1095.9065,-601.2329 1130.5719,-583.0954 1154,-558 1212.2108,-495.6466 1216.5643,-467.2861 1235,-384 1243.5399,-345.4197 1234.0163,-263.1905 1223,-228 1221.0776,-221.8591 1218.035,-215.5866 1214.8974,-210.0339\"/>\n<text text-anchor=\"middle\" x=\"1245.5\" y=\"-405.8\" font-family=\"Times,serif\" font-size=\"14.00\" fill=\"#000000\">3.77</text>\n</g>\n<!-- LA GUARDA&#45;&#45;SAN FRANCISCO B -->\n<g id=\"edge56\" class=\"edge\">\n<title>LA GUARDA&#45;&#45;SAN FRANCISCO B</title>\n<path fill=\"none\" stroke=\"#000000\" d=\"M1025.7424,-608.8153C1011.0587,-526.9284 951.4605,-195.4703 945,-174 940.4093,-158.7438 941.166,-153.267 931,-141 924.9608,-133.7126 917.0708,-127.3316 909.1949,-122.0468\"/>\n<text text-anchor=\"middle\" x=\"998.5\" y=\"-362.3\" font-family=\"Times,serif\" font-size=\"14.00\" fill=\"#000000\">3.56</text>\n</g>\n<!-- LA GUARDA&#45;&#45;SAN ISIDRO -->\n<g id=\"edge57\" class=\"edge\">\n<title>LA GUARDA&#45;&#45;SAN ISIDRO</title>\n<path fill=\"none\" stroke=\"#000000\" d=\"M1093.2182,-622.8025C1187.5236,-615.3974 1357.2577,-596.958 1403,-558 1496.7503,-478.1544 1475.0269,-418.3449 1496,-297 1514.8426,-187.9818 1545.1128,-94.0968 1442,-54 1394.9407,-35.7004 1257.4336,-25.5597 1175.8475,-21.0002\"/>\n<text text-anchor=\"middle\" x=\"1507.5\" y=\"-318.8\" font-family=\"Times,serif\" font-size=\"14.00\" fill=\"#000000\">3.83</text>\n</g>\n<!-- LENGUA&#45;&#45;PAMPA DE LOS CASTILLOS -->\n<g id=\"edge58\" class=\"edge\">\n<title>LENGUA&#45;&#45;PAMPA DE LOS CASTILLOS</title>\n<path fill=\"none\" stroke=\"#000000\" d=\"M904.0422,-529.9877C858.7506,-519.3074 784.4356,-502.1521 720,-489 682.1874,-481.282 640.1287,-473.4888 604.615,-467.1367\"/>\n<text text-anchor=\"middle\" x=\"802.5\" y=\"-492.8\" font-family=\"Times,serif\" font-size=\"14.00\" fill=\"#000000\">8.44</text>\n</g>\n<!-- LENGUA&#45;&#45;PAMPA DE TATE -->\n<g id=\"edge59\" class=\"edge\">\n<title>LENGUA&#45;&#45;PAMPA DE TATE</title>\n<path fill=\"none\" stroke=\"#000000\" d=\"M961.6277,-522.6801C991.5663,-489.4997 1056.7156,-417.2961 1086.968,-383.7679\"/>\n<text text-anchor=\"middle\" x=\"1054.5\" y=\"-449.3\" font-family=\"Times,serif\" font-size=\"14.00\" fill=\"#000000\">3.45</text>\n</g>\n<!-- LENGUA&#45;&#45;SAN ANTONIO -->\n<g id=\"edge60\" class=\"edge\">\n<title>LENGUA&#45;&#45;SAN ANTONIO</title>\n<path fill=\"none\" stroke=\"#000000\" d=\"M936.3682,-522.104C924.7185,-500.8514 904.1542,-464.5603 884,-435 844.8914,-377.6391 845.5544,-347.1063 784,-315 758.1224,-301.5024 686.7586,-291.4922 631.8604,-285.4995\"/>\n<text text-anchor=\"middle\" x=\"885.5\" y=\"-405.8\" font-family=\"Times,serif\" font-size=\"14.00\" fill=\"#000000\">2.35</text>\n</g>\n<!-- LENGUA&#45;&#45;SAN FRANCISCO A -->\n<g id=\"edge61\" class=\"edge\">\n<title>LENGUA&#45;&#45;SAN FRANCISCO A</title>\n<path fill=\"none\" stroke=\"#000000\" d=\"M992.3572,-533.0657C1031.873,-526.4924 1085.0396,-515.8774 1103,-504 1149.7159,-473.1063 1141.908,-445.6502 1177,-402 1183.7065,-393.6579 1188.9371,-393.9026 1193,-384 1217.5159,-324.2463 1210.6839,-245.1293 1205.8867,-210.0595\"/>\n<text text-anchor=\"middle\" x=\"1217.5\" y=\"-362.3\" font-family=\"Times,serif\" font-size=\"14.00\" fill=\"#000000\">0.56</text>\n</g>\n<!-- LENGUA&#45;&#45;SAN FRANCISCO B -->\n<g id=\"edge62\" class=\"edge\">\n<title>LENGUA&#45;&#45;SAN FRANCISCO B</title>\n<path fill=\"none\" stroke=\"#000000\" d=\"M943.9143,-521.9831C939.7927,-484.7693 931,-396.6862 931,-322.5 931,-322.5 931,-322.5 931,-192 931,-164.801 911.7116,-139.0375 896.1904,-122.7089\"/>\n<text text-anchor=\"middle\" x=\"945.5\" y=\"-318.8\" font-family=\"Times,serif\" font-size=\"14.00\" fill=\"#000000\">0.99</text>\n</g>\n<!-- LENGUA&#45;&#45;SAN ISIDRO -->\n<g id=\"edge63\" class=\"edge\">\n<title>LENGUA&#45;&#45;SAN ISIDRO</title>\n<path fill=\"none\" stroke=\"#000000\" d=\"M993.461,-534.2566C1024.1276,-530.6028 1064.9036,-525.8516 1101,-522 1183.1442,-513.2349 1208.926,-533.7337 1286,-504 1421.677,-451.6584 1473,-380.9232 1473,-235.5 1473,-235.5 1473,-235.5 1473,-105 1473,-44.7195 1279.881,-26.0701 1176.5321,-20.4057\"/>\n<text text-anchor=\"middle\" x=\"1482.5\" y=\"-275.3\" font-family=\"Times,serif\" font-size=\"14.00\" fill=\"#000000\">1.2</text>\n</g>\n<!-- PAMPA DE LOS CASTILLOS&#45;&#45;PAMPA DE TATE -->\n<g id=\"edge64\" class=\"edge\">\n<title>PAMPA DE LOS CASTILLOS&#45;&#45;PAMPA DE TATE</title>\n<path fill=\"none\" stroke=\"#000000\" d=\"M628.6333,-442.4481C674.8434,-436.7141 729.4727,-428.4136 778,-417 798.5219,-412.1733 802.3785,-406.3818 823,-402 903.8064,-384.8298 926.2224,-395.7014 1008,-384 1019.3828,-382.3713 1031.4759,-380.3254 1043.0841,-378.2022\"/>\n<text text-anchor=\"middle\" x=\"840\" y=\"-405.8\" font-family=\"Times,serif\" font-size=\"14.00\" fill=\"#000000\">11.84</text>\n</g>\n<!-- PAMPA DE LOS CASTILLOS&#45;&#45;SAN ANTONIO -->\n<g id=\"edge65\" class=\"edge\">\n<title>PAMPA DE LOS CASTILLOS&#45;&#45;SAN ANTONIO</title>\n<path fill=\"none\" stroke=\"#000000\" d=\"M527.1,-434.7078C534.6098,-401.2024 550.4861,-330.3695 557.955,-297.0471\"/>\n<text text-anchor=\"middle\" x=\"564\" y=\"-362.3\" font-family=\"Times,serif\" font-size=\"14.00\" fill=\"#000000\">10.63</text>\n</g>\n<!-- PAMPA DE LOS CASTILLOS&#45;&#45;SAN FRANCISCO A -->\n<g id=\"edge66\" class=\"edge\">\n<title>PAMPA DE LOS CASTILLOS&#45;&#45;SAN FRANCISCO A</title>\n<path fill=\"none\" stroke=\"#000000\" d=\"M573.9221,-436.4083C636.6722,-415.1664 745.8078,-375.6072 834,-330 844.8403,-324.3941 846.1706,-320.6269 857,-315 933.4575,-275.2727 958.9038,-279.4003 1037,-243 1049.796,-237.0358 1051.8556,-233.1511 1065,-228 1088.6294,-218.7399 1115.46,-211.1238 1139.1402,-205.3198\"/>\n<text text-anchor=\"middle\" x=\"870.5\" y=\"-318.8\" font-family=\"Times,serif\" font-size=\"14.00\" fill=\"#000000\">8.99</text>\n</g>\n<!-- PAMPA DE LOS CASTILLOS&#45;&#45;SAN FRANCISCO B -->\n<g id=\"edge67\" class=\"edge\">\n<title>PAMPA DE LOS CASTILLOS&#45;&#45;SAN FRANCISCO B</title>\n<path fill=\"none\" stroke=\"#000000\" d=\"M505.7161,-434.9449C473.651,-399.2022 411.6414,-317.9681 451,-261 493.4751,-199.5211 707.0259,-143.4744 814.7105,-118.5833\"/>\n<text text-anchor=\"middle\" x=\"464.5\" y=\"-275.3\" font-family=\"Times,serif\" font-size=\"14.00\" fill=\"#000000\">9.42</text>\n</g>\n<!-- PAMPA DE LOS CASTILLOS&#45;&#45;SAN ISIDRO -->\n<g id=\"edge68\" class=\"edge\">\n<title>PAMPA DE LOS CASTILLOS&#45;&#45;SAN ISIDRO</title>\n<path fill=\"none\" stroke=\"#000000\" d=\"M497.9977,-435.0459C490.7074,-429.4955 482.8614,-423.2042 476,-417 392.6836,-341.6643 363.12,-317.6355 331,-210 314.2655,-153.922 326.7841,-115.3147 378,-87 436.1856,-54.832 882.9318,-29.4793 1050.1183,-21.0276\"/>\n<text text-anchor=\"middle\" x=\"355.5\" y=\"-231.8\" font-family=\"Times,serif\" font-size=\"14.00\" fill=\"#000000\">9.54</text>\n</g>\n<!-- PAMPA DE TATE&#45;&#45;SAN ANTONIO -->\n<g id=\"edge69\" class=\"edge\">\n<title>PAMPA DE TATE&#45;&#45;SAN ANTONIO</title>\n<path fill=\"none\" stroke=\"#000000\" d=\"M1061.6033,-350.4143C1023.7206,-336.2525 972.0698,-317.235 962,-315 901.589,-301.5918 732.6522,-289.4701 634.7268,-283.2968\"/>\n<text text-anchor=\"middle\" x=\"1017.5\" y=\"-318.8\" font-family=\"Times,serif\" font-size=\"14.00\" fill=\"#000000\">1.26</text>\n</g>\n<!-- PAMPA DE TATE&#45;&#45;SAN FRANCISCO A -->\n<g id=\"edge70\" class=\"edge\">\n<title>PAMPA DE TATE&#45;&#45;SAN FRANCISCO A</title>\n<path fill=\"none\" stroke=\"#000000\" d=\"M1113.3251,-348.0343C1132.4875,-314.6918 1173.3484,-243.5937 1192.5812,-210.1286\"/>\n<text text-anchor=\"middle\" x=\"1176.5\" y=\"-275.3\" font-family=\"Times,serif\" font-size=\"14.00\" fill=\"#000000\">2.89</text>\n</g>\n<!-- PAMPA DE TATE&#45;&#45;SAN FRANCISCO B -->\n<g id=\"edge71\" class=\"edge\">\n<title>PAMPA DE TATE&#45;&#45;SAN FRANCISCO B</title>\n<path fill=\"none\" stroke=\"#000000\" d=\"M1098.5238,-347.8948C1087.1028,-305.4415 1052.8724,-198.7235 985,-141 972.8802,-130.6925 957.7035,-123.3077 942.5908,-118.0268\"/>\n<text text-anchor=\"middle\" x=\"1073.5\" y=\"-231.8\" font-family=\"Times,serif\" font-size=\"14.00\" fill=\"#000000\">2.46</text>\n</g>\n<!-- PAMPA DE TATE&#45;&#45;SAN ISIDRO -->\n<g id=\"edge72\" class=\"edge\">\n<title>PAMPA DE TATE&#45;&#45;SAN ISIDRO</title>\n<path fill=\"none\" stroke=\"#000000\" d=\"M1157.4247,-352.5058C1230.4275,-333.6259 1351,-299.3615 1351,-279 1351,-279 1351,-279 1351,-105 1351,-66.3407 1238.8272,-39.7581 1168.5001,-26.891\"/>\n<text text-anchor=\"middle\" x=\"1360.5\" y=\"-188.3\" font-family=\"Times,serif\" font-size=\"14.00\" fill=\"#000000\">2.3</text>\n</g>\n<!-- SAN ANTONIO&#45;&#45;SAN FRANCISCO A -->\n<g id=\"edge73\" class=\"edge\">\n<title>SAN ANTONIO&#45;&#45;SAN FRANCISCO A</title>\n<path fill=\"none\" stroke=\"#000000\" d=\"M627.2877,-270.1388C746.475,-253.9621 998.7283,-219.7249 1126.05,-202.4441\"/>\n<text text-anchor=\"middle\" x=\"934.5\" y=\"-231.8\" font-family=\"Times,serif\" font-size=\"14.00\" fill=\"#000000\">1.81</text>\n</g>\n<!-- SAN ANTONIO&#45;&#45;SAN FRANCISCO B -->\n<g id=\"edge74\" class=\"edge\">\n<title>SAN ANTONIO&#45;&#45;SAN FRANCISCO B</title>\n<path fill=\"none\" stroke=\"#000000\" d=\"M591.5365,-262.214C637.7482,-236.0155 730.0356,-183.9541 809,-141 820.4995,-134.7446 833.1598,-128.0029 844.4069,-122.0639\"/>\n<text text-anchor=\"middle\" x=\"762.5\" y=\"-188.3\" font-family=\"Times,serif\" font-size=\"14.00\" fill=\"#000000\">1.42</text>\n</g>\n<!-- SAN ANTONIO&#45;&#45;SAN ISIDRO -->\n<g id=\"edge75\" class=\"edge\">\n<title>SAN ANTONIO&#45;&#45;SAN ISIDRO</title>\n<path fill=\"none\" stroke=\"#000000\" d=\"M506.4384,-266.8539C426.2479,-246.8632 293.172,-202.9747 346,-141 391.9302,-87.1173 878.6301,-38.8677 1052.0549,-23.2677\"/>\n<text text-anchor=\"middle\" x=\"359.5\" y=\"-144.8\" font-family=\"Times,serif\" font-size=\"14.00\" fill=\"#000000\">1.15</text>\n</g>\n<!-- SAN FRANCISCO A&#45;&#45;SAN FRANCISCO B -->\n<g id=\"edge76\" class=\"edge\">\n<title>SAN FRANCISCO A&#45;&#45;SAN FRANCISCO B</title>\n<path fill=\"none\" stroke=\"#000000\" d=\"M1151.5322,-176.91C1115.6039,-166.5008 1066.4854,-152.518 1023,-141 994.4831,-133.4467 962.6947,-125.5473 936.0792,-119.0791\"/>\n<text text-anchor=\"middle\" x=\"1091.5\" y=\"-144.8\" font-family=\"Times,serif\" font-size=\"14.00\" fill=\"#000000\">0.43</text>\n</g>\n<!-- SAN FRANCISCO A&#45;&#45;SAN ISIDRO -->\n<g id=\"edge77\" class=\"edge\">\n<title>SAN FRANCISCO A&#45;&#45;SAN ISIDRO</title>\n<path fill=\"none\" stroke=\"#000000\" d=\"M1193.7074,-174.0343C1176.4164,-140.605 1139.4948,-69.2232 1122.242,-35.868\"/>\n<text text-anchor=\"middle\" x=\"1180.5\" y=\"-101.3\" font-family=\"Times,serif\" font-size=\"14.00\" fill=\"#000000\">0.68</text>\n</g>\n<!-- SAN FRANCISCO B&#45;&#45;SAN ISIDRO -->\n<g id=\"edge78\" class=\"edge\">\n<title>SAN FRANCISCO B&#45;&#45;SAN ISIDRO</title>\n<path fill=\"none\" stroke=\"#000000\" d=\"M920.5611,-88.9415C964.5122,-72.7391 1031.7507,-47.9521 1073.9994,-32.3773\"/>\n<text text-anchor=\"middle\" x=\"1023.5\" y=\"-57.8\" font-family=\"Times,serif\" font-size=\"14.00\" fill=\"#000000\">0.39</text>\n</g>\n</g>\n</svg>\n"
          },
          "metadata": {
            "tags": []
          },
          "execution_count": 11
        }
      ]
    },
    {
      "cell_type": "markdown",
      "metadata": {
        "id": "w4gcsasJBZQt"
      },
      "source": [
        "Ingresar el CENTRO POBLADO"
      ]
    },
    {
      "cell_type": "code",
      "metadata": {
        "colab": {
          "base_uri": "https://localhost:8080/"
        },
        "id": "7H2fenvcBVeu",
        "outputId": "361568cd-bb3e-4a8a-dc8a-1ce75522d0bd"
      },
      "source": [
        "print(\"----------------------------------------------------\")\n",
        "nomcp = input(\"Ingrese el CENTRO POBLADO: \")"
      ],
      "execution_count": 12,
      "outputs": [
        {
          "output_type": "stream",
          "text": [
            "----------------------------------------------------\n",
            "Ingrese el CENTRO POBLADO: CRUZ\n"
          ],
          "name": "stdout"
        }
      ]
    },
    {
      "cell_type": "code",
      "metadata": {
        "colab": {
          "base_uri": "https://localhost:8080/"
        },
        "id": "NdQoL6WIBiU8",
        "outputId": "05646c57-9513-4a2f-a489-7e8cc8fb6763"
      },
      "source": [
        "path, weight = dijkstra(G, nomcp)\n",
        "print(\"La ruta más corta que visita cada ciudad es:\", path)\n",
        "print(\"La distancia de la ruta es:\", weight)\n",
        "responsePath = []\n",
        "for city in path:\n",
        "  cp = distrito[distrito[\"CENTRO POBLADO\"] == city]\n",
        "  responsePath.append({\"cp\": city,\n",
        "                       \"lat\": float(cp[\"LATITUD\"]),\n",
        "                       \"lon\": float(cp[\"LONGITUD\"])})\n",
        "print(responsePath)"
      ],
      "execution_count": 23,
      "outputs": [
        {
          "output_type": "stream",
          "text": [
            "La ruta más corta que visita cada ciudad es: ['CRUZ', 'CUATRO DE MAYO', 'SAN ANTONIO', 'EL SIETE', 'ELSIETE', 'PAMPA DE TATE', 'SAN ISIDRO', 'SAN FRANCISCO B', 'SAN FRANCISCO A', 'ATALAYA', 'LENGUA', 'LA GUARDA', 'PAMPA DE LOS CASTILLOS', 'CRUZ']\n",
            "La distancia de la ruta es: 37.660000000000004\n",
            "[{'cp': 'CRUZ', 'lat': -14.161188000000001, 'lon': -75.68990500000001}, {'cp': 'CUATRO DE MAYO', 'lat': -14.161976999999998, 'lon': -75.68986}, {'cp': 'SAN ANTONIO', 'lat': -14.163017000000002, 'lon': -75.68984300000001}, {'cp': 'EL SIETE', 'lat': -14.167710000000001, 'lon': -75.686756}, {'cp': 'ELSIETE', 'lat': -14.167710000000001, 'lon': -75.686756}, {'cp': 'PAMPA DE TATE', 'lat': -14.151898000000001, 'lon': -75.69194499999999}, {'cp': 'SAN ISIDRO', 'lat': -14.170467000000002, 'lon': -75.68246500000001}, {'cp': 'SAN FRANCISCO B', 'lat': -14.170075, 'lon': -75.678895}, {'cp': 'SAN FRANCISCO A', 'lat': -14.173461999999999, 'lon': -75.676973}, {'cp': 'ATALAYA', 'lat': -14.14579, 'lon': -75.67960699999999}, {'cp': 'LENGUA', 'lat': -14.177698000000001, 'lon': -75.67421800000001}, {'cp': 'LA GUARDA', 'lat': -14.14375, 'lon': -75.660102}, {'cp': 'PAMPA DE LOS CASTILLOS', 'lat': -14.248232999999999, 'lon': -75.645173}, {'cp': 'CRUZ', 'lat': -14.161188000000001, 'lon': -75.68990500000001}]\n"
          ],
          "name": "stdout"
        }
      ]
    },
    {
      "cell_type": "markdown",
      "metadata": {
        "id": "TPCrkrqzBmLR"
      },
      "source": [
        "Conocer la ruta más corta considerando otros centros poblados como nodo inicial"
      ]
    },
    {
      "cell_type": "code",
      "metadata": {
        "colab": {
          "base_uri": "https://localhost:8080/"
        },
        "id": "lvAchaa4BnJx",
        "outputId": "c5e99019-39dc-453a-c624-5a79a8e61070"
      },
      "source": [
        "def path_taken():\n",
        "    dijkstra(G, nomcp)\n",
        "    shortest_path = []\n",
        "    shortest_weight = 0\n",
        "\n",
        "    for i, node in enumerate(G.nodes):\n",
        "        path, weight = dijkstra(G, node)\n",
        "        #print(\"\")\n",
        "        #print(\"Ruta\", i + 1, \"=\", path)\n",
        "        #print(\"Distancia =\", weight)\n",
        "        if i == 0:\n",
        "            shortest_weight = weight\n",
        "            shortest_path = path\n",
        "            \n",
        "        elif weight < shortest_weight:\n",
        "            shortest_weight = weight\n",
        "            shortest_path = path\n",
        "        \n",
        "    print('--------------------------------------')\n",
        "    print(\"La ruta más corta que visita cada ciudad es:\", shortest_path)\n",
        "    print(\"La distancia de la ruta es:\", shortest_weight)\n",
        "\n",
        "path_taken()"
      ],
      "execution_count": 15,
      "outputs": [
        {
          "output_type": "stream",
          "text": [
            "--------------------------------------\n",
            "La ruta más corta que visita cada ciudad es: ['EL SIETE', 'ELSIETE', 'SAN ISIDRO', 'SAN ANTONIO', 'CUATRO DE MAYO', 'CRUZ', 'SAN FRANCISCO B', 'SAN FRANCISCO A', 'LENGUA', 'PAMPA DE TATE', 'ATALAYA', 'LA GUARDA', 'PAMPA DE LOS CASTILLOS', 'EL SIETE']\n",
            "La distancia de la ruta es: 34.91\n"
          ],
          "name": "stdout"
        }
      ]
    }
  ]
}