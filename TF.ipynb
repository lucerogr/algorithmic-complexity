{
  "nbformat": 4,
  "nbformat_minor": 0,
  "metadata": {
    "colab": {
      "name": "TF.ipynb",
      "provenance": [],
      "authorship_tag": "ABX9TyOxKZXEJsWFkBA0InhvXYDx",
      "include_colab_link": true
    },
    "kernelspec": {
      "name": "python3",
      "display_name": "Python 3"
    },
    "language_info": {
      "name": "python"
    }
  },
  "cells": [
    {
      "cell_type": "markdown",
      "metadata": {
        "id": "view-in-github",
        "colab_type": "text"
      },
      "source": [
        "<a href=\"https://colab.research.google.com/github/lucerogr/algorithmic-complexity/blob/main/TF.ipynb\" target=\"_parent\"><img src=\"https://colab.research.google.com/assets/colab-badge.svg\" alt=\"Open In Colab\"/></a>"
      ]
    },
    {
      "cell_type": "code",
      "metadata": {
        "colab": {
          "base_uri": "https://localhost:8080/"
        },
        "id": "IJ5HVzNu2xJg",
        "outputId": "e61427e6-46e2-4db7-e8c7-29a512fd087f"
      },
      "source": [
        "!git clone https://github.com/lmcanavals/algorithmic_complexity.git"
      ],
      "execution_count": 33,
      "outputs": [
        {
          "output_type": "stream",
          "text": [
            "fatal: destination path 'algorithmic_complexity' already exists and is not an empty directory.\n"
          ],
          "name": "stdout"
        }
      ]
    },
    {
      "cell_type": "code",
      "metadata": {
        "id": "gE8p6-Oi2791"
      },
      "source": [
        "from algorithmic_complexity.aclib import graphstuff as gs"
      ],
      "execution_count": 36,
      "outputs": []
    },
    {
      "cell_type": "code",
      "metadata": {
        "id": "km0Hh9HD2_Oz"
      },
      "source": [
        "import pandas as pd\n",
        "import numpy as np\n",
        "import networkx as nx\n",
        "import math\n",
        "import graphviz as gv"
      ],
      "execution_count": 35,
      "outputs": []
    },
    {
      "cell_type": "code",
      "metadata": {
        "id": "YYtDSRoh0Y_d"
      },
      "source": [
        "url=\"https://raw.githubusercontent.com/lmcanavals/algorithmic_complexity/main/data/poblaciones.csv\"\n",
        "poblacionesDF = pd.read_csv(url)"
      ],
      "execution_count": 37,
      "outputs": []
    },
    {
      "cell_type": "code",
      "metadata": {
        "id": "jeMk3PXRA5G9"
      },
      "source": [
        "def dist(cp1, cp2):\n",
        "  la1, lo1 = float(cp1['LATITUD']), float(cp1['LONGITUD'])\n",
        "  la2, lo2 = float(cp2['LATITUD']), float(cp2['LONGITUD'])\n",
        "  \n",
        "  lo1, la1, lo2, la2 = map(math.radians, [lo1, la1, lo2, la2])\n",
        "  dlo = lo2 - lo1\n",
        "  dla = la2 - la1\n",
        "  a = math.sin(dla/2)**2 + math.cos(la1) * math.cos(la2) * math.sin(dlo/2)**2\n",
        "  c = 2 * math.asin(math.sqrt(a))\n",
        "  r = 6371\n",
        "\n",
        "  return round(c * r, 2)"
      ],
      "execution_count": 38,
      "outputs": []
    },
    {
      "cell_type": "code",
      "metadata": {
        "colab": {
          "base_uri": "https://localhost:8080/"
        },
        "id": "cEoG-2KZBCTk",
        "outputId": "b5a4a12a-6f25-466b-892d-429cf64d67e0"
      },
      "source": [
        "nomdepartamentos = poblacionesDF['DEPARTAMENTO'].unique()\n",
        "departamentos = dict()\n",
        "for nom in nomdepartamentos:\n",
        "  departamentos[nom] = poblacionesDF[poblacionesDF['DEPARTAMENTO'] == nom]\n",
        "  print(nom, len(departamentos[nom]))"
      ],
      "execution_count": 39,
      "outputs": [
        {
          "output_type": "stream",
          "text": [
            "AMAZONAS 25\n",
            "ANCASH 189\n",
            "APURIMAC 87\n",
            "AREQUIPA 80\n",
            "AYACUCHO 190\n",
            "CAJAMARCA 97\n",
            "CUSCO 85\n",
            "HUANCAVELICA 89\n",
            "HUANUCO 137\n",
            "ICA 111\n",
            "JUNIN 85\n",
            "LA LIBERTAD 345\n",
            "LAMBAYEQUE 817\n",
            "LIMA 172\n",
            "LORETO 224\n",
            "MADRE DE DIOS 5\n",
            "MOQUEGUA 49\n",
            "PASCO 43\n",
            "PIURA 504\n",
            "PUNO 83\n",
            "SAN MARTIN 68\n",
            "TACNA 33\n",
            "TUMBES 72\n",
            "UCAYALI 163\n"
          ],
          "name": "stdout"
        }
      ]
    },
    {
      "cell_type": "code",
      "metadata": {
        "colab": {
          "base_uri": "https://localhost:8080/"
        },
        "id": "hFfV-vZSBET0",
        "outputId": "81b21eeb-0f1a-4eda-c59a-da3b515b766e"
      },
      "source": [
        "nomprovincias = poblacionesDF['PROVINCIA'].unique()\n",
        "provincias = dict()\n",
        "for nom in nomprovincias:\n",
        "  provincias[nom] = poblacionesDF[poblacionesDF['PROVINCIA'] == nom]\n",
        "  print(nom, len(provincias[nom]))"
      ],
      "execution_count": 8,
      "outputs": [
        {
          "output_type": "stream",
          "text": [
            "BAGUA 4\n",
            "BONGARA 8\n",
            "CHACHAPOYAS 1\n",
            "UTCUBAMBA 12\n",
            "ANTONIO RAYMONDI 2\n",
            "BOLOGNESI 5\n",
            "CARHUAZ 19\n",
            "CASMA 14\n",
            "HUARAZ 38\n",
            "HUARI 20\n",
            "HUAYLAS 5\n",
            "OCROS 2\n",
            "POMABAMBA 21\n",
            "RECUAY 28\n",
            "SANTA 22\n",
            "SIHUAS 6\n",
            "YUNGAY 7\n",
            "ABANCAY 41\n",
            "ANDAHUAYLAS 8\n",
            "ANTABAMBA 2\n",
            "AYMARAES 23\n",
            "CHINCHEROS 12\n",
            "GRAU 1\n",
            "AREQUIPA 24\n",
            "CAMANA 16\n",
            "CARAVELI 16\n",
            "CASTILLA 1\n",
            "CAYLLOMA 20\n",
            "CONDESUYOS 3\n",
            "CANGALLO 20\n",
            "HUAMANGA 3\n",
            "HUANCA SANCOS 38\n",
            "HUANTA 7\n",
            "LUCANAS 92\n",
            "PARINACOCHAS 1\n",
            "VICTOR FAJARDO 29\n",
            "CAJABAMBA 10\n",
            "CAJAMARCA 13\n",
            "CELENDIN 16\n",
            "CHOTA 6\n",
            "CONTUMAZA 16\n",
            "CUTERVO 6\n",
            "JAEN 11\n",
            "SAN IGNACIO 2\n",
            "SAN MARCOS 2\n",
            "SAN MIGUEL 13\n",
            "SAN MIMGUEL 1\n",
            "SANTA CRUZ 1\n",
            "ACOMAYO 14\n",
            "CALCA 3\n",
            "CANAS 4\n",
            "CANCHIS 12\n",
            "CHUMBIVILCAS 3\n",
            "LA CONVENCION 13\n",
            "PARURO 14\n",
            "QUISPICANCHI 22\n",
            "CASTROVIRREYNA 49\n",
            "CHURCAMPA 1\n",
            "HUANCAVELICA 6\n",
            "HUAYTARA 32\n",
            "TAYACAJA 1\n",
            "AMBO 36\n",
            "DOS DE MAYO 7\n",
            "DOSDEMAYO 1\n",
            "HUAMALIES 6\n",
            "HUANUCO SANTA 1\n",
            "HUANUCO 27\n",
            "LAURICOCHA 10\n",
            "LEONCIO PRADO 28\n",
            "MARAÑON 12\n",
            "PUERTO INCA 9\n",
            "CHINCHA 1\n",
            "ICA 60\n",
            "NASCA 6\n",
            "PALPA 30\n",
            "PISCO 14\n",
            "CHANCHAMAYO 14\n",
            "CHUPACA 13\n",
            "CONCEPCION 1\n",
            "HUANCAYO 13\n",
            "JAUJA 1\n",
            "JUNIN 2\n",
            "SATIPO 6\n",
            "TARMA 35\n",
            "ASCOPE 67\n",
            "BOLIVAR 15\n",
            "CHEPEN 82\n",
            "GRAN CHIMU 21\n",
            "JULCAN 1\n",
            "OTUZCO 2\n",
            "PACASMAYO 52\n",
            "PATAZ 8\n",
            "SANCHEZ CARRION 6\n",
            "SANTIAGO DE CHUCO 22\n",
            "TRUJILLO 68\n",
            "VIRU 1\n",
            "CHICLAYO 250\n",
            "FERREÑAFE 127\n",
            "LAMBAYEQUE 440\n",
            "BARRANCA 15\n",
            "CAJATAMBO 3\n",
            "CAÑETE 48\n",
            "HUARAL 27\n",
            "HUAROCHIRI 6\n",
            "HUAURA 23\n",
            "LIMA 2\n",
            "OYON 26\n",
            "YAUYOS 22\n",
            "ALTO AMAZONAS 7\n",
            "LORETO 23\n",
            "MARISCAL RAMON CASTILLA 23\n",
            "MAYNAS 70\n",
            "PUTUMAYO 3\n",
            "REQUENA 79\n",
            "UCAYALI 19\n",
            "MANU 4\n",
            "TAMBOPATA 1\n",
            "GENERAL SANCHEZ CERRO 25\n",
            "MARISCAL NIETO 24\n",
            "DANIEL ALCIDES CARRION 6\n",
            "OXAPAMPA 4\n",
            "PASCO 33\n",
            "AYABACA 13\n",
            "HUANCABAMBA 46\n",
            "MORROPON 102\n",
            "PAITA 20\n",
            "PIURA 185\n",
            "SECHURA 76\n",
            "SULLANA 56\n",
            "TALARA 6\n",
            "AZANGARO 4\n",
            "CARABAYA 36\n",
            "CHUCUITO 12\n",
            "EL COLLAO 4\n",
            "LAMPA 4\n",
            "MELGAR 7\n",
            "PUNO 5\n",
            "SANDIA 11\n",
            "BELLAVISTA 7\n",
            "HUALLAGA 3\n",
            "LAMAS 7\n",
            "MARISCAL CACERES 8\n",
            "MOYOBAMBA 9\n",
            "PICOTA 10\n",
            "RIOJA 9\n",
            "SAN MARTIN 6\n",
            "TOCACHE 9\n",
            "CANDARAVE 1\n",
            "JORGE BASADRE 7\n",
            "TACNA 11\n",
            "TARATA 14\n",
            "CONTRALMIRANTE VILLAR 15\n",
            "TUMBES 33\n",
            "ZARUMILLA 24\n",
            "CORONEL PORTILLO 159\n",
            "PADRE ABAD 4\n"
          ],
          "name": "stdout"
        }
      ]
    },
    {
      "cell_type": "code",
      "metadata": {
        "id": "Gx3HBSZHBJDP"
      },
      "source": [
        "def dijkstra(G, s):\n",
        "    unvisited = []\n",
        "    visited = []\n",
        "    total_weight = 0\n",
        "    current_node = s\n",
        "    neighbor = ''\n",
        "\n",
        "    for node in G.nodes:\n",
        "        if node == s:\n",
        "            visited.append(s)\n",
        "        else:\n",
        "            unvisited.append(node)\n",
        "    while unvisited:\n",
        "        for i, neighbor in enumerate(unvisited):\n",
        "            if i == 0:\n",
        "                current_weight = G.edges[s, neighbor]['weight']\n",
        "                current_node = neighbor\n",
        "            elif G.edges[s, neighbor]['weight'] < current_weight:\n",
        "                current_weight = G.edges[s, neighbor]['weight']\n",
        "                current_node = neighbor\n",
        "        total_weight += current_weight\n",
        "        unvisited.remove(current_node)\n",
        "        visited.append(current_node)\n",
        "    \n",
        "    total_weight += G.edges[s, current_node]['weight']\n",
        "    visited.append(s)\n",
        "    return visited, total_weight"
      ],
      "execution_count": 40,
      "outputs": []
    },
    {
      "cell_type": "code",
      "metadata": {
        "id": "yDqs4J3Zfh5g"
      },
      "source": [
        ""
      ],
      "execution_count": null,
      "outputs": []
    },
    {
      "cell_type": "markdown",
      "metadata": {
        "id": "mljsM1d1BMGP"
      },
      "source": [
        "Ingresar la PROVINCIA y DISTRITO "
      ]
    },
    {
      "cell_type": "code",
      "metadata": {
        "colab": {
          "base_uri": "https://localhost:8080/"
        },
        "id": "bSje_qnbBM2k",
        "outputId": "fcb22014-2544-4318-d881-2d47362d5f9e"
      },
      "source": [
        "nomprovincia = input(\"Ingrese la provincia para mostrar sus distritos: \")\n",
        "nomdistritos = provincias[nomprovincia]['DISTRITO'].unique()\n",
        "print(\"Hay \", len(nomdistritos), \" distritos \")\n",
        "print(\" \")\n",
        "nomdistritos\n",
        "\n",
        "distritos = dict()\n",
        "for nom in nomdistritos:\n",
        "  distritos[nom] = provincias[nomprovincia][provincias[nomprovincia]['DISTRITO'] == nom]\n",
        "  print(nom, len(distritos[nom]))\n",
        "\n",
        "\n",
        "print(\"----------------------------------------------------\")\n",
        "nomdistrito = input(\"Ingrese el DISTRITO para mostrar sus CENTROS POBLADOS: \")\n",
        "distrito = distritos[nomdistrito]\n",
        "\n",
        "def createGraph(distrito):\n",
        "  G = nx.Graph()\n",
        "  col = 'CENTRO POBLADO'\n",
        "  for i, cp1 in distrito.iterrows():\n",
        "    for j, cp2 in distrito.iterrows():\n",
        "      if cp1[col] != cp2[col]:\n",
        "        G.add_edge(cp1[col], cp2[col], weight=dist(cp1, cp2))\n",
        "  return G\n",
        "\n",
        "G= createGraph(distrito)"
      ],
      "execution_count": 41,
      "outputs": [
        {
          "output_type": "stream",
          "text": [
            "Ingrese la provincia para mostrar sus distritos: ICA\n",
            "Hay  6  distritos \n",
            " \n",
            "PACHACUTEC EL 1\n",
            "PACHACUTEC 13\n",
            "SAN JOSE DE  LOS MOLINOS 1\n",
            "SAN JOSE DE LOS MOLINOS 7\n",
            "SANTIAGO 25\n",
            "YAUCA DEL ROSARIO 13\n",
            "----------------------------------------------------\n",
            "Ingrese el DISTRITO para mostrar sus CENTROS POBLADOS: PACHACUTEC\n"
          ],
          "name": "stdout"
        }
      ]
    },
    {
      "cell_type": "markdown",
      "metadata": {
        "id": "w4gcsasJBZQt"
      },
      "source": [
        "Ingresar el CENTRO POBLADO"
      ]
    },
    {
      "cell_type": "code",
      "metadata": {
        "colab": {
          "base_uri": "https://localhost:8080/"
        },
        "id": "7H2fenvcBVeu",
        "outputId": "819e0ac1-9cdd-473b-f582-46de7f5a71bf"
      },
      "source": [
        "print(\"----------------------------------------------------\")\n",
        "nomcp = input(\"Ingrese el CENTRO POBLADO: \")"
      ],
      "execution_count": 42,
      "outputs": [
        {
          "output_type": "stream",
          "text": [
            "----------------------------------------------------\n",
            "Ingrese el CENTRO POBLADO: CRUZ\n"
          ],
          "name": "stdout"
        }
      ]
    },
    {
      "cell_type": "code",
      "metadata": {
        "colab": {
          "base_uri": "https://localhost:8080/"
        },
        "id": "NdQoL6WIBiU8",
        "outputId": "8dab29ed-b9a0-4abb-9e65-18e5d7aebbdc"
      },
      "source": [
        "import json\n",
        "path, weight = dijkstra(G, nomcp)\n",
        "print(\"La ruta más corta que visita cada ciudad es:\", path)\n",
        "print(\"La distancia de la ruta es:\", weight)\n",
        "responsePath = []\n",
        "#un departamento, cojo la 1ra povincia, 1er distrito y para ese el algorit\n",
        "#lo mismo para el otro disrito y se concatena\n",
        "for city in path:\n",
        "  cp = distrito[distrito[\"CENTRO POBLADO\"] == city]\n",
        "  responsePath.append({\"cp\": city,\n",
        "                       \"lat\": float(cp[\"LATITUD\"]),\n",
        "                       \"lon\": float(cp[\"LONGITUD\"])})\n",
        "print(json.dumps(responsePath))"
      ],
      "execution_count": 43,
      "outputs": [
        {
          "output_type": "stream",
          "text": [
            "La ruta más corta que visita cada ciudad es: ['CRUZ', 'CUATRO DE MAYO', 'SAN ANTONIO', 'EL SIETE', 'ELSIETE', 'PAMPA DE TATE', 'SAN ISIDRO', 'SAN FRANCISCO B', 'SAN FRANCISCO A', 'ATALAYA', 'LENGUA', 'LA GUARDA', 'PAMPA DE LOS CASTILLOS', 'CRUZ']\n",
            "La distancia de la ruta es: 37.660000000000004\n",
            "[{\"cp\": \"CRUZ\", \"lat\": -14.161188000000001, \"lon\": -75.68990500000001}, {\"cp\": \"CUATRO DE MAYO\", \"lat\": -14.161976999999998, \"lon\": -75.68986}, {\"cp\": \"SAN ANTONIO\", \"lat\": -14.163017000000002, \"lon\": -75.68984300000001}, {\"cp\": \"EL SIETE\", \"lat\": -14.167710000000001, \"lon\": -75.686756}, {\"cp\": \"ELSIETE\", \"lat\": -14.167710000000001, \"lon\": -75.686756}, {\"cp\": \"PAMPA DE TATE\", \"lat\": -14.151898000000001, \"lon\": -75.69194499999999}, {\"cp\": \"SAN ISIDRO\", \"lat\": -14.170467000000002, \"lon\": -75.68246500000001}, {\"cp\": \"SAN FRANCISCO B\", \"lat\": -14.170075, \"lon\": -75.678895}, {\"cp\": \"SAN FRANCISCO A\", \"lat\": -14.173461999999999, \"lon\": -75.676973}, {\"cp\": \"ATALAYA\", \"lat\": -14.14579, \"lon\": -75.67960699999999}, {\"cp\": \"LENGUA\", \"lat\": -14.177698000000001, \"lon\": -75.67421800000001}, {\"cp\": \"LA GUARDA\", \"lat\": -14.14375, \"lon\": -75.660102}, {\"cp\": \"PAMPA DE LOS CASTILLOS\", \"lat\": -14.248232999999999, \"lon\": -75.645173}, {\"cp\": \"CRUZ\", \"lat\": -14.161188000000001, \"lon\": -75.68990500000001}]\n"
          ],
          "name": "stdout"
        }
      ]
    },
    {
      "cell_type": "code",
      "metadata": {
        "id": "BpXbmqG9SIN2"
      },
      "source": [
        "#unir dos distritos\n",
        "#ejecutar ruta mas corta\n"
      ],
      "execution_count": null,
      "outputs": []
    },
    {
      "cell_type": "markdown",
      "metadata": {
        "id": "TPCrkrqzBmLR"
      },
      "source": [
        "Conocer la ruta más corta considerando otros centros poblados como nodo inicial"
      ]
    },
    {
      "cell_type": "code",
      "metadata": {
        "colab": {
          "base_uri": "https://localhost:8080/"
        },
        "id": "lvAchaa4BnJx",
        "outputId": "c5e99019-39dc-453a-c624-5a79a8e61070"
      },
      "source": [
        "def path_taken():\n",
        "    dijkstra(G, nomcp)\n",
        "    shortest_path = []\n",
        "    shortest_weight = 0\n",
        "\n",
        "    for i, node in enumerate(G.nodes):\n",
        "        path, weight = dijkstra(G, node)\n",
        "        #print(\"\")\n",
        "        #print(\"Ruta\", i + 1, \"=\", path)\n",
        "        #print(\"Distancia =\", weight)\n",
        "        if i == 0:\n",
        "            shortest_weight = weight\n",
        "            shortest_path = path\n",
        "            \n",
        "        elif weight < shortest_weight:\n",
        "            shortest_weight = weight\n",
        "            shortest_path = path\n",
        "        \n",
        "    print('--------------------------------------')\n",
        "    print(\"La ruta más corta que visita cada ciudad es:\", shortest_path)\n",
        "    print(\"La distancia de la ruta es:\", shortest_weight)\n",
        "\n",
        "path_taken()"
      ],
      "execution_count": 15,
      "outputs": [
        {
          "output_type": "stream",
          "text": [
            "--------------------------------------\n",
            "La ruta más corta que visita cada ciudad es: ['EL SIETE', 'ELSIETE', 'SAN ISIDRO', 'SAN ANTONIO', 'CUATRO DE MAYO', 'CRUZ', 'SAN FRANCISCO B', 'SAN FRANCISCO A', 'LENGUA', 'PAMPA DE TATE', 'ATALAYA', 'LA GUARDA', 'PAMPA DE LOS CASTILLOS', 'EL SIETE']\n",
            "La distancia de la ruta es: 34.91\n"
          ],
          "name": "stdout"
        }
      ]
    }
  ]
}