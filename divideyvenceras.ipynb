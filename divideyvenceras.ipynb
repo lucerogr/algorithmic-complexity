{
  "nbformat": 4,
  "nbformat_minor": 0,
  "metadata": {
    "colab": {
      "name": "divideyvenceras.ipynb",
      "provenance": [],
      "authorship_tag": "ABX9TyMAGQiWvUQs+GsSDVdeIKVK",
      "include_colab_link": true
    },
    "kernelspec": {
      "name": "python3",
      "display_name": "Python 3"
    },
    "language_info": {
      "name": "python"
    }
  },
  "cells": [
    {
      "cell_type": "markdown",
      "metadata": {
        "id": "view-in-github",
        "colab_type": "text"
      },
      "source": [
        "<a href=\"https://colab.research.google.com/github/lucerogr/algorithmic-complexity/blob/main/divideyvenceras.ipynb\" target=\"_parent\"><img src=\"https://colab.research.google.com/assets/colab-badge.svg\" alt=\"Open In Colab\"/></a>"
      ]
    },
    {
      "cell_type": "code",
      "metadata": {
        "id": "Veo9iodyzGm9"
      },
      "source": [
        "def getmax(a, i, j):\n",
        "    if i == j:\n",
        "        return a[i]\n",
        "    else:\n",
        "        med = (i+j)//2\n",
        "        maxi = getmax(a, i, med)\n",
        "        maxd = getmax(a, med + 1, j)\n",
        "        return maxi if maxi > maxd else maxd"
      ],
      "execution_count": 1,
      "outputs": []
    },
    {
      "cell_type": "code",
      "metadata": {
        "colab": {
          "base_uri": "https://localhost:8080/"
        },
        "id": "9QsNk2876n8T",
        "outputId": "0d6f52a5-57c5-4252-db6b-233f191fc1d4"
      },
      "source": [
        "import random\n",
        "a = [random.randint(1,100) for _ in range(20)]\n",
        "print(a)\n",
        "print(getmax(a, 0, len(a)-1))"
      ],
      "execution_count": 2,
      "outputs": [
        {
          "output_type": "stream",
          "text": [
            "[55, 39, 68, 37, 96, 60, 11, 26, 53, 49, 38, 96, 38, 29, 75, 9, 80, 26, 66, 95]\n",
            "96\n"
          ],
          "name": "stdout"
        }
      ]
    },
    {
      "cell_type": "code",
      "metadata": {
        "id": "AbFB38Wk9AJg"
      },
      "source": [
        "def mult(a, b, n): # n preferible que sea potencia de 2\n",
        "    if n == 1:\n",
        "        return a*b\n",
        "    ai = a // 10**(n//2)\n",
        "    ad = a % 10**(n//2)\n",
        "    bi = b // 10**(n//2)\n",
        "    bd = b % 10**(n//2)\n",
        "    z1 = mult(ai, bi, n // 2) * 10**n\n",
        "    z2 = mult(ai, bi, n // 2) * 10**(n//2) + mult(ad, bi, n//2) * 10**(n//2)\n",
        "    z3 = mult(ad, bd, n // 2)\n",
        "\n",
        "    return z1 + z2 + z3"
      ],
      "execution_count": 5,
      "outputs": []
    },
    {
      "cell_type": "code",
      "metadata": {
        "colab": {
          "base_uri": "https://localhost:8080/"
        },
        "id": "3lVCjpKl-bNy",
        "outputId": "de1b3bf3-a27d-4faa-af12-b9bc86b2056b"
      },
      "source": [
        "a = 78482943\n",
        "b = 24757345\n",
        "r = mult(a, b, 8)\n",
        "print(r)\n"
      ],
      "execution_count": 14,
      "outputs": [
        {
          "output_type": "stream",
          "text": [
            "1760651304371495\n"
          ],
          "name": "stdout"
        }
      ]
    },
    {
      "cell_type": "code",
      "metadata": {
        "id": "aeHd7LZ7F__a",
        "outputId": "f66a9e73-59c1-427a-aefc-ec04bad1f10f",
        "colab": {
          "base_uri": "https://localhost:8080/"
        }
      },
      "source": [
        "def wc(lines, i, j):\n",
        "    if i == j:\n",
        "        return len(lines[i].strip().split(\" \"))\n",
        "    med = (j+i) // 2\n",
        "    return wc(lines, i, med) + wc(lines, med+1, j)\n",
        "\n",
        "def wordCount(text):\n",
        "    lines = text.strip().split('\\n')\n",
        "    print(lines)\n",
        "    return wc(lines, 0, len(lines)-1)\n",
        "\n",
        "text = \"\"\"\n",
        "hola mis amigos\n",
        "como estan\n",
        "yo estoy muy bien\n",
        "todos van a jalar\n",
        "\"\"\"\n",
        "\n",
        "wordCount(text)"
      ],
      "execution_count": 20,
      "outputs": [
        {
          "output_type": "stream",
          "text": [
            "['hola mis amigos', 'como estan', 'yo estoy muy bien', 'todos van a jalar']\n"
          ],
          "name": "stdout"
        },
        {
          "output_type": "execute_result",
          "data": {
            "text/plain": [
              "13"
            ]
          },
          "metadata": {
            "tags": []
          },
          "execution_count": 20
        }
      ]
    }
  ]
}