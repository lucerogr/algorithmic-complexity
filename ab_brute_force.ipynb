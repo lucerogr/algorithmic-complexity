{
  "nbformat": 4,
  "nbformat_minor": 0,
  "metadata": {
    "colab": {
      "name": "ab-brute-force",
      "provenance": [],
      "authorship_tag": "ABX9TyP+AzVuVMXHN/5up5qAf0wA",
      "include_colab_link": true
    },
    "kernelspec": {
      "name": "python3",
      "display_name": "Python 3"
    },
    "language_info": {
      "name": "python"
    }
  },
  "cells": [
    {
      "cell_type": "markdown",
      "metadata": {
        "id": "view-in-github",
        "colab_type": "text"
      },
      "source": [
        "<a href=\"https://colab.research.google.com/github/lucerogr/algorithmic-complexity/blob/main/ab_brute_force.ipynb\" target=\"_parent\"><img src=\"https://colab.research.google.com/assets/colab-badge.svg\" alt=\"Open In Colab\"/></a>"
      ]
    },
    {
      "cell_type": "markdown",
      "metadata": {
        "id": "3SFfFDwP3EcV"
      },
      "source": [
        "Brute force\n"
      ]
    },
    {
      "cell_type": "code",
      "metadata": {
        "id": "xCNZdrlT3FJZ"
      },
      "source": [
        "def selectionSort(A):\n",
        "    n = len(A)\n",
        "    for i in range(n-1):\n",
        "        min_pos = i\n",
        "        for j in range(i + 1, n):\n",
        "            if A[j] < A[min_pos]:\n",
        "                min_pos = j\n",
        "        \n",
        "        if min_pos != 1:\n",
        "            A[min_pos], A[i] = A[i], A[min_pos]"
      ],
      "execution_count": 4,
      "outputs": []
    },
    {
      "cell_type": "code",
      "metadata": {
        "colab": {
          "base_uri": "https://localhost:8080/"
        },
        "id": "agQX6VjU4rkk",
        "outputId": "50ccdc01-b64b-44f0-9749-6174d04a5ce0"
      },
      "source": [
        "X = [5, 8, 1, 9, 3, 10, 2, 7, 6, 4]\n",
        "selectionSort(X)\n",
        "print(X)"
      ],
      "execution_count": 5,
      "outputs": [
        {
          "output_type": "stream",
          "text": [
            "[1, 2, 3, 4, 5, 6, 7, 8, 9, 10]\n"
          ],
          "name": "stdout"
        }
      ]
    },
    {
      "cell_type": "code",
      "metadata": {
        "id": "5eOZVL4y61Sn"
      },
      "source": [
        "def bubbleSort(A):\n",
        "    n = len(A)\n",
        "    for i in range(n-1):\n",
        "        for j in range(n-1-i):\n",
        "            if A[j] > A[j + 1]:\n",
        "                A[j], A[j + 1] = A[j + 1], A[j]"
      ],
      "execution_count": 12,
      "outputs": []
    },
    {
      "cell_type": "code",
      "metadata": {
        "colab": {
          "base_uri": "https://localhost:8080/"
        },
        "id": "KBlvb4Qc7NXQ",
        "outputId": "5e77526f-4507-4edd-b197-b750bfd4df6f"
      },
      "source": [
        "X = [5, 8, 1, 9, 3, 10, 2, 7, 6, 4]\n",
        "bubbleSort(X)\n",
        "print(X)"
      ],
      "execution_count": 13,
      "outputs": [
        {
          "output_type": "stream",
          "text": [
            "[1, 2, 3, 4, 5, 6, 7, 8, 9, 10]\n"
          ],
          "name": "stdout"
        }
      ]
    },
    {
      "cell_type": "code",
      "metadata": {
        "id": "mtc9f-ns76vt"
      },
      "source": [
        "def stringMatching(p, t):\n",
        "    l = len(p)\n",
        "    n = len(t)\n",
        "    results = []\n",
        "    for i in range(n-1):\n",
        "        if p == t[i:i+l]:\n",
        "            results.append(i)\n",
        "    return results"
      ],
      "execution_count": 14,
      "outputs": []
    },
    {
      "cell_type": "code",
      "metadata": {
        "colab": {
          "base_uri": "https://localhost:8080/"
        },
        "id": "qCaD2Wzf8a2U",
        "outputId": "a1e3a2b5-e5c0-4aba-dec2-4f211155713a"
      },
      "source": [
        "stringMatching(\"rac\", \"abracadabracalamazoo\")"
      ],
      "execution_count": 15,
      "outputs": [
        {
          "output_type": "execute_result",
          "data": {
            "text/plain": [
              "[2, 9]"
            ]
          },
          "metadata": {
            "tags": []
          },
          "execution_count": 15
        }
      ]
    }
  ]
}